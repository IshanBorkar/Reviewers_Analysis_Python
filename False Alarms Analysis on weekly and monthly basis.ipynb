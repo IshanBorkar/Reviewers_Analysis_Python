{
 "cells": [
  {
   "cell_type": "markdown",
   "metadata": {},
   "source": [
    "## 1) Import the necessary packages"
   ]
  },
  {
   "cell_type": "code",
   "execution_count": 1,
   "metadata": {},
   "outputs": [],
   "source": [
    "import pandas as pd\n",
    "import numpy as np\n",
    "from datetime import datetime\n",
    "import matplotlib.pyplot as plt\n",
    "from matplotlib import pyplot\n",
    "from matplotlib import rcParams\n",
    "%matplotlib inline\n",
    "from scipy import stats\n",
    "from collections import Counter\n",
    "import warnings\n",
    "warnings.filterwarnings('ignore')\n",
    "import seaborn as sns"
   ]
  },
  {
   "cell_type": "code",
   "execution_count": 2,
   "metadata": {},
   "outputs": [],
   "source": [
    "def parser(x):\n",
    "    return datetime.strptime(x,'%d-%m-%y').date()"
   ]
  },
  {
   "cell_type": "markdown",
   "metadata": {},
   "source": [
    "## 2) Load the reviewers support dataset"
   ]
  },
  {
   "cell_type": "code",
   "execution_count": 3,
   "metadata": {},
   "outputs": [
    {
     "data": {
      "text/html": [
       "<div>\n",
       "<style scoped>\n",
       "    .dataframe tbody tr th:only-of-type {\n",
       "        vertical-align: middle;\n",
       "    }\n",
       "\n",
       "    .dataframe tbody tr th {\n",
       "        vertical-align: top;\n",
       "    }\n",
       "\n",
       "    .dataframe thead th {\n",
       "        text-align: right;\n",
       "    }\n",
       "</style>\n",
       "<table border=\"1\" class=\"dataframe\">\n",
       "  <thead>\n",
       "    <tr style=\"text-align: right;\">\n",
       "      <th></th>\n",
       "      <th>Date</th>\n",
       "      <th>Link to incident</th>\n",
       "      <th>link to slack</th>\n",
       "      <th>Rating</th>\n",
       "      <th>Reviewers</th>\n",
       "    </tr>\n",
       "  </thead>\n",
       "  <tbody>\n",
       "    <tr>\n",
       "      <th>0</th>\n",
       "      <td>2020-12-31</td>\n",
       "      <td>https://dashboard.jp.getnexar.com/reviewer/rev...</td>\n",
       "      <td>https://nexar.slack.com/archives/C01DNQHQVK2/p...</td>\n",
       "      <td>Wrong rating - Accident</td>\n",
       "      <td>Yuvaraja</td>\n",
       "    </tr>\n",
       "    <tr>\n",
       "      <th>1</th>\n",
       "      <td>2020-12-31</td>\n",
       "      <td>https://dashboard.jp.getnexar.com/reviewer/rev...</td>\n",
       "      <td>https://nexar.slack.com/archives/C01DNQHQVK2/p...</td>\n",
       "      <td>Wrong rating - No accident</td>\n",
       "      <td>Shiva Kumar</td>\n",
       "    </tr>\n",
       "    <tr>\n",
       "      <th>2</th>\n",
       "      <td>2021-01-01</td>\n",
       "      <td>https://dashboard.jp.getnexar.com/reviewer/inc...</td>\n",
       "      <td>https://nexar.slack.com/archives/C01DNQHQVK2/p...</td>\n",
       "      <td>Wrong rating - Accident</td>\n",
       "      <td>Shiva Kumar</td>\n",
       "    </tr>\n",
       "    <tr>\n",
       "      <th>3</th>\n",
       "      <td>2021-01-01</td>\n",
       "      <td>https://dashboard.jp.getnexar.com/reviewer/rev...</td>\n",
       "      <td>https://nexar.slack.com/archives/C01DNQHQVK2/p...</td>\n",
       "      <td>Wrong rating - No accident</td>\n",
       "      <td>Shiva Kumar</td>\n",
       "    </tr>\n",
       "    <tr>\n",
       "      <th>4</th>\n",
       "      <td>2021-01-01</td>\n",
       "      <td>https://dashboard.jp.getnexar.com/reviewer/rev...</td>\n",
       "      <td>https://nexar.slack.com/archives/C01DNQHQVK2/p...</td>\n",
       "      <td>Wrong rating - No accident</td>\n",
       "      <td>Rajeshwari</td>\n",
       "    </tr>\n",
       "  </tbody>\n",
       "</table>\n",
       "</div>"
      ],
      "text/plain": [
       "        Date                                   Link to incident  \\\n",
       "0 2020-12-31  https://dashboard.jp.getnexar.com/reviewer/rev...   \n",
       "1 2020-12-31  https://dashboard.jp.getnexar.com/reviewer/rev...   \n",
       "2 2021-01-01  https://dashboard.jp.getnexar.com/reviewer/inc...   \n",
       "3 2021-01-01  https://dashboard.jp.getnexar.com/reviewer/rev...   \n",
       "4 2021-01-01  https://dashboard.jp.getnexar.com/reviewer/rev...   \n",
       "\n",
       "                                      link to slack   \\\n",
       "0  https://nexar.slack.com/archives/C01DNQHQVK2/p...   \n",
       "1  https://nexar.slack.com/archives/C01DNQHQVK2/p...   \n",
       "2  https://nexar.slack.com/archives/C01DNQHQVK2/p...   \n",
       "3  https://nexar.slack.com/archives/C01DNQHQVK2/p...   \n",
       "4  https://nexar.slack.com/archives/C01DNQHQVK2/p...   \n",
       "\n",
       "                       Rating    Reviewers  \n",
       "0     Wrong rating - Accident     Yuvaraja  \n",
       "1  Wrong rating - No accident  Shiva Kumar  \n",
       "2     Wrong rating - Accident  Shiva Kumar  \n",
       "3  Wrong rating - No accident  Shiva Kumar  \n",
       "4  Wrong rating - No accident   Rajeshwari  "
      ]
     },
     "execution_count": 3,
     "metadata": {},
     "output_type": "execute_result"
    }
   ],
   "source": [
    "data_reviewers_support=pd.read_excel(\"C:\\\\Users\\Ishan.Borkar\\Downloads\\TPRI_agent_Effort_2021\\Msi Reviewers support ch.xlsx\",header=0,date_parser='Date')\n",
    "data_reviewers_support.head()"
   ]
  },
  {
   "cell_type": "markdown",
   "metadata": {},
   "source": [
    "## 3) Create False Alarm column in this dataframe and consider all the ratings as false alarms"
   ]
  },
  {
   "cell_type": "code",
   "execution_count": 4,
   "metadata": {},
   "outputs": [
    {
     "data": {
      "text/html": [
       "<div>\n",
       "<style scoped>\n",
       "    .dataframe tbody tr th:only-of-type {\n",
       "        vertical-align: middle;\n",
       "    }\n",
       "\n",
       "    .dataframe tbody tr th {\n",
       "        vertical-align: top;\n",
       "    }\n",
       "\n",
       "    .dataframe thead th {\n",
       "        text-align: right;\n",
       "    }\n",
       "</style>\n",
       "<table border=\"1\" class=\"dataframe\">\n",
       "  <thead>\n",
       "    <tr style=\"text-align: right;\">\n",
       "      <th></th>\n",
       "      <th>Date</th>\n",
       "      <th>Rating</th>\n",
       "      <th>Reviewers</th>\n",
       "    </tr>\n",
       "  </thead>\n",
       "  <tbody>\n",
       "    <tr>\n",
       "      <th>0</th>\n",
       "      <td>2020-12-31</td>\n",
       "      <td>Wrong rating - Accident</td>\n",
       "      <td>Yuvaraja</td>\n",
       "    </tr>\n",
       "    <tr>\n",
       "      <th>1</th>\n",
       "      <td>2020-12-31</td>\n",
       "      <td>Wrong rating - No accident</td>\n",
       "      <td>Shiva Kumar</td>\n",
       "    </tr>\n",
       "    <tr>\n",
       "      <th>2</th>\n",
       "      <td>2021-01-01</td>\n",
       "      <td>Wrong rating - Accident</td>\n",
       "      <td>Shiva Kumar</td>\n",
       "    </tr>\n",
       "    <tr>\n",
       "      <th>3</th>\n",
       "      <td>2021-01-01</td>\n",
       "      <td>Wrong rating - No accident</td>\n",
       "      <td>Shiva Kumar</td>\n",
       "    </tr>\n",
       "    <tr>\n",
       "      <th>4</th>\n",
       "      <td>2021-01-01</td>\n",
       "      <td>Wrong rating - No accident</td>\n",
       "      <td>Rajeshwari</td>\n",
       "    </tr>\n",
       "  </tbody>\n",
       "</table>\n",
       "</div>"
      ],
      "text/plain": [
       "        Date                      Rating    Reviewers\n",
       "0 2020-12-31     Wrong rating - Accident     Yuvaraja\n",
       "1 2020-12-31  Wrong rating - No accident  Shiva Kumar\n",
       "2 2021-01-01     Wrong rating - Accident  Shiva Kumar\n",
       "3 2021-01-01  Wrong rating - No accident  Shiva Kumar\n",
       "4 2021-01-01  Wrong rating - No accident   Rajeshwari"
      ]
     },
     "execution_count": 4,
     "metadata": {},
     "output_type": "execute_result"
    }
   ],
   "source": [
    "data_reviewers_support=data_reviewers_support.loc[:,['Date','Rating','Reviewers']]\n",
    "data_reviewers_support.head()"
   ]
  },
  {
   "cell_type": "code",
   "execution_count": 5,
   "metadata": {},
   "outputs": [
    {
     "data": {
      "text/plain": [
       "(175, 3)"
      ]
     },
     "execution_count": 5,
     "metadata": {},
     "output_type": "execute_result"
    }
   ],
   "source": [
    "data_reviewers_support.shape"
   ]
  },
  {
   "cell_type": "code",
   "execution_count": 6,
   "metadata": {},
   "outputs": [
    {
     "data": {
      "text/plain": [
       "525"
      ]
     },
     "execution_count": 6,
     "metadata": {},
     "output_type": "execute_result"
    }
   ],
   "source": [
    "data_reviewers_support.size"
   ]
  },
  {
   "cell_type": "code",
   "execution_count": 7,
   "metadata": {},
   "outputs": [
    {
     "data": {
      "text/html": [
       "<div>\n",
       "<style scoped>\n",
       "    .dataframe tbody tr th:only-of-type {\n",
       "        vertical-align: middle;\n",
       "    }\n",
       "\n",
       "    .dataframe tbody tr th {\n",
       "        vertical-align: top;\n",
       "    }\n",
       "\n",
       "    .dataframe thead th {\n",
       "        text-align: right;\n",
       "    }\n",
       "</style>\n",
       "<table border=\"1\" class=\"dataframe\">\n",
       "  <thead>\n",
       "    <tr style=\"text-align: right;\">\n",
       "      <th></th>\n",
       "      <th>Date</th>\n",
       "      <th>Rating</th>\n",
       "      <th>Reviewers</th>\n",
       "    </tr>\n",
       "  </thead>\n",
       "  <tbody>\n",
       "    <tr>\n",
       "      <th>0</th>\n",
       "      <td>0</td>\n",
       "      <td>0</td>\n",
       "      <td>2</td>\n",
       "    </tr>\n",
       "  </tbody>\n",
       "</table>\n",
       "</div>"
      ],
      "text/plain": [
       "   Date  Rating  Reviewers\n",
       "0     0       0          2"
      ]
     },
     "execution_count": 7,
     "metadata": {},
     "output_type": "execute_result"
    }
   ],
   "source": [
    "data_reviewers_support.isna().sum().to_frame().T"
   ]
  },
  {
   "cell_type": "code",
   "execution_count": 8,
   "metadata": {},
   "outputs": [
    {
     "name": "stdout",
     "output_type": "stream",
     "text": [
      "<class 'pandas.core.frame.DataFrame'>\n",
      "RangeIndex: 175 entries, 0 to 174\n",
      "Data columns (total 3 columns):\n",
      " #   Column     Non-Null Count  Dtype         \n",
      "---  ------     --------------  -----         \n",
      " 0   Date       175 non-null    datetime64[ns]\n",
      " 1   Rating     175 non-null    object        \n",
      " 2   Reviewers  173 non-null    object        \n",
      "dtypes: datetime64[ns](1), object(2)\n",
      "memory usage: 4.2+ KB\n"
     ]
    }
   ],
   "source": [
    "data_reviewers_support.info()"
   ]
  },
  {
   "cell_type": "code",
   "execution_count": 9,
   "metadata": {},
   "outputs": [
    {
     "data": {
      "text/html": [
       "<div>\n",
       "<style scoped>\n",
       "    .dataframe tbody tr th:only-of-type {\n",
       "        vertical-align: middle;\n",
       "    }\n",
       "\n",
       "    .dataframe tbody tr th {\n",
       "        vertical-align: top;\n",
       "    }\n",
       "\n",
       "    .dataframe thead th {\n",
       "        text-align: right;\n",
       "    }\n",
       "</style>\n",
       "<table border=\"1\" class=\"dataframe\">\n",
       "  <thead>\n",
       "    <tr style=\"text-align: right;\">\n",
       "      <th></th>\n",
       "      <th>Date</th>\n",
       "      <th>Rating</th>\n",
       "      <th>Reviewers</th>\n",
       "    </tr>\n",
       "  </thead>\n",
       "  <tbody>\n",
       "    <tr>\n",
       "      <th>count</th>\n",
       "      <td>175</td>\n",
       "      <td>175</td>\n",
       "      <td>173</td>\n",
       "    </tr>\n",
       "    <tr>\n",
       "      <th>unique</th>\n",
       "      <td>73</td>\n",
       "      <td>9</td>\n",
       "      <td>10</td>\n",
       "    </tr>\n",
       "    <tr>\n",
       "      <th>top</th>\n",
       "      <td>2021-03-14 00:00:00</td>\n",
       "      <td>Wrong rating - Accident</td>\n",
       "      <td>Aparna</td>\n",
       "    </tr>\n",
       "    <tr>\n",
       "      <th>freq</th>\n",
       "      <td>6</td>\n",
       "      <td>71</td>\n",
       "      <td>37</td>\n",
       "    </tr>\n",
       "    <tr>\n",
       "      <th>first</th>\n",
       "      <td>2020-12-31 00:00:00</td>\n",
       "      <td>NaN</td>\n",
       "      <td>NaN</td>\n",
       "    </tr>\n",
       "    <tr>\n",
       "      <th>last</th>\n",
       "      <td>2021-04-17 00:00:00</td>\n",
       "      <td>NaN</td>\n",
       "      <td>NaN</td>\n",
       "    </tr>\n",
       "  </tbody>\n",
       "</table>\n",
       "</div>"
      ],
      "text/plain": [
       "                       Date                   Rating Reviewers\n",
       "count                   175                      175       173\n",
       "unique                   73                        9        10\n",
       "top     2021-03-14 00:00:00  Wrong rating - Accident    Aparna\n",
       "freq                      6                       71        37\n",
       "first   2020-12-31 00:00:00                      NaN       NaN\n",
       "last    2021-04-17 00:00:00                      NaN       NaN"
      ]
     },
     "execution_count": 9,
     "metadata": {},
     "output_type": "execute_result"
    }
   ],
   "source": [
    "data_reviewers_support.describe()"
   ]
  },
  {
   "cell_type": "code",
   "execution_count": 10,
   "metadata": {},
   "outputs": [
    {
     "data": {
      "text/plain": [
       "array(['Wrong rating - Accident', 'Wrong rating - No accident',\n",
       "       'missed accident', 'No support', 'missed collision',\n",
       "       'grabbed no submitted review',\n",
       "       'P1 missed accident - review resubmitted',\n",
       "       'Hard to rate incidents', 'last grabbed incident'], dtype=object)"
      ]
     },
     "execution_count": 10,
     "metadata": {},
     "output_type": "execute_result"
    }
   ],
   "source": [
    "data_reviewers_support['Rating'].unique()"
   ]
  },
  {
   "cell_type": "markdown",
   "metadata": {},
   "source": [
    "#### New column creation"
   ]
  },
  {
   "cell_type": "code",
   "execution_count": 11,
   "metadata": {},
   "outputs": [],
   "source": [
    "data_reviewers_support.loc[(data_reviewers_support.Rating=='Wrong rating - Accident'),'False_Alarm_Creation']='False Alarm'\n",
    "data_reviewers_support.loc[(data_reviewers_support.Rating=='Wrong rating - No accident'),'False_Alarm_Creation']='False Alarm'\n",
    "data_reviewers_support.loc[(data_reviewers_support.Rating=='missed accident'),'False_Alarm_Creation']='False Alarm'\n",
    "data_reviewers_support.loc[(data_reviewers_support.Rating=='No support'),'False_Alarm_Creation']='False Alarm'\n",
    "data_reviewers_support.loc[(data_reviewers_support.Rating=='missed collision'),'False_Alarm_Creation']='False Alarm'\n",
    "data_reviewers_support.loc[(data_reviewers_support.Rating=='grabbed no submitted review'),'False_Alarm_Creation']='False Alarm'\n",
    "data_reviewers_support.loc[(data_reviewers_support.Rating=='P1 missed accident - review resubmitted'),'False_Alarm_Creation']='False Alarm'\n",
    "data_reviewers_support.loc[(data_reviewers_support.Rating=='Hard to rate incidents'),'False_Alarm_Creation']='False Alarm'\n",
    "data_reviewers_support.loc[(data_reviewers_support.Rating=='last grabbed incident'),'False_Alarm_Creation']='False Alarm'"
   ]
  },
  {
   "cell_type": "code",
   "execution_count": 12,
   "metadata": {},
   "outputs": [
    {
     "data": {
      "text/html": [
       "<div>\n",
       "<style scoped>\n",
       "    .dataframe tbody tr th:only-of-type {\n",
       "        vertical-align: middle;\n",
       "    }\n",
       "\n",
       "    .dataframe tbody tr th {\n",
       "        vertical-align: top;\n",
       "    }\n",
       "\n",
       "    .dataframe thead th {\n",
       "        text-align: right;\n",
       "    }\n",
       "</style>\n",
       "<table border=\"1\" class=\"dataframe\">\n",
       "  <thead>\n",
       "    <tr style=\"text-align: right;\">\n",
       "      <th></th>\n",
       "      <th>Date</th>\n",
       "      <th>Rating</th>\n",
       "      <th>Reviewers</th>\n",
       "      <th>False_Alarm_Creation</th>\n",
       "    </tr>\n",
       "  </thead>\n",
       "  <tbody>\n",
       "    <tr>\n",
       "      <th>0</th>\n",
       "      <td>2020-12-31</td>\n",
       "      <td>Wrong rating - Accident</td>\n",
       "      <td>Yuvaraja</td>\n",
       "      <td>False Alarm</td>\n",
       "    </tr>\n",
       "    <tr>\n",
       "      <th>1</th>\n",
       "      <td>2020-12-31</td>\n",
       "      <td>Wrong rating - No accident</td>\n",
       "      <td>Shiva Kumar</td>\n",
       "      <td>False Alarm</td>\n",
       "    </tr>\n",
       "    <tr>\n",
       "      <th>2</th>\n",
       "      <td>2021-01-01</td>\n",
       "      <td>Wrong rating - Accident</td>\n",
       "      <td>Shiva Kumar</td>\n",
       "      <td>False Alarm</td>\n",
       "    </tr>\n",
       "    <tr>\n",
       "      <th>3</th>\n",
       "      <td>2021-01-01</td>\n",
       "      <td>Wrong rating - No accident</td>\n",
       "      <td>Shiva Kumar</td>\n",
       "      <td>False Alarm</td>\n",
       "    </tr>\n",
       "    <tr>\n",
       "      <th>4</th>\n",
       "      <td>2021-01-01</td>\n",
       "      <td>Wrong rating - No accident</td>\n",
       "      <td>Rajeshwari</td>\n",
       "      <td>False Alarm</td>\n",
       "    </tr>\n",
       "    <tr>\n",
       "      <th>5</th>\n",
       "      <td>2021-01-02</td>\n",
       "      <td>Wrong rating - Accident</td>\n",
       "      <td>Rajeshwari</td>\n",
       "      <td>False Alarm</td>\n",
       "    </tr>\n",
       "    <tr>\n",
       "      <th>6</th>\n",
       "      <td>2021-01-03</td>\n",
       "      <td>Wrong rating - Accident</td>\n",
       "      <td>Narendra</td>\n",
       "      <td>False Alarm</td>\n",
       "    </tr>\n",
       "    <tr>\n",
       "      <th>7</th>\n",
       "      <td>2021-01-03</td>\n",
       "      <td>Wrong rating - Accident</td>\n",
       "      <td>Narendra</td>\n",
       "      <td>False Alarm</td>\n",
       "    </tr>\n",
       "    <tr>\n",
       "      <th>8</th>\n",
       "      <td>2021-01-03</td>\n",
       "      <td>Wrong rating - No accident</td>\n",
       "      <td>Aparna</td>\n",
       "      <td>False Alarm</td>\n",
       "    </tr>\n",
       "    <tr>\n",
       "      <th>9</th>\n",
       "      <td>2021-01-04</td>\n",
       "      <td>Wrong rating - Accident</td>\n",
       "      <td>Yuvaraja</td>\n",
       "      <td>False Alarm</td>\n",
       "    </tr>\n",
       "    <tr>\n",
       "      <th>10</th>\n",
       "      <td>2021-01-04</td>\n",
       "      <td>Wrong rating - Accident</td>\n",
       "      <td>Mallikarjun</td>\n",
       "      <td>False Alarm</td>\n",
       "    </tr>\n",
       "    <tr>\n",
       "      <th>11</th>\n",
       "      <td>2021-01-04</td>\n",
       "      <td>Wrong rating - Accident</td>\n",
       "      <td>Yuvaraja</td>\n",
       "      <td>False Alarm</td>\n",
       "    </tr>\n",
       "    <tr>\n",
       "      <th>12</th>\n",
       "      <td>2021-01-05</td>\n",
       "      <td>Wrong rating - No accident</td>\n",
       "      <td>Mallikarjun</td>\n",
       "      <td>False Alarm</td>\n",
       "    </tr>\n",
       "    <tr>\n",
       "      <th>13</th>\n",
       "      <td>2021-01-05</td>\n",
       "      <td>Wrong rating - No accident</td>\n",
       "      <td>Rajeshwari</td>\n",
       "      <td>False Alarm</td>\n",
       "    </tr>\n",
       "    <tr>\n",
       "      <th>14</th>\n",
       "      <td>2021-01-07</td>\n",
       "      <td>Wrong rating - No accident</td>\n",
       "      <td>Shiva Kumar</td>\n",
       "      <td>False Alarm</td>\n",
       "    </tr>\n",
       "    <tr>\n",
       "      <th>15</th>\n",
       "      <td>2021-01-08</td>\n",
       "      <td>Wrong rating - No accident</td>\n",
       "      <td>Rajeshwari</td>\n",
       "      <td>False Alarm</td>\n",
       "    </tr>\n",
       "    <tr>\n",
       "      <th>16</th>\n",
       "      <td>2021-01-09</td>\n",
       "      <td>Wrong rating - No accident</td>\n",
       "      <td>Aparna</td>\n",
       "      <td>False Alarm</td>\n",
       "    </tr>\n",
       "    <tr>\n",
       "      <th>17</th>\n",
       "      <td>2021-01-10</td>\n",
       "      <td>Wrong rating - No accident</td>\n",
       "      <td>Rajeshwari</td>\n",
       "      <td>False Alarm</td>\n",
       "    </tr>\n",
       "    <tr>\n",
       "      <th>18</th>\n",
       "      <td>2021-01-11</td>\n",
       "      <td>missed accident</td>\n",
       "      <td>Yuvaraja</td>\n",
       "      <td>False Alarm</td>\n",
       "    </tr>\n",
       "    <tr>\n",
       "      <th>19</th>\n",
       "      <td>2021-01-11</td>\n",
       "      <td>missed accident</td>\n",
       "      <td>Shiva Kumar</td>\n",
       "      <td>False Alarm</td>\n",
       "    </tr>\n",
       "    <tr>\n",
       "      <th>20</th>\n",
       "      <td>2021-01-11</td>\n",
       "      <td>missed accident</td>\n",
       "      <td>Rajeshwari</td>\n",
       "      <td>False Alarm</td>\n",
       "    </tr>\n",
       "    <tr>\n",
       "      <th>21</th>\n",
       "      <td>2021-01-11</td>\n",
       "      <td>missed accident</td>\n",
       "      <td>Mallikarjun</td>\n",
       "      <td>False Alarm</td>\n",
       "    </tr>\n",
       "    <tr>\n",
       "      <th>22</th>\n",
       "      <td>2021-01-11</td>\n",
       "      <td>Wrong rating - Accident</td>\n",
       "      <td>Rajeshwari</td>\n",
       "      <td>False Alarm</td>\n",
       "    </tr>\n",
       "    <tr>\n",
       "      <th>23</th>\n",
       "      <td>2021-01-12</td>\n",
       "      <td>Wrong rating - Accident</td>\n",
       "      <td>Aparna</td>\n",
       "      <td>False Alarm</td>\n",
       "    </tr>\n",
       "    <tr>\n",
       "      <th>24</th>\n",
       "      <td>2021-01-12</td>\n",
       "      <td>Wrong rating - No accident</td>\n",
       "      <td>Shivam</td>\n",
       "      <td>False Alarm</td>\n",
       "    </tr>\n",
       "    <tr>\n",
       "      <th>25</th>\n",
       "      <td>2021-01-12</td>\n",
       "      <td>missed accident</td>\n",
       "      <td>Mallikarjun</td>\n",
       "      <td>False Alarm</td>\n",
       "    </tr>\n",
       "    <tr>\n",
       "      <th>26</th>\n",
       "      <td>2021-01-12</td>\n",
       "      <td>Wrong rating - Accident</td>\n",
       "      <td>Mallikarjun</td>\n",
       "      <td>False Alarm</td>\n",
       "    </tr>\n",
       "    <tr>\n",
       "      <th>27</th>\n",
       "      <td>2021-01-12</td>\n",
       "      <td>Wrong rating - No accident</td>\n",
       "      <td>Mallikarjun</td>\n",
       "      <td>False Alarm</td>\n",
       "    </tr>\n",
       "    <tr>\n",
       "      <th>28</th>\n",
       "      <td>2021-01-13</td>\n",
       "      <td>Wrong rating - Accident</td>\n",
       "      <td>Aparna</td>\n",
       "      <td>False Alarm</td>\n",
       "    </tr>\n",
       "    <tr>\n",
       "      <th>29</th>\n",
       "      <td>2021-01-13</td>\n",
       "      <td>Wrong rating - Accident</td>\n",
       "      <td>Shiva Kumar</td>\n",
       "      <td>False Alarm</td>\n",
       "    </tr>\n",
       "  </tbody>\n",
       "</table>\n",
       "</div>"
      ],
      "text/plain": [
       "         Date                      Rating    Reviewers False_Alarm_Creation\n",
       "0  2020-12-31     Wrong rating - Accident     Yuvaraja          False Alarm\n",
       "1  2020-12-31  Wrong rating - No accident  Shiva Kumar          False Alarm\n",
       "2  2021-01-01     Wrong rating - Accident  Shiva Kumar          False Alarm\n",
       "3  2021-01-01  Wrong rating - No accident  Shiva Kumar          False Alarm\n",
       "4  2021-01-01  Wrong rating - No accident   Rajeshwari          False Alarm\n",
       "5  2021-01-02     Wrong rating - Accident   Rajeshwari          False Alarm\n",
       "6  2021-01-03     Wrong rating - Accident     Narendra          False Alarm\n",
       "7  2021-01-03     Wrong rating - Accident     Narendra          False Alarm\n",
       "8  2021-01-03  Wrong rating - No accident       Aparna          False Alarm\n",
       "9  2021-01-04     Wrong rating - Accident     Yuvaraja          False Alarm\n",
       "10 2021-01-04     Wrong rating - Accident  Mallikarjun          False Alarm\n",
       "11 2021-01-04     Wrong rating - Accident     Yuvaraja          False Alarm\n",
       "12 2021-01-05  Wrong rating - No accident  Mallikarjun          False Alarm\n",
       "13 2021-01-05  Wrong rating - No accident   Rajeshwari          False Alarm\n",
       "14 2021-01-07  Wrong rating - No accident  Shiva Kumar          False Alarm\n",
       "15 2021-01-08  Wrong rating - No accident   Rajeshwari          False Alarm\n",
       "16 2021-01-09  Wrong rating - No accident       Aparna          False Alarm\n",
       "17 2021-01-10  Wrong rating - No accident   Rajeshwari          False Alarm\n",
       "18 2021-01-11             missed accident     Yuvaraja          False Alarm\n",
       "19 2021-01-11             missed accident  Shiva Kumar          False Alarm\n",
       "20 2021-01-11             missed accident   Rajeshwari          False Alarm\n",
       "21 2021-01-11             missed accident  Mallikarjun          False Alarm\n",
       "22 2021-01-11     Wrong rating - Accident   Rajeshwari          False Alarm\n",
       "23 2021-01-12     Wrong rating - Accident       Aparna          False Alarm\n",
       "24 2021-01-12  Wrong rating - No accident       Shivam          False Alarm\n",
       "25 2021-01-12             missed accident  Mallikarjun          False Alarm\n",
       "26 2021-01-12     Wrong rating - Accident  Mallikarjun          False Alarm\n",
       "27 2021-01-12  Wrong rating - No accident  Mallikarjun          False Alarm\n",
       "28 2021-01-13     Wrong rating - Accident       Aparna          False Alarm\n",
       "29 2021-01-13     Wrong rating - Accident  Shiva Kumar          False Alarm"
      ]
     },
     "execution_count": 12,
     "metadata": {},
     "output_type": "execute_result"
    }
   ],
   "source": [
    "data_reviewers_support.head(30)"
   ]
  },
  {
   "cell_type": "markdown",
   "metadata": {},
   "source": [
    "## 4) Creating Weekly basis report for calculating the false alarms"
   ]
  },
  {
   "cell_type": "markdown",
   "metadata": {},
   "source": [
    "#### 1] last week of December 2020 - January 2021 from 31.12.2020 - 03.01.2021"
   ]
  },
  {
   "cell_type": "code",
   "execution_count": 13,
   "metadata": {},
   "outputs": [
    {
     "data": {
      "text/html": [
       "<div>\n",
       "<style scoped>\n",
       "    .dataframe tbody tr th:only-of-type {\n",
       "        vertical-align: middle;\n",
       "    }\n",
       "\n",
       "    .dataframe tbody tr th {\n",
       "        vertical-align: top;\n",
       "    }\n",
       "\n",
       "    .dataframe thead th {\n",
       "        text-align: right;\n",
       "    }\n",
       "</style>\n",
       "<table border=\"1\" class=\"dataframe\">\n",
       "  <thead>\n",
       "    <tr style=\"text-align: right;\">\n",
       "      <th></th>\n",
       "      <th>Date</th>\n",
       "      <th>Rating</th>\n",
       "      <th>Reviewers</th>\n",
       "      <th>False_Alarm_Creation</th>\n",
       "    </tr>\n",
       "  </thead>\n",
       "  <tbody>\n",
       "    <tr>\n",
       "      <th>0</th>\n",
       "      <td>2020-12-31</td>\n",
       "      <td>Wrong rating - Accident</td>\n",
       "      <td>Yuvaraja</td>\n",
       "      <td>False Alarm</td>\n",
       "    </tr>\n",
       "    <tr>\n",
       "      <th>1</th>\n",
       "      <td>2020-12-31</td>\n",
       "      <td>Wrong rating - No accident</td>\n",
       "      <td>Shiva Kumar</td>\n",
       "      <td>False Alarm</td>\n",
       "    </tr>\n",
       "    <tr>\n",
       "      <th>2</th>\n",
       "      <td>2021-01-01</td>\n",
       "      <td>Wrong rating - Accident</td>\n",
       "      <td>Shiva Kumar</td>\n",
       "      <td>False Alarm</td>\n",
       "    </tr>\n",
       "    <tr>\n",
       "      <th>3</th>\n",
       "      <td>2021-01-01</td>\n",
       "      <td>Wrong rating - No accident</td>\n",
       "      <td>Shiva Kumar</td>\n",
       "      <td>False Alarm</td>\n",
       "    </tr>\n",
       "    <tr>\n",
       "      <th>4</th>\n",
       "      <td>2021-01-01</td>\n",
       "      <td>Wrong rating - No accident</td>\n",
       "      <td>Rajeshwari</td>\n",
       "      <td>False Alarm</td>\n",
       "    </tr>\n",
       "    <tr>\n",
       "      <th>5</th>\n",
       "      <td>2021-01-02</td>\n",
       "      <td>Wrong rating - Accident</td>\n",
       "      <td>Rajeshwari</td>\n",
       "      <td>False Alarm</td>\n",
       "    </tr>\n",
       "    <tr>\n",
       "      <th>6</th>\n",
       "      <td>2021-01-03</td>\n",
       "      <td>Wrong rating - Accident</td>\n",
       "      <td>Narendra</td>\n",
       "      <td>False Alarm</td>\n",
       "    </tr>\n",
       "    <tr>\n",
       "      <th>7</th>\n",
       "      <td>2021-01-03</td>\n",
       "      <td>Wrong rating - Accident</td>\n",
       "      <td>Narendra</td>\n",
       "      <td>False Alarm</td>\n",
       "    </tr>\n",
       "    <tr>\n",
       "      <th>8</th>\n",
       "      <td>2021-01-03</td>\n",
       "      <td>Wrong rating - No accident</td>\n",
       "      <td>Aparna</td>\n",
       "      <td>False Alarm</td>\n",
       "    </tr>\n",
       "  </tbody>\n",
       "</table>\n",
       "</div>"
      ],
      "text/plain": [
       "        Date                      Rating    Reviewers False_Alarm_Creation\n",
       "0 2020-12-31     Wrong rating - Accident     Yuvaraja          False Alarm\n",
       "1 2020-12-31  Wrong rating - No accident  Shiva Kumar          False Alarm\n",
       "2 2021-01-01     Wrong rating - Accident  Shiva Kumar          False Alarm\n",
       "3 2021-01-01  Wrong rating - No accident  Shiva Kumar          False Alarm\n",
       "4 2021-01-01  Wrong rating - No accident   Rajeshwari          False Alarm\n",
       "5 2021-01-02     Wrong rating - Accident   Rajeshwari          False Alarm\n",
       "6 2021-01-03     Wrong rating - Accident     Narendra          False Alarm\n",
       "7 2021-01-03     Wrong rating - Accident     Narendra          False Alarm\n",
       "8 2021-01-03  Wrong rating - No accident       Aparna          False Alarm"
      ]
     },
     "execution_count": 13,
     "metadata": {},
     "output_type": "execute_result"
    }
   ],
   "source": [
    "data_reviewers_support1=data_reviewers_support[(data_reviewers_support['Date'] >= '2020-12-31') & (data_reviewers_support['Date'] <= '2021-01-03')]\n",
    "data_reviewers_support1"
   ]
  },
  {
   "cell_type": "markdown",
   "metadata": {},
   "source": [
    "#### Count the number of False alarms and the reviewers"
   ]
  },
  {
   "cell_type": "code",
   "execution_count": 14,
   "metadata": {},
   "outputs": [
    {
     "data": {
      "text/plain": [
       "9"
      ]
     },
     "execution_count": 14,
     "metadata": {},
     "output_type": "execute_result"
    }
   ],
   "source": [
    "data_reviewers_support1['False_Alarm_Creation'].count()"
   ]
  },
  {
   "cell_type": "code",
   "execution_count": 15,
   "metadata": {
    "scrolled": true
   },
   "outputs": [
    {
     "data": {
      "text/plain": [
       "Shiva Kumar    3\n",
       "Narendra       2\n",
       "Rajeshwari     2\n",
       "Yuvaraja       1\n",
       "Aparna         1\n",
       "Name: Reviewers, dtype: int64"
      ]
     },
     "execution_count": 15,
     "metadata": {},
     "output_type": "execute_result"
    }
   ],
   "source": [
    "data_reviewers_support1['Reviewers'].value_counts()"
   ]
  },
  {
   "cell_type": "code",
   "execution_count": 16,
   "metadata": {},
   "outputs": [
    {
     "data": {
      "text/plain": [
       "9"
      ]
     },
     "execution_count": 16,
     "metadata": {},
     "output_type": "execute_result"
    }
   ],
   "source": [
    "data_reviewers_support1['Reviewers'].count()"
   ]
  },
  {
   "cell_type": "code",
   "execution_count": 17,
   "metadata": {},
   "outputs": [
    {
     "data": {
      "image/png": "[encoded data removed]",
      "text/plain": [
       "<Figure size 720x360 with 1 Axes>"
      ]
     },
     "metadata": {
      "needs_background": "light"
     },
     "output_type": "display_data"
    }
   ],
   "source": [
    "X=data_reviewers_support1['Reviewers'].value_counts()\n",
    "plt.figure(figsize=(10,5))\n",
    "plt.plot(X,color='green', marker='o', linestyle='dashed',linewidth=2, markersize=5)\n",
    "plt.xticks(rotation=40)\n",
    "plt.title(\"Reviewers having total number of false alarms from 31st December 2020 to 3rd January 2021\", color='black')\n",
    "for i, v in enumerate(X):\n",
    "    plt.text(i, v+0.03, \"%d\" %v, ha=\"center\",fontdict={'fontsize':'17'})\n",
    "plt.show()"
   ]
  },
  {
   "cell_type": "markdown",
   "metadata": {},
   "source": [
    "#### 2] 1st week January 2021 from 04.01.2021 - 10.01.2021"
   ]
  },
  {
   "cell_type": "code",
   "execution_count": 18,
   "metadata": {},
   "outputs": [
    {
     "data": {
      "text/html": [
       "<div>\n",
       "<style scoped>\n",
       "    .dataframe tbody tr th:only-of-type {\n",
       "        vertical-align: middle;\n",
       "    }\n",
       "\n",
       "    .dataframe tbody tr th {\n",
       "        vertical-align: top;\n",
       "    }\n",
       "\n",
       "    .dataframe thead th {\n",
       "        text-align: right;\n",
       "    }\n",
       "</style>\n",
       "<table border=\"1\" class=\"dataframe\">\n",
       "  <thead>\n",
       "    <tr style=\"text-align: right;\">\n",
       "      <th></th>\n",
       "      <th>Date</th>\n",
       "      <th>Rating</th>\n",
       "      <th>Reviewers</th>\n",
       "      <th>False_Alarm_Creation</th>\n",
       "    </tr>\n",
       "  </thead>\n",
       "  <tbody>\n",
       "    <tr>\n",
       "      <th>9</th>\n",
       "      <td>2021-01-04</td>\n",
       "      <td>Wrong rating - Accident</td>\n",
       "      <td>Yuvaraja</td>\n",
       "      <td>False Alarm</td>\n",
       "    </tr>\n",
       "    <tr>\n",
       "      <th>10</th>\n",
       "      <td>2021-01-04</td>\n",
       "      <td>Wrong rating - Accident</td>\n",
       "      <td>Mallikarjun</td>\n",
       "      <td>False Alarm</td>\n",
       "    </tr>\n",
       "    <tr>\n",
       "      <th>11</th>\n",
       "      <td>2021-01-04</td>\n",
       "      <td>Wrong rating - Accident</td>\n",
       "      <td>Yuvaraja</td>\n",
       "      <td>False Alarm</td>\n",
       "    </tr>\n",
       "    <tr>\n",
       "      <th>12</th>\n",
       "      <td>2021-01-05</td>\n",
       "      <td>Wrong rating - No accident</td>\n",
       "      <td>Mallikarjun</td>\n",
       "      <td>False Alarm</td>\n",
       "    </tr>\n",
       "    <tr>\n",
       "      <th>13</th>\n",
       "      <td>2021-01-05</td>\n",
       "      <td>Wrong rating - No accident</td>\n",
       "      <td>Rajeshwari</td>\n",
       "      <td>False Alarm</td>\n",
       "    </tr>\n",
       "    <tr>\n",
       "      <th>14</th>\n",
       "      <td>2021-01-07</td>\n",
       "      <td>Wrong rating - No accident</td>\n",
       "      <td>Shiva Kumar</td>\n",
       "      <td>False Alarm</td>\n",
       "    </tr>\n",
       "    <tr>\n",
       "      <th>15</th>\n",
       "      <td>2021-01-08</td>\n",
       "      <td>Wrong rating - No accident</td>\n",
       "      <td>Rajeshwari</td>\n",
       "      <td>False Alarm</td>\n",
       "    </tr>\n",
       "    <tr>\n",
       "      <th>16</th>\n",
       "      <td>2021-01-09</td>\n",
       "      <td>Wrong rating - No accident</td>\n",
       "      <td>Aparna</td>\n",
       "      <td>False Alarm</td>\n",
       "    </tr>\n",
       "    <tr>\n",
       "      <th>17</th>\n",
       "      <td>2021-01-10</td>\n",
       "      <td>Wrong rating - No accident</td>\n",
       "      <td>Rajeshwari</td>\n",
       "      <td>False Alarm</td>\n",
       "    </tr>\n",
       "  </tbody>\n",
       "</table>\n",
       "</div>"
      ],
      "text/plain": [
       "         Date                      Rating    Reviewers False_Alarm_Creation\n",
       "9  2021-01-04     Wrong rating - Accident     Yuvaraja          False Alarm\n",
       "10 2021-01-04     Wrong rating - Accident  Mallikarjun          False Alarm\n",
       "11 2021-01-04     Wrong rating - Accident     Yuvaraja          False Alarm\n",
       "12 2021-01-05  Wrong rating - No accident  Mallikarjun          False Alarm\n",
       "13 2021-01-05  Wrong rating - No accident   Rajeshwari          False Alarm\n",
       "14 2021-01-07  Wrong rating - No accident  Shiva Kumar          False Alarm\n",
       "15 2021-01-08  Wrong rating - No accident   Rajeshwari          False Alarm\n",
       "16 2021-01-09  Wrong rating - No accident       Aparna          False Alarm\n",
       "17 2021-01-10  Wrong rating - No accident   Rajeshwari          False Alarm"
      ]
     },
     "execution_count": 18,
     "metadata": {},
     "output_type": "execute_result"
    }
   ],
   "source": [
    "data_reviewers_support2=data_reviewers_support[(data_reviewers_support['Date'] >= '2021-01-04') & (data_reviewers_support['Date'] <= '2021-01-10')]\n",
    "data_reviewers_support2"
   ]
  },
  {
   "cell_type": "markdown",
   "metadata": {},
   "source": [
    "#### Count the number of False alarms and the reviewers"
   ]
  },
  {
   "cell_type": "code",
   "execution_count": 19,
   "metadata": {},
   "outputs": [
    {
     "data": {
      "text/plain": [
       "9"
      ]
     },
     "execution_count": 19,
     "metadata": {},
     "output_type": "execute_result"
    }
   ],
   "source": [
    "data_reviewers_support2['False_Alarm_Creation'].count()"
   ]
  },
  {
   "cell_type": "code",
   "execution_count": 20,
   "metadata": {},
   "outputs": [
    {
     "data": {
      "text/plain": [
       "Rajeshwari     3\n",
       "Yuvaraja       2\n",
       "Mallikarjun    2\n",
       "Aparna         1\n",
       "Shiva Kumar    1\n",
       "Name: Reviewers, dtype: int64"
      ]
     },
     "execution_count": 20,
     "metadata": {},
     "output_type": "execute_result"
    }
   ],
   "source": [
    "data_reviewers_support2['Reviewers'].value_counts()"
   ]
  },
  {
   "cell_type": "code",
   "execution_count": 21,
   "metadata": {},
   "outputs": [
    {
     "data": {
      "text/plain": [
       "9"
      ]
     },
     "execution_count": 21,
     "metadata": {},
     "output_type": "execute_result"
    }
   ],
   "source": [
    "data_reviewers_support2['Reviewers'].count()"
   ]
  },
  {
   "cell_type": "code",
   "execution_count": 22,
   "metadata": {},
   "outputs": [
    {
     "data": {
      "image/png": "[encoded data removed]",
      "text/plain": [
       "<Figure size 720x360 with 1 Axes>"
      ]
     },
     "metadata": {
      "needs_background": "light"
     },
     "output_type": "display_data"
    }
   ],
   "source": [
    "X=data_reviewers_support2['Reviewers'].value_counts()\n",
    "plt.figure(figsize=(10,5))\n",
    "plt.plot(X,color='gold', marker='o', linestyle='dashed',linewidth=2, markersize=5)\n",
    "plt.xticks(rotation=40)\n",
    "plt.title(\"Reviewers having total number of false alarms from 4th January 2021 to 10th January 2021\", color='black')\n",
    "for i, v in enumerate(X):\n",
    "    plt.text(i, v+0.03, \"%d\" %v, ha=\"center\",fontdict={'fontsize':'17'})\n",
    "plt.show()"
   ]
  },
  {
   "cell_type": "markdown",
   "metadata": {},
   "source": [
    "#### 3] 2nd week January 2021 from 11.01.2021 - 17.01.2021"
   ]
  },
  {
   "cell_type": "code",
   "execution_count": 23,
   "metadata": {},
   "outputs": [
    {
     "data": {
      "text/html": [
       "<div>\n",
       "<style scoped>\n",
       "    .dataframe tbody tr th:only-of-type {\n",
       "        vertical-align: middle;\n",
       "    }\n",
       "\n",
       "    .dataframe tbody tr th {\n",
       "        vertical-align: top;\n",
       "    }\n",
       "\n",
       "    .dataframe thead th {\n",
       "        text-align: right;\n",
       "    }\n",
       "</style>\n",
       "<table border=\"1\" class=\"dataframe\">\n",
       "  <thead>\n",
       "    <tr style=\"text-align: right;\">\n",
       "      <th></th>\n",
       "      <th>Date</th>\n",
       "      <th>Rating</th>\n",
       "      <th>Reviewers</th>\n",
       "      <th>False_Alarm_Creation</th>\n",
       "    </tr>\n",
       "  </thead>\n",
       "  <tbody>\n",
       "    <tr>\n",
       "      <th>18</th>\n",
       "      <td>2021-01-11</td>\n",
       "      <td>missed accident</td>\n",
       "      <td>Yuvaraja</td>\n",
       "      <td>False Alarm</td>\n",
       "    </tr>\n",
       "    <tr>\n",
       "      <th>19</th>\n",
       "      <td>2021-01-11</td>\n",
       "      <td>missed accident</td>\n",
       "      <td>Shiva Kumar</td>\n",
       "      <td>False Alarm</td>\n",
       "    </tr>\n",
       "    <tr>\n",
       "      <th>20</th>\n",
       "      <td>2021-01-11</td>\n",
       "      <td>missed accident</td>\n",
       "      <td>Rajeshwari</td>\n",
       "      <td>False Alarm</td>\n",
       "    </tr>\n",
       "    <tr>\n",
       "      <th>21</th>\n",
       "      <td>2021-01-11</td>\n",
       "      <td>missed accident</td>\n",
       "      <td>Mallikarjun</td>\n",
       "      <td>False Alarm</td>\n",
       "    </tr>\n",
       "    <tr>\n",
       "      <th>22</th>\n",
       "      <td>2021-01-11</td>\n",
       "      <td>Wrong rating - Accident</td>\n",
       "      <td>Rajeshwari</td>\n",
       "      <td>False Alarm</td>\n",
       "    </tr>\n",
       "    <tr>\n",
       "      <th>23</th>\n",
       "      <td>2021-01-12</td>\n",
       "      <td>Wrong rating - Accident</td>\n",
       "      <td>Aparna</td>\n",
       "      <td>False Alarm</td>\n",
       "    </tr>\n",
       "    <tr>\n",
       "      <th>24</th>\n",
       "      <td>2021-01-12</td>\n",
       "      <td>Wrong rating - No accident</td>\n",
       "      <td>Shivam</td>\n",
       "      <td>False Alarm</td>\n",
       "    </tr>\n",
       "    <tr>\n",
       "      <th>25</th>\n",
       "      <td>2021-01-12</td>\n",
       "      <td>missed accident</td>\n",
       "      <td>Mallikarjun</td>\n",
       "      <td>False Alarm</td>\n",
       "    </tr>\n",
       "    <tr>\n",
       "      <th>26</th>\n",
       "      <td>2021-01-12</td>\n",
       "      <td>Wrong rating - Accident</td>\n",
       "      <td>Mallikarjun</td>\n",
       "      <td>False Alarm</td>\n",
       "    </tr>\n",
       "    <tr>\n",
       "      <th>27</th>\n",
       "      <td>2021-01-12</td>\n",
       "      <td>Wrong rating - No accident</td>\n",
       "      <td>Mallikarjun</td>\n",
       "      <td>False Alarm</td>\n",
       "    </tr>\n",
       "    <tr>\n",
       "      <th>28</th>\n",
       "      <td>2021-01-13</td>\n",
       "      <td>Wrong rating - Accident</td>\n",
       "      <td>Aparna</td>\n",
       "      <td>False Alarm</td>\n",
       "    </tr>\n",
       "    <tr>\n",
       "      <th>29</th>\n",
       "      <td>2021-01-13</td>\n",
       "      <td>Wrong rating - Accident</td>\n",
       "      <td>Shiva Kumar</td>\n",
       "      <td>False Alarm</td>\n",
       "    </tr>\n",
       "    <tr>\n",
       "      <th>30</th>\n",
       "      <td>2021-01-14</td>\n",
       "      <td>Wrong rating - Accident</td>\n",
       "      <td>Shiva Kumar</td>\n",
       "      <td>False Alarm</td>\n",
       "    </tr>\n",
       "    <tr>\n",
       "      <th>31</th>\n",
       "      <td>2021-01-15</td>\n",
       "      <td>Wrong rating - Accident</td>\n",
       "      <td>Kiran</td>\n",
       "      <td>False Alarm</td>\n",
       "    </tr>\n",
       "    <tr>\n",
       "      <th>32</th>\n",
       "      <td>2021-01-15</td>\n",
       "      <td>Wrong rating - Accident</td>\n",
       "      <td>Yuvaraja</td>\n",
       "      <td>False Alarm</td>\n",
       "    </tr>\n",
       "    <tr>\n",
       "      <th>33</th>\n",
       "      <td>2021-01-15</td>\n",
       "      <td>Wrong rating - No accident</td>\n",
       "      <td>Aparna</td>\n",
       "      <td>False Alarm</td>\n",
       "    </tr>\n",
       "    <tr>\n",
       "      <th>34</th>\n",
       "      <td>2021-01-16</td>\n",
       "      <td>Wrong rating - Accident</td>\n",
       "      <td>Shiva Kumar</td>\n",
       "      <td>False Alarm</td>\n",
       "    </tr>\n",
       "    <tr>\n",
       "      <th>35</th>\n",
       "      <td>2021-01-16</td>\n",
       "      <td>Wrong rating - No accident</td>\n",
       "      <td>Shiva Kumar</td>\n",
       "      <td>False Alarm</td>\n",
       "    </tr>\n",
       "    <tr>\n",
       "      <th>36</th>\n",
       "      <td>2021-01-16</td>\n",
       "      <td>Wrong rating - No accident</td>\n",
       "      <td>Rajeshwari</td>\n",
       "      <td>False Alarm</td>\n",
       "    </tr>\n",
       "    <tr>\n",
       "      <th>37</th>\n",
       "      <td>2021-01-16</td>\n",
       "      <td>Wrong rating - Accident</td>\n",
       "      <td>Rajeshwari</td>\n",
       "      <td>False Alarm</td>\n",
       "    </tr>\n",
       "    <tr>\n",
       "      <th>38</th>\n",
       "      <td>2021-01-17</td>\n",
       "      <td>Wrong rating - No accident</td>\n",
       "      <td>Rajeshwari</td>\n",
       "      <td>False Alarm</td>\n",
       "    </tr>\n",
       "    <tr>\n",
       "      <th>39</th>\n",
       "      <td>2021-01-17</td>\n",
       "      <td>Wrong rating - Accident</td>\n",
       "      <td>Rajeshwari</td>\n",
       "      <td>False Alarm</td>\n",
       "    </tr>\n",
       "    <tr>\n",
       "      <th>40</th>\n",
       "      <td>2021-01-17</td>\n",
       "      <td>Wrong rating - Accident</td>\n",
       "      <td>Shiva Kumar</td>\n",
       "      <td>False Alarm</td>\n",
       "    </tr>\n",
       "    <tr>\n",
       "      <th>44</th>\n",
       "      <td>2021-01-17</td>\n",
       "      <td>missed accident</td>\n",
       "      <td>Shivam</td>\n",
       "      <td>False Alarm</td>\n",
       "    </tr>\n",
       "  </tbody>\n",
       "</table>\n",
       "</div>"
      ],
      "text/plain": [
       "         Date                      Rating    Reviewers False_Alarm_Creation\n",
       "18 2021-01-11             missed accident     Yuvaraja          False Alarm\n",
       "19 2021-01-11             missed accident  Shiva Kumar          False Alarm\n",
       "20 2021-01-11             missed accident   Rajeshwari          False Alarm\n",
       "21 2021-01-11             missed accident  Mallikarjun          False Alarm\n",
       "22 2021-01-11     Wrong rating - Accident   Rajeshwari          False Alarm\n",
       "23 2021-01-12     Wrong rating - Accident       Aparna          False Alarm\n",
       "24 2021-01-12  Wrong rating - No accident       Shivam          False Alarm\n",
       "25 2021-01-12             missed accident  Mallikarjun          False Alarm\n",
       "26 2021-01-12     Wrong rating - Accident  Mallikarjun          False Alarm\n",
       "27 2021-01-12  Wrong rating - No accident  Mallikarjun          False Alarm\n",
       "28 2021-01-13     Wrong rating - Accident       Aparna          False Alarm\n",
       "29 2021-01-13     Wrong rating - Accident  Shiva Kumar          False Alarm\n",
       "30 2021-01-14     Wrong rating - Accident  Shiva Kumar          False Alarm\n",
       "31 2021-01-15     Wrong rating - Accident        Kiran          False Alarm\n",
       "32 2021-01-15     Wrong rating - Accident     Yuvaraja          False Alarm\n",
       "33 2021-01-15  Wrong rating - No accident       Aparna          False Alarm\n",
       "34 2021-01-16     Wrong rating - Accident  Shiva Kumar          False Alarm\n",
       "35 2021-01-16  Wrong rating - No accident  Shiva Kumar          False Alarm\n",
       "36 2021-01-16  Wrong rating - No accident   Rajeshwari          False Alarm\n",
       "37 2021-01-16     Wrong rating - Accident   Rajeshwari          False Alarm\n",
       "38 2021-01-17  Wrong rating - No accident   Rajeshwari          False Alarm\n",
       "39 2021-01-17     Wrong rating - Accident   Rajeshwari          False Alarm\n",
       "40 2021-01-17     Wrong rating - Accident  Shiva Kumar          False Alarm\n",
       "44 2021-01-17             missed accident       Shivam          False Alarm"
      ]
     },
     "execution_count": 23,
     "metadata": {},
     "output_type": "execute_result"
    }
   ],
   "source": [
    "data_reviewers_support3=data_reviewers_support[(data_reviewers_support['Date'] >= '2021-01-11') & (data_reviewers_support['Date'] <= '2021-01-17')]\n",
    "data_reviewers_support3"
   ]
  },
  {
   "cell_type": "markdown",
   "metadata": {},
   "source": [
    "#### Count the number of False alarms and the reviewers"
   ]
  },
  {
   "cell_type": "code",
   "execution_count": 24,
   "metadata": {},
   "outputs": [
    {
     "data": {
      "text/plain": [
       "24"
      ]
     },
     "execution_count": 24,
     "metadata": {},
     "output_type": "execute_result"
    }
   ],
   "source": [
    "data_reviewers_support3['False_Alarm_Creation'].count()"
   ]
  },
  {
   "cell_type": "code",
   "execution_count": 25,
   "metadata": {},
   "outputs": [
    {
     "data": {
      "text/plain": [
       "Shiva Kumar    6\n",
       "Rajeshwari     6\n",
       "Mallikarjun    4\n",
       "Aparna         3\n",
       "Shivam         2\n",
       "Yuvaraja       2\n",
       "Kiran          1\n",
       "Name: Reviewers, dtype: int64"
      ]
     },
     "execution_count": 25,
     "metadata": {},
     "output_type": "execute_result"
    }
   ],
   "source": [
    "data_reviewers_support3['Reviewers'].value_counts()"
   ]
  },
  {
   "cell_type": "code",
   "execution_count": 26,
   "metadata": {},
   "outputs": [
    {
     "data": {
      "text/plain": [
       "24"
      ]
     },
     "execution_count": 26,
     "metadata": {},
     "output_type": "execute_result"
    }
   ],
   "source": [
    "data_reviewers_support3['Reviewers'].count()"
   ]
  },
  {
   "cell_type": "code",
   "execution_count": 27,
   "metadata": {},
   "outputs": [
    {
     "data": {
      "image/png": "[encoded data removed]",
      "text/plain": [
       "<Figure size 720x360 with 1 Axes>"
      ]
     },
     "metadata": {
      "needs_background": "light"
     },
     "output_type": "display_data"
    }
   ],
   "source": [
    "X=data_reviewers_support3['Reviewers'].value_counts()\n",
    "plt.figure(figsize=(10,5))\n",
    "plt.plot(X,color='magenta', marker='o', linestyle='dashed',linewidth=2, markersize=5)\n",
    "plt.xticks(rotation=40)\n",
    "plt.title(\"Reviewers having total number of false alarms from 11th January 2021 to 17th January 2021\", color='black')\n",
    "for i, v in enumerate(X):\n",
    "    plt.text(i, v+0.03, \"%d\" %v, ha=\"center\",fontdict={'fontsize':'17'})\n",
    "plt.show()"
   ]
  },
  {
   "cell_type": "markdown",
   "metadata": {},
   "source": [
    "#### 4] 3rd week January 2021 from 18.01.2021 - 24.01.2021"
   ]
  },
  {
   "cell_type": "code",
   "execution_count": 28,
   "metadata": {},
   "outputs": [
    {
     "data": {
      "text/html": [
       "<div>\n",
       "<style scoped>\n",
       "    .dataframe tbody tr th:only-of-type {\n",
       "        vertical-align: middle;\n",
       "    }\n",
       "\n",
       "    .dataframe tbody tr th {\n",
       "        vertical-align: top;\n",
       "    }\n",
       "\n",
       "    .dataframe thead th {\n",
       "        text-align: right;\n",
       "    }\n",
       "</style>\n",
       "<table border=\"1\" class=\"dataframe\">\n",
       "  <thead>\n",
       "    <tr style=\"text-align: right;\">\n",
       "      <th></th>\n",
       "      <th>Date</th>\n",
       "      <th>Rating</th>\n",
       "      <th>Reviewers</th>\n",
       "      <th>False_Alarm_Creation</th>\n",
       "    </tr>\n",
       "  </thead>\n",
       "  <tbody>\n",
       "    <tr>\n",
       "      <th>41</th>\n",
       "      <td>2021-01-18</td>\n",
       "      <td>Wrong rating - No accident</td>\n",
       "      <td>Narendra</td>\n",
       "      <td>False Alarm</td>\n",
       "    </tr>\n",
       "    <tr>\n",
       "      <th>42</th>\n",
       "      <td>2021-01-18</td>\n",
       "      <td>Wrong rating - No accident</td>\n",
       "      <td>Kiran</td>\n",
       "      <td>False Alarm</td>\n",
       "    </tr>\n",
       "    <tr>\n",
       "      <th>43</th>\n",
       "      <td>2021-01-18</td>\n",
       "      <td>Wrong rating - Accident</td>\n",
       "      <td>Shivam</td>\n",
       "      <td>False Alarm</td>\n",
       "    </tr>\n",
       "    <tr>\n",
       "      <th>45</th>\n",
       "      <td>2021-01-18</td>\n",
       "      <td>missed accident</td>\n",
       "      <td>Narendra</td>\n",
       "      <td>False Alarm</td>\n",
       "    </tr>\n",
       "    <tr>\n",
       "      <th>46</th>\n",
       "      <td>2021-01-20</td>\n",
       "      <td>No support</td>\n",
       "      <td>NaN</td>\n",
       "      <td>False Alarm</td>\n",
       "    </tr>\n",
       "    <tr>\n",
       "      <th>47</th>\n",
       "      <td>2021-01-20</td>\n",
       "      <td>No support</td>\n",
       "      <td>NaN</td>\n",
       "      <td>False Alarm</td>\n",
       "    </tr>\n",
       "    <tr>\n",
       "      <th>48</th>\n",
       "      <td>2021-01-22</td>\n",
       "      <td>Wrong rating - No accident</td>\n",
       "      <td>Mallikarjun</td>\n",
       "      <td>False Alarm</td>\n",
       "    </tr>\n",
       "    <tr>\n",
       "      <th>49</th>\n",
       "      <td>2021-01-24</td>\n",
       "      <td>missed collision</td>\n",
       "      <td>Mallikarjun</td>\n",
       "      <td>False Alarm</td>\n",
       "    </tr>\n",
       "    <tr>\n",
       "      <th>50</th>\n",
       "      <td>2021-01-24</td>\n",
       "      <td>missed collision</td>\n",
       "      <td>Narendra</td>\n",
       "      <td>False Alarm</td>\n",
       "    </tr>\n",
       "    <tr>\n",
       "      <th>51</th>\n",
       "      <td>2021-01-24</td>\n",
       "      <td>missed collision</td>\n",
       "      <td>Yuvaraja</td>\n",
       "      <td>False Alarm</td>\n",
       "    </tr>\n",
       "  </tbody>\n",
       "</table>\n",
       "</div>"
      ],
      "text/plain": [
       "         Date                      Rating    Reviewers False_Alarm_Creation\n",
       "41 2021-01-18  Wrong rating - No accident     Narendra          False Alarm\n",
       "42 2021-01-18  Wrong rating - No accident        Kiran          False Alarm\n",
       "43 2021-01-18     Wrong rating - Accident       Shivam          False Alarm\n",
       "45 2021-01-18             missed accident     Narendra          False Alarm\n",
       "46 2021-01-20                  No support          NaN          False Alarm\n",
       "47 2021-01-20                  No support          NaN          False Alarm\n",
       "48 2021-01-22  Wrong rating - No accident  Mallikarjun          False Alarm\n",
       "49 2021-01-24            missed collision  Mallikarjun          False Alarm\n",
       "50 2021-01-24            missed collision     Narendra          False Alarm\n",
       "51 2021-01-24            missed collision     Yuvaraja          False Alarm"
      ]
     },
     "execution_count": 28,
     "metadata": {},
     "output_type": "execute_result"
    }
   ],
   "source": [
    "data_reviewers_support4=data_reviewers_support[(data_reviewers_support['Date'] >= '2021-01-18') & (data_reviewers_support['Date'] <= '2021-01-24')]\n",
    "data_reviewers_support4"
   ]
  },
  {
   "cell_type": "markdown",
   "metadata": {},
   "source": [
    "#### Count the number of False alarms and the reviewers"
   ]
  },
  {
   "cell_type": "code",
   "execution_count": 29,
   "metadata": {},
   "outputs": [
    {
     "data": {
      "text/plain": [
       "10"
      ]
     },
     "execution_count": 29,
     "metadata": {},
     "output_type": "execute_result"
    }
   ],
   "source": [
    "data_reviewers_support4['False_Alarm_Creation'].count()"
   ]
  },
  {
   "cell_type": "code",
   "execution_count": 30,
   "metadata": {},
   "outputs": [
    {
     "data": {
      "text/plain": [
       "Narendra       3\n",
       "Mallikarjun    2\n",
       "Shivam         1\n",
       "Yuvaraja       1\n",
       "Kiran          1\n",
       "Name: Reviewers, dtype: int64"
      ]
     },
     "execution_count": 30,
     "metadata": {},
     "output_type": "execute_result"
    }
   ],
   "source": [
    "data_reviewers_support4['Reviewers'].value_counts()"
   ]
  },
  {
   "cell_type": "code",
   "execution_count": 31,
   "metadata": {},
   "outputs": [
    {
     "data": {
      "text/plain": [
       "8"
      ]
     },
     "execution_count": 31,
     "metadata": {},
     "output_type": "execute_result"
    }
   ],
   "source": [
    "data_reviewers_support4['Reviewers'].count()"
   ]
  },
  {
   "cell_type": "code",
   "execution_count": 32,
   "metadata": {},
   "outputs": [
    {
     "data": {
      "image/png": "[encoded data removed]",
      "text/plain": [
       "<Figure size 720x360 with 1 Axes>"
      ]
     },
     "metadata": {
      "needs_background": "light"
     },
     "output_type": "display_data"
    }
   ],
   "source": [
    "X=data_reviewers_support4['Reviewers'].value_counts()\n",
    "plt.figure(figsize=(10,5))\n",
    "plt.plot(X,color='indigo', marker='o', linestyle='dashed',linewidth=2, markersize=5)\n",
    "plt.xticks(rotation=40)\n",
    "plt.title(\"Reviewers having total number of false alarms from 18th January 2021 to 24th January 2021\", color='black')\n",
    "for i, v in enumerate(X):\n",
    "    plt.text(i, v+0.03, \"%d\" %v, ha=\"center\",fontdict={'fontsize':'17'})\n",
    "plt.show()"
   ]
  },
  {
   "cell_type": "markdown",
   "metadata": {},
   "source": [
    "#### 5] Last week January 2021 from 25.01.2021 - 31.01.2021"
   ]
  },
  {
   "cell_type": "code",
   "execution_count": 33,
   "metadata": {},
   "outputs": [
    {
     "data": {
      "text/html": [
       "<div>\n",
       "<style scoped>\n",
       "    .dataframe tbody tr th:only-of-type {\n",
       "        vertical-align: middle;\n",
       "    }\n",
       "\n",
       "    .dataframe tbody tr th {\n",
       "        vertical-align: top;\n",
       "    }\n",
       "\n",
       "    .dataframe thead th {\n",
       "        text-align: right;\n",
       "    }\n",
       "</style>\n",
       "<table border=\"1\" class=\"dataframe\">\n",
       "  <thead>\n",
       "    <tr style=\"text-align: right;\">\n",
       "      <th></th>\n",
       "      <th>Date</th>\n",
       "      <th>Rating</th>\n",
       "      <th>Reviewers</th>\n",
       "      <th>False_Alarm_Creation</th>\n",
       "    </tr>\n",
       "  </thead>\n",
       "  <tbody>\n",
       "    <tr>\n",
       "      <th>52</th>\n",
       "      <td>2021-01-25</td>\n",
       "      <td>missed collision</td>\n",
       "      <td>Narendra</td>\n",
       "      <td>False Alarm</td>\n",
       "    </tr>\n",
       "    <tr>\n",
       "      <th>53</th>\n",
       "      <td>2021-01-25</td>\n",
       "      <td>missed collision</td>\n",
       "      <td>Mallikarjun</td>\n",
       "      <td>False Alarm</td>\n",
       "    </tr>\n",
       "    <tr>\n",
       "      <th>54</th>\n",
       "      <td>2021-01-25</td>\n",
       "      <td>No support</td>\n",
       "      <td>Shiva Kumar</td>\n",
       "      <td>False Alarm</td>\n",
       "    </tr>\n",
       "    <tr>\n",
       "      <th>55</th>\n",
       "      <td>2021-01-27</td>\n",
       "      <td>missed collision</td>\n",
       "      <td>Shiva Kumar</td>\n",
       "      <td>False Alarm</td>\n",
       "    </tr>\n",
       "    <tr>\n",
       "      <th>56</th>\n",
       "      <td>2021-01-27</td>\n",
       "      <td>missed collision</td>\n",
       "      <td>Yuvaraja</td>\n",
       "      <td>False Alarm</td>\n",
       "    </tr>\n",
       "    <tr>\n",
       "      <th>57</th>\n",
       "      <td>2021-01-27</td>\n",
       "      <td>missed collision</td>\n",
       "      <td>Yuvaraja</td>\n",
       "      <td>False Alarm</td>\n",
       "    </tr>\n",
       "    <tr>\n",
       "      <th>58</th>\n",
       "      <td>2021-01-29</td>\n",
       "      <td>Wrong rating - No accident</td>\n",
       "      <td>Narendra</td>\n",
       "      <td>False Alarm</td>\n",
       "    </tr>\n",
       "  </tbody>\n",
       "</table>\n",
       "</div>"
      ],
      "text/plain": [
       "         Date                      Rating    Reviewers False_Alarm_Creation\n",
       "52 2021-01-25            missed collision     Narendra          False Alarm\n",
       "53 2021-01-25            missed collision  Mallikarjun          False Alarm\n",
       "54 2021-01-25                  No support  Shiva Kumar          False Alarm\n",
       "55 2021-01-27            missed collision  Shiva Kumar          False Alarm\n",
       "56 2021-01-27            missed collision     Yuvaraja          False Alarm\n",
       "57 2021-01-27            missed collision     Yuvaraja          False Alarm\n",
       "58 2021-01-29  Wrong rating - No accident     Narendra          False Alarm"
      ]
     },
     "execution_count": 33,
     "metadata": {},
     "output_type": "execute_result"
    }
   ],
   "source": [
    "data_reviewers_support5=data_reviewers_support[(data_reviewers_support['Date'] >= '2021-01-25') & (data_reviewers_support['Date'] <= '2021-01-31')]\n",
    "data_reviewers_support5"
   ]
  },
  {
   "cell_type": "markdown",
   "metadata": {},
   "source": [
    "#### Count the number of False alarms and the reviewers"
   ]
  },
  {
   "cell_type": "code",
   "execution_count": 34,
   "metadata": {},
   "outputs": [
    {
     "data": {
      "text/plain": [
       "7"
      ]
     },
     "execution_count": 34,
     "metadata": {},
     "output_type": "execute_result"
    }
   ],
   "source": [
    "data_reviewers_support5['False_Alarm_Creation'].count()"
   ]
  },
  {
   "cell_type": "code",
   "execution_count": 35,
   "metadata": {},
   "outputs": [
    {
     "data": {
      "text/plain": [
       "Yuvaraja       2\n",
       "Shiva Kumar    2\n",
       "Narendra       2\n",
       "Mallikarjun    1\n",
       "Name: Reviewers, dtype: int64"
      ]
     },
     "execution_count": 35,
     "metadata": {},
     "output_type": "execute_result"
    }
   ],
   "source": [
    "data_reviewers_support5['Reviewers'].value_counts()"
   ]
  },
  {
   "cell_type": "code",
   "execution_count": 36,
   "metadata": {},
   "outputs": [
    {
     "data": {
      "text/plain": [
       "7"
      ]
     },
     "execution_count": 36,
     "metadata": {},
     "output_type": "execute_result"
    }
   ],
   "source": [
    "data_reviewers_support5['Reviewers'].count()"
   ]
  },
  {
   "cell_type": "code",
   "execution_count": 37,
   "metadata": {},
   "outputs": [
    {
     "data": {
      "image/png": "[encoded data removed]",
      "text/plain": [
       "<Figure size 720x360 with 1 Axes>"
      ]
     },
     "metadata": {
      "needs_background": "light"
     },
     "output_type": "display_data"
    }
   ],
   "source": [
    "X=data_reviewers_support5['Reviewers'].value_counts()\n",
    "plt.figure(figsize=(10,5))\n",
    "plt.plot(X,color='cyan', marker='o', linestyle='dashed',linewidth=2, markersize=5)\n",
    "plt.xticks(rotation=40)\n",
    "plt.title(\"Reviewers having total number of false alarms from 25th January 2021 to 31st January 2021\", color='black')\n",
    "for i, v in enumerate(X):\n",
    "    plt.text(i, v+0.03, \"%d\" %v, ha=\"center\",fontdict={'fontsize':'17'})\n",
    "plt.show()"
   ]
  },
  {
   "cell_type": "markdown",
   "metadata": {},
   "source": [
    "#### 6] 1st week February 2021 from 01.02.2021 - 07.02.2021"
   ]
  },
  {
   "cell_type": "code",
   "execution_count": 38,
   "metadata": {},
   "outputs": [
    {
     "data": {
      "text/html": [
       "<div>\n",
       "<style scoped>\n",
       "    .dataframe tbody tr th:only-of-type {\n",
       "        vertical-align: middle;\n",
       "    }\n",
       "\n",
       "    .dataframe tbody tr th {\n",
       "        vertical-align: top;\n",
       "    }\n",
       "\n",
       "    .dataframe thead th {\n",
       "        text-align: right;\n",
       "    }\n",
       "</style>\n",
       "<table border=\"1\" class=\"dataframe\">\n",
       "  <thead>\n",
       "    <tr style=\"text-align: right;\">\n",
       "      <th></th>\n",
       "      <th>Date</th>\n",
       "      <th>Rating</th>\n",
       "      <th>Reviewers</th>\n",
       "      <th>False_Alarm_Creation</th>\n",
       "    </tr>\n",
       "  </thead>\n",
       "  <tbody>\n",
       "    <tr>\n",
       "      <th>59</th>\n",
       "      <td>2021-02-01</td>\n",
       "      <td>missed collision</td>\n",
       "      <td>Shivam</td>\n",
       "      <td>False Alarm</td>\n",
       "    </tr>\n",
       "    <tr>\n",
       "      <th>60</th>\n",
       "      <td>2021-02-01</td>\n",
       "      <td>missed collision</td>\n",
       "      <td>Aparna</td>\n",
       "      <td>False Alarm</td>\n",
       "    </tr>\n",
       "    <tr>\n",
       "      <th>61</th>\n",
       "      <td>2021-02-02</td>\n",
       "      <td>missed collision</td>\n",
       "      <td>Aparna</td>\n",
       "      <td>False Alarm</td>\n",
       "    </tr>\n",
       "    <tr>\n",
       "      <th>62</th>\n",
       "      <td>2021-02-03</td>\n",
       "      <td>missed collision</td>\n",
       "      <td>Yuvaraja</td>\n",
       "      <td>False Alarm</td>\n",
       "    </tr>\n",
       "    <tr>\n",
       "      <th>63</th>\n",
       "      <td>2021-02-03</td>\n",
       "      <td>missed collision</td>\n",
       "      <td>Aparna</td>\n",
       "      <td>False Alarm</td>\n",
       "    </tr>\n",
       "    <tr>\n",
       "      <th>64</th>\n",
       "      <td>2021-02-03</td>\n",
       "      <td>missed collision</td>\n",
       "      <td>Aparna</td>\n",
       "      <td>False Alarm</td>\n",
       "    </tr>\n",
       "    <tr>\n",
       "      <th>65</th>\n",
       "      <td>2021-02-03</td>\n",
       "      <td>missed collision</td>\n",
       "      <td>Yuvaraja</td>\n",
       "      <td>False Alarm</td>\n",
       "    </tr>\n",
       "    <tr>\n",
       "      <th>66</th>\n",
       "      <td>2021-02-03</td>\n",
       "      <td>missed collision</td>\n",
       "      <td>Aparna</td>\n",
       "      <td>False Alarm</td>\n",
       "    </tr>\n",
       "    <tr>\n",
       "      <th>67</th>\n",
       "      <td>2021-02-04</td>\n",
       "      <td>missed collision</td>\n",
       "      <td>Yuvaraja</td>\n",
       "      <td>False Alarm</td>\n",
       "    </tr>\n",
       "    <tr>\n",
       "      <th>68</th>\n",
       "      <td>2021-02-04</td>\n",
       "      <td>Wrong rating - No accident</td>\n",
       "      <td>Shivam</td>\n",
       "      <td>False Alarm</td>\n",
       "    </tr>\n",
       "    <tr>\n",
       "      <th>69</th>\n",
       "      <td>2021-02-04</td>\n",
       "      <td>Wrong rating - No accident</td>\n",
       "      <td>Aparna</td>\n",
       "      <td>False Alarm</td>\n",
       "    </tr>\n",
       "    <tr>\n",
       "      <th>70</th>\n",
       "      <td>2021-02-04</td>\n",
       "      <td>Wrong rating - No accident</td>\n",
       "      <td>Shivam</td>\n",
       "      <td>False Alarm</td>\n",
       "    </tr>\n",
       "    <tr>\n",
       "      <th>71</th>\n",
       "      <td>2021-02-04</td>\n",
       "      <td>Wrong rating - No accident</td>\n",
       "      <td>Shivam</td>\n",
       "      <td>False Alarm</td>\n",
       "    </tr>\n",
       "    <tr>\n",
       "      <th>72</th>\n",
       "      <td>2021-02-05</td>\n",
       "      <td>missed collision</td>\n",
       "      <td>Aparna</td>\n",
       "      <td>False Alarm</td>\n",
       "    </tr>\n",
       "    <tr>\n",
       "      <th>73</th>\n",
       "      <td>2021-02-05</td>\n",
       "      <td>missed collision</td>\n",
       "      <td>Shivam</td>\n",
       "      <td>False Alarm</td>\n",
       "    </tr>\n",
       "    <tr>\n",
       "      <th>74</th>\n",
       "      <td>2021-02-06</td>\n",
       "      <td>missed collision</td>\n",
       "      <td>Rajeshwari</td>\n",
       "      <td>False Alarm</td>\n",
       "    </tr>\n",
       "    <tr>\n",
       "      <th>75</th>\n",
       "      <td>2021-02-06</td>\n",
       "      <td>grabbed no submitted review</td>\n",
       "      <td>Narendra</td>\n",
       "      <td>False Alarm</td>\n",
       "    </tr>\n",
       "    <tr>\n",
       "      <th>76</th>\n",
       "      <td>2021-02-06</td>\n",
       "      <td>No support</td>\n",
       "      <td>Rajeshwari</td>\n",
       "      <td>False Alarm</td>\n",
       "    </tr>\n",
       "  </tbody>\n",
       "</table>\n",
       "</div>"
      ],
      "text/plain": [
       "         Date                       Rating   Reviewers False_Alarm_Creation\n",
       "59 2021-02-01             missed collision      Shivam          False Alarm\n",
       "60 2021-02-01             missed collision      Aparna          False Alarm\n",
       "61 2021-02-02             missed collision      Aparna          False Alarm\n",
       "62 2021-02-03             missed collision    Yuvaraja          False Alarm\n",
       "63 2021-02-03             missed collision      Aparna          False Alarm\n",
       "64 2021-02-03             missed collision      Aparna          False Alarm\n",
       "65 2021-02-03             missed collision    Yuvaraja          False Alarm\n",
       "66 2021-02-03             missed collision      Aparna          False Alarm\n",
       "67 2021-02-04             missed collision    Yuvaraja          False Alarm\n",
       "68 2021-02-04   Wrong rating - No accident      Shivam          False Alarm\n",
       "69 2021-02-04   Wrong rating - No accident      Aparna          False Alarm\n",
       "70 2021-02-04   Wrong rating - No accident      Shivam          False Alarm\n",
       "71 2021-02-04   Wrong rating - No accident      Shivam          False Alarm\n",
       "72 2021-02-05             missed collision      Aparna          False Alarm\n",
       "73 2021-02-05             missed collision      Shivam          False Alarm\n",
       "74 2021-02-06             missed collision  Rajeshwari          False Alarm\n",
       "75 2021-02-06  grabbed no submitted review    Narendra          False Alarm\n",
       "76 2021-02-06                   No support  Rajeshwari          False Alarm"
      ]
     },
     "execution_count": 38,
     "metadata": {},
     "output_type": "execute_result"
    }
   ],
   "source": [
    "data_reviewers_support6=data_reviewers_support[(data_reviewers_support['Date'] >= '2021-02-01') & (data_reviewers_support['Date'] <= '2021-02-07')]\n",
    "data_reviewers_support6"
   ]
  },
  {
   "cell_type": "markdown",
   "metadata": {},
   "source": [
    "#### Count the number of False alarms and the reviewers"
   ]
  },
  {
   "cell_type": "code",
   "execution_count": 39,
   "metadata": {},
   "outputs": [
    {
     "data": {
      "text/plain": [
       "18"
      ]
     },
     "execution_count": 39,
     "metadata": {},
     "output_type": "execute_result"
    }
   ],
   "source": [
    "data_reviewers_support6['False_Alarm_Creation'].count()"
   ]
  },
  {
   "cell_type": "code",
   "execution_count": 40,
   "metadata": {},
   "outputs": [
    {
     "data": {
      "text/plain": [
       "Aparna        7\n",
       "Shivam        5\n",
       "Yuvaraja      3\n",
       "Rajeshwari    2\n",
       "Narendra      1\n",
       "Name: Reviewers, dtype: int64"
      ]
     },
     "execution_count": 40,
     "metadata": {},
     "output_type": "execute_result"
    }
   ],
   "source": [
    "data_reviewers_support6['Reviewers'].value_counts()"
   ]
  },
  {
   "cell_type": "code",
   "execution_count": 41,
   "metadata": {},
   "outputs": [
    {
     "data": {
      "text/plain": [
       "18"
      ]
     },
     "execution_count": 41,
     "metadata": {},
     "output_type": "execute_result"
    }
   ],
   "source": [
    "data_reviewers_support6['Reviewers'].count()"
   ]
  },
  {
   "cell_type": "code",
   "execution_count": 42,
   "metadata": {},
   "outputs": [
    {
     "data": {
      "image/png": "[encoded data removed]",
      "text/plain": [
       "<Figure size 720x360 with 1 Axes>"
      ]
     },
     "metadata": {
      "needs_background": "light"
     },
     "output_type": "display_data"
    }
   ],
   "source": [
    "X=data_reviewers_support6['Reviewers'].value_counts()\n",
    "plt.figure(figsize=(10,5))\n",
    "plt.plot(X,color='maroon', marker='o', linestyle='dashed',linewidth=2, markersize=5)\n",
    "plt.xticks(rotation=40)\n",
    "plt.title(\"Reviewers having total number of false alarms from 1st February 2021 to 7th February 2021\", color='black')\n",
    "for i, v in enumerate(X):\n",
    "    plt.text(i, v+0.03, \"%d\" %v, ha=\"center\",fontdict={'fontsize':'17'})\n",
    "plt.show()"
   ]
  },
  {
   "cell_type": "markdown",
   "metadata": {},
   "source": [
    "#### 7] 2nd week February 2021 from 08.02.2021 - 14.02.2021"
   ]
  },
  {
   "cell_type": "code",
   "execution_count": 43,
   "metadata": {},
   "outputs": [
    {
     "data": {
      "text/html": [
       "<div>\n",
       "<style scoped>\n",
       "    .dataframe tbody tr th:only-of-type {\n",
       "        vertical-align: middle;\n",
       "    }\n",
       "\n",
       "    .dataframe tbody tr th {\n",
       "        vertical-align: top;\n",
       "    }\n",
       "\n",
       "    .dataframe thead th {\n",
       "        text-align: right;\n",
       "    }\n",
       "</style>\n",
       "<table border=\"1\" class=\"dataframe\">\n",
       "  <thead>\n",
       "    <tr style=\"text-align: right;\">\n",
       "      <th></th>\n",
       "      <th>Date</th>\n",
       "      <th>Rating</th>\n",
       "      <th>Reviewers</th>\n",
       "      <th>False_Alarm_Creation</th>\n",
       "    </tr>\n",
       "  </thead>\n",
       "  <tbody>\n",
       "    <tr>\n",
       "      <th>77</th>\n",
       "      <td>2021-02-08</td>\n",
       "      <td>No support</td>\n",
       "      <td>Shiva Kumar</td>\n",
       "      <td>False Alarm</td>\n",
       "    </tr>\n",
       "    <tr>\n",
       "      <th>78</th>\n",
       "      <td>2021-02-12</td>\n",
       "      <td>missed collision</td>\n",
       "      <td>Shivam</td>\n",
       "      <td>False Alarm</td>\n",
       "    </tr>\n",
       "    <tr>\n",
       "      <th>79</th>\n",
       "      <td>2021-02-12</td>\n",
       "      <td>missed collision</td>\n",
       "      <td>Yuvaraja</td>\n",
       "      <td>False Alarm</td>\n",
       "    </tr>\n",
       "  </tbody>\n",
       "</table>\n",
       "</div>"
      ],
      "text/plain": [
       "         Date            Rating    Reviewers False_Alarm_Creation\n",
       "77 2021-02-08        No support  Shiva Kumar          False Alarm\n",
       "78 2021-02-12  missed collision       Shivam          False Alarm\n",
       "79 2021-02-12  missed collision     Yuvaraja          False Alarm"
      ]
     },
     "execution_count": 43,
     "metadata": {},
     "output_type": "execute_result"
    }
   ],
   "source": [
    "data_reviewers_support7=data_reviewers_support[(data_reviewers_support['Date'] >= '2021-02-08') & (data_reviewers_support['Date'] <= '2021-02-14')]\n",
    "data_reviewers_support7"
   ]
  },
  {
   "cell_type": "markdown",
   "metadata": {},
   "source": [
    "#### Count the number of False alarms and the reviewers"
   ]
  },
  {
   "cell_type": "code",
   "execution_count": 44,
   "metadata": {},
   "outputs": [
    {
     "data": {
      "text/plain": [
       "3"
      ]
     },
     "execution_count": 44,
     "metadata": {},
     "output_type": "execute_result"
    }
   ],
   "source": [
    "data_reviewers_support7['False_Alarm_Creation'].count()"
   ]
  },
  {
   "cell_type": "code",
   "execution_count": 45,
   "metadata": {},
   "outputs": [
    {
     "data": {
      "text/plain": [
       "Shivam         1\n",
       "Yuvaraja       1\n",
       "Shiva Kumar    1\n",
       "Name: Reviewers, dtype: int64"
      ]
     },
     "execution_count": 45,
     "metadata": {},
     "output_type": "execute_result"
    }
   ],
   "source": [
    "data_reviewers_support7['Reviewers'].value_counts()"
   ]
  },
  {
   "cell_type": "code",
   "execution_count": 46,
   "metadata": {},
   "outputs": [
    {
     "data": {
      "text/plain": [
       "3"
      ]
     },
     "execution_count": 46,
     "metadata": {},
     "output_type": "execute_result"
    }
   ],
   "source": [
    "data_reviewers_support7['Reviewers'].count()"
   ]
  },
  {
   "cell_type": "code",
   "execution_count": 47,
   "metadata": {},
   "outputs": [
    {
     "data": {
      "image/png": "[encoded data removed]",
      "text/plain": [
       "<Figure size 720x360 with 1 Axes>"
      ]
     },
     "metadata": {
      "needs_background": "light"
     },
     "output_type": "display_data"
    }
   ],
   "source": [
    "plt.figure(figsize=(10,5))\n",
    "splot=sns.countplot(data_reviewers_support7['Reviewers'],order=data_reviewers_support7['Reviewers'].value_counts().index,saturation=10)\n",
    "plt.xticks(rotation=30)\n",
    "plt.title(\"Reviewers having total number of false alarms from 8th February 2021 to 14th February 2021\", color='black')\n",
    "for p in splot.patches:\n",
    "    splot.annotate(format(p.get_height(), '.0f'), (p.get_x() + p.get_width() / 2., p.get_height()), ha = 'center', va = 'center', xytext = (0, 2),textcoords = 'offset points',rotation=20)\n",
    "plt.show()"
   ]
  },
  {
   "cell_type": "markdown",
   "metadata": {},
   "source": [
    "#### 8] 3rd week February 2021 from 15.02.2021 - 21.02.2021"
   ]
  },
  {
   "cell_type": "code",
   "execution_count": 48,
   "metadata": {},
   "outputs": [
    {
     "data": {
      "text/html": [
       "<div>\n",
       "<style scoped>\n",
       "    .dataframe tbody tr th:only-of-type {\n",
       "        vertical-align: middle;\n",
       "    }\n",
       "\n",
       "    .dataframe tbody tr th {\n",
       "        vertical-align: top;\n",
       "    }\n",
       "\n",
       "    .dataframe thead th {\n",
       "        text-align: right;\n",
       "    }\n",
       "</style>\n",
       "<table border=\"1\" class=\"dataframe\">\n",
       "  <thead>\n",
       "    <tr style=\"text-align: right;\">\n",
       "      <th></th>\n",
       "      <th>Date</th>\n",
       "      <th>Rating</th>\n",
       "      <th>Reviewers</th>\n",
       "      <th>False_Alarm_Creation</th>\n",
       "    </tr>\n",
       "  </thead>\n",
       "  <tbody>\n",
       "    <tr>\n",
       "      <th>80</th>\n",
       "      <td>2021-02-16</td>\n",
       "      <td>missed collision</td>\n",
       "      <td>Kiran</td>\n",
       "      <td>False Alarm</td>\n",
       "    </tr>\n",
       "    <tr>\n",
       "      <th>81</th>\n",
       "      <td>2021-02-16</td>\n",
       "      <td>missed collision</td>\n",
       "      <td>Narendra</td>\n",
       "      <td>False Alarm</td>\n",
       "    </tr>\n",
       "    <tr>\n",
       "      <th>82</th>\n",
       "      <td>2021-02-16</td>\n",
       "      <td>missed collision</td>\n",
       "      <td>Narendra</td>\n",
       "      <td>False Alarm</td>\n",
       "    </tr>\n",
       "  </tbody>\n",
       "</table>\n",
       "</div>"
      ],
      "text/plain": [
       "         Date            Rating Reviewers False_Alarm_Creation\n",
       "80 2021-02-16  missed collision     Kiran          False Alarm\n",
       "81 2021-02-16  missed collision  Narendra          False Alarm\n",
       "82 2021-02-16  missed collision  Narendra          False Alarm"
      ]
     },
     "execution_count": 48,
     "metadata": {},
     "output_type": "execute_result"
    }
   ],
   "source": [
    "data_reviewers_support8=data_reviewers_support[(data_reviewers_support['Date'] >= '2021-02-15') & (data_reviewers_support['Date'] <= '2021-02-21')]\n",
    "data_reviewers_support8"
   ]
  },
  {
   "cell_type": "markdown",
   "metadata": {},
   "source": [
    "#### Count the number of False alarms and the reviewers"
   ]
  },
  {
   "cell_type": "code",
   "execution_count": 49,
   "metadata": {},
   "outputs": [
    {
     "data": {
      "text/plain": [
       "3"
      ]
     },
     "execution_count": 49,
     "metadata": {},
     "output_type": "execute_result"
    }
   ],
   "source": [
    "data_reviewers_support8['False_Alarm_Creation'].count()"
   ]
  },
  {
   "cell_type": "code",
   "execution_count": 50,
   "metadata": {},
   "outputs": [
    {
     "data": {
      "text/plain": [
       "Narendra    2\n",
       "Kiran       1\n",
       "Name: Reviewers, dtype: int64"
      ]
     },
     "execution_count": 50,
     "metadata": {},
     "output_type": "execute_result"
    }
   ],
   "source": [
    "data_reviewers_support8['Reviewers'].value_counts()"
   ]
  },
  {
   "cell_type": "code",
   "execution_count": 51,
   "metadata": {},
   "outputs": [
    {
     "data": {
      "text/plain": [
       "3"
      ]
     },
     "execution_count": 51,
     "metadata": {},
     "output_type": "execute_result"
    }
   ],
   "source": [
    "data_reviewers_support8['Reviewers'].count()"
   ]
  },
  {
   "cell_type": "code",
   "execution_count": 52,
   "metadata": {},
   "outputs": [
    {
     "data": {
      "image/png": "[encoded data removed]",
      "text/plain": [
       "<Figure size 720x360 with 1 Axes>"
      ]
     },
     "metadata": {
      "needs_background": "light"
     },
     "output_type": "display_data"
    }
   ],
   "source": [
    "plt.figure(figsize=(10,5))\n",
    "splot=sns.countplot(data_reviewers_support8['Reviewers'],order=data_reviewers_support8['Reviewers'].value_counts().index,saturation=10)\n",
    "plt.xticks(rotation=30)\n",
    "plt.title(\"Reviewers having total number of false alarms from 15th February 2021 to 21st February 2021\", color='black')\n",
    "for p in splot.patches:\n",
    "    splot.annotate(format(p.get_height(), '.0f'), (p.get_x() + p.get_width() / 2., p.get_height()), ha = 'center', va = 'center', xytext = (0, 2),textcoords = 'offset points',rotation=20)\n",
    "plt.show()"
   ]
  },
  {
   "cell_type": "markdown",
   "metadata": {},
   "source": [
    "#### 9] Last week February 2021 from 22.02.2021 - 28.02.2021"
   ]
  },
  {
   "cell_type": "code",
   "execution_count": 53,
   "metadata": {},
   "outputs": [
    {
     "data": {
      "text/html": [
       "<div>\n",
       "<style scoped>\n",
       "    .dataframe tbody tr th:only-of-type {\n",
       "        vertical-align: middle;\n",
       "    }\n",
       "\n",
       "    .dataframe tbody tr th {\n",
       "        vertical-align: top;\n",
       "    }\n",
       "\n",
       "    .dataframe thead th {\n",
       "        text-align: right;\n",
       "    }\n",
       "</style>\n",
       "<table border=\"1\" class=\"dataframe\">\n",
       "  <thead>\n",
       "    <tr style=\"text-align: right;\">\n",
       "      <th></th>\n",
       "      <th>Date</th>\n",
       "      <th>Rating</th>\n",
       "      <th>Reviewers</th>\n",
       "      <th>False_Alarm_Creation</th>\n",
       "    </tr>\n",
       "  </thead>\n",
       "  <tbody>\n",
       "    <tr>\n",
       "      <th>83</th>\n",
       "      <td>2021-02-22</td>\n",
       "      <td>missed collision</td>\n",
       "      <td>Shivam</td>\n",
       "      <td>False Alarm</td>\n",
       "    </tr>\n",
       "    <tr>\n",
       "      <th>84</th>\n",
       "      <td>2021-02-22</td>\n",
       "      <td>missed collision</td>\n",
       "      <td>Aparna</td>\n",
       "      <td>False Alarm</td>\n",
       "    </tr>\n",
       "    <tr>\n",
       "      <th>85</th>\n",
       "      <td>2021-02-22</td>\n",
       "      <td>missed collision</td>\n",
       "      <td>Aparna</td>\n",
       "      <td>False Alarm</td>\n",
       "    </tr>\n",
       "    <tr>\n",
       "      <th>86</th>\n",
       "      <td>2021-02-23</td>\n",
       "      <td>missed collision</td>\n",
       "      <td>Shiva Kumar</td>\n",
       "      <td>False Alarm</td>\n",
       "    </tr>\n",
       "    <tr>\n",
       "      <th>87</th>\n",
       "      <td>2021-02-23</td>\n",
       "      <td>missed collision</td>\n",
       "      <td>Rajeshwari</td>\n",
       "      <td>False Alarm</td>\n",
       "    </tr>\n",
       "    <tr>\n",
       "      <th>88</th>\n",
       "      <td>2021-02-23</td>\n",
       "      <td>missed collision</td>\n",
       "      <td>Rajeshwari</td>\n",
       "      <td>False Alarm</td>\n",
       "    </tr>\n",
       "    <tr>\n",
       "      <th>89</th>\n",
       "      <td>2021-02-24</td>\n",
       "      <td>Wrong rating - No accident</td>\n",
       "      <td>Aparna</td>\n",
       "      <td>False Alarm</td>\n",
       "    </tr>\n",
       "    <tr>\n",
       "      <th>90</th>\n",
       "      <td>2021-02-24</td>\n",
       "      <td>Wrong rating - No accident</td>\n",
       "      <td>Shivam</td>\n",
       "      <td>False Alarm</td>\n",
       "    </tr>\n",
       "    <tr>\n",
       "      <th>91</th>\n",
       "      <td>2021-02-25</td>\n",
       "      <td>Wrong rating - No accident</td>\n",
       "      <td>Kiran</td>\n",
       "      <td>False Alarm</td>\n",
       "    </tr>\n",
       "    <tr>\n",
       "      <th>92</th>\n",
       "      <td>2021-02-25</td>\n",
       "      <td>Wrong rating - No accident</td>\n",
       "      <td>Yuvaraja</td>\n",
       "      <td>False Alarm</td>\n",
       "    </tr>\n",
       "    <tr>\n",
       "      <th>93</th>\n",
       "      <td>2021-02-26</td>\n",
       "      <td>missed collision</td>\n",
       "      <td>Shivam</td>\n",
       "      <td>False Alarm</td>\n",
       "    </tr>\n",
       "    <tr>\n",
       "      <th>94</th>\n",
       "      <td>2021-02-27</td>\n",
       "      <td>Wrong rating - Accident</td>\n",
       "      <td>Kiran</td>\n",
       "      <td>False Alarm</td>\n",
       "    </tr>\n",
       "    <tr>\n",
       "      <th>95</th>\n",
       "      <td>2021-02-27</td>\n",
       "      <td>Wrong rating - Accident</td>\n",
       "      <td>Aparna</td>\n",
       "      <td>False Alarm</td>\n",
       "    </tr>\n",
       "    <tr>\n",
       "      <th>96</th>\n",
       "      <td>2021-02-28</td>\n",
       "      <td>P1 missed accident - review resubmitted</td>\n",
       "      <td>Shiva Kumar</td>\n",
       "      <td>False Alarm</td>\n",
       "    </tr>\n",
       "  </tbody>\n",
       "</table>\n",
       "</div>"
      ],
      "text/plain": [
       "         Date                                   Rating    Reviewers  \\\n",
       "83 2021-02-22                         missed collision       Shivam   \n",
       "84 2021-02-22                         missed collision       Aparna   \n",
       "85 2021-02-22                         missed collision       Aparna   \n",
       "86 2021-02-23                         missed collision  Shiva Kumar   \n",
       "87 2021-02-23                         missed collision   Rajeshwari   \n",
       "88 2021-02-23                         missed collision   Rajeshwari   \n",
       "89 2021-02-24               Wrong rating - No accident       Aparna   \n",
       "90 2021-02-24               Wrong rating - No accident       Shivam   \n",
       "91 2021-02-25               Wrong rating - No accident        Kiran   \n",
       "92 2021-02-25               Wrong rating - No accident     Yuvaraja   \n",
       "93 2021-02-26                         missed collision       Shivam   \n",
       "94 2021-02-27                  Wrong rating - Accident        Kiran   \n",
       "95 2021-02-27                  Wrong rating - Accident       Aparna   \n",
       "96 2021-02-28  P1 missed accident - review resubmitted  Shiva Kumar   \n",
       "\n",
       "   False_Alarm_Creation  \n",
       "83          False Alarm  \n",
       "84          False Alarm  \n",
       "85          False Alarm  \n",
       "86          False Alarm  \n",
       "87          False Alarm  \n",
       "88          False Alarm  \n",
       "89          False Alarm  \n",
       "90          False Alarm  \n",
       "91          False Alarm  \n",
       "92          False Alarm  \n",
       "93          False Alarm  \n",
       "94          False Alarm  \n",
       "95          False Alarm  \n",
       "96          False Alarm  "
      ]
     },
     "execution_count": 53,
     "metadata": {},
     "output_type": "execute_result"
    }
   ],
   "source": [
    "data_reviewers_support9=data_reviewers_support[(data_reviewers_support['Date'] >= '2021-02-22') & (data_reviewers_support['Date'] <= '2021-02-28')]\n",
    "data_reviewers_support9"
   ]
  },
  {
   "cell_type": "markdown",
   "metadata": {},
   "source": [
    "#### Count the number of False alarms and the reviewers"
   ]
  },
  {
   "cell_type": "code",
   "execution_count": 54,
   "metadata": {},
   "outputs": [
    {
     "data": {
      "text/plain": [
       "14"
      ]
     },
     "execution_count": 54,
     "metadata": {},
     "output_type": "execute_result"
    }
   ],
   "source": [
    "data_reviewers_support9['False_Alarm_Creation'].count()"
   ]
  },
  {
   "cell_type": "code",
   "execution_count": 55,
   "metadata": {},
   "outputs": [
    {
     "data": {
      "text/plain": [
       "Aparna         4\n",
       "Shivam         3\n",
       "Shiva Kumar    2\n",
       "Rajeshwari     2\n",
       "Kiran          2\n",
       "Yuvaraja       1\n",
       "Name: Reviewers, dtype: int64"
      ]
     },
     "execution_count": 55,
     "metadata": {},
     "output_type": "execute_result"
    }
   ],
   "source": [
    "data_reviewers_support9['Reviewers'].value_counts()"
   ]
  },
  {
   "cell_type": "code",
   "execution_count": 56,
   "metadata": {},
   "outputs": [
    {
     "data": {
      "text/plain": [
       "14"
      ]
     },
     "execution_count": 56,
     "metadata": {},
     "output_type": "execute_result"
    }
   ],
   "source": [
    "data_reviewers_support9['Reviewers'].count()"
   ]
  },
  {
   "cell_type": "code",
   "execution_count": 57,
   "metadata": {},
   "outputs": [
    {
     "data": {
      "image/png": "[encoded data removed]",
      "text/plain": [
       "<Figure size 720x360 with 1 Axes>"
      ]
     },
     "metadata": {
      "needs_background": "light"
     },
     "output_type": "display_data"
    }
   ],
   "source": [
    "X=data_reviewers_support9['Reviewers'].value_counts()\n",
    "plt.figure(figsize=(10,5))\n",
    "plt.plot(X,color='lime', marker='o', linestyle='solid',linewidth=2, markersize=5)\n",
    "plt.xticks(rotation=40)\n",
    "plt.title(\"Reviewers having total number of false alarms from 22nd February 2021 to 28th February 2021\", color='black')\n",
    "for i, v in enumerate(X):\n",
    "    plt.text(i, v+0.03, \"%d\" %v, ha=\"center\",fontdict={'fontsize':'17'})\n",
    "plt.show()"
   ]
  },
  {
   "cell_type": "markdown",
   "metadata": {},
   "source": [
    "#### 10] 1st week March 2021 from 01.03.2021 - 07.03.2021"
   ]
  },
  {
   "cell_type": "code",
   "execution_count": 58,
   "metadata": {},
   "outputs": [
    {
     "data": {
      "text/html": [
       "<div>\n",
       "<style scoped>\n",
       "    .dataframe tbody tr th:only-of-type {\n",
       "        vertical-align: middle;\n",
       "    }\n",
       "\n",
       "    .dataframe tbody tr th {\n",
       "        vertical-align: top;\n",
       "    }\n",
       "\n",
       "    .dataframe thead th {\n",
       "        text-align: right;\n",
       "    }\n",
       "</style>\n",
       "<table border=\"1\" class=\"dataframe\">\n",
       "  <thead>\n",
       "    <tr style=\"text-align: right;\">\n",
       "      <th></th>\n",
       "      <th>Date</th>\n",
       "      <th>Rating</th>\n",
       "      <th>Reviewers</th>\n",
       "      <th>False_Alarm_Creation</th>\n",
       "    </tr>\n",
       "  </thead>\n",
       "  <tbody>\n",
       "    <tr>\n",
       "      <th>97</th>\n",
       "      <td>2021-03-01</td>\n",
       "      <td>Wrong rating - No accident</td>\n",
       "      <td>Shiva Kumar</td>\n",
       "      <td>False Alarm</td>\n",
       "    </tr>\n",
       "    <tr>\n",
       "      <th>98</th>\n",
       "      <td>2021-03-02</td>\n",
       "      <td>Wrong rating - Accident</td>\n",
       "      <td>Aparna</td>\n",
       "      <td>False Alarm</td>\n",
       "    </tr>\n",
       "    <tr>\n",
       "      <th>99</th>\n",
       "      <td>2021-03-02</td>\n",
       "      <td>Wrong rating - Accident</td>\n",
       "      <td>Shivam</td>\n",
       "      <td>False Alarm</td>\n",
       "    </tr>\n",
       "    <tr>\n",
       "      <th>100</th>\n",
       "      <td>2021-03-03</td>\n",
       "      <td>Wrong rating - Accident</td>\n",
       "      <td>Narendra</td>\n",
       "      <td>False Alarm</td>\n",
       "    </tr>\n",
       "    <tr>\n",
       "      <th>101</th>\n",
       "      <td>2021-03-03</td>\n",
       "      <td>Wrong rating - Accident</td>\n",
       "      <td>Aparna</td>\n",
       "      <td>False Alarm</td>\n",
       "    </tr>\n",
       "    <tr>\n",
       "      <th>102</th>\n",
       "      <td>2021-03-03</td>\n",
       "      <td>Wrong rating - Accident</td>\n",
       "      <td>Aparna</td>\n",
       "      <td>False Alarm</td>\n",
       "    </tr>\n",
       "    <tr>\n",
       "      <th>103</th>\n",
       "      <td>2021-03-03</td>\n",
       "      <td>Wrong rating - Accident</td>\n",
       "      <td>Narendra</td>\n",
       "      <td>False Alarm</td>\n",
       "    </tr>\n",
       "    <tr>\n",
       "      <th>104</th>\n",
       "      <td>2021-03-03</td>\n",
       "      <td>Wrong rating - No accident</td>\n",
       "      <td>Narendra</td>\n",
       "      <td>False Alarm</td>\n",
       "    </tr>\n",
       "    <tr>\n",
       "      <th>105</th>\n",
       "      <td>2021-03-04</td>\n",
       "      <td>Wrong rating - No accident</td>\n",
       "      <td>Kiran</td>\n",
       "      <td>False Alarm</td>\n",
       "    </tr>\n",
       "    <tr>\n",
       "      <th>106</th>\n",
       "      <td>2021-03-04</td>\n",
       "      <td>Wrong rating - No accident</td>\n",
       "      <td>Yuvaraja</td>\n",
       "      <td>False Alarm</td>\n",
       "    </tr>\n",
       "    <tr>\n",
       "      <th>107</th>\n",
       "      <td>2021-03-05</td>\n",
       "      <td>Wrong rating - Accident</td>\n",
       "      <td>Kiran</td>\n",
       "      <td>False Alarm</td>\n",
       "    </tr>\n",
       "    <tr>\n",
       "      <th>108</th>\n",
       "      <td>2021-03-05</td>\n",
       "      <td>Wrong rating - Accident</td>\n",
       "      <td>Yuvaraja</td>\n",
       "      <td>False Alarm</td>\n",
       "    </tr>\n",
       "    <tr>\n",
       "      <th>109</th>\n",
       "      <td>2021-03-05</td>\n",
       "      <td>Wrong rating - No accident</td>\n",
       "      <td>Kiran</td>\n",
       "      <td>False Alarm</td>\n",
       "    </tr>\n",
       "    <tr>\n",
       "      <th>110</th>\n",
       "      <td>2021-03-05</td>\n",
       "      <td>Wrong rating - No accident</td>\n",
       "      <td>Yuvaraja</td>\n",
       "      <td>False Alarm</td>\n",
       "    </tr>\n",
       "    <tr>\n",
       "      <th>111</th>\n",
       "      <td>2021-03-05</td>\n",
       "      <td>Wrong rating - Accident</td>\n",
       "      <td>Narendra</td>\n",
       "      <td>False Alarm</td>\n",
       "    </tr>\n",
       "    <tr>\n",
       "      <th>112</th>\n",
       "      <td>2021-03-05</td>\n",
       "      <td>Wrong rating - Accident</td>\n",
       "      <td>Aparna</td>\n",
       "      <td>False Alarm</td>\n",
       "    </tr>\n",
       "    <tr>\n",
       "      <th>113</th>\n",
       "      <td>2021-03-06</td>\n",
       "      <td>Wrong rating - No accident</td>\n",
       "      <td>Aparna</td>\n",
       "      <td>False Alarm</td>\n",
       "    </tr>\n",
       "    <tr>\n",
       "      <th>114</th>\n",
       "      <td>2021-03-06</td>\n",
       "      <td>Wrong rating - No accident</td>\n",
       "      <td>Shivam</td>\n",
       "      <td>False Alarm</td>\n",
       "    </tr>\n",
       "  </tbody>\n",
       "</table>\n",
       "</div>"
      ],
      "text/plain": [
       "          Date                      Rating    Reviewers False_Alarm_Creation\n",
       "97  2021-03-01  Wrong rating - No accident  Shiva Kumar          False Alarm\n",
       "98  2021-03-02     Wrong rating - Accident       Aparna          False Alarm\n",
       "99  2021-03-02     Wrong rating - Accident       Shivam          False Alarm\n",
       "100 2021-03-03     Wrong rating - Accident     Narendra          False Alarm\n",
       "101 2021-03-03     Wrong rating - Accident       Aparna          False Alarm\n",
       "102 2021-03-03     Wrong rating - Accident       Aparna          False Alarm\n",
       "103 2021-03-03     Wrong rating - Accident     Narendra          False Alarm\n",
       "104 2021-03-03  Wrong rating - No accident     Narendra          False Alarm\n",
       "105 2021-03-04  Wrong rating - No accident        Kiran          False Alarm\n",
       "106 2021-03-04  Wrong rating - No accident     Yuvaraja          False Alarm\n",
       "107 2021-03-05     Wrong rating - Accident        Kiran          False Alarm\n",
       "108 2021-03-05     Wrong rating - Accident     Yuvaraja          False Alarm\n",
       "109 2021-03-05  Wrong rating - No accident        Kiran          False Alarm\n",
       "110 2021-03-05  Wrong rating - No accident     Yuvaraja          False Alarm\n",
       "111 2021-03-05     Wrong rating - Accident     Narendra          False Alarm\n",
       "112 2021-03-05     Wrong rating - Accident       Aparna          False Alarm\n",
       "113 2021-03-06  Wrong rating - No accident       Aparna          False Alarm\n",
       "114 2021-03-06  Wrong rating - No accident       Shivam          False Alarm"
      ]
     },
     "execution_count": 58,
     "metadata": {},
     "output_type": "execute_result"
    }
   ],
   "source": [
    "data_reviewers_support10=data_reviewers_support[(data_reviewers_support['Date'] >= '2021-03-01') & (data_reviewers_support['Date'] <= '2021-03-07')]\n",
    "data_reviewers_support10"
   ]
  },
  {
   "cell_type": "markdown",
   "metadata": {},
   "source": [
    "#### Count the number of False alarms and the reviewers"
   ]
  },
  {
   "cell_type": "code",
   "execution_count": 59,
   "metadata": {},
   "outputs": [
    {
     "data": {
      "text/plain": [
       "18"
      ]
     },
     "execution_count": 59,
     "metadata": {},
     "output_type": "execute_result"
    }
   ],
   "source": [
    "data_reviewers_support10['False_Alarm_Creation'].count()"
   ]
  },
  {
   "cell_type": "code",
   "execution_count": 60,
   "metadata": {},
   "outputs": [
    {
     "data": {
      "text/plain": [
       "Aparna         5\n",
       "Narendra       4\n",
       "Yuvaraja       3\n",
       "Kiran          3\n",
       "Shivam         2\n",
       "Shiva Kumar    1\n",
       "Name: Reviewers, dtype: int64"
      ]
     },
     "execution_count": 60,
     "metadata": {},
     "output_type": "execute_result"
    }
   ],
   "source": [
    "data_reviewers_support10['Reviewers'].value_counts()"
   ]
  },
  {
   "cell_type": "code",
   "execution_count": 61,
   "metadata": {},
   "outputs": [
    {
     "data": {
      "text/plain": [
       "18"
      ]
     },
     "execution_count": 61,
     "metadata": {},
     "output_type": "execute_result"
    }
   ],
   "source": [
    "data_reviewers_support10['Reviewers'].count()"
   ]
  },
  {
   "cell_type": "code",
   "execution_count": 62,
   "metadata": {},
   "outputs": [
    {
     "data": {
      "image/png": "[encoded data removed]",
      "text/plain": [
       "<Figure size 720x360 with 1 Axes>"
      ]
     },
     "metadata": {
      "needs_background": "light"
     },
     "output_type": "display_data"
    }
   ],
   "source": [
    "X=data_reviewers_support10['Reviewers'].value_counts()\n",
    "plt.figure(figsize=(10,5))\n",
    "plt.plot(X,color='orange', marker='o', linestyle='dotted',linewidth=2, markersize=5)\n",
    "plt.xticks(rotation=40)\n",
    "plt.title(\"Reviewers having total number of false alarms from 1st March 2021 to 7th March 2021\", color='black')\n",
    "for i, v in enumerate(X):\n",
    "    plt.text(i, v+0.03, \"%d\" %v, ha=\"center\",fontdict={'fontsize':'17'})\n",
    "plt.show()"
   ]
  },
  {
   "cell_type": "markdown",
   "metadata": {},
   "source": [
    "#### 11] 2nd week March 2021 from 08.03.2021 - 14.03.2021"
   ]
  },
  {
   "cell_type": "code",
   "execution_count": 63,
   "metadata": {},
   "outputs": [
    {
     "data": {
      "text/html": [
       "<div>\n",
       "<style scoped>\n",
       "    .dataframe tbody tr th:only-of-type {\n",
       "        vertical-align: middle;\n",
       "    }\n",
       "\n",
       "    .dataframe tbody tr th {\n",
       "        vertical-align: top;\n",
       "    }\n",
       "\n",
       "    .dataframe thead th {\n",
       "        text-align: right;\n",
       "    }\n",
       "</style>\n",
       "<table border=\"1\" class=\"dataframe\">\n",
       "  <thead>\n",
       "    <tr style=\"text-align: right;\">\n",
       "      <th></th>\n",
       "      <th>Date</th>\n",
       "      <th>Rating</th>\n",
       "      <th>Reviewers</th>\n",
       "      <th>False_Alarm_Creation</th>\n",
       "    </tr>\n",
       "  </thead>\n",
       "  <tbody>\n",
       "    <tr>\n",
       "      <th>115</th>\n",
       "      <td>2021-03-09</td>\n",
       "      <td>Wrong rating - Accident</td>\n",
       "      <td>Aparna</td>\n",
       "      <td>False Alarm</td>\n",
       "    </tr>\n",
       "    <tr>\n",
       "      <th>116</th>\n",
       "      <td>2021-03-09</td>\n",
       "      <td>Wrong rating - Accident</td>\n",
       "      <td>Shivam</td>\n",
       "      <td>False Alarm</td>\n",
       "    </tr>\n",
       "    <tr>\n",
       "      <th>117</th>\n",
       "      <td>2021-03-11</td>\n",
       "      <td>Wrong rating - Accident</td>\n",
       "      <td>Aparna</td>\n",
       "      <td>False Alarm</td>\n",
       "    </tr>\n",
       "    <tr>\n",
       "      <th>118</th>\n",
       "      <td>2021-03-11</td>\n",
       "      <td>Wrong rating - Accident</td>\n",
       "      <td>Shivam</td>\n",
       "      <td>False Alarm</td>\n",
       "    </tr>\n",
       "    <tr>\n",
       "      <th>119</th>\n",
       "      <td>2021-03-13</td>\n",
       "      <td>Wrong rating - No accident</td>\n",
       "      <td>Aparna</td>\n",
       "      <td>False Alarm</td>\n",
       "    </tr>\n",
       "    <tr>\n",
       "      <th>120</th>\n",
       "      <td>2021-03-13</td>\n",
       "      <td>Wrong rating - No accident</td>\n",
       "      <td>Shivam</td>\n",
       "      <td>False Alarm</td>\n",
       "    </tr>\n",
       "    <tr>\n",
       "      <th>121</th>\n",
       "      <td>2021-03-14</td>\n",
       "      <td>Wrong rating - Accident</td>\n",
       "      <td>Shiva Kumar</td>\n",
       "      <td>False Alarm</td>\n",
       "    </tr>\n",
       "    <tr>\n",
       "      <th>122</th>\n",
       "      <td>2021-03-14</td>\n",
       "      <td>Wrong rating - Accident</td>\n",
       "      <td>Shivam</td>\n",
       "      <td>False Alarm</td>\n",
       "    </tr>\n",
       "    <tr>\n",
       "      <th>123</th>\n",
       "      <td>2021-03-14</td>\n",
       "      <td>Hard to rate incidents</td>\n",
       "      <td>Aparna</td>\n",
       "      <td>False Alarm</td>\n",
       "    </tr>\n",
       "    <tr>\n",
       "      <th>124</th>\n",
       "      <td>2021-03-14</td>\n",
       "      <td>Hard to rate incidents</td>\n",
       "      <td>Shivam</td>\n",
       "      <td>False Alarm</td>\n",
       "    </tr>\n",
       "    <tr>\n",
       "      <th>125</th>\n",
       "      <td>2021-03-14</td>\n",
       "      <td>Wrong rating - Accident</td>\n",
       "      <td>Aparna</td>\n",
       "      <td>False Alarm</td>\n",
       "    </tr>\n",
       "    <tr>\n",
       "      <th>126</th>\n",
       "      <td>2021-03-14</td>\n",
       "      <td>Wrong rating - Accident</td>\n",
       "      <td>Shivam</td>\n",
       "      <td>False Alarm</td>\n",
       "    </tr>\n",
       "  </tbody>\n",
       "</table>\n",
       "</div>"
      ],
      "text/plain": [
       "          Date                      Rating    Reviewers False_Alarm_Creation\n",
       "115 2021-03-09     Wrong rating - Accident       Aparna          False Alarm\n",
       "116 2021-03-09     Wrong rating - Accident       Shivam          False Alarm\n",
       "117 2021-03-11     Wrong rating - Accident       Aparna          False Alarm\n",
       "118 2021-03-11     Wrong rating - Accident       Shivam          False Alarm\n",
       "119 2021-03-13  Wrong rating - No accident       Aparna          False Alarm\n",
       "120 2021-03-13  Wrong rating - No accident       Shivam          False Alarm\n",
       "121 2021-03-14     Wrong rating - Accident  Shiva Kumar          False Alarm\n",
       "122 2021-03-14     Wrong rating - Accident       Shivam          False Alarm\n",
       "123 2021-03-14      Hard to rate incidents       Aparna          False Alarm\n",
       "124 2021-03-14      Hard to rate incidents       Shivam          False Alarm\n",
       "125 2021-03-14     Wrong rating - Accident       Aparna          False Alarm\n",
       "126 2021-03-14     Wrong rating - Accident       Shivam          False Alarm"
      ]
     },
     "execution_count": 63,
     "metadata": {},
     "output_type": "execute_result"
    }
   ],
   "source": [
    "data_reviewers_support11=data_reviewers_support[(data_reviewers_support['Date'] >= '2021-03-08') & (data_reviewers_support['Date'] <= '2021-03-14')]\n",
    "data_reviewers_support11"
   ]
  },
  {
   "cell_type": "markdown",
   "metadata": {},
   "source": [
    "#### Count the number of False alarms and the reviewers"
   ]
  },
  {
   "cell_type": "code",
   "execution_count": 64,
   "metadata": {},
   "outputs": [
    {
     "data": {
      "text/plain": [
       "12"
      ]
     },
     "execution_count": 64,
     "metadata": {},
     "output_type": "execute_result"
    }
   ],
   "source": [
    "data_reviewers_support11['False_Alarm_Creation'].count()"
   ]
  },
  {
   "cell_type": "code",
   "execution_count": 65,
   "metadata": {},
   "outputs": [
    {
     "data": {
      "text/plain": [
       "Shivam         6\n",
       "Aparna         5\n",
       "Shiva Kumar    1\n",
       "Name: Reviewers, dtype: int64"
      ]
     },
     "execution_count": 65,
     "metadata": {},
     "output_type": "execute_result"
    }
   ],
   "source": [
    "data_reviewers_support11['Reviewers'].value_counts()"
   ]
  },
  {
   "cell_type": "code",
   "execution_count": 66,
   "metadata": {},
   "outputs": [
    {
     "data": {
      "text/plain": [
       "12"
      ]
     },
     "execution_count": 66,
     "metadata": {},
     "output_type": "execute_result"
    }
   ],
   "source": [
    "data_reviewers_support11['Reviewers'].count()"
   ]
  },
  {
   "cell_type": "code",
   "execution_count": 67,
   "metadata": {},
   "outputs": [
    {
     "data": {
      "image/png": "[encoded data removed]",
      "text/plain": [
       "<Figure size 720x360 with 1 Axes>"
      ]
     },
     "metadata": {
      "needs_background": "light"
     },
     "output_type": "display_data"
    }
   ],
   "source": [
    "plt.figure(figsize=(10,5))\n",
    "splot=sns.countplot(data_reviewers_support11['Reviewers'],order=data_reviewers_support11['Reviewers'].value_counts().index,saturation=10)\n",
    "plt.xticks(rotation=30)\n",
    "plt.title(\"Reviewers having total number of false alarms from 8th March 2021 to 14th March 2021\", color='black')\n",
    "for p in splot.patches:\n",
    "    splot.annotate(format(p.get_height(), '.0f'), (p.get_x() + p.get_width() / 2., p.get_height()), ha = 'center', va = 'center', xytext = (0, 2),textcoords = 'offset points',rotation=20)\n",
    "plt.show()"
   ]
  },
  {
   "cell_type": "markdown",
   "metadata": {},
   "source": [
    "#### 12] 3rd week March 2021 from 15.03.2021 - 21.03.2021"
   ]
  },
  {
   "cell_type": "code",
   "execution_count": 68,
   "metadata": {},
   "outputs": [
    {
     "data": {
      "text/html": [
       "<div>\n",
       "<style scoped>\n",
       "    .dataframe tbody tr th:only-of-type {\n",
       "        vertical-align: middle;\n",
       "    }\n",
       "\n",
       "    .dataframe tbody tr th {\n",
       "        vertical-align: top;\n",
       "    }\n",
       "\n",
       "    .dataframe thead th {\n",
       "        text-align: right;\n",
       "    }\n",
       "</style>\n",
       "<table border=\"1\" class=\"dataframe\">\n",
       "  <thead>\n",
       "    <tr style=\"text-align: right;\">\n",
       "      <th></th>\n",
       "      <th>Date</th>\n",
       "      <th>Rating</th>\n",
       "      <th>Reviewers</th>\n",
       "      <th>False_Alarm_Creation</th>\n",
       "    </tr>\n",
       "  </thead>\n",
       "  <tbody>\n",
       "    <tr>\n",
       "      <th>127</th>\n",
       "      <td>2021-03-15</td>\n",
       "      <td>Wrong rating - Accident</td>\n",
       "      <td>Shiva Kumar</td>\n",
       "      <td>False Alarm</td>\n",
       "    </tr>\n",
       "    <tr>\n",
       "      <th>128</th>\n",
       "      <td>2021-03-15</td>\n",
       "      <td>Wrong rating - Accident</td>\n",
       "      <td>Rajeshwari</td>\n",
       "      <td>False Alarm</td>\n",
       "    </tr>\n",
       "    <tr>\n",
       "      <th>129</th>\n",
       "      <td>2021-03-18</td>\n",
       "      <td>Wrong rating - Accident</td>\n",
       "      <td>Mallikarjun</td>\n",
       "      <td>False Alarm</td>\n",
       "    </tr>\n",
       "    <tr>\n",
       "      <th>130</th>\n",
       "      <td>2021-03-18</td>\n",
       "      <td>Wrong rating - Accident</td>\n",
       "      <td>Yuvaraja</td>\n",
       "      <td>False Alarm</td>\n",
       "    </tr>\n",
       "    <tr>\n",
       "      <th>131</th>\n",
       "      <td>2021-03-19</td>\n",
       "      <td>Wrong rating - Accident</td>\n",
       "      <td>Narendra</td>\n",
       "      <td>False Alarm</td>\n",
       "    </tr>\n",
       "    <tr>\n",
       "      <th>132</th>\n",
       "      <td>2021-03-19</td>\n",
       "      <td>Wrong rating - Accident</td>\n",
       "      <td>Kiran</td>\n",
       "      <td>False Alarm</td>\n",
       "    </tr>\n",
       "    <tr>\n",
       "      <th>133</th>\n",
       "      <td>2021-03-19</td>\n",
       "      <td>Wrong rating - Accident</td>\n",
       "      <td>Kiran</td>\n",
       "      <td>False Alarm</td>\n",
       "    </tr>\n",
       "    <tr>\n",
       "      <th>134</th>\n",
       "      <td>2021-03-20</td>\n",
       "      <td>Wrong rating - Accident</td>\n",
       "      <td>Shivam</td>\n",
       "      <td>False Alarm</td>\n",
       "    </tr>\n",
       "    <tr>\n",
       "      <th>135</th>\n",
       "      <td>2021-03-20</td>\n",
       "      <td>Wrong rating - No accident</td>\n",
       "      <td>Shivam</td>\n",
       "      <td>False Alarm</td>\n",
       "    </tr>\n",
       "    <tr>\n",
       "      <th>136</th>\n",
       "      <td>2021-03-20</td>\n",
       "      <td>Wrong rating - No accident</td>\n",
       "      <td>Aparna</td>\n",
       "      <td>False Alarm</td>\n",
       "    </tr>\n",
       "    <tr>\n",
       "      <th>137</th>\n",
       "      <td>2021-03-21</td>\n",
       "      <td>Wrong rating - No accident</td>\n",
       "      <td>Mallikarjun</td>\n",
       "      <td>False Alarm</td>\n",
       "    </tr>\n",
       "    <tr>\n",
       "      <th>138</th>\n",
       "      <td>2021-03-21</td>\n",
       "      <td>Wrong rating - No accident</td>\n",
       "      <td>Aparna</td>\n",
       "      <td>False Alarm</td>\n",
       "    </tr>\n",
       "  </tbody>\n",
       "</table>\n",
       "</div>"
      ],
      "text/plain": [
       "          Date                      Rating    Reviewers False_Alarm_Creation\n",
       "127 2021-03-15     Wrong rating - Accident  Shiva Kumar          False Alarm\n",
       "128 2021-03-15     Wrong rating - Accident   Rajeshwari          False Alarm\n",
       "129 2021-03-18     Wrong rating - Accident  Mallikarjun          False Alarm\n",
       "130 2021-03-18     Wrong rating - Accident     Yuvaraja          False Alarm\n",
       "131 2021-03-19     Wrong rating - Accident     Narendra          False Alarm\n",
       "132 2021-03-19     Wrong rating - Accident        Kiran          False Alarm\n",
       "133 2021-03-19     Wrong rating - Accident        Kiran          False Alarm\n",
       "134 2021-03-20     Wrong rating - Accident       Shivam          False Alarm\n",
       "135 2021-03-20  Wrong rating - No accident       Shivam          False Alarm\n",
       "136 2021-03-20  Wrong rating - No accident       Aparna          False Alarm\n",
       "137 2021-03-21  Wrong rating - No accident  Mallikarjun          False Alarm\n",
       "138 2021-03-21  Wrong rating - No accident       Aparna          False Alarm"
      ]
     },
     "execution_count": 68,
     "metadata": {},
     "output_type": "execute_result"
    }
   ],
   "source": [
    "data_reviewers_support12=data_reviewers_support[(data_reviewers_support['Date'] >= '2021-03-15') & (data_reviewers_support['Date'] <= '2021-03-21')]\n",
    "data_reviewers_support12"
   ]
  },
  {
   "cell_type": "markdown",
   "metadata": {},
   "source": [
    "####  Count the number of False alarms and the reviewers"
   ]
  },
  {
   "cell_type": "code",
   "execution_count": 69,
   "metadata": {},
   "outputs": [
    {
     "data": {
      "text/plain": [
       "12"
      ]
     },
     "execution_count": 69,
     "metadata": {},
     "output_type": "execute_result"
    }
   ],
   "source": [
    "data_reviewers_support12['False_Alarm_Creation'].count()"
   ]
  },
  {
   "cell_type": "code",
   "execution_count": 70,
   "metadata": {},
   "outputs": [
    {
     "data": {
      "text/plain": [
       "Kiran          2\n",
       "Shivam         2\n",
       "Aparna         2\n",
       "Mallikarjun    2\n",
       "Shiva Kumar    1\n",
       "Narendra       1\n",
       "Yuvaraja       1\n",
       "Rajeshwari     1\n",
       "Name: Reviewers, dtype: int64"
      ]
     },
     "execution_count": 70,
     "metadata": {},
     "output_type": "execute_result"
    }
   ],
   "source": [
    "data_reviewers_support12['Reviewers'].value_counts()"
   ]
  },
  {
   "cell_type": "code",
   "execution_count": 71,
   "metadata": {},
   "outputs": [
    {
     "data": {
      "text/plain": [
       "12"
      ]
     },
     "execution_count": 71,
     "metadata": {},
     "output_type": "execute_result"
    }
   ],
   "source": [
    "data_reviewers_support12['Reviewers'].count()"
   ]
  },
  {
   "cell_type": "code",
   "execution_count": 72,
   "metadata": {},
   "outputs": [
    {
     "data": {
      "image/png": "[encoded data removed]",
      "text/plain": [
       "<Figure size 720x360 with 1 Axes>"
      ]
     },
     "metadata": {
      "needs_background": "light"
     },
     "output_type": "display_data"
    }
   ],
   "source": [
    "X=data_reviewers_support12['Reviewers'].value_counts()\n",
    "plt.figure(figsize=(10,5))\n",
    "plt.plot(X,color='darkgreen', marker='o',linewidth=2, markersize=5)\n",
    "plt.xticks(rotation=40)\n",
    "plt.title(\"Reviewers having total number of false alarms from 15th March 2021 to 21st March 2021\", color='black')\n",
    "for i, v in enumerate(X):\n",
    "    plt.text(i, v+0.03, \"%d\" %v, ha=\"center\",fontdict={'fontsize':'17'})\n",
    "plt.show()"
   ]
  },
  {
   "cell_type": "markdown",
   "metadata": {},
   "source": [
    "#### 13] 4th week March 2021 from 22.03.2021 - 28.03.2021"
   ]
  },
  {
   "cell_type": "code",
   "execution_count": 73,
   "metadata": {},
   "outputs": [
    {
     "data": {
      "text/html": [
       "<div>\n",
       "<style scoped>\n",
       "    .dataframe tbody tr th:only-of-type {\n",
       "        vertical-align: middle;\n",
       "    }\n",
       "\n",
       "    .dataframe tbody tr th {\n",
       "        vertical-align: top;\n",
       "    }\n",
       "\n",
       "    .dataframe thead th {\n",
       "        text-align: right;\n",
       "    }\n",
       "</style>\n",
       "<table border=\"1\" class=\"dataframe\">\n",
       "  <thead>\n",
       "    <tr style=\"text-align: right;\">\n",
       "      <th></th>\n",
       "      <th>Date</th>\n",
       "      <th>Rating</th>\n",
       "      <th>Reviewers</th>\n",
       "      <th>False_Alarm_Creation</th>\n",
       "    </tr>\n",
       "  </thead>\n",
       "  <tbody>\n",
       "    <tr>\n",
       "      <th>139</th>\n",
       "      <td>2021-03-23</td>\n",
       "      <td>Wrong rating - No accident</td>\n",
       "      <td>Yuvaraja</td>\n",
       "      <td>False Alarm</td>\n",
       "    </tr>\n",
       "    <tr>\n",
       "      <th>140</th>\n",
       "      <td>2021-03-26</td>\n",
       "      <td>Wrong rating - Accident</td>\n",
       "      <td>Rajeshwari</td>\n",
       "      <td>False Alarm</td>\n",
       "    </tr>\n",
       "    <tr>\n",
       "      <th>141</th>\n",
       "      <td>2021-03-26</td>\n",
       "      <td>Wrong rating - Accident</td>\n",
       "      <td>Shiva Kumar</td>\n",
       "      <td>False Alarm</td>\n",
       "    </tr>\n",
       "  </tbody>\n",
       "</table>\n",
       "</div>"
      ],
      "text/plain": [
       "          Date                      Rating    Reviewers False_Alarm_Creation\n",
       "139 2021-03-23  Wrong rating - No accident     Yuvaraja          False Alarm\n",
       "140 2021-03-26     Wrong rating - Accident   Rajeshwari          False Alarm\n",
       "141 2021-03-26     Wrong rating - Accident  Shiva Kumar          False Alarm"
      ]
     },
     "execution_count": 73,
     "metadata": {},
     "output_type": "execute_result"
    }
   ],
   "source": [
    "data_reviewers_support13=data_reviewers_support[(data_reviewers_support['Date'] >= '2021-03-22') & (data_reviewers_support['Date'] <= '2021-03-28')]\n",
    "data_reviewers_support13"
   ]
  },
  {
   "cell_type": "markdown",
   "metadata": {},
   "source": [
    "#### Count the number of False alarms and the reviewers"
   ]
  },
  {
   "cell_type": "code",
   "execution_count": 74,
   "metadata": {},
   "outputs": [
    {
     "data": {
      "text/plain": [
       "3"
      ]
     },
     "execution_count": 74,
     "metadata": {},
     "output_type": "execute_result"
    }
   ],
   "source": [
    "data_reviewers_support13['False_Alarm_Creation'].count()"
   ]
  },
  {
   "cell_type": "code",
   "execution_count": 75,
   "metadata": {},
   "outputs": [
    {
     "data": {
      "text/plain": [
       "Shiva Kumar    1\n",
       "Yuvaraja       1\n",
       "Rajeshwari     1\n",
       "Name: Reviewers, dtype: int64"
      ]
     },
     "execution_count": 75,
     "metadata": {},
     "output_type": "execute_result"
    }
   ],
   "source": [
    "data_reviewers_support13['Reviewers'].value_counts()"
   ]
  },
  {
   "cell_type": "code",
   "execution_count": 76,
   "metadata": {},
   "outputs": [
    {
     "data": {
      "text/plain": [
       "3"
      ]
     },
     "execution_count": 76,
     "metadata": {},
     "output_type": "execute_result"
    }
   ],
   "source": [
    "data_reviewers_support13['Reviewers'].count()"
   ]
  },
  {
   "cell_type": "code",
   "execution_count": 77,
   "metadata": {},
   "outputs": [
    {
     "data": {
      "image/png": "[encoded data removed]",
      "text/plain": [
       "<Figure size 720x360 with 1 Axes>"
      ]
     },
     "metadata": {
      "needs_background": "light"
     },
     "output_type": "display_data"
    }
   ],
   "source": [
    "plt.figure(figsize=(10,5))\n",
    "splot=sns.countplot(data_reviewers_support13['Reviewers'],order=data_reviewers_support13['Reviewers'].value_counts().index,saturation=10)\n",
    "plt.xticks(rotation=30)\n",
    "plt.title(\"Reviewers having total number of false alarms from 22nd March 2021 to 28th March 2021\", color='black')\n",
    "for p in splot.patches:\n",
    "    splot.annotate(format(p.get_height(), '.0f'), (p.get_x() + p.get_width() / 2., p.get_height()), ha = 'center', va = 'center', xytext = (0, 2),textcoords = 'offset points',rotation=20)\n",
    "plt.show()"
   ]
  },
  {
   "cell_type": "markdown",
   "metadata": {},
   "source": [
    "#### 14] Last week of March 2021 - April 2021 from 29.03.2021 - 04.04.2021"
   ]
  },
  {
   "cell_type": "code",
   "execution_count": 78,
   "metadata": {},
   "outputs": [
    {
     "data": {
      "text/html": [
       "<div>\n",
       "<style scoped>\n",
       "    .dataframe tbody tr th:only-of-type {\n",
       "        vertical-align: middle;\n",
       "    }\n",
       "\n",
       "    .dataframe tbody tr th {\n",
       "        vertical-align: top;\n",
       "    }\n",
       "\n",
       "    .dataframe thead th {\n",
       "        text-align: right;\n",
       "    }\n",
       "</style>\n",
       "<table border=\"1\" class=\"dataframe\">\n",
       "  <thead>\n",
       "    <tr style=\"text-align: right;\">\n",
       "      <th></th>\n",
       "      <th>Date</th>\n",
       "      <th>Rating</th>\n",
       "      <th>Reviewers</th>\n",
       "      <th>False_Alarm_Creation</th>\n",
       "    </tr>\n",
       "  </thead>\n",
       "  <tbody>\n",
       "    <tr>\n",
       "      <th>142</th>\n",
       "      <td>2021-03-29</td>\n",
       "      <td>Wrong rating - Accident</td>\n",
       "      <td>Kiran</td>\n",
       "      <td>False Alarm</td>\n",
       "    </tr>\n",
       "    <tr>\n",
       "      <th>143</th>\n",
       "      <td>2021-03-29</td>\n",
       "      <td>Wrong rating - Accident</td>\n",
       "      <td>Narendra</td>\n",
       "      <td>False Alarm</td>\n",
       "    </tr>\n",
       "    <tr>\n",
       "      <th>144</th>\n",
       "      <td>2021-03-29</td>\n",
       "      <td>last grabbed incident</td>\n",
       "      <td>Shivam</td>\n",
       "      <td>False Alarm</td>\n",
       "    </tr>\n",
       "    <tr>\n",
       "      <th>145</th>\n",
       "      <td>2021-03-29</td>\n",
       "      <td>last grabbed incident</td>\n",
       "      <td>Mallikarjun</td>\n",
       "      <td>False Alarm</td>\n",
       "    </tr>\n",
       "    <tr>\n",
       "      <th>146</th>\n",
       "      <td>2021-03-30</td>\n",
       "      <td>Wrong rating - Accident</td>\n",
       "      <td>Kiran</td>\n",
       "      <td>False Alarm</td>\n",
       "    </tr>\n",
       "    <tr>\n",
       "      <th>147</th>\n",
       "      <td>2021-03-31</td>\n",
       "      <td>Wrong rating - Accident</td>\n",
       "      <td>Shivam</td>\n",
       "      <td>False Alarm</td>\n",
       "    </tr>\n",
       "    <tr>\n",
       "      <th>148</th>\n",
       "      <td>2021-03-31</td>\n",
       "      <td>Wrong rating - Accident</td>\n",
       "      <td>Aparna</td>\n",
       "      <td>False Alarm</td>\n",
       "    </tr>\n",
       "    <tr>\n",
       "      <th>149</th>\n",
       "      <td>2021-03-31</td>\n",
       "      <td>Wrong rating - Accident</td>\n",
       "      <td>Shivam</td>\n",
       "      <td>False Alarm</td>\n",
       "    </tr>\n",
       "    <tr>\n",
       "      <th>150</th>\n",
       "      <td>2021-03-31</td>\n",
       "      <td>Wrong rating - Accident</td>\n",
       "      <td>Aparna</td>\n",
       "      <td>False Alarm</td>\n",
       "    </tr>\n",
       "    <tr>\n",
       "      <th>151</th>\n",
       "      <td>2021-04-04</td>\n",
       "      <td>Wrong rating - Accident</td>\n",
       "      <td>Shivam</td>\n",
       "      <td>False Alarm</td>\n",
       "    </tr>\n",
       "    <tr>\n",
       "      <th>152</th>\n",
       "      <td>2021-04-04</td>\n",
       "      <td>Wrong rating - Accident</td>\n",
       "      <td>Aparna</td>\n",
       "      <td>False Alarm</td>\n",
       "    </tr>\n",
       "    <tr>\n",
       "      <th>153</th>\n",
       "      <td>2021-04-04</td>\n",
       "      <td>Wrong rating - No accident</td>\n",
       "      <td>Aparna</td>\n",
       "      <td>False Alarm</td>\n",
       "    </tr>\n",
       "  </tbody>\n",
       "</table>\n",
       "</div>"
      ],
      "text/plain": [
       "          Date                      Rating    Reviewers False_Alarm_Creation\n",
       "142 2021-03-29     Wrong rating - Accident        Kiran          False Alarm\n",
       "143 2021-03-29     Wrong rating - Accident     Narendra          False Alarm\n",
       "144 2021-03-29       last grabbed incident       Shivam          False Alarm\n",
       "145 2021-03-29       last grabbed incident  Mallikarjun          False Alarm\n",
       "146 2021-03-30     Wrong rating - Accident        Kiran          False Alarm\n",
       "147 2021-03-31     Wrong rating - Accident       Shivam          False Alarm\n",
       "148 2021-03-31     Wrong rating - Accident       Aparna          False Alarm\n",
       "149 2021-03-31     Wrong rating - Accident       Shivam          False Alarm\n",
       "150 2021-03-31     Wrong rating - Accident       Aparna          False Alarm\n",
       "151 2021-04-04     Wrong rating - Accident       Shivam          False Alarm\n",
       "152 2021-04-04     Wrong rating - Accident       Aparna          False Alarm\n",
       "153 2021-04-04  Wrong rating - No accident       Aparna          False Alarm"
      ]
     },
     "execution_count": 78,
     "metadata": {},
     "output_type": "execute_result"
    }
   ],
   "source": [
    "data_reviewers_support14=data_reviewers_support[(data_reviewers_support['Date'] >= '2021-03-29') & (data_reviewers_support['Date'] <= '2021-04-04')]\n",
    "data_reviewers_support14"
   ]
  },
  {
   "cell_type": "markdown",
   "metadata": {},
   "source": [
    "#### Count the number of False alarms and the reviewers"
   ]
  },
  {
   "cell_type": "code",
   "execution_count": 79,
   "metadata": {},
   "outputs": [
    {
     "data": {
      "text/plain": [
       "12"
      ]
     },
     "execution_count": 79,
     "metadata": {},
     "output_type": "execute_result"
    }
   ],
   "source": [
    "data_reviewers_support14['False_Alarm_Creation'].count()"
   ]
  },
  {
   "cell_type": "code",
   "execution_count": 80,
   "metadata": {},
   "outputs": [
    {
     "data": {
      "text/plain": [
       "Shivam         4\n",
       "Aparna         4\n",
       "Kiran          2\n",
       "Narendra       1\n",
       "Mallikarjun    1\n",
       "Name: Reviewers, dtype: int64"
      ]
     },
     "execution_count": 80,
     "metadata": {},
     "output_type": "execute_result"
    }
   ],
   "source": [
    "data_reviewers_support14['Reviewers'].value_counts()"
   ]
  },
  {
   "cell_type": "code",
   "execution_count": 81,
   "metadata": {},
   "outputs": [
    {
     "data": {
      "text/plain": [
       "12"
      ]
     },
     "execution_count": 81,
     "metadata": {},
     "output_type": "execute_result"
    }
   ],
   "source": [
    "data_reviewers_support14['Reviewers'].count()"
   ]
  },
  {
   "cell_type": "code",
   "execution_count": 82,
   "metadata": {},
   "outputs": [
    {
     "data": {
      "image/png": "[encoded data removed]",
      "text/plain": [
       "<Figure size 720x360 with 1 Axes>"
      ]
     },
     "metadata": {
      "needs_background": "light"
     },
     "output_type": "display_data"
    }
   ],
   "source": [
    "X=data_reviewers_support14['Reviewers'].value_counts()\n",
    "plt.figure(figsize=(10,5))\n",
    "plt.plot(X,color='yellow', marker='o', linestyle='dotted',linewidth=2, markersize=5)\n",
    "plt.xticks(rotation=40)\n",
    "plt.title(\"Reviewers having total number of false alarms from 29th March 2021 to 4th April 2021\", color='black')\n",
    "for i, v in enumerate(X):\n",
    "    plt.text(i, v+0.03, \"%d\" %v, ha=\"center\",fontdict={'fontsize':'17'})\n",
    "plt.show()\n"
   ]
  },
  {
   "cell_type": "markdown",
   "metadata": {},
   "source": [
    "#### 15] 1st week April 2021 from 05.04.2021 - 11.04.2021"
   ]
  },
  {
   "cell_type": "code",
   "execution_count": 83,
   "metadata": {},
   "outputs": [
    {
     "data": {
      "text/html": [
       "<div>\n",
       "<style scoped>\n",
       "    .dataframe tbody tr th:only-of-type {\n",
       "        vertical-align: middle;\n",
       "    }\n",
       "\n",
       "    .dataframe tbody tr th {\n",
       "        vertical-align: top;\n",
       "    }\n",
       "\n",
       "    .dataframe thead th {\n",
       "        text-align: right;\n",
       "    }\n",
       "</style>\n",
       "<table border=\"1\" class=\"dataframe\">\n",
       "  <thead>\n",
       "    <tr style=\"text-align: right;\">\n",
       "      <th></th>\n",
       "      <th>Date</th>\n",
       "      <th>Rating</th>\n",
       "      <th>Reviewers</th>\n",
       "      <th>False_Alarm_Creation</th>\n",
       "    </tr>\n",
       "  </thead>\n",
       "  <tbody>\n",
       "    <tr>\n",
       "      <th>154</th>\n",
       "      <td>2021-04-05</td>\n",
       "      <td>Wrong rating - No accident</td>\n",
       "      <td>Leenu</td>\n",
       "      <td>False Alarm</td>\n",
       "    </tr>\n",
       "    <tr>\n",
       "      <th>155</th>\n",
       "      <td>2021-04-05</td>\n",
       "      <td>Wrong rating - No accident</td>\n",
       "      <td>Shiva Kumar</td>\n",
       "      <td>False Alarm</td>\n",
       "    </tr>\n",
       "    <tr>\n",
       "      <th>156</th>\n",
       "      <td>2021-04-06</td>\n",
       "      <td>Wrong rating - No accident</td>\n",
       "      <td>Leenu</td>\n",
       "      <td>False Alarm</td>\n",
       "    </tr>\n",
       "    <tr>\n",
       "      <th>157</th>\n",
       "      <td>2021-04-06</td>\n",
       "      <td>Wrong rating - No accident</td>\n",
       "      <td>Shiva Kumar</td>\n",
       "      <td>False Alarm</td>\n",
       "    </tr>\n",
       "    <tr>\n",
       "      <th>158</th>\n",
       "      <td>2021-04-07</td>\n",
       "      <td>Wrong rating - Accident</td>\n",
       "      <td>Raushan</td>\n",
       "      <td>False Alarm</td>\n",
       "    </tr>\n",
       "    <tr>\n",
       "      <th>159</th>\n",
       "      <td>2021-04-07</td>\n",
       "      <td>Wrong rating - Accident</td>\n",
       "      <td>Aparna</td>\n",
       "      <td>False Alarm</td>\n",
       "    </tr>\n",
       "    <tr>\n",
       "      <th>160</th>\n",
       "      <td>2021-04-08</td>\n",
       "      <td>Wrong rating - No accident</td>\n",
       "      <td>Raushan</td>\n",
       "      <td>False Alarm</td>\n",
       "    </tr>\n",
       "    <tr>\n",
       "      <th>161</th>\n",
       "      <td>2021-04-08</td>\n",
       "      <td>Wrong rating - No accident</td>\n",
       "      <td>Aparna</td>\n",
       "      <td>False Alarm</td>\n",
       "    </tr>\n",
       "    <tr>\n",
       "      <th>162</th>\n",
       "      <td>2021-04-10</td>\n",
       "      <td>Wrong rating - Accident</td>\n",
       "      <td>Raushan</td>\n",
       "      <td>False Alarm</td>\n",
       "    </tr>\n",
       "    <tr>\n",
       "      <th>163</th>\n",
       "      <td>2021-04-10</td>\n",
       "      <td>Wrong rating - Accident</td>\n",
       "      <td>Aparna</td>\n",
       "      <td>False Alarm</td>\n",
       "    </tr>\n",
       "    <tr>\n",
       "      <th>164</th>\n",
       "      <td>2021-04-11</td>\n",
       "      <td>Wrong rating - Accident</td>\n",
       "      <td>Raushan</td>\n",
       "      <td>False Alarm</td>\n",
       "    </tr>\n",
       "  </tbody>\n",
       "</table>\n",
       "</div>"
      ],
      "text/plain": [
       "          Date                      Rating    Reviewers False_Alarm_Creation\n",
       "154 2021-04-05  Wrong rating - No accident        Leenu          False Alarm\n",
       "155 2021-04-05  Wrong rating - No accident  Shiva Kumar          False Alarm\n",
       "156 2021-04-06  Wrong rating - No accident        Leenu          False Alarm\n",
       "157 2021-04-06  Wrong rating - No accident  Shiva Kumar          False Alarm\n",
       "158 2021-04-07     Wrong rating - Accident      Raushan          False Alarm\n",
       "159 2021-04-07     Wrong rating - Accident       Aparna          False Alarm\n",
       "160 2021-04-08  Wrong rating - No accident      Raushan          False Alarm\n",
       "161 2021-04-08  Wrong rating - No accident       Aparna          False Alarm\n",
       "162 2021-04-10     Wrong rating - Accident      Raushan          False Alarm\n",
       "163 2021-04-10     Wrong rating - Accident       Aparna          False Alarm\n",
       "164 2021-04-11     Wrong rating - Accident      Raushan          False Alarm"
      ]
     },
     "execution_count": 83,
     "metadata": {},
     "output_type": "execute_result"
    }
   ],
   "source": [
    "data_reviewers_support15=data_reviewers_support[(data_reviewers_support['Date'] >= '2021-04-05') & (data_reviewers_support['Date'] <= '2021-04-11')]\n",
    "data_reviewers_support15"
   ]
  },
  {
   "cell_type": "markdown",
   "metadata": {},
   "source": [
    "#### Count the number of False alarms and the reviewers"
   ]
  },
  {
   "cell_type": "code",
   "execution_count": 84,
   "metadata": {},
   "outputs": [
    {
     "data": {
      "text/plain": [
       "11"
      ]
     },
     "execution_count": 84,
     "metadata": {},
     "output_type": "execute_result"
    }
   ],
   "source": [
    "data_reviewers_support15['False_Alarm_Creation'].count()"
   ]
  },
  {
   "cell_type": "code",
   "execution_count": 85,
   "metadata": {},
   "outputs": [
    {
     "data": {
      "text/plain": [
       "Raushan        4\n",
       "Aparna         3\n",
       "Shiva Kumar    2\n",
       "Leenu          2\n",
       "Name: Reviewers, dtype: int64"
      ]
     },
     "execution_count": 85,
     "metadata": {},
     "output_type": "execute_result"
    }
   ],
   "source": [
    "data_reviewers_support15['Reviewers'].value_counts()"
   ]
  },
  {
   "cell_type": "code",
   "execution_count": 86,
   "metadata": {},
   "outputs": [
    {
     "data": {
      "text/plain": [
       "11"
      ]
     },
     "execution_count": 86,
     "metadata": {},
     "output_type": "execute_result"
    }
   ],
   "source": [
    "data_reviewers_support15['Reviewers'].count()"
   ]
  },
  {
   "cell_type": "code",
   "execution_count": 87,
   "metadata": {},
   "outputs": [
    {
     "data": {
      "image/png": "[encoded data removed]",
      "text/plain": [
       "<Figure size 720x360 with 1 Axes>"
      ]
     },
     "metadata": {
      "needs_background": "light"
     },
     "output_type": "display_data"
    }
   ],
   "source": [
    "X=data_reviewers_support15['Reviewers'].value_counts()\n",
    "plt.figure(figsize=(10,5))\n",
    "plt.plot(X,color='purple', marker='o', linestyle='dashdot',linewidth=2, markersize=5)\n",
    "plt.xticks(rotation=40)\n",
    "plt.title(\"Reviewers having total number of false alarms from 5th April 2021 to 11th April 2021\", color='black')\n",
    "for i, v in enumerate(X):\n",
    "    plt.text(i, v+0.03, \"%d\" %v, ha=\"center\",fontdict={'fontsize':'17'})\n",
    "plt.show()"
   ]
  },
  {
   "cell_type": "markdown",
   "metadata": {},
   "source": [
    "#### 16] 2nd week April 2021 from 12.04.2021 - 17.04.2021"
   ]
  },
  {
   "cell_type": "code",
   "execution_count": 88,
   "metadata": {},
   "outputs": [
    {
     "data": {
      "text/html": [
       "<div>\n",
       "<style scoped>\n",
       "    .dataframe tbody tr th:only-of-type {\n",
       "        vertical-align: middle;\n",
       "    }\n",
       "\n",
       "    .dataframe tbody tr th {\n",
       "        vertical-align: top;\n",
       "    }\n",
       "\n",
       "    .dataframe thead th {\n",
       "        text-align: right;\n",
       "    }\n",
       "</style>\n",
       "<table border=\"1\" class=\"dataframe\">\n",
       "  <thead>\n",
       "    <tr style=\"text-align: right;\">\n",
       "      <th></th>\n",
       "      <th>Date</th>\n",
       "      <th>Rating</th>\n",
       "      <th>Reviewers</th>\n",
       "      <th>False_Alarm_Creation</th>\n",
       "    </tr>\n",
       "  </thead>\n",
       "  <tbody>\n",
       "    <tr>\n",
       "      <th>165</th>\n",
       "      <td>2021-04-12</td>\n",
       "      <td>No support</td>\n",
       "      <td>Shivam</td>\n",
       "      <td>False Alarm</td>\n",
       "    </tr>\n",
       "    <tr>\n",
       "      <th>166</th>\n",
       "      <td>2021-04-12</td>\n",
       "      <td>No support</td>\n",
       "      <td>Shivam</td>\n",
       "      <td>False Alarm</td>\n",
       "    </tr>\n",
       "    <tr>\n",
       "      <th>167</th>\n",
       "      <td>2021-04-13</td>\n",
       "      <td>No support</td>\n",
       "      <td>Shiva Kumar</td>\n",
       "      <td>False Alarm</td>\n",
       "    </tr>\n",
       "    <tr>\n",
       "      <th>168</th>\n",
       "      <td>2021-04-14</td>\n",
       "      <td>Wrong rating - Accident</td>\n",
       "      <td>Raushan</td>\n",
       "      <td>False Alarm</td>\n",
       "    </tr>\n",
       "    <tr>\n",
       "      <th>169</th>\n",
       "      <td>2021-04-14</td>\n",
       "      <td>Wrong rating - Accident</td>\n",
       "      <td>Aparna</td>\n",
       "      <td>False Alarm</td>\n",
       "    </tr>\n",
       "    <tr>\n",
       "      <th>170</th>\n",
       "      <td>2021-04-15</td>\n",
       "      <td>Wrong rating - Accident</td>\n",
       "      <td>Shivam</td>\n",
       "      <td>False Alarm</td>\n",
       "    </tr>\n",
       "    <tr>\n",
       "      <th>171</th>\n",
       "      <td>2021-04-15</td>\n",
       "      <td>Wrong rating - Accident</td>\n",
       "      <td>Aparna</td>\n",
       "      <td>False Alarm</td>\n",
       "    </tr>\n",
       "    <tr>\n",
       "      <th>172</th>\n",
       "      <td>2021-04-15</td>\n",
       "      <td>Wrong rating - No accident</td>\n",
       "      <td>Yuvaraja</td>\n",
       "      <td>False Alarm</td>\n",
       "    </tr>\n",
       "    <tr>\n",
       "      <th>173</th>\n",
       "      <td>2021-04-16</td>\n",
       "      <td>Wrong rating - Accident</td>\n",
       "      <td>Rajeshwari</td>\n",
       "      <td>False Alarm</td>\n",
       "    </tr>\n",
       "    <tr>\n",
       "      <th>174</th>\n",
       "      <td>2021-04-17</td>\n",
       "      <td>Wrong rating - Accident</td>\n",
       "      <td>Mallikarjun</td>\n",
       "      <td>False Alarm</td>\n",
       "    </tr>\n",
       "  </tbody>\n",
       "</table>\n",
       "</div>"
      ],
      "text/plain": [
       "          Date                      Rating    Reviewers False_Alarm_Creation\n",
       "165 2021-04-12                  No support       Shivam          False Alarm\n",
       "166 2021-04-12                  No support       Shivam          False Alarm\n",
       "167 2021-04-13                  No support  Shiva Kumar          False Alarm\n",
       "168 2021-04-14     Wrong rating - Accident      Raushan          False Alarm\n",
       "169 2021-04-14     Wrong rating - Accident       Aparna          False Alarm\n",
       "170 2021-04-15     Wrong rating - Accident       Shivam          False Alarm\n",
       "171 2021-04-15     Wrong rating - Accident       Aparna          False Alarm\n",
       "172 2021-04-15  Wrong rating - No accident     Yuvaraja          False Alarm\n",
       "173 2021-04-16     Wrong rating - Accident   Rajeshwari          False Alarm\n",
       "174 2021-04-17     Wrong rating - Accident  Mallikarjun          False Alarm"
      ]
     },
     "execution_count": 88,
     "metadata": {},
     "output_type": "execute_result"
    }
   ],
   "source": [
    "data_reviewers_support16=data_reviewers_support[(data_reviewers_support['Date'] >= '2021-04-12') & (data_reviewers_support['Date'] <= '2021-04-17')]\n",
    "data_reviewers_support16"
   ]
  },
  {
   "cell_type": "markdown",
   "metadata": {},
   "source": [
    "#### Count the number of False alarms and the reviewers"
   ]
  },
  {
   "cell_type": "code",
   "execution_count": 89,
   "metadata": {},
   "outputs": [
    {
     "data": {
      "text/plain": [
       "10"
      ]
     },
     "execution_count": 89,
     "metadata": {},
     "output_type": "execute_result"
    }
   ],
   "source": [
    "data_reviewers_support16['False_Alarm_Creation'].count()"
   ]
  },
  {
   "cell_type": "code",
   "execution_count": 90,
   "metadata": {},
   "outputs": [
    {
     "data": {
      "text/plain": [
       "Shivam         3\n",
       "Aparna         2\n",
       "Shiva Kumar    1\n",
       "Raushan        1\n",
       "Yuvaraja       1\n",
       "Rajeshwari     1\n",
       "Mallikarjun    1\n",
       "Name: Reviewers, dtype: int64"
      ]
     },
     "execution_count": 90,
     "metadata": {},
     "output_type": "execute_result"
    }
   ],
   "source": [
    "data_reviewers_support16['Reviewers'].value_counts()"
   ]
  },
  {
   "cell_type": "code",
   "execution_count": 91,
   "metadata": {},
   "outputs": [
    {
     "data": {
      "text/plain": [
       "10"
      ]
     },
     "execution_count": 91,
     "metadata": {},
     "output_type": "execute_result"
    }
   ],
   "source": [
    "data_reviewers_support16['Reviewers'].count()"
   ]
  },
  {
   "cell_type": "code",
   "execution_count": 92,
   "metadata": {},
   "outputs": [
    {
     "data": {
      "image/png": "[encoded data removed]",
      "text/plain": [
       "<Figure size 720x360 with 1 Axes>"
      ]
     },
     "metadata": {
      "needs_background": "light"
     },
     "output_type": "display_data"
    }
   ],
   "source": [
    "plt.figure(figsize=(10,5))\n",
    "splot=sns.countplot(data_reviewers_support16['Reviewers'],order=data_reviewers_support16['Reviewers'].value_counts().index,saturation=10)\n",
    "plt.xticks(rotation=30)\n",
    "plt.title(\"Reviewers having total number of false alarms from 12th April 2021 to 17th April 2021\", color='black')\n",
    "for p in splot.patches:\n",
    "    splot.annotate(format(p.get_height(), '.0f'), (p.get_x() + p.get_width() / 2., p.get_height()), ha = 'center', va = 'center', xytext = (0, 2),textcoords = 'offset points',rotation=20)\n",
    "plt.show()"
   ]
  },
  {
   "cell_type": "markdown",
   "metadata": {},
   "source": [
    "## 5) Creating Monthly basis report for calculating the false alarms\n",
    "### 1] 31st December 2021"
   ]
  },
  {
   "cell_type": "code",
   "execution_count": 93,
   "metadata": {},
   "outputs": [
    {
     "data": {
      "text/html": [
       "<div>\n",
       "<style scoped>\n",
       "    .dataframe tbody tr th:only-of-type {\n",
       "        vertical-align: middle;\n",
       "    }\n",
       "\n",
       "    .dataframe tbody tr th {\n",
       "        vertical-align: top;\n",
       "    }\n",
       "\n",
       "    .dataframe thead th {\n",
       "        text-align: right;\n",
       "    }\n",
       "</style>\n",
       "<table border=\"1\" class=\"dataframe\">\n",
       "  <thead>\n",
       "    <tr style=\"text-align: right;\">\n",
       "      <th></th>\n",
       "      <th>Date</th>\n",
       "      <th>Rating</th>\n",
       "      <th>Reviewers</th>\n",
       "      <th>False_Alarm_Creation</th>\n",
       "    </tr>\n",
       "  </thead>\n",
       "  <tbody>\n",
       "    <tr>\n",
       "      <th>0</th>\n",
       "      <td>2020-12-31</td>\n",
       "      <td>Wrong rating - Accident</td>\n",
       "      <td>Yuvaraja</td>\n",
       "      <td>False Alarm</td>\n",
       "    </tr>\n",
       "    <tr>\n",
       "      <th>1</th>\n",
       "      <td>2020-12-31</td>\n",
       "      <td>Wrong rating - No accident</td>\n",
       "      <td>Shiva Kumar</td>\n",
       "      <td>False Alarm</td>\n",
       "    </tr>\n",
       "  </tbody>\n",
       "</table>\n",
       "</div>"
      ],
      "text/plain": [
       "        Date                      Rating    Reviewers False_Alarm_Creation\n",
       "0 2020-12-31     Wrong rating - Accident     Yuvaraja          False Alarm\n",
       "1 2020-12-31  Wrong rating - No accident  Shiva Kumar          False Alarm"
      ]
     },
     "execution_count": 93,
     "metadata": {},
     "output_type": "execute_result"
    }
   ],
   "source": [
    "data_reviewers_support_December=data_reviewers_support[(data_reviewers_support['Date'] == '2020-12-31')]\n",
    "data_reviewers_support_December"
   ]
  },
  {
   "cell_type": "markdown",
   "metadata": {},
   "source": [
    "#### Count the number of False alarms and the reviewers"
   ]
  },
  {
   "cell_type": "code",
   "execution_count": 94,
   "metadata": {},
   "outputs": [
    {
     "data": {
      "text/plain": [
       "2"
      ]
     },
     "execution_count": 94,
     "metadata": {},
     "output_type": "execute_result"
    }
   ],
   "source": [
    "data_reviewers_support_December['False_Alarm_Creation'].count()"
   ]
  },
  {
   "cell_type": "code",
   "execution_count": 95,
   "metadata": {},
   "outputs": [
    {
     "data": {
      "text/plain": [
       "Yuvaraja       1\n",
       "Shiva Kumar    1\n",
       "Name: Reviewers, dtype: int64"
      ]
     },
     "execution_count": 95,
     "metadata": {},
     "output_type": "execute_result"
    }
   ],
   "source": [
    "data_reviewers_support_December['Reviewers'].value_counts()"
   ]
  },
  {
   "cell_type": "code",
   "execution_count": 96,
   "metadata": {},
   "outputs": [
    {
     "data": {
      "text/plain": [
       "2"
      ]
     },
     "execution_count": 96,
     "metadata": {},
     "output_type": "execute_result"
    }
   ],
   "source": [
    "data_reviewers_support_December['Reviewers'].count()"
   ]
  },
  {
   "cell_type": "code",
   "execution_count": 97,
   "metadata": {},
   "outputs": [
    {
     "data": {
      "image/png": "[encoded data removed]",
      "text/plain": [
       "<Figure size 720x360 with 1 Axes>"
      ]
     },
     "metadata": {
      "needs_background": "light"
     },
     "output_type": "display_data"
    }
   ],
   "source": [
    "plt.figure(figsize=(10,5))\n",
    "splot=sns.countplot(data_reviewers_support_December['Reviewers'],order=data_reviewers_support_December['Reviewers'].value_counts().index,saturation=10)\n",
    "plt.xticks(rotation=30)\n",
    "plt.title(\"Reviewers having total number of false alarms on 31st December 2020\", color='black')\n",
    "for p in splot.patches:\n",
    "    splot.annotate(format(p.get_height(), '.0f'), (p.get_x() + p.get_width() / 2., p.get_height()), ha = 'center', va = 'center', xytext = (0, 2),textcoords = 'offset points',rotation=20)\n",
    "plt.show()"
   ]
  },
  {
   "cell_type": "markdown",
   "metadata": {},
   "source": [
    "#### 2] January 2021"
   ]
  },
  {
   "cell_type": "code",
   "execution_count": 98,
   "metadata": {},
   "outputs": [
    {
     "data": {
      "text/html": [
       "<div>\n",
       "<style scoped>\n",
       "    .dataframe tbody tr th:only-of-type {\n",
       "        vertical-align: middle;\n",
       "    }\n",
       "\n",
       "    .dataframe tbody tr th {\n",
       "        vertical-align: top;\n",
       "    }\n",
       "\n",
       "    .dataframe thead th {\n",
       "        text-align: right;\n",
       "    }\n",
       "</style>\n",
       "<table border=\"1\" class=\"dataframe\">\n",
       "  <thead>\n",
       "    <tr style=\"text-align: right;\">\n",
       "      <th></th>\n",
       "      <th>Date</th>\n",
       "      <th>Rating</th>\n",
       "      <th>Reviewers</th>\n",
       "      <th>False_Alarm_Creation</th>\n",
       "    </tr>\n",
       "  </thead>\n",
       "  <tbody>\n",
       "    <tr>\n",
       "      <th>2</th>\n",
       "      <td>2021-01-01</td>\n",
       "      <td>Wrong rating - Accident</td>\n",
       "      <td>Shiva Kumar</td>\n",
       "      <td>False Alarm</td>\n",
       "    </tr>\n",
       "    <tr>\n",
       "      <th>3</th>\n",
       "      <td>2021-01-01</td>\n",
       "      <td>Wrong rating - No accident</td>\n",
       "      <td>Shiva Kumar</td>\n",
       "      <td>False Alarm</td>\n",
       "    </tr>\n",
       "    <tr>\n",
       "      <th>4</th>\n",
       "      <td>2021-01-01</td>\n",
       "      <td>Wrong rating - No accident</td>\n",
       "      <td>Rajeshwari</td>\n",
       "      <td>False Alarm</td>\n",
       "    </tr>\n",
       "    <tr>\n",
       "      <th>5</th>\n",
       "      <td>2021-01-02</td>\n",
       "      <td>Wrong rating - Accident</td>\n",
       "      <td>Rajeshwari</td>\n",
       "      <td>False Alarm</td>\n",
       "    </tr>\n",
       "    <tr>\n",
       "      <th>6</th>\n",
       "      <td>2021-01-03</td>\n",
       "      <td>Wrong rating - Accident</td>\n",
       "      <td>Narendra</td>\n",
       "      <td>False Alarm</td>\n",
       "    </tr>\n",
       "    <tr>\n",
       "      <th>7</th>\n",
       "      <td>2021-01-03</td>\n",
       "      <td>Wrong rating - Accident</td>\n",
       "      <td>Narendra</td>\n",
       "      <td>False Alarm</td>\n",
       "    </tr>\n",
       "    <tr>\n",
       "      <th>8</th>\n",
       "      <td>2021-01-03</td>\n",
       "      <td>Wrong rating - No accident</td>\n",
       "      <td>Aparna</td>\n",
       "      <td>False Alarm</td>\n",
       "    </tr>\n",
       "    <tr>\n",
       "      <th>9</th>\n",
       "      <td>2021-01-04</td>\n",
       "      <td>Wrong rating - Accident</td>\n",
       "      <td>Yuvaraja</td>\n",
       "      <td>False Alarm</td>\n",
       "    </tr>\n",
       "    <tr>\n",
       "      <th>10</th>\n",
       "      <td>2021-01-04</td>\n",
       "      <td>Wrong rating - Accident</td>\n",
       "      <td>Mallikarjun</td>\n",
       "      <td>False Alarm</td>\n",
       "    </tr>\n",
       "    <tr>\n",
       "      <th>11</th>\n",
       "      <td>2021-01-04</td>\n",
       "      <td>Wrong rating - Accident</td>\n",
       "      <td>Yuvaraja</td>\n",
       "      <td>False Alarm</td>\n",
       "    </tr>\n",
       "    <tr>\n",
       "      <th>12</th>\n",
       "      <td>2021-01-05</td>\n",
       "      <td>Wrong rating - No accident</td>\n",
       "      <td>Mallikarjun</td>\n",
       "      <td>False Alarm</td>\n",
       "    </tr>\n",
       "    <tr>\n",
       "      <th>13</th>\n",
       "      <td>2021-01-05</td>\n",
       "      <td>Wrong rating - No accident</td>\n",
       "      <td>Rajeshwari</td>\n",
       "      <td>False Alarm</td>\n",
       "    </tr>\n",
       "    <tr>\n",
       "      <th>14</th>\n",
       "      <td>2021-01-07</td>\n",
       "      <td>Wrong rating - No accident</td>\n",
       "      <td>Shiva Kumar</td>\n",
       "      <td>False Alarm</td>\n",
       "    </tr>\n",
       "    <tr>\n",
       "      <th>15</th>\n",
       "      <td>2021-01-08</td>\n",
       "      <td>Wrong rating - No accident</td>\n",
       "      <td>Rajeshwari</td>\n",
       "      <td>False Alarm</td>\n",
       "    </tr>\n",
       "    <tr>\n",
       "      <th>16</th>\n",
       "      <td>2021-01-09</td>\n",
       "      <td>Wrong rating - No accident</td>\n",
       "      <td>Aparna</td>\n",
       "      <td>False Alarm</td>\n",
       "    </tr>\n",
       "    <tr>\n",
       "      <th>17</th>\n",
       "      <td>2021-01-10</td>\n",
       "      <td>Wrong rating - No accident</td>\n",
       "      <td>Rajeshwari</td>\n",
       "      <td>False Alarm</td>\n",
       "    </tr>\n",
       "    <tr>\n",
       "      <th>18</th>\n",
       "      <td>2021-01-11</td>\n",
       "      <td>missed accident</td>\n",
       "      <td>Yuvaraja</td>\n",
       "      <td>False Alarm</td>\n",
       "    </tr>\n",
       "    <tr>\n",
       "      <th>19</th>\n",
       "      <td>2021-01-11</td>\n",
       "      <td>missed accident</td>\n",
       "      <td>Shiva Kumar</td>\n",
       "      <td>False Alarm</td>\n",
       "    </tr>\n",
       "    <tr>\n",
       "      <th>20</th>\n",
       "      <td>2021-01-11</td>\n",
       "      <td>missed accident</td>\n",
       "      <td>Rajeshwari</td>\n",
       "      <td>False Alarm</td>\n",
       "    </tr>\n",
       "    <tr>\n",
       "      <th>21</th>\n",
       "      <td>2021-01-11</td>\n",
       "      <td>missed accident</td>\n",
       "      <td>Mallikarjun</td>\n",
       "      <td>False Alarm</td>\n",
       "    </tr>\n",
       "    <tr>\n",
       "      <th>22</th>\n",
       "      <td>2021-01-11</td>\n",
       "      <td>Wrong rating - Accident</td>\n",
       "      <td>Rajeshwari</td>\n",
       "      <td>False Alarm</td>\n",
       "    </tr>\n",
       "    <tr>\n",
       "      <th>23</th>\n",
       "      <td>2021-01-12</td>\n",
       "      <td>Wrong rating - Accident</td>\n",
       "      <td>Aparna</td>\n",
       "      <td>False Alarm</td>\n",
       "    </tr>\n",
       "    <tr>\n",
       "      <th>24</th>\n",
       "      <td>2021-01-12</td>\n",
       "      <td>Wrong rating - No accident</td>\n",
       "      <td>Shivam</td>\n",
       "      <td>False Alarm</td>\n",
       "    </tr>\n",
       "    <tr>\n",
       "      <th>25</th>\n",
       "      <td>2021-01-12</td>\n",
       "      <td>missed accident</td>\n",
       "      <td>Mallikarjun</td>\n",
       "      <td>False Alarm</td>\n",
       "    </tr>\n",
       "    <tr>\n",
       "      <th>26</th>\n",
       "      <td>2021-01-12</td>\n",
       "      <td>Wrong rating - Accident</td>\n",
       "      <td>Mallikarjun</td>\n",
       "      <td>False Alarm</td>\n",
       "    </tr>\n",
       "    <tr>\n",
       "      <th>27</th>\n",
       "      <td>2021-01-12</td>\n",
       "      <td>Wrong rating - No accident</td>\n",
       "      <td>Mallikarjun</td>\n",
       "      <td>False Alarm</td>\n",
       "    </tr>\n",
       "    <tr>\n",
       "      <th>28</th>\n",
       "      <td>2021-01-13</td>\n",
       "      <td>Wrong rating - Accident</td>\n",
       "      <td>Aparna</td>\n",
       "      <td>False Alarm</td>\n",
       "    </tr>\n",
       "    <tr>\n",
       "      <th>29</th>\n",
       "      <td>2021-01-13</td>\n",
       "      <td>Wrong rating - Accident</td>\n",
       "      <td>Shiva Kumar</td>\n",
       "      <td>False Alarm</td>\n",
       "    </tr>\n",
       "    <tr>\n",
       "      <th>30</th>\n",
       "      <td>2021-01-14</td>\n",
       "      <td>Wrong rating - Accident</td>\n",
       "      <td>Shiva Kumar</td>\n",
       "      <td>False Alarm</td>\n",
       "    </tr>\n",
       "    <tr>\n",
       "      <th>31</th>\n",
       "      <td>2021-01-15</td>\n",
       "      <td>Wrong rating - Accident</td>\n",
       "      <td>Kiran</td>\n",
       "      <td>False Alarm</td>\n",
       "    </tr>\n",
       "    <tr>\n",
       "      <th>32</th>\n",
       "      <td>2021-01-15</td>\n",
       "      <td>Wrong rating - Accident</td>\n",
       "      <td>Yuvaraja</td>\n",
       "      <td>False Alarm</td>\n",
       "    </tr>\n",
       "    <tr>\n",
       "      <th>33</th>\n",
       "      <td>2021-01-15</td>\n",
       "      <td>Wrong rating - No accident</td>\n",
       "      <td>Aparna</td>\n",
       "      <td>False Alarm</td>\n",
       "    </tr>\n",
       "    <tr>\n",
       "      <th>34</th>\n",
       "      <td>2021-01-16</td>\n",
       "      <td>Wrong rating - Accident</td>\n",
       "      <td>Shiva Kumar</td>\n",
       "      <td>False Alarm</td>\n",
       "    </tr>\n",
       "    <tr>\n",
       "      <th>35</th>\n",
       "      <td>2021-01-16</td>\n",
       "      <td>Wrong rating - No accident</td>\n",
       "      <td>Shiva Kumar</td>\n",
       "      <td>False Alarm</td>\n",
       "    </tr>\n",
       "    <tr>\n",
       "      <th>36</th>\n",
       "      <td>2021-01-16</td>\n",
       "      <td>Wrong rating - No accident</td>\n",
       "      <td>Rajeshwari</td>\n",
       "      <td>False Alarm</td>\n",
       "    </tr>\n",
       "    <tr>\n",
       "      <th>37</th>\n",
       "      <td>2021-01-16</td>\n",
       "      <td>Wrong rating - Accident</td>\n",
       "      <td>Rajeshwari</td>\n",
       "      <td>False Alarm</td>\n",
       "    </tr>\n",
       "    <tr>\n",
       "      <th>38</th>\n",
       "      <td>2021-01-17</td>\n",
       "      <td>Wrong rating - No accident</td>\n",
       "      <td>Rajeshwari</td>\n",
       "      <td>False Alarm</td>\n",
       "    </tr>\n",
       "    <tr>\n",
       "      <th>39</th>\n",
       "      <td>2021-01-17</td>\n",
       "      <td>Wrong rating - Accident</td>\n",
       "      <td>Rajeshwari</td>\n",
       "      <td>False Alarm</td>\n",
       "    </tr>\n",
       "    <tr>\n",
       "      <th>40</th>\n",
       "      <td>2021-01-17</td>\n",
       "      <td>Wrong rating - Accident</td>\n",
       "      <td>Shiva Kumar</td>\n",
       "      <td>False Alarm</td>\n",
       "    </tr>\n",
       "    <tr>\n",
       "      <th>41</th>\n",
       "      <td>2021-01-18</td>\n",
       "      <td>Wrong rating - No accident</td>\n",
       "      <td>Narendra</td>\n",
       "      <td>False Alarm</td>\n",
       "    </tr>\n",
       "    <tr>\n",
       "      <th>42</th>\n",
       "      <td>2021-01-18</td>\n",
       "      <td>Wrong rating - No accident</td>\n",
       "      <td>Kiran</td>\n",
       "      <td>False Alarm</td>\n",
       "    </tr>\n",
       "    <tr>\n",
       "      <th>43</th>\n",
       "      <td>2021-01-18</td>\n",
       "      <td>Wrong rating - Accident</td>\n",
       "      <td>Shivam</td>\n",
       "      <td>False Alarm</td>\n",
       "    </tr>\n",
       "    <tr>\n",
       "      <th>44</th>\n",
       "      <td>2021-01-17</td>\n",
       "      <td>missed accident</td>\n",
       "      <td>Shivam</td>\n",
       "      <td>False Alarm</td>\n",
       "    </tr>\n",
       "    <tr>\n",
       "      <th>45</th>\n",
       "      <td>2021-01-18</td>\n",
       "      <td>missed accident</td>\n",
       "      <td>Narendra</td>\n",
       "      <td>False Alarm</td>\n",
       "    </tr>\n",
       "    <tr>\n",
       "      <th>46</th>\n",
       "      <td>2021-01-20</td>\n",
       "      <td>No support</td>\n",
       "      <td>NaN</td>\n",
       "      <td>False Alarm</td>\n",
       "    </tr>\n",
       "    <tr>\n",
       "      <th>47</th>\n",
       "      <td>2021-01-20</td>\n",
       "      <td>No support</td>\n",
       "      <td>NaN</td>\n",
       "      <td>False Alarm</td>\n",
       "    </tr>\n",
       "    <tr>\n",
       "      <th>48</th>\n",
       "      <td>2021-01-22</td>\n",
       "      <td>Wrong rating - No accident</td>\n",
       "      <td>Mallikarjun</td>\n",
       "      <td>False Alarm</td>\n",
       "    </tr>\n",
       "    <tr>\n",
       "      <th>49</th>\n",
       "      <td>2021-01-24</td>\n",
       "      <td>missed collision</td>\n",
       "      <td>Mallikarjun</td>\n",
       "      <td>False Alarm</td>\n",
       "    </tr>\n",
       "    <tr>\n",
       "      <th>50</th>\n",
       "      <td>2021-01-24</td>\n",
       "      <td>missed collision</td>\n",
       "      <td>Narendra</td>\n",
       "      <td>False Alarm</td>\n",
       "    </tr>\n",
       "    <tr>\n",
       "      <th>51</th>\n",
       "      <td>2021-01-24</td>\n",
       "      <td>missed collision</td>\n",
       "      <td>Yuvaraja</td>\n",
       "      <td>False Alarm</td>\n",
       "    </tr>\n",
       "    <tr>\n",
       "      <th>52</th>\n",
       "      <td>2021-01-25</td>\n",
       "      <td>missed collision</td>\n",
       "      <td>Narendra</td>\n",
       "      <td>False Alarm</td>\n",
       "    </tr>\n",
       "    <tr>\n",
       "      <th>53</th>\n",
       "      <td>2021-01-25</td>\n",
       "      <td>missed collision</td>\n",
       "      <td>Mallikarjun</td>\n",
       "      <td>False Alarm</td>\n",
       "    </tr>\n",
       "    <tr>\n",
       "      <th>54</th>\n",
       "      <td>2021-01-25</td>\n",
       "      <td>No support</td>\n",
       "      <td>Shiva Kumar</td>\n",
       "      <td>False Alarm</td>\n",
       "    </tr>\n",
       "    <tr>\n",
       "      <th>55</th>\n",
       "      <td>2021-01-27</td>\n",
       "      <td>missed collision</td>\n",
       "      <td>Shiva Kumar</td>\n",
       "      <td>False Alarm</td>\n",
       "    </tr>\n",
       "    <tr>\n",
       "      <th>56</th>\n",
       "      <td>2021-01-27</td>\n",
       "      <td>missed collision</td>\n",
       "      <td>Yuvaraja</td>\n",
       "      <td>False Alarm</td>\n",
       "    </tr>\n",
       "    <tr>\n",
       "      <th>57</th>\n",
       "      <td>2021-01-27</td>\n",
       "      <td>missed collision</td>\n",
       "      <td>Yuvaraja</td>\n",
       "      <td>False Alarm</td>\n",
       "    </tr>\n",
       "    <tr>\n",
       "      <th>58</th>\n",
       "      <td>2021-01-29</td>\n",
       "      <td>Wrong rating - No accident</td>\n",
       "      <td>Narendra</td>\n",
       "      <td>False Alarm</td>\n",
       "    </tr>\n",
       "  </tbody>\n",
       "</table>\n",
       "</div>"
      ],
      "text/plain": [
       "         Date                      Rating    Reviewers False_Alarm_Creation\n",
       "2  2021-01-01     Wrong rating - Accident  Shiva Kumar          False Alarm\n",
       "3  2021-01-01  Wrong rating - No accident  Shiva Kumar          False Alarm\n",
       "4  2021-01-01  Wrong rating - No accident   Rajeshwari          False Alarm\n",
       "5  2021-01-02     Wrong rating - Accident   Rajeshwari          False Alarm\n",
       "6  2021-01-03     Wrong rating - Accident     Narendra          False Alarm\n",
       "7  2021-01-03     Wrong rating - Accident     Narendra          False Alarm\n",
       "8  2021-01-03  Wrong rating - No accident       Aparna          False Alarm\n",
       "9  2021-01-04     Wrong rating - Accident     Yuvaraja          False Alarm\n",
       "10 2021-01-04     Wrong rating - Accident  Mallikarjun          False Alarm\n",
       "11 2021-01-04     Wrong rating - Accident     Yuvaraja          False Alarm\n",
       "12 2021-01-05  Wrong rating - No accident  Mallikarjun          False Alarm\n",
       "13 2021-01-05  Wrong rating - No accident   Rajeshwari          False Alarm\n",
       "14 2021-01-07  Wrong rating - No accident  Shiva Kumar          False Alarm\n",
       "15 2021-01-08  Wrong rating - No accident   Rajeshwari          False Alarm\n",
       "16 2021-01-09  Wrong rating - No accident       Aparna          False Alarm\n",
       "17 2021-01-10  Wrong rating - No accident   Rajeshwari          False Alarm\n",
       "18 2021-01-11             missed accident     Yuvaraja          False Alarm\n",
       "19 2021-01-11             missed accident  Shiva Kumar          False Alarm\n",
       "20 2021-01-11             missed accident   Rajeshwari          False Alarm\n",
       "21 2021-01-11             missed accident  Mallikarjun          False Alarm\n",
       "22 2021-01-11     Wrong rating - Accident   Rajeshwari          False Alarm\n",
       "23 2021-01-12     Wrong rating - Accident       Aparna          False Alarm\n",
       "24 2021-01-12  Wrong rating - No accident       Shivam          False Alarm\n",
       "25 2021-01-12             missed accident  Mallikarjun          False Alarm\n",
       "26 2021-01-12     Wrong rating - Accident  Mallikarjun          False Alarm\n",
       "27 2021-01-12  Wrong rating - No accident  Mallikarjun          False Alarm\n",
       "28 2021-01-13     Wrong rating - Accident       Aparna          False Alarm\n",
       "29 2021-01-13     Wrong rating - Accident  Shiva Kumar          False Alarm\n",
       "30 2021-01-14     Wrong rating - Accident  Shiva Kumar          False Alarm\n",
       "31 2021-01-15     Wrong rating - Accident        Kiran          False Alarm\n",
       "32 2021-01-15     Wrong rating - Accident     Yuvaraja          False Alarm\n",
       "33 2021-01-15  Wrong rating - No accident       Aparna          False Alarm\n",
       "34 2021-01-16     Wrong rating - Accident  Shiva Kumar          False Alarm\n",
       "35 2021-01-16  Wrong rating - No accident  Shiva Kumar          False Alarm\n",
       "36 2021-01-16  Wrong rating - No accident   Rajeshwari          False Alarm\n",
       "37 2021-01-16     Wrong rating - Accident   Rajeshwari          False Alarm\n",
       "38 2021-01-17  Wrong rating - No accident   Rajeshwari          False Alarm\n",
       "39 2021-01-17     Wrong rating - Accident   Rajeshwari          False Alarm\n",
       "40 2021-01-17     Wrong rating - Accident  Shiva Kumar          False Alarm\n",
       "41 2021-01-18  Wrong rating - No accident     Narendra          False Alarm\n",
       "42 2021-01-18  Wrong rating - No accident        Kiran          False Alarm\n",
       "43 2021-01-18     Wrong rating - Accident       Shivam          False Alarm\n",
       "44 2021-01-17             missed accident       Shivam          False Alarm\n",
       "45 2021-01-18             missed accident     Narendra          False Alarm\n",
       "46 2021-01-20                  No support          NaN          False Alarm\n",
       "47 2021-01-20                  No support          NaN          False Alarm\n",
       "48 2021-01-22  Wrong rating - No accident  Mallikarjun          False Alarm\n",
       "49 2021-01-24            missed collision  Mallikarjun          False Alarm\n",
       "50 2021-01-24            missed collision     Narendra          False Alarm\n",
       "51 2021-01-24            missed collision     Yuvaraja          False Alarm\n",
       "52 2021-01-25            missed collision     Narendra          False Alarm\n",
       "53 2021-01-25            missed collision  Mallikarjun          False Alarm\n",
       "54 2021-01-25                  No support  Shiva Kumar          False Alarm\n",
       "55 2021-01-27            missed collision  Shiva Kumar          False Alarm\n",
       "56 2021-01-27            missed collision     Yuvaraja          False Alarm\n",
       "57 2021-01-27            missed collision     Yuvaraja          False Alarm\n",
       "58 2021-01-29  Wrong rating - No accident     Narendra          False Alarm"
      ]
     },
     "execution_count": 98,
     "metadata": {},
     "output_type": "execute_result"
    }
   ],
   "source": [
    "data_reviewers_support_January=data_reviewers_support[(data_reviewers_support['Date'] >= '2021-01-01') & (data_reviewers_support['Date'] <= '2021-01-31')]\n",
    "data_reviewers_support_January"
   ]
  },
  {
   "cell_type": "markdown",
   "metadata": {},
   "source": [
    "#### Count the number of False alarms and the reviewers"
   ]
  },
  {
   "cell_type": "code",
   "execution_count": 99,
   "metadata": {},
   "outputs": [
    {
     "data": {
      "text/plain": [
       "57"
      ]
     },
     "execution_count": 99,
     "metadata": {},
     "output_type": "execute_result"
    }
   ],
   "source": [
    "data_reviewers_support_January['False_Alarm_Creation'].count()"
   ]
  },
  {
   "cell_type": "code",
   "execution_count": 100,
   "metadata": {},
   "outputs": [
    {
     "data": {
      "text/plain": [
       "Shiva Kumar    11\n",
       "Rajeshwari     11\n",
       "Mallikarjun     9\n",
       "Narendra        7\n",
       "Yuvaraja        7\n",
       "Aparna          5\n",
       "Shivam          3\n",
       "Kiran           2\n",
       "Name: Reviewers, dtype: int64"
      ]
     },
     "execution_count": 100,
     "metadata": {},
     "output_type": "execute_result"
    }
   ],
   "source": [
    "data_reviewers_support_January['Reviewers'].value_counts()"
   ]
  },
  {
   "cell_type": "code",
   "execution_count": 101,
   "metadata": {},
   "outputs": [
    {
     "data": {
      "text/plain": [
       "55"
      ]
     },
     "execution_count": 101,
     "metadata": {},
     "output_type": "execute_result"
    }
   ],
   "source": [
    "data_reviewers_support_January['Reviewers'].count()"
   ]
  },
  {
   "cell_type": "code",
   "execution_count": 102,
   "metadata": {},
   "outputs": [
    {
     "data": {
      "image/png": "[encoded data removed]",
      "text/plain": [
       "<Figure size 720x360 with 1 Axes>"
      ]
     },
     "metadata": {
      "needs_background": "light"
     },
     "output_type": "display_data"
    }
   ],
   "source": [
    "X=data_reviewers_support_January['Reviewers'].value_counts()\n",
    "plt.figure(figsize=(10,5))\n",
    "plt.plot(X,color='saddlebrown', marker='o', linestyle='solid',linewidth=2, markersize=5)\n",
    "plt.xticks(rotation=40)\n",
    "plt.title(\"Reviewers having total number of false alarms in the month of January 2021\", color='black')\n",
    "for i, v in enumerate(X):\n",
    "    plt.text(i, v+0.03, \"%d\" %v, ha=\"center\",fontdict={'fontsize':'13'})\n",
    "plt.show()\n"
   ]
  },
  {
   "cell_type": "markdown",
   "metadata": {},
   "source": [
    "#### 3] February 2021"
   ]
  },
  {
   "cell_type": "code",
   "execution_count": 103,
   "metadata": {},
   "outputs": [
    {
     "data": {
      "text/html": [
       "<div>\n",
       "<style scoped>\n",
       "    .dataframe tbody tr th:only-of-type {\n",
       "        vertical-align: middle;\n",
       "    }\n",
       "\n",
       "    .dataframe tbody tr th {\n",
       "        vertical-align: top;\n",
       "    }\n",
       "\n",
       "    .dataframe thead th {\n",
       "        text-align: right;\n",
       "    }\n",
       "</style>\n",
       "<table border=\"1\" class=\"dataframe\">\n",
       "  <thead>\n",
       "    <tr style=\"text-align: right;\">\n",
       "      <th></th>\n",
       "      <th>Date</th>\n",
       "      <th>Rating</th>\n",
       "      <th>Reviewers</th>\n",
       "      <th>False_Alarm_Creation</th>\n",
       "    </tr>\n",
       "  </thead>\n",
       "  <tbody>\n",
       "    <tr>\n",
       "      <th>59</th>\n",
       "      <td>2021-02-01</td>\n",
       "      <td>missed collision</td>\n",
       "      <td>Shivam</td>\n",
       "      <td>False Alarm</td>\n",
       "    </tr>\n",
       "    <tr>\n",
       "      <th>60</th>\n",
       "      <td>2021-02-01</td>\n",
       "      <td>missed collision</td>\n",
       "      <td>Aparna</td>\n",
       "      <td>False Alarm</td>\n",
       "    </tr>\n",
       "    <tr>\n",
       "      <th>61</th>\n",
       "      <td>2021-02-02</td>\n",
       "      <td>missed collision</td>\n",
       "      <td>Aparna</td>\n",
       "      <td>False Alarm</td>\n",
       "    </tr>\n",
       "    <tr>\n",
       "      <th>62</th>\n",
       "      <td>2021-02-03</td>\n",
       "      <td>missed collision</td>\n",
       "      <td>Yuvaraja</td>\n",
       "      <td>False Alarm</td>\n",
       "    </tr>\n",
       "    <tr>\n",
       "      <th>63</th>\n",
       "      <td>2021-02-03</td>\n",
       "      <td>missed collision</td>\n",
       "      <td>Aparna</td>\n",
       "      <td>False Alarm</td>\n",
       "    </tr>\n",
       "    <tr>\n",
       "      <th>64</th>\n",
       "      <td>2021-02-03</td>\n",
       "      <td>missed collision</td>\n",
       "      <td>Aparna</td>\n",
       "      <td>False Alarm</td>\n",
       "    </tr>\n",
       "    <tr>\n",
       "      <th>65</th>\n",
       "      <td>2021-02-03</td>\n",
       "      <td>missed collision</td>\n",
       "      <td>Yuvaraja</td>\n",
       "      <td>False Alarm</td>\n",
       "    </tr>\n",
       "    <tr>\n",
       "      <th>66</th>\n",
       "      <td>2021-02-03</td>\n",
       "      <td>missed collision</td>\n",
       "      <td>Aparna</td>\n",
       "      <td>False Alarm</td>\n",
       "    </tr>\n",
       "    <tr>\n",
       "      <th>67</th>\n",
       "      <td>2021-02-04</td>\n",
       "      <td>missed collision</td>\n",
       "      <td>Yuvaraja</td>\n",
       "      <td>False Alarm</td>\n",
       "    </tr>\n",
       "    <tr>\n",
       "      <th>68</th>\n",
       "      <td>2021-02-04</td>\n",
       "      <td>Wrong rating - No accident</td>\n",
       "      <td>Shivam</td>\n",
       "      <td>False Alarm</td>\n",
       "    </tr>\n",
       "    <tr>\n",
       "      <th>69</th>\n",
       "      <td>2021-02-04</td>\n",
       "      <td>Wrong rating - No accident</td>\n",
       "      <td>Aparna</td>\n",
       "      <td>False Alarm</td>\n",
       "    </tr>\n",
       "    <tr>\n",
       "      <th>70</th>\n",
       "      <td>2021-02-04</td>\n",
       "      <td>Wrong rating - No accident</td>\n",
       "      <td>Shivam</td>\n",
       "      <td>False Alarm</td>\n",
       "    </tr>\n",
       "    <tr>\n",
       "      <th>71</th>\n",
       "      <td>2021-02-04</td>\n",
       "      <td>Wrong rating - No accident</td>\n",
       "      <td>Shivam</td>\n",
       "      <td>False Alarm</td>\n",
       "    </tr>\n",
       "    <tr>\n",
       "      <th>72</th>\n",
       "      <td>2021-02-05</td>\n",
       "      <td>missed collision</td>\n",
       "      <td>Aparna</td>\n",
       "      <td>False Alarm</td>\n",
       "    </tr>\n",
       "    <tr>\n",
       "      <th>73</th>\n",
       "      <td>2021-02-05</td>\n",
       "      <td>missed collision</td>\n",
       "      <td>Shivam</td>\n",
       "      <td>False Alarm</td>\n",
       "    </tr>\n",
       "    <tr>\n",
       "      <th>74</th>\n",
       "      <td>2021-02-06</td>\n",
       "      <td>missed collision</td>\n",
       "      <td>Rajeshwari</td>\n",
       "      <td>False Alarm</td>\n",
       "    </tr>\n",
       "    <tr>\n",
       "      <th>75</th>\n",
       "      <td>2021-02-06</td>\n",
       "      <td>grabbed no submitted review</td>\n",
       "      <td>Narendra</td>\n",
       "      <td>False Alarm</td>\n",
       "    </tr>\n",
       "    <tr>\n",
       "      <th>76</th>\n",
       "      <td>2021-02-06</td>\n",
       "      <td>No support</td>\n",
       "      <td>Rajeshwari</td>\n",
       "      <td>False Alarm</td>\n",
       "    </tr>\n",
       "    <tr>\n",
       "      <th>77</th>\n",
       "      <td>2021-02-08</td>\n",
       "      <td>No support</td>\n",
       "      <td>Shiva Kumar</td>\n",
       "      <td>False Alarm</td>\n",
       "    </tr>\n",
       "    <tr>\n",
       "      <th>78</th>\n",
       "      <td>2021-02-12</td>\n",
       "      <td>missed collision</td>\n",
       "      <td>Shivam</td>\n",
       "      <td>False Alarm</td>\n",
       "    </tr>\n",
       "    <tr>\n",
       "      <th>79</th>\n",
       "      <td>2021-02-12</td>\n",
       "      <td>missed collision</td>\n",
       "      <td>Yuvaraja</td>\n",
       "      <td>False Alarm</td>\n",
       "    </tr>\n",
       "    <tr>\n",
       "      <th>80</th>\n",
       "      <td>2021-02-16</td>\n",
       "      <td>missed collision</td>\n",
       "      <td>Kiran</td>\n",
       "      <td>False Alarm</td>\n",
       "    </tr>\n",
       "    <tr>\n",
       "      <th>81</th>\n",
       "      <td>2021-02-16</td>\n",
       "      <td>missed collision</td>\n",
       "      <td>Narendra</td>\n",
       "      <td>False Alarm</td>\n",
       "    </tr>\n",
       "    <tr>\n",
       "      <th>82</th>\n",
       "      <td>2021-02-16</td>\n",
       "      <td>missed collision</td>\n",
       "      <td>Narendra</td>\n",
       "      <td>False Alarm</td>\n",
       "    </tr>\n",
       "    <tr>\n",
       "      <th>83</th>\n",
       "      <td>2021-02-22</td>\n",
       "      <td>missed collision</td>\n",
       "      <td>Shivam</td>\n",
       "      <td>False Alarm</td>\n",
       "    </tr>\n",
       "    <tr>\n",
       "      <th>84</th>\n",
       "      <td>2021-02-22</td>\n",
       "      <td>missed collision</td>\n",
       "      <td>Aparna</td>\n",
       "      <td>False Alarm</td>\n",
       "    </tr>\n",
       "    <tr>\n",
       "      <th>85</th>\n",
       "      <td>2021-02-22</td>\n",
       "      <td>missed collision</td>\n",
       "      <td>Aparna</td>\n",
       "      <td>False Alarm</td>\n",
       "    </tr>\n",
       "    <tr>\n",
       "      <th>86</th>\n",
       "      <td>2021-02-23</td>\n",
       "      <td>missed collision</td>\n",
       "      <td>Shiva Kumar</td>\n",
       "      <td>False Alarm</td>\n",
       "    </tr>\n",
       "    <tr>\n",
       "      <th>87</th>\n",
       "      <td>2021-02-23</td>\n",
       "      <td>missed collision</td>\n",
       "      <td>Rajeshwari</td>\n",
       "      <td>False Alarm</td>\n",
       "    </tr>\n",
       "    <tr>\n",
       "      <th>88</th>\n",
       "      <td>2021-02-23</td>\n",
       "      <td>missed collision</td>\n",
       "      <td>Rajeshwari</td>\n",
       "      <td>False Alarm</td>\n",
       "    </tr>\n",
       "    <tr>\n",
       "      <th>89</th>\n",
       "      <td>2021-02-24</td>\n",
       "      <td>Wrong rating - No accident</td>\n",
       "      <td>Aparna</td>\n",
       "      <td>False Alarm</td>\n",
       "    </tr>\n",
       "    <tr>\n",
       "      <th>90</th>\n",
       "      <td>2021-02-24</td>\n",
       "      <td>Wrong rating - No accident</td>\n",
       "      <td>Shivam</td>\n",
       "      <td>False Alarm</td>\n",
       "    </tr>\n",
       "    <tr>\n",
       "      <th>91</th>\n",
       "      <td>2021-02-25</td>\n",
       "      <td>Wrong rating - No accident</td>\n",
       "      <td>Kiran</td>\n",
       "      <td>False Alarm</td>\n",
       "    </tr>\n",
       "    <tr>\n",
       "      <th>92</th>\n",
       "      <td>2021-02-25</td>\n",
       "      <td>Wrong rating - No accident</td>\n",
       "      <td>Yuvaraja</td>\n",
       "      <td>False Alarm</td>\n",
       "    </tr>\n",
       "    <tr>\n",
       "      <th>93</th>\n",
       "      <td>2021-02-26</td>\n",
       "      <td>missed collision</td>\n",
       "      <td>Shivam</td>\n",
       "      <td>False Alarm</td>\n",
       "    </tr>\n",
       "    <tr>\n",
       "      <th>94</th>\n",
       "      <td>2021-02-27</td>\n",
       "      <td>Wrong rating - Accident</td>\n",
       "      <td>Kiran</td>\n",
       "      <td>False Alarm</td>\n",
       "    </tr>\n",
       "    <tr>\n",
       "      <th>95</th>\n",
       "      <td>2021-02-27</td>\n",
       "      <td>Wrong rating - Accident</td>\n",
       "      <td>Aparna</td>\n",
       "      <td>False Alarm</td>\n",
       "    </tr>\n",
       "    <tr>\n",
       "      <th>96</th>\n",
       "      <td>2021-02-28</td>\n",
       "      <td>P1 missed accident - review resubmitted</td>\n",
       "      <td>Shiva Kumar</td>\n",
       "      <td>False Alarm</td>\n",
       "    </tr>\n",
       "  </tbody>\n",
       "</table>\n",
       "</div>"
      ],
      "text/plain": [
       "         Date                                   Rating    Reviewers  \\\n",
       "59 2021-02-01                         missed collision       Shivam   \n",
       "60 2021-02-01                         missed collision       Aparna   \n",
       "61 2021-02-02                         missed collision       Aparna   \n",
       "62 2021-02-03                         missed collision     Yuvaraja   \n",
       "63 2021-02-03                         missed collision       Aparna   \n",
       "64 2021-02-03                         missed collision       Aparna   \n",
       "65 2021-02-03                         missed collision     Yuvaraja   \n",
       "66 2021-02-03                         missed collision       Aparna   \n",
       "67 2021-02-04                         missed collision     Yuvaraja   \n",
       "68 2021-02-04               Wrong rating - No accident       Shivam   \n",
       "69 2021-02-04               Wrong rating - No accident       Aparna   \n",
       "70 2021-02-04               Wrong rating - No accident       Shivam   \n",
       "71 2021-02-04               Wrong rating - No accident       Shivam   \n",
       "72 2021-02-05                         missed collision       Aparna   \n",
       "73 2021-02-05                         missed collision       Shivam   \n",
       "74 2021-02-06                         missed collision   Rajeshwari   \n",
       "75 2021-02-06              grabbed no submitted review     Narendra   \n",
       "76 2021-02-06                               No support   Rajeshwari   \n",
       "77 2021-02-08                               No support  Shiva Kumar   \n",
       "78 2021-02-12                         missed collision       Shivam   \n",
       "79 2021-02-12                         missed collision     Yuvaraja   \n",
       "80 2021-02-16                         missed collision        Kiran   \n",
       "81 2021-02-16                         missed collision     Narendra   \n",
       "82 2021-02-16                         missed collision     Narendra   \n",
       "83 2021-02-22                         missed collision       Shivam   \n",
       "84 2021-02-22                         missed collision       Aparna   \n",
       "85 2021-02-22                         missed collision       Aparna   \n",
       "86 2021-02-23                         missed collision  Shiva Kumar   \n",
       "87 2021-02-23                         missed collision   Rajeshwari   \n",
       "88 2021-02-23                         missed collision   Rajeshwari   \n",
       "89 2021-02-24               Wrong rating - No accident       Aparna   \n",
       "90 2021-02-24               Wrong rating - No accident       Shivam   \n",
       "91 2021-02-25               Wrong rating - No accident        Kiran   \n",
       "92 2021-02-25               Wrong rating - No accident     Yuvaraja   \n",
       "93 2021-02-26                         missed collision       Shivam   \n",
       "94 2021-02-27                  Wrong rating - Accident        Kiran   \n",
       "95 2021-02-27                  Wrong rating - Accident       Aparna   \n",
       "96 2021-02-28  P1 missed accident - review resubmitted  Shiva Kumar   \n",
       "\n",
       "   False_Alarm_Creation  \n",
       "59          False Alarm  \n",
       "60          False Alarm  \n",
       "61          False Alarm  \n",
       "62          False Alarm  \n",
       "63          False Alarm  \n",
       "64          False Alarm  \n",
       "65          False Alarm  \n",
       "66          False Alarm  \n",
       "67          False Alarm  \n",
       "68          False Alarm  \n",
       "69          False Alarm  \n",
       "70          False Alarm  \n",
       "71          False Alarm  \n",
       "72          False Alarm  \n",
       "73          False Alarm  \n",
       "74          False Alarm  \n",
       "75          False Alarm  \n",
       "76          False Alarm  \n",
       "77          False Alarm  \n",
       "78          False Alarm  \n",
       "79          False Alarm  \n",
       "80          False Alarm  \n",
       "81          False Alarm  \n",
       "82          False Alarm  \n",
       "83          False Alarm  \n",
       "84          False Alarm  \n",
       "85          False Alarm  \n",
       "86          False Alarm  \n",
       "87          False Alarm  \n",
       "88          False Alarm  \n",
       "89          False Alarm  \n",
       "90          False Alarm  \n",
       "91          False Alarm  \n",
       "92          False Alarm  \n",
       "93          False Alarm  \n",
       "94          False Alarm  \n",
       "95          False Alarm  \n",
       "96          False Alarm  "
      ]
     },
     "execution_count": 103,
     "metadata": {},
     "output_type": "execute_result"
    }
   ],
   "source": [
    "data_reviewers_support_February=data_reviewers_support[(data_reviewers_support['Date'] >= '2021-02-01') & (data_reviewers_support['Date'] <= '2021-02-28')]\n",
    "data_reviewers_support_February"
   ]
  },
  {
   "cell_type": "markdown",
   "metadata": {},
   "source": [
    "#### Count the number of False alarms and the reviewers"
   ]
  },
  {
   "cell_type": "code",
   "execution_count": 104,
   "metadata": {},
   "outputs": [
    {
     "data": {
      "text/plain": [
       "38"
      ]
     },
     "execution_count": 104,
     "metadata": {},
     "output_type": "execute_result"
    }
   ],
   "source": [
    "data_reviewers_support_February['False_Alarm_Creation'].count()"
   ]
  },
  {
   "cell_type": "code",
   "execution_count": 105,
   "metadata": {},
   "outputs": [
    {
     "data": {
      "text/plain": [
       "Aparna         11\n",
       "Shivam          9\n",
       "Yuvaraja        5\n",
       "Rajeshwari      4\n",
       "Shiva Kumar     3\n",
       "Narendra        3\n",
       "Kiran           3\n",
       "Name: Reviewers, dtype: int64"
      ]
     },
     "execution_count": 105,
     "metadata": {},
     "output_type": "execute_result"
    }
   ],
   "source": [
    "data_reviewers_support_February['Reviewers'].value_counts()"
   ]
  },
  {
   "cell_type": "code",
   "execution_count": 106,
   "metadata": {},
   "outputs": [
    {
     "data": {
      "text/plain": [
       "38"
      ]
     },
     "execution_count": 106,
     "metadata": {},
     "output_type": "execute_result"
    }
   ],
   "source": [
    "data_reviewers_support_February['Reviewers'].count()"
   ]
  },
  {
   "cell_type": "code",
   "execution_count": 107,
   "metadata": {},
   "outputs": [
    {
     "data": {
      "image/png": "[encoded data removed]",
      "text/plain": [
       "<Figure size 720x360 with 1 Axes>"
      ]
     },
     "metadata": {
      "needs_background": "light"
     },
     "output_type": "display_data"
    }
   ],
   "source": [
    "X=data_reviewers_support_February['Reviewers'].value_counts()\n",
    "plt.figure(figsize=(10,5))\n",
    "plt.plot(X,color='fuchsia', marker='o', linestyle='dotted',linewidth=2, markersize=5)\n",
    "plt.xticks(rotation=40)\n",
    "plt.title(\"Reviewers having total number of false alarms in the month of February 2021\", color='black')\n",
    "for i, v in enumerate(X):\n",
    "    plt.text(i, v+0.03, \"%d\" %v, ha=\"center\",fontdict={'fontsize':'17'})\n",
    "plt.show()"
   ]
  },
  {
   "cell_type": "markdown",
   "metadata": {},
   "source": [
    "#### 4] March 2021"
   ]
  },
  {
   "cell_type": "code",
   "execution_count": 108,
   "metadata": {},
   "outputs": [
    {
     "data": {
      "text/html": [
       "<div>\n",
       "<style scoped>\n",
       "    .dataframe tbody tr th:only-of-type {\n",
       "        vertical-align: middle;\n",
       "    }\n",
       "\n",
       "    .dataframe tbody tr th {\n",
       "        vertical-align: top;\n",
       "    }\n",
       "\n",
       "    .dataframe thead th {\n",
       "        text-align: right;\n",
       "    }\n",
       "</style>\n",
       "<table border=\"1\" class=\"dataframe\">\n",
       "  <thead>\n",
       "    <tr style=\"text-align: right;\">\n",
       "      <th></th>\n",
       "      <th>Date</th>\n",
       "      <th>Rating</th>\n",
       "      <th>Reviewers</th>\n",
       "      <th>False_Alarm_Creation</th>\n",
       "    </tr>\n",
       "  </thead>\n",
       "  <tbody>\n",
       "    <tr>\n",
       "      <th>97</th>\n",
       "      <td>2021-03-01</td>\n",
       "      <td>Wrong rating - No accident</td>\n",
       "      <td>Shiva Kumar</td>\n",
       "      <td>False Alarm</td>\n",
       "    </tr>\n",
       "    <tr>\n",
       "      <th>98</th>\n",
       "      <td>2021-03-02</td>\n",
       "      <td>Wrong rating - Accident</td>\n",
       "      <td>Aparna</td>\n",
       "      <td>False Alarm</td>\n",
       "    </tr>\n",
       "    <tr>\n",
       "      <th>99</th>\n",
       "      <td>2021-03-02</td>\n",
       "      <td>Wrong rating - Accident</td>\n",
       "      <td>Shivam</td>\n",
       "      <td>False Alarm</td>\n",
       "    </tr>\n",
       "    <tr>\n",
       "      <th>100</th>\n",
       "      <td>2021-03-03</td>\n",
       "      <td>Wrong rating - Accident</td>\n",
       "      <td>Narendra</td>\n",
       "      <td>False Alarm</td>\n",
       "    </tr>\n",
       "    <tr>\n",
       "      <th>101</th>\n",
       "      <td>2021-03-03</td>\n",
       "      <td>Wrong rating - Accident</td>\n",
       "      <td>Aparna</td>\n",
       "      <td>False Alarm</td>\n",
       "    </tr>\n",
       "    <tr>\n",
       "      <th>102</th>\n",
       "      <td>2021-03-03</td>\n",
       "      <td>Wrong rating - Accident</td>\n",
       "      <td>Aparna</td>\n",
       "      <td>False Alarm</td>\n",
       "    </tr>\n",
       "    <tr>\n",
       "      <th>103</th>\n",
       "      <td>2021-03-03</td>\n",
       "      <td>Wrong rating - Accident</td>\n",
       "      <td>Narendra</td>\n",
       "      <td>False Alarm</td>\n",
       "    </tr>\n",
       "    <tr>\n",
       "      <th>104</th>\n",
       "      <td>2021-03-03</td>\n",
       "      <td>Wrong rating - No accident</td>\n",
       "      <td>Narendra</td>\n",
       "      <td>False Alarm</td>\n",
       "    </tr>\n",
       "    <tr>\n",
       "      <th>105</th>\n",
       "      <td>2021-03-04</td>\n",
       "      <td>Wrong rating - No accident</td>\n",
       "      <td>Kiran</td>\n",
       "      <td>False Alarm</td>\n",
       "    </tr>\n",
       "    <tr>\n",
       "      <th>106</th>\n",
       "      <td>2021-03-04</td>\n",
       "      <td>Wrong rating - No accident</td>\n",
       "      <td>Yuvaraja</td>\n",
       "      <td>False Alarm</td>\n",
       "    </tr>\n",
       "    <tr>\n",
       "      <th>107</th>\n",
       "      <td>2021-03-05</td>\n",
       "      <td>Wrong rating - Accident</td>\n",
       "      <td>Kiran</td>\n",
       "      <td>False Alarm</td>\n",
       "    </tr>\n",
       "    <tr>\n",
       "      <th>108</th>\n",
       "      <td>2021-03-05</td>\n",
       "      <td>Wrong rating - Accident</td>\n",
       "      <td>Yuvaraja</td>\n",
       "      <td>False Alarm</td>\n",
       "    </tr>\n",
       "    <tr>\n",
       "      <th>109</th>\n",
       "      <td>2021-03-05</td>\n",
       "      <td>Wrong rating - No accident</td>\n",
       "      <td>Kiran</td>\n",
       "      <td>False Alarm</td>\n",
       "    </tr>\n",
       "    <tr>\n",
       "      <th>110</th>\n",
       "      <td>2021-03-05</td>\n",
       "      <td>Wrong rating - No accident</td>\n",
       "      <td>Yuvaraja</td>\n",
       "      <td>False Alarm</td>\n",
       "    </tr>\n",
       "    <tr>\n",
       "      <th>111</th>\n",
       "      <td>2021-03-05</td>\n",
       "      <td>Wrong rating - Accident</td>\n",
       "      <td>Narendra</td>\n",
       "      <td>False Alarm</td>\n",
       "    </tr>\n",
       "    <tr>\n",
       "      <th>112</th>\n",
       "      <td>2021-03-05</td>\n",
       "      <td>Wrong rating - Accident</td>\n",
       "      <td>Aparna</td>\n",
       "      <td>False Alarm</td>\n",
       "    </tr>\n",
       "    <tr>\n",
       "      <th>113</th>\n",
       "      <td>2021-03-06</td>\n",
       "      <td>Wrong rating - No accident</td>\n",
       "      <td>Aparna</td>\n",
       "      <td>False Alarm</td>\n",
       "    </tr>\n",
       "    <tr>\n",
       "      <th>114</th>\n",
       "      <td>2021-03-06</td>\n",
       "      <td>Wrong rating - No accident</td>\n",
       "      <td>Shivam</td>\n",
       "      <td>False Alarm</td>\n",
       "    </tr>\n",
       "    <tr>\n",
       "      <th>115</th>\n",
       "      <td>2021-03-09</td>\n",
       "      <td>Wrong rating - Accident</td>\n",
       "      <td>Aparna</td>\n",
       "      <td>False Alarm</td>\n",
       "    </tr>\n",
       "    <tr>\n",
       "      <th>116</th>\n",
       "      <td>2021-03-09</td>\n",
       "      <td>Wrong rating - Accident</td>\n",
       "      <td>Shivam</td>\n",
       "      <td>False Alarm</td>\n",
       "    </tr>\n",
       "    <tr>\n",
       "      <th>117</th>\n",
       "      <td>2021-03-11</td>\n",
       "      <td>Wrong rating - Accident</td>\n",
       "      <td>Aparna</td>\n",
       "      <td>False Alarm</td>\n",
       "    </tr>\n",
       "    <tr>\n",
       "      <th>118</th>\n",
       "      <td>2021-03-11</td>\n",
       "      <td>Wrong rating - Accident</td>\n",
       "      <td>Shivam</td>\n",
       "      <td>False Alarm</td>\n",
       "    </tr>\n",
       "    <tr>\n",
       "      <th>119</th>\n",
       "      <td>2021-03-13</td>\n",
       "      <td>Wrong rating - No accident</td>\n",
       "      <td>Aparna</td>\n",
       "      <td>False Alarm</td>\n",
       "    </tr>\n",
       "    <tr>\n",
       "      <th>120</th>\n",
       "      <td>2021-03-13</td>\n",
       "      <td>Wrong rating - No accident</td>\n",
       "      <td>Shivam</td>\n",
       "      <td>False Alarm</td>\n",
       "    </tr>\n",
       "    <tr>\n",
       "      <th>121</th>\n",
       "      <td>2021-03-14</td>\n",
       "      <td>Wrong rating - Accident</td>\n",
       "      <td>Shiva Kumar</td>\n",
       "      <td>False Alarm</td>\n",
       "    </tr>\n",
       "    <tr>\n",
       "      <th>122</th>\n",
       "      <td>2021-03-14</td>\n",
       "      <td>Wrong rating - Accident</td>\n",
       "      <td>Shivam</td>\n",
       "      <td>False Alarm</td>\n",
       "    </tr>\n",
       "    <tr>\n",
       "      <th>123</th>\n",
       "      <td>2021-03-14</td>\n",
       "      <td>Hard to rate incidents</td>\n",
       "      <td>Aparna</td>\n",
       "      <td>False Alarm</td>\n",
       "    </tr>\n",
       "    <tr>\n",
       "      <th>124</th>\n",
       "      <td>2021-03-14</td>\n",
       "      <td>Hard to rate incidents</td>\n",
       "      <td>Shivam</td>\n",
       "      <td>False Alarm</td>\n",
       "    </tr>\n",
       "    <tr>\n",
       "      <th>125</th>\n",
       "      <td>2021-03-14</td>\n",
       "      <td>Wrong rating - Accident</td>\n",
       "      <td>Aparna</td>\n",
       "      <td>False Alarm</td>\n",
       "    </tr>\n",
       "    <tr>\n",
       "      <th>126</th>\n",
       "      <td>2021-03-14</td>\n",
       "      <td>Wrong rating - Accident</td>\n",
       "      <td>Shivam</td>\n",
       "      <td>False Alarm</td>\n",
       "    </tr>\n",
       "    <tr>\n",
       "      <th>127</th>\n",
       "      <td>2021-03-15</td>\n",
       "      <td>Wrong rating - Accident</td>\n",
       "      <td>Shiva Kumar</td>\n",
       "      <td>False Alarm</td>\n",
       "    </tr>\n",
       "    <tr>\n",
       "      <th>128</th>\n",
       "      <td>2021-03-15</td>\n",
       "      <td>Wrong rating - Accident</td>\n",
       "      <td>Rajeshwari</td>\n",
       "      <td>False Alarm</td>\n",
       "    </tr>\n",
       "    <tr>\n",
       "      <th>129</th>\n",
       "      <td>2021-03-18</td>\n",
       "      <td>Wrong rating - Accident</td>\n",
       "      <td>Mallikarjun</td>\n",
       "      <td>False Alarm</td>\n",
       "    </tr>\n",
       "    <tr>\n",
       "      <th>130</th>\n",
       "      <td>2021-03-18</td>\n",
       "      <td>Wrong rating - Accident</td>\n",
       "      <td>Yuvaraja</td>\n",
       "      <td>False Alarm</td>\n",
       "    </tr>\n",
       "    <tr>\n",
       "      <th>131</th>\n",
       "      <td>2021-03-19</td>\n",
       "      <td>Wrong rating - Accident</td>\n",
       "      <td>Narendra</td>\n",
       "      <td>False Alarm</td>\n",
       "    </tr>\n",
       "    <tr>\n",
       "      <th>132</th>\n",
       "      <td>2021-03-19</td>\n",
       "      <td>Wrong rating - Accident</td>\n",
       "      <td>Kiran</td>\n",
       "      <td>False Alarm</td>\n",
       "    </tr>\n",
       "    <tr>\n",
       "      <th>133</th>\n",
       "      <td>2021-03-19</td>\n",
       "      <td>Wrong rating - Accident</td>\n",
       "      <td>Kiran</td>\n",
       "      <td>False Alarm</td>\n",
       "    </tr>\n",
       "    <tr>\n",
       "      <th>134</th>\n",
       "      <td>2021-03-20</td>\n",
       "      <td>Wrong rating - Accident</td>\n",
       "      <td>Shivam</td>\n",
       "      <td>False Alarm</td>\n",
       "    </tr>\n",
       "    <tr>\n",
       "      <th>135</th>\n",
       "      <td>2021-03-20</td>\n",
       "      <td>Wrong rating - No accident</td>\n",
       "      <td>Shivam</td>\n",
       "      <td>False Alarm</td>\n",
       "    </tr>\n",
       "    <tr>\n",
       "      <th>136</th>\n",
       "      <td>2021-03-20</td>\n",
       "      <td>Wrong rating - No accident</td>\n",
       "      <td>Aparna</td>\n",
       "      <td>False Alarm</td>\n",
       "    </tr>\n",
       "    <tr>\n",
       "      <th>137</th>\n",
       "      <td>2021-03-21</td>\n",
       "      <td>Wrong rating - No accident</td>\n",
       "      <td>Mallikarjun</td>\n",
       "      <td>False Alarm</td>\n",
       "    </tr>\n",
       "    <tr>\n",
       "      <th>138</th>\n",
       "      <td>2021-03-21</td>\n",
       "      <td>Wrong rating - No accident</td>\n",
       "      <td>Aparna</td>\n",
       "      <td>False Alarm</td>\n",
       "    </tr>\n",
       "    <tr>\n",
       "      <th>139</th>\n",
       "      <td>2021-03-23</td>\n",
       "      <td>Wrong rating - No accident</td>\n",
       "      <td>Yuvaraja</td>\n",
       "      <td>False Alarm</td>\n",
       "    </tr>\n",
       "    <tr>\n",
       "      <th>140</th>\n",
       "      <td>2021-03-26</td>\n",
       "      <td>Wrong rating - Accident</td>\n",
       "      <td>Rajeshwari</td>\n",
       "      <td>False Alarm</td>\n",
       "    </tr>\n",
       "    <tr>\n",
       "      <th>141</th>\n",
       "      <td>2021-03-26</td>\n",
       "      <td>Wrong rating - Accident</td>\n",
       "      <td>Shiva Kumar</td>\n",
       "      <td>False Alarm</td>\n",
       "    </tr>\n",
       "    <tr>\n",
       "      <th>142</th>\n",
       "      <td>2021-03-29</td>\n",
       "      <td>Wrong rating - Accident</td>\n",
       "      <td>Kiran</td>\n",
       "      <td>False Alarm</td>\n",
       "    </tr>\n",
       "    <tr>\n",
       "      <th>143</th>\n",
       "      <td>2021-03-29</td>\n",
       "      <td>Wrong rating - Accident</td>\n",
       "      <td>Narendra</td>\n",
       "      <td>False Alarm</td>\n",
       "    </tr>\n",
       "    <tr>\n",
       "      <th>144</th>\n",
       "      <td>2021-03-29</td>\n",
       "      <td>last grabbed incident</td>\n",
       "      <td>Shivam</td>\n",
       "      <td>False Alarm</td>\n",
       "    </tr>\n",
       "    <tr>\n",
       "      <th>145</th>\n",
       "      <td>2021-03-29</td>\n",
       "      <td>last grabbed incident</td>\n",
       "      <td>Mallikarjun</td>\n",
       "      <td>False Alarm</td>\n",
       "    </tr>\n",
       "    <tr>\n",
       "      <th>146</th>\n",
       "      <td>2021-03-30</td>\n",
       "      <td>Wrong rating - Accident</td>\n",
       "      <td>Kiran</td>\n",
       "      <td>False Alarm</td>\n",
       "    </tr>\n",
       "    <tr>\n",
       "      <th>147</th>\n",
       "      <td>2021-03-31</td>\n",
       "      <td>Wrong rating - Accident</td>\n",
       "      <td>Shivam</td>\n",
       "      <td>False Alarm</td>\n",
       "    </tr>\n",
       "    <tr>\n",
       "      <th>148</th>\n",
       "      <td>2021-03-31</td>\n",
       "      <td>Wrong rating - Accident</td>\n",
       "      <td>Aparna</td>\n",
       "      <td>False Alarm</td>\n",
       "    </tr>\n",
       "    <tr>\n",
       "      <th>149</th>\n",
       "      <td>2021-03-31</td>\n",
       "      <td>Wrong rating - Accident</td>\n",
       "      <td>Shivam</td>\n",
       "      <td>False Alarm</td>\n",
       "    </tr>\n",
       "    <tr>\n",
       "      <th>150</th>\n",
       "      <td>2021-03-31</td>\n",
       "      <td>Wrong rating - Accident</td>\n",
       "      <td>Aparna</td>\n",
       "      <td>False Alarm</td>\n",
       "    </tr>\n",
       "  </tbody>\n",
       "</table>\n",
       "</div>"
      ],
      "text/plain": [
       "          Date                      Rating    Reviewers False_Alarm_Creation\n",
       "97  2021-03-01  Wrong rating - No accident  Shiva Kumar          False Alarm\n",
       "98  2021-03-02     Wrong rating - Accident       Aparna          False Alarm\n",
       "99  2021-03-02     Wrong rating - Accident       Shivam          False Alarm\n",
       "100 2021-03-03     Wrong rating - Accident     Narendra          False Alarm\n",
       "101 2021-03-03     Wrong rating - Accident       Aparna          False Alarm\n",
       "102 2021-03-03     Wrong rating - Accident       Aparna          False Alarm\n",
       "103 2021-03-03     Wrong rating - Accident     Narendra          False Alarm\n",
       "104 2021-03-03  Wrong rating - No accident     Narendra          False Alarm\n",
       "105 2021-03-04  Wrong rating - No accident        Kiran          False Alarm\n",
       "106 2021-03-04  Wrong rating - No accident     Yuvaraja          False Alarm\n",
       "107 2021-03-05     Wrong rating - Accident        Kiran          False Alarm\n",
       "108 2021-03-05     Wrong rating - Accident     Yuvaraja          False Alarm\n",
       "109 2021-03-05  Wrong rating - No accident        Kiran          False Alarm\n",
       "110 2021-03-05  Wrong rating - No accident     Yuvaraja          False Alarm\n",
       "111 2021-03-05     Wrong rating - Accident     Narendra          False Alarm\n",
       "112 2021-03-05     Wrong rating - Accident       Aparna          False Alarm\n",
       "113 2021-03-06  Wrong rating - No accident       Aparna          False Alarm\n",
       "114 2021-03-06  Wrong rating - No accident       Shivam          False Alarm\n",
       "115 2021-03-09     Wrong rating - Accident       Aparna          False Alarm\n",
       "116 2021-03-09     Wrong rating - Accident       Shivam          False Alarm\n",
       "117 2021-03-11     Wrong rating - Accident       Aparna          False Alarm\n",
       "118 2021-03-11     Wrong rating - Accident       Shivam          False Alarm\n",
       "119 2021-03-13  Wrong rating - No accident       Aparna          False Alarm\n",
       "120 2021-03-13  Wrong rating - No accident       Shivam          False Alarm\n",
       "121 2021-03-14     Wrong rating - Accident  Shiva Kumar          False Alarm\n",
       "122 2021-03-14     Wrong rating - Accident       Shivam          False Alarm\n",
       "123 2021-03-14      Hard to rate incidents       Aparna          False Alarm\n",
       "124 2021-03-14      Hard to rate incidents       Shivam          False Alarm\n",
       "125 2021-03-14     Wrong rating - Accident       Aparna          False Alarm\n",
       "126 2021-03-14     Wrong rating - Accident       Shivam          False Alarm\n",
       "127 2021-03-15     Wrong rating - Accident  Shiva Kumar          False Alarm\n",
       "128 2021-03-15     Wrong rating - Accident   Rajeshwari          False Alarm\n",
       "129 2021-03-18     Wrong rating - Accident  Mallikarjun          False Alarm\n",
       "130 2021-03-18     Wrong rating - Accident     Yuvaraja          False Alarm\n",
       "131 2021-03-19     Wrong rating - Accident     Narendra          False Alarm\n",
       "132 2021-03-19     Wrong rating - Accident        Kiran          False Alarm\n",
       "133 2021-03-19     Wrong rating - Accident        Kiran          False Alarm\n",
       "134 2021-03-20     Wrong rating - Accident       Shivam          False Alarm\n",
       "135 2021-03-20  Wrong rating - No accident       Shivam          False Alarm\n",
       "136 2021-03-20  Wrong rating - No accident       Aparna          False Alarm\n",
       "137 2021-03-21  Wrong rating - No accident  Mallikarjun          False Alarm\n",
       "138 2021-03-21  Wrong rating - No accident       Aparna          False Alarm\n",
       "139 2021-03-23  Wrong rating - No accident     Yuvaraja          False Alarm\n",
       "140 2021-03-26     Wrong rating - Accident   Rajeshwari          False Alarm\n",
       "141 2021-03-26     Wrong rating - Accident  Shiva Kumar          False Alarm\n",
       "142 2021-03-29     Wrong rating - Accident        Kiran          False Alarm\n",
       "143 2021-03-29     Wrong rating - Accident     Narendra          False Alarm\n",
       "144 2021-03-29       last grabbed incident       Shivam          False Alarm\n",
       "145 2021-03-29       last grabbed incident  Mallikarjun          False Alarm\n",
       "146 2021-03-30     Wrong rating - Accident        Kiran          False Alarm\n",
       "147 2021-03-31     Wrong rating - Accident       Shivam          False Alarm\n",
       "148 2021-03-31     Wrong rating - Accident       Aparna          False Alarm\n",
       "149 2021-03-31     Wrong rating - Accident       Shivam          False Alarm\n",
       "150 2021-03-31     Wrong rating - Accident       Aparna          False Alarm"
      ]
     },
     "execution_count": 108,
     "metadata": {},
     "output_type": "execute_result"
    }
   ],
   "source": [
    "data_reviewers_support_March=data_reviewers_support[(data_reviewers_support['Date'] >= '2021-03-01') & (data_reviewers_support['Date'] <= '2021-03-31')]\n",
    "data_reviewers_support_March"
   ]
  },
  {
   "cell_type": "markdown",
   "metadata": {},
   "source": [
    "#### Count the number of False alarms and the reviewers"
   ]
  },
  {
   "cell_type": "code",
   "execution_count": 109,
   "metadata": {},
   "outputs": [
    {
     "data": {
      "text/plain": [
       "54"
      ]
     },
     "execution_count": 109,
     "metadata": {},
     "output_type": "execute_result"
    }
   ],
   "source": [
    "data_reviewers_support_March['False_Alarm_Creation'].count()"
   ]
  },
  {
   "cell_type": "code",
   "execution_count": 110,
   "metadata": {},
   "outputs": [
    {
     "data": {
      "text/plain": [
       "Aparna         14\n",
       "Shivam         13\n",
       "Kiran           7\n",
       "Narendra        6\n",
       "Yuvaraja        5\n",
       "Shiva Kumar     4\n",
       "Mallikarjun     3\n",
       "Rajeshwari      2\n",
       "Name: Reviewers, dtype: int64"
      ]
     },
     "execution_count": 110,
     "metadata": {},
     "output_type": "execute_result"
    }
   ],
   "source": [
    "data_reviewers_support_March['Reviewers'].value_counts()"
   ]
  },
  {
   "cell_type": "code",
   "execution_count": 111,
   "metadata": {},
   "outputs": [
    {
     "data": {
      "text/plain": [
       "54"
      ]
     },
     "execution_count": 111,
     "metadata": {},
     "output_type": "execute_result"
    }
   ],
   "source": [
    "data_reviewers_support_March['Reviewers'].count()"
   ]
  },
  {
   "cell_type": "code",
   "execution_count": 112,
   "metadata": {},
   "outputs": [
    {
     "data": {
      "image/png": "[encoded data removed]",
      "text/plain": [
       "<Figure size 720x360 with 1 Axes>"
      ]
     },
     "metadata": {
      "needs_background": "light"
     },
     "output_type": "display_data"
    }
   ],
   "source": [
    "plt.figure(figsize=(10,5))\n",
    "splot=sns.countplot(data_reviewers_support_March['Reviewers'],order=data_reviewers_support_March['Reviewers'].value_counts().index,saturation=10)\n",
    "plt.xticks(rotation=30)\n",
    "plt.title(\"Reviewers having total number of false alarms in the month of March 2021\", color='black')\n",
    "for p in splot.patches:\n",
    "    splot.annotate(format(p.get_height(), '.0f'), (p.get_x() + p.get_width() / 2., p.get_height()), ha = 'center', va = 'center', xytext = (0, 2),textcoords = 'offset points',rotation=20)\n",
    "plt.show()"
   ]
  },
  {
   "cell_type": "markdown",
   "metadata": {},
   "source": [
    "#### 5] April 2021"
   ]
  },
  {
   "cell_type": "code",
   "execution_count": 113,
   "metadata": {},
   "outputs": [
    {
     "data": {
      "text/html": [
       "<div>\n",
       "<style scoped>\n",
       "    .dataframe tbody tr th:only-of-type {\n",
       "        vertical-align: middle;\n",
       "    }\n",
       "\n",
       "    .dataframe tbody tr th {\n",
       "        vertical-align: top;\n",
       "    }\n",
       "\n",
       "    .dataframe thead th {\n",
       "        text-align: right;\n",
       "    }\n",
       "</style>\n",
       "<table border=\"1\" class=\"dataframe\">\n",
       "  <thead>\n",
       "    <tr style=\"text-align: right;\">\n",
       "      <th></th>\n",
       "      <th>Date</th>\n",
       "      <th>Rating</th>\n",
       "      <th>Reviewers</th>\n",
       "      <th>False_Alarm_Creation</th>\n",
       "    </tr>\n",
       "  </thead>\n",
       "  <tbody>\n",
       "    <tr>\n",
       "      <th>151</th>\n",
       "      <td>2021-04-04</td>\n",
       "      <td>Wrong rating - Accident</td>\n",
       "      <td>Shivam</td>\n",
       "      <td>False Alarm</td>\n",
       "    </tr>\n",
       "    <tr>\n",
       "      <th>152</th>\n",
       "      <td>2021-04-04</td>\n",
       "      <td>Wrong rating - Accident</td>\n",
       "      <td>Aparna</td>\n",
       "      <td>False Alarm</td>\n",
       "    </tr>\n",
       "    <tr>\n",
       "      <th>153</th>\n",
       "      <td>2021-04-04</td>\n",
       "      <td>Wrong rating - No accident</td>\n",
       "      <td>Aparna</td>\n",
       "      <td>False Alarm</td>\n",
       "    </tr>\n",
       "    <tr>\n",
       "      <th>154</th>\n",
       "      <td>2021-04-05</td>\n",
       "      <td>Wrong rating - No accident</td>\n",
       "      <td>Leenu</td>\n",
       "      <td>False Alarm</td>\n",
       "    </tr>\n",
       "    <tr>\n",
       "      <th>155</th>\n",
       "      <td>2021-04-05</td>\n",
       "      <td>Wrong rating - No accident</td>\n",
       "      <td>Shiva Kumar</td>\n",
       "      <td>False Alarm</td>\n",
       "    </tr>\n",
       "    <tr>\n",
       "      <th>156</th>\n",
       "      <td>2021-04-06</td>\n",
       "      <td>Wrong rating - No accident</td>\n",
       "      <td>Leenu</td>\n",
       "      <td>False Alarm</td>\n",
       "    </tr>\n",
       "    <tr>\n",
       "      <th>157</th>\n",
       "      <td>2021-04-06</td>\n",
       "      <td>Wrong rating - No accident</td>\n",
       "      <td>Shiva Kumar</td>\n",
       "      <td>False Alarm</td>\n",
       "    </tr>\n",
       "    <tr>\n",
       "      <th>158</th>\n",
       "      <td>2021-04-07</td>\n",
       "      <td>Wrong rating - Accident</td>\n",
       "      <td>Raushan</td>\n",
       "      <td>False Alarm</td>\n",
       "    </tr>\n",
       "    <tr>\n",
       "      <th>159</th>\n",
       "      <td>2021-04-07</td>\n",
       "      <td>Wrong rating - Accident</td>\n",
       "      <td>Aparna</td>\n",
       "      <td>False Alarm</td>\n",
       "    </tr>\n",
       "    <tr>\n",
       "      <th>160</th>\n",
       "      <td>2021-04-08</td>\n",
       "      <td>Wrong rating - No accident</td>\n",
       "      <td>Raushan</td>\n",
       "      <td>False Alarm</td>\n",
       "    </tr>\n",
       "    <tr>\n",
       "      <th>161</th>\n",
       "      <td>2021-04-08</td>\n",
       "      <td>Wrong rating - No accident</td>\n",
       "      <td>Aparna</td>\n",
       "      <td>False Alarm</td>\n",
       "    </tr>\n",
       "    <tr>\n",
       "      <th>162</th>\n",
       "      <td>2021-04-10</td>\n",
       "      <td>Wrong rating - Accident</td>\n",
       "      <td>Raushan</td>\n",
       "      <td>False Alarm</td>\n",
       "    </tr>\n",
       "    <tr>\n",
       "      <th>163</th>\n",
       "      <td>2021-04-10</td>\n",
       "      <td>Wrong rating - Accident</td>\n",
       "      <td>Aparna</td>\n",
       "      <td>False Alarm</td>\n",
       "    </tr>\n",
       "    <tr>\n",
       "      <th>164</th>\n",
       "      <td>2021-04-11</td>\n",
       "      <td>Wrong rating - Accident</td>\n",
       "      <td>Raushan</td>\n",
       "      <td>False Alarm</td>\n",
       "    </tr>\n",
       "    <tr>\n",
       "      <th>165</th>\n",
       "      <td>2021-04-12</td>\n",
       "      <td>No support</td>\n",
       "      <td>Shivam</td>\n",
       "      <td>False Alarm</td>\n",
       "    </tr>\n",
       "    <tr>\n",
       "      <th>166</th>\n",
       "      <td>2021-04-12</td>\n",
       "      <td>No support</td>\n",
       "      <td>Shivam</td>\n",
       "      <td>False Alarm</td>\n",
       "    </tr>\n",
       "    <tr>\n",
       "      <th>167</th>\n",
       "      <td>2021-04-13</td>\n",
       "      <td>No support</td>\n",
       "      <td>Shiva Kumar</td>\n",
       "      <td>False Alarm</td>\n",
       "    </tr>\n",
       "    <tr>\n",
       "      <th>168</th>\n",
       "      <td>2021-04-14</td>\n",
       "      <td>Wrong rating - Accident</td>\n",
       "      <td>Raushan</td>\n",
       "      <td>False Alarm</td>\n",
       "    </tr>\n",
       "    <tr>\n",
       "      <th>169</th>\n",
       "      <td>2021-04-14</td>\n",
       "      <td>Wrong rating - Accident</td>\n",
       "      <td>Aparna</td>\n",
       "      <td>False Alarm</td>\n",
       "    </tr>\n",
       "    <tr>\n",
       "      <th>170</th>\n",
       "      <td>2021-04-15</td>\n",
       "      <td>Wrong rating - Accident</td>\n",
       "      <td>Shivam</td>\n",
       "      <td>False Alarm</td>\n",
       "    </tr>\n",
       "    <tr>\n",
       "      <th>171</th>\n",
       "      <td>2021-04-15</td>\n",
       "      <td>Wrong rating - Accident</td>\n",
       "      <td>Aparna</td>\n",
       "      <td>False Alarm</td>\n",
       "    </tr>\n",
       "    <tr>\n",
       "      <th>172</th>\n",
       "      <td>2021-04-15</td>\n",
       "      <td>Wrong rating - No accident</td>\n",
       "      <td>Yuvaraja</td>\n",
       "      <td>False Alarm</td>\n",
       "    </tr>\n",
       "    <tr>\n",
       "      <th>173</th>\n",
       "      <td>2021-04-16</td>\n",
       "      <td>Wrong rating - Accident</td>\n",
       "      <td>Rajeshwari</td>\n",
       "      <td>False Alarm</td>\n",
       "    </tr>\n",
       "    <tr>\n",
       "      <th>174</th>\n",
       "      <td>2021-04-17</td>\n",
       "      <td>Wrong rating - Accident</td>\n",
       "      <td>Mallikarjun</td>\n",
       "      <td>False Alarm</td>\n",
       "    </tr>\n",
       "  </tbody>\n",
       "</table>\n",
       "</div>"
      ],
      "text/plain": [
       "          Date                      Rating    Reviewers False_Alarm_Creation\n",
       "151 2021-04-04     Wrong rating - Accident       Shivam          False Alarm\n",
       "152 2021-04-04     Wrong rating - Accident       Aparna          False Alarm\n",
       "153 2021-04-04  Wrong rating - No accident       Aparna          False Alarm\n",
       "154 2021-04-05  Wrong rating - No accident        Leenu          False Alarm\n",
       "155 2021-04-05  Wrong rating - No accident  Shiva Kumar          False Alarm\n",
       "156 2021-04-06  Wrong rating - No accident        Leenu          False Alarm\n",
       "157 2021-04-06  Wrong rating - No accident  Shiva Kumar          False Alarm\n",
       "158 2021-04-07     Wrong rating - Accident      Raushan          False Alarm\n",
       "159 2021-04-07     Wrong rating - Accident       Aparna          False Alarm\n",
       "160 2021-04-08  Wrong rating - No accident      Raushan          False Alarm\n",
       "161 2021-04-08  Wrong rating - No accident       Aparna          False Alarm\n",
       "162 2021-04-10     Wrong rating - Accident      Raushan          False Alarm\n",
       "163 2021-04-10     Wrong rating - Accident       Aparna          False Alarm\n",
       "164 2021-04-11     Wrong rating - Accident      Raushan          False Alarm\n",
       "165 2021-04-12                  No support       Shivam          False Alarm\n",
       "166 2021-04-12                  No support       Shivam          False Alarm\n",
       "167 2021-04-13                  No support  Shiva Kumar          False Alarm\n",
       "168 2021-04-14     Wrong rating - Accident      Raushan          False Alarm\n",
       "169 2021-04-14     Wrong rating - Accident       Aparna          False Alarm\n",
       "170 2021-04-15     Wrong rating - Accident       Shivam          False Alarm\n",
       "171 2021-04-15     Wrong rating - Accident       Aparna          False Alarm\n",
       "172 2021-04-15  Wrong rating - No accident     Yuvaraja          False Alarm\n",
       "173 2021-04-16     Wrong rating - Accident   Rajeshwari          False Alarm\n",
       "174 2021-04-17     Wrong rating - Accident  Mallikarjun          False Alarm"
      ]
     },
     "execution_count": 113,
     "metadata": {},
     "output_type": "execute_result"
    }
   ],
   "source": [
    "data_reviewers_support_April=data_reviewers_support[(data_reviewers_support['Date'] >= '2021-04-01') & (data_reviewers_support['Date'] <= '2021-04-30')]\n",
    "data_reviewers_support_April"
   ]
  },
  {
   "cell_type": "markdown",
   "metadata": {},
   "source": [
    "#### Count the number of False alarms and the reviewers"
   ]
  },
  {
   "cell_type": "code",
   "execution_count": 114,
   "metadata": {},
   "outputs": [
    {
     "data": {
      "text/plain": [
       "24"
      ]
     },
     "execution_count": 114,
     "metadata": {},
     "output_type": "execute_result"
    }
   ],
   "source": [
    "data_reviewers_support_April['False_Alarm_Creation'].count()"
   ]
  },
  {
   "cell_type": "code",
   "execution_count": 115,
   "metadata": {},
   "outputs": [
    {
     "data": {
      "text/plain": [
       "Aparna         7\n",
       "Raushan        5\n",
       "Shivam         4\n",
       "Shiva Kumar    3\n",
       "Leenu          2\n",
       "Yuvaraja       1\n",
       "Rajeshwari     1\n",
       "Mallikarjun    1\n",
       "Name: Reviewers, dtype: int64"
      ]
     },
     "execution_count": 115,
     "metadata": {},
     "output_type": "execute_result"
    }
   ],
   "source": [
    "data_reviewers_support_April['Reviewers'].value_counts()"
   ]
  },
  {
   "cell_type": "code",
   "execution_count": 116,
   "metadata": {},
   "outputs": [
    {
     "data": {
      "text/plain": [
       "24"
      ]
     },
     "execution_count": 116,
     "metadata": {},
     "output_type": "execute_result"
    }
   ],
   "source": [
    "data_reviewers_support_April['Reviewers'].count()"
   ]
  },
  {
   "cell_type": "code",
   "execution_count": 117,
   "metadata": {},
   "outputs": [
    {
     "data": {
      "image/png": "[encoded data removed]",
      "text/plain": [
       "<Figure size 720x360 with 1 Axes>"
      ]
     },
     "metadata": {
      "needs_background": "light"
     },
     "output_type": "display_data"
    }
   ],
   "source": [
    "plt.figure(figsize=(10,5))\n",
    "splot=sns.countplot(data_reviewers_support_April['Reviewers'],order=data_reviewers_support_April['Reviewers'].value_counts().index,saturation=10)\n",
    "plt.xticks(rotation=30)\n",
    "plt.title(\"Reviewers having total number of false alarms in the month of April 2021\", color='black')\n",
    "for p in splot.patches:\n",
    "    splot.annotate(format(p.get_height(), '.0f'), (p.get_x() + p.get_width() / 2., p.get_height()), ha = 'center', va = 'center', xytext = (0, 5),textcoords = 'offset points',rotation=20)\n",
    "plt.show()"
   ]
  },
  {
   "cell_type": "code",
   "execution_count": null,
   "metadata": {},
   "outputs": [],
   "source": []
  }
 ],
 "metadata": {
  "kernelspec": {
   "display_name": "Python 3",
   "language": "python",
   "name": "python3"
  },
  "language_info": {
   "codemirror_mode": {
    "name": "ipython",
    "version": 3
   },
   "file_extension": ".py",
   "mimetype": "text/x-python",
   "name": "python",
   "nbconvert_exporter": "python",
   "pygments_lexer": "ipython3",
   "version": "3.8.5"
  }
 },
 "nbformat": 4,
 "nbformat_minor": 4
}
