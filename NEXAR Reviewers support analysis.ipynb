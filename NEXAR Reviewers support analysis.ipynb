{
 "cells": [
  {
   "cell_type": "markdown",
   "metadata": {},
   "source": [
    "## 1) Import the necessary packages"
   ]
  },
  {
   "cell_type": "code",
   "execution_count": 1,
   "metadata": {},
   "outputs": [],
   "source": [
    "import pandas as pd\n",
    "import numpy as np\n",
    "from datetime import datetime\n",
    "import matplotlib.pyplot as plt\n",
    "from matplotlib import pyplot\n",
    "from matplotlib import rcParams\n",
    "%matplotlib inline\n",
    "from scipy import stats\n",
    "from collections import Counter\n",
    "import warnings\n",
    "warnings.filterwarnings('ignore')\n",
    "import seaborn as sns"
   ]
  },
  {
   "cell_type": "code",
   "execution_count": 2,
   "metadata": {},
   "outputs": [],
   "source": [
    "def parser(x):\n",
    "    return datetime.strptime(x,'%d-%m-%y').date()"
   ]
  },
  {
   "cell_type": "markdown",
   "metadata": {},
   "source": [
    "## 2) Load the reviewers support dataset"
   ]
  },
  {
   "cell_type": "code",
   "execution_count": 3,
   "metadata": {},
   "outputs": [
    {
     "data": {
      "text/html": [
       "<div>\n",
       "<style scoped>\n",
       "    .dataframe tbody tr th:only-of-type {\n",
       "        vertical-align: middle;\n",
       "    }\n",
       "\n",
       "    .dataframe tbody tr th {\n",
       "        vertical-align: top;\n",
       "    }\n",
       "\n",
       "    .dataframe thead th {\n",
       "        text-align: right;\n",
       "    }\n",
       "</style>\n",
       "<table border=\"1\" class=\"dataframe\">\n",
       "  <thead>\n",
       "    <tr style=\"text-align: right;\">\n",
       "      <th></th>\n",
       "      <th>Date</th>\n",
       "      <th>Link to incident</th>\n",
       "      <th>link to slack</th>\n",
       "      <th>Rating</th>\n",
       "      <th>Remarks</th>\n",
       "    </tr>\n",
       "  </thead>\n",
       "  <tbody>\n",
       "    <tr>\n",
       "      <th>0</th>\n",
       "      <td>NaT</td>\n",
       "      <td>https://dashboard.jp.getnexar.com/reviewer/rev...</td>\n",
       "      <td>https://nexar.slack.com/archives/C01DNQHQVK2/p...</td>\n",
       "      <td>Wrong rating - Accident</td>\n",
       "      <td>NaN</td>\n",
       "    </tr>\n",
       "    <tr>\n",
       "      <th>1</th>\n",
       "      <td>NaT</td>\n",
       "      <td>https://dashboard.jp.getnexar.com/reviewer/rev...</td>\n",
       "      <td>https://nexar.slack.com/archives/C01DNQHQVK2/p...</td>\n",
       "      <td>Wrong rating - No accident</td>\n",
       "      <td>NaN</td>\n",
       "    </tr>\n",
       "    <tr>\n",
       "      <th>2</th>\n",
       "      <td>NaT</td>\n",
       "      <td>https://dashboard.jp.getnexar.com/reviewer/inc...</td>\n",
       "      <td>https://nexar.slack.com/archives/C01DNQHQVK2/p...</td>\n",
       "      <td>Wrong rating - Accident</td>\n",
       "      <td>NaN</td>\n",
       "    </tr>\n",
       "    <tr>\n",
       "      <th>3</th>\n",
       "      <td>NaT</td>\n",
       "      <td>https://dashboard.jp.getnexar.com/reviewer/rev...</td>\n",
       "      <td>https://nexar.slack.com/archives/C01DNQHQVK2/p...</td>\n",
       "      <td>Wrong rating - No accident</td>\n",
       "      <td>NaN</td>\n",
       "    </tr>\n",
       "    <tr>\n",
       "      <th>4</th>\n",
       "      <td>NaT</td>\n",
       "      <td>https://dashboard.jp.getnexar.com/reviewer/rev...</td>\n",
       "      <td>https://nexar.slack.com/archives/C01DNQHQVK2/p...</td>\n",
       "      <td>Wrong rating - No accident</td>\n",
       "      <td>NaN</td>\n",
       "    </tr>\n",
       "  </tbody>\n",
       "</table>\n",
       "</div>"
      ],
      "text/plain": [
       "  Date                                   Link to incident  \\\n",
       "0  NaT  https://dashboard.jp.getnexar.com/reviewer/rev...   \n",
       "1  NaT  https://dashboard.jp.getnexar.com/reviewer/rev...   \n",
       "2  NaT  https://dashboard.jp.getnexar.com/reviewer/inc...   \n",
       "3  NaT  https://dashboard.jp.getnexar.com/reviewer/rev...   \n",
       "4  NaT  https://dashboard.jp.getnexar.com/reviewer/rev...   \n",
       "\n",
       "                                      link to slack   \\\n",
       "0  https://nexar.slack.com/archives/C01DNQHQVK2/p...   \n",
       "1  https://nexar.slack.com/archives/C01DNQHQVK2/p...   \n",
       "2  https://nexar.slack.com/archives/C01DNQHQVK2/p...   \n",
       "3  https://nexar.slack.com/archives/C01DNQHQVK2/p...   \n",
       "4  https://nexar.slack.com/archives/C01DNQHQVK2/p...   \n",
       "\n",
       "                       Rating Remarks  \n",
       "0     Wrong rating - Accident     NaN  \n",
       "1  Wrong rating - No accident     NaN  \n",
       "2     Wrong rating - Accident     NaN  \n",
       "3  Wrong rating - No accident     NaN  \n",
       "4  Wrong rating - No accident     NaN  "
      ]
     },
     "execution_count": 3,
     "metadata": {},
     "output_type": "execute_result"
    }
   ],
   "source": [
    "data_reviewers_support=pd.read_excel(\"C:\\\\Users\\Ishan.Borkar\\Downloads\\TPRI_agent_Effort_2021\\Msi Reviewers support ch.xlsx\",header=0,date_parser='Date')\n",
    "data_reviewers_support.head()"
   ]
  },
  {
   "cell_type": "code",
   "execution_count": 4,
   "metadata": {},
   "outputs": [
    {
     "data": {
      "text/html": [
       "<div>\n",
       "<style scoped>\n",
       "    .dataframe tbody tr th:only-of-type {\n",
       "        vertical-align: middle;\n",
       "    }\n",
       "\n",
       "    .dataframe tbody tr th {\n",
       "        vertical-align: top;\n",
       "    }\n",
       "\n",
       "    .dataframe thead th {\n",
       "        text-align: right;\n",
       "    }\n",
       "</style>\n",
       "<table border=\"1\" class=\"dataframe\">\n",
       "  <thead>\n",
       "    <tr style=\"text-align: right;\">\n",
       "      <th></th>\n",
       "      <th>Date</th>\n",
       "      <th>Link to incident</th>\n",
       "      <th>link to slack</th>\n",
       "      <th>Rating</th>\n",
       "      <th>Remarks</th>\n",
       "    </tr>\n",
       "  </thead>\n",
       "  <tbody>\n",
       "    <tr>\n",
       "      <th>45</th>\n",
       "      <td>2021-01-22</td>\n",
       "      <td>https://dashboard.jp.getnexar.com/reviewer/rev...</td>\n",
       "      <td>https://nexar.slack.com/archives/G01EY2XN6MC/p...</td>\n",
       "      <td>Wrong rating - No accident</td>\n",
       "      <td>Mallikarjun</td>\n",
       "    </tr>\n",
       "    <tr>\n",
       "      <th>46</th>\n",
       "      <td>2021-01-24</td>\n",
       "      <td>https://dashboard.jp.getnexar.com/reviewer/rev...</td>\n",
       "      <td>https://nexar.slack.com/archives/G01EY2XN6MC/p...</td>\n",
       "      <td>missed collision</td>\n",
       "      <td>Mallikarjun</td>\n",
       "    </tr>\n",
       "    <tr>\n",
       "      <th>47</th>\n",
       "      <td>2021-01-24</td>\n",
       "      <td>NaN</td>\n",
       "      <td>https://nexar.slack.com/archives/G01EY2XN6MC/p...</td>\n",
       "      <td>missed collision</td>\n",
       "      <td>Narendra</td>\n",
       "    </tr>\n",
       "    <tr>\n",
       "      <th>48</th>\n",
       "      <td>2021-01-24</td>\n",
       "      <td>https://dashboard.jp.getnexar.com/reviewer/rev...</td>\n",
       "      <td>https://nexar.slack.com/archives/G01EY2XN6MC/p...</td>\n",
       "      <td>missed collision</td>\n",
       "      <td>Yuvaraja</td>\n",
       "    </tr>\n",
       "    <tr>\n",
       "      <th>49</th>\n",
       "      <td>2021-01-25</td>\n",
       "      <td>https://dashboard.jp.getnexar.com/reviewer/rev...</td>\n",
       "      <td>https://nexar.slack.com/archives/G01EY2XN6MC/p...</td>\n",
       "      <td>missed collision</td>\n",
       "      <td>Narendra</td>\n",
       "    </tr>\n",
       "  </tbody>\n",
       "</table>\n",
       "</div>"
      ],
      "text/plain": [
       "         Date                                   Link to incident  \\\n",
       "45 2021-01-22  https://dashboard.jp.getnexar.com/reviewer/rev...   \n",
       "46 2021-01-24  https://dashboard.jp.getnexar.com/reviewer/rev...   \n",
       "47 2021-01-24                                                NaN   \n",
       "48 2021-01-24  https://dashboard.jp.getnexar.com/reviewer/rev...   \n",
       "49 2021-01-25  https://dashboard.jp.getnexar.com/reviewer/rev...   \n",
       "\n",
       "                                       link to slack   \\\n",
       "45  https://nexar.slack.com/archives/G01EY2XN6MC/p...   \n",
       "46  https://nexar.slack.com/archives/G01EY2XN6MC/p...   \n",
       "47  https://nexar.slack.com/archives/G01EY2XN6MC/p...   \n",
       "48  https://nexar.slack.com/archives/G01EY2XN6MC/p...   \n",
       "49  https://nexar.slack.com/archives/G01EY2XN6MC/p...   \n",
       "\n",
       "                        Rating      Remarks  \n",
       "45  Wrong rating - No accident  Mallikarjun  \n",
       "46            missed collision  Mallikarjun  \n",
       "47            missed collision     Narendra  \n",
       "48            missed collision     Yuvaraja  \n",
       "49            missed collision     Narendra  "
      ]
     },
     "execution_count": 4,
     "metadata": {},
     "output_type": "execute_result"
    }
   ],
   "source": [
    "data_reviewers_support=data_reviewers_support.iloc[45:]\n",
    "data_reviewers_support.head()"
   ]
  },
  {
   "cell_type": "code",
   "execution_count": 5,
   "metadata": {},
   "outputs": [
    {
     "data": {
      "text/plain": [
       "(128, 5)"
      ]
     },
     "execution_count": 5,
     "metadata": {},
     "output_type": "execute_result"
    }
   ],
   "source": [
    "data_reviewers_support.shape"
   ]
  },
  {
   "cell_type": "code",
   "execution_count": 6,
   "metadata": {},
   "outputs": [
    {
     "data": {
      "text/plain": [
       "640"
      ]
     },
     "execution_count": 6,
     "metadata": {},
     "output_type": "execute_result"
    }
   ],
   "source": [
    "data_reviewers_support.size"
   ]
  },
  {
   "cell_type": "code",
   "execution_count": 7,
   "metadata": {},
   "outputs": [
    {
     "data": {
      "text/html": [
       "<div>\n",
       "<style scoped>\n",
       "    .dataframe tbody tr th:only-of-type {\n",
       "        vertical-align: middle;\n",
       "    }\n",
       "\n",
       "    .dataframe tbody tr th {\n",
       "        vertical-align: top;\n",
       "    }\n",
       "\n",
       "    .dataframe thead th {\n",
       "        text-align: right;\n",
       "    }\n",
       "</style>\n",
       "<table border=\"1\" class=\"dataframe\">\n",
       "  <thead>\n",
       "    <tr style=\"text-align: right;\">\n",
       "      <th></th>\n",
       "      <th>Date</th>\n",
       "      <th>Link to incident</th>\n",
       "      <th>link to slack</th>\n",
       "      <th>Rating</th>\n",
       "      <th>Remarks</th>\n",
       "    </tr>\n",
       "  </thead>\n",
       "  <tbody>\n",
       "    <tr>\n",
       "      <th>0</th>\n",
       "      <td>0</td>\n",
       "      <td>19</td>\n",
       "      <td>1</td>\n",
       "      <td>1</td>\n",
       "      <td>6</td>\n",
       "    </tr>\n",
       "  </tbody>\n",
       "</table>\n",
       "</div>"
      ],
      "text/plain": [
       "   Date  Link to incident  link to slack   Rating  Remarks\n",
       "0     0                19               1       1        6"
      ]
     },
     "execution_count": 7,
     "metadata": {},
     "output_type": "execute_result"
    }
   ],
   "source": [
    "data_reviewers_support.isna().sum().to_frame().T"
   ]
  },
  {
   "cell_type": "markdown",
   "metadata": {},
   "source": [
    "## 3) Analysis of the ratings and remarks in the month of January 2021"
   ]
  },
  {
   "cell_type": "code",
   "execution_count": 8,
   "metadata": {},
   "outputs": [
    {
     "data": {
      "text/html": [
       "<div>\n",
       "<style scoped>\n",
       "    .dataframe tbody tr th:only-of-type {\n",
       "        vertical-align: middle;\n",
       "    }\n",
       "\n",
       "    .dataframe tbody tr th {\n",
       "        vertical-align: top;\n",
       "    }\n",
       "\n",
       "    .dataframe thead th {\n",
       "        text-align: right;\n",
       "    }\n",
       "</style>\n",
       "<table border=\"1\" class=\"dataframe\">\n",
       "  <thead>\n",
       "    <tr style=\"text-align: right;\">\n",
       "      <th></th>\n",
       "      <th>Date</th>\n",
       "      <th>Link to incident</th>\n",
       "      <th>link to slack</th>\n",
       "      <th>Rating</th>\n",
       "      <th>Remarks</th>\n",
       "    </tr>\n",
       "  </thead>\n",
       "  <tbody>\n",
       "    <tr>\n",
       "      <th>45</th>\n",
       "      <td>2021-01-22</td>\n",
       "      <td>https://dashboard.jp.getnexar.com/reviewer/rev...</td>\n",
       "      <td>https://nexar.slack.com/archives/G01EY2XN6MC/p...</td>\n",
       "      <td>Wrong rating - No accident</td>\n",
       "      <td>Mallikarjun</td>\n",
       "    </tr>\n",
       "    <tr>\n",
       "      <th>46</th>\n",
       "      <td>2021-01-24</td>\n",
       "      <td>https://dashboard.jp.getnexar.com/reviewer/rev...</td>\n",
       "      <td>https://nexar.slack.com/archives/G01EY2XN6MC/p...</td>\n",
       "      <td>missed collision</td>\n",
       "      <td>Mallikarjun</td>\n",
       "    </tr>\n",
       "    <tr>\n",
       "      <th>47</th>\n",
       "      <td>2021-01-24</td>\n",
       "      <td>NaN</td>\n",
       "      <td>https://nexar.slack.com/archives/G01EY2XN6MC/p...</td>\n",
       "      <td>missed collision</td>\n",
       "      <td>Narendra</td>\n",
       "    </tr>\n",
       "    <tr>\n",
       "      <th>48</th>\n",
       "      <td>2021-01-24</td>\n",
       "      <td>https://dashboard.jp.getnexar.com/reviewer/rev...</td>\n",
       "      <td>https://nexar.slack.com/archives/G01EY2XN6MC/p...</td>\n",
       "      <td>missed collision</td>\n",
       "      <td>Yuvaraja</td>\n",
       "    </tr>\n",
       "    <tr>\n",
       "      <th>49</th>\n",
       "      <td>2021-01-25</td>\n",
       "      <td>https://dashboard.jp.getnexar.com/reviewer/rev...</td>\n",
       "      <td>https://nexar.slack.com/archives/G01EY2XN6MC/p...</td>\n",
       "      <td>missed collision</td>\n",
       "      <td>Narendra</td>\n",
       "    </tr>\n",
       "    <tr>\n",
       "      <th>50</th>\n",
       "      <td>2021-01-25</td>\n",
       "      <td>NaN</td>\n",
       "      <td>https://nexar.slack.com/archives/G01EY2XN6MC/p...</td>\n",
       "      <td>missed collision</td>\n",
       "      <td>Mallikarjun</td>\n",
       "    </tr>\n",
       "    <tr>\n",
       "      <th>51</th>\n",
       "      <td>2021-01-25</td>\n",
       "      <td>NaN</td>\n",
       "      <td>https://nexar.slack.com/archives/C01ESDUFXT4/p...</td>\n",
       "      <td>1hr 04mins - 1 reviewer only</td>\n",
       "      <td>NaN</td>\n",
       "    </tr>\n",
       "    <tr>\n",
       "      <th>52</th>\n",
       "      <td>2021-01-27</td>\n",
       "      <td>https://dashboard.jp.getnexar.com/reviewer/rev...</td>\n",
       "      <td>https://nexar.slack.com/archives/G01EY2XN6MC/p...</td>\n",
       "      <td>missed collision</td>\n",
       "      <td>Shiva Kumar</td>\n",
       "    </tr>\n",
       "    <tr>\n",
       "      <th>53</th>\n",
       "      <td>2021-01-27</td>\n",
       "      <td>https://dashboard.jp.getnexar.com/reviewer/rev...</td>\n",
       "      <td>https://nexar.slack.com/archives/G01EY2XN6MC/p...</td>\n",
       "      <td>missed collision</td>\n",
       "      <td>Yuvaraja</td>\n",
       "    </tr>\n",
       "    <tr>\n",
       "      <th>54</th>\n",
       "      <td>2021-01-27</td>\n",
       "      <td>NaN</td>\n",
       "      <td>https://nexar.slack.com/archives/G01EY2XN6MC/p...</td>\n",
       "      <td>missed collision</td>\n",
       "      <td>Yuvaraja</td>\n",
       "    </tr>\n",
       "    <tr>\n",
       "      <th>55</th>\n",
       "      <td>2021-01-29</td>\n",
       "      <td>https://dashboard.jp.getnexar.com/reviewer/rev...</td>\n",
       "      <td>https://nexar.slack.com/archives/G01EY2XN6MC/p...</td>\n",
       "      <td>Wrong rating - No accident</td>\n",
       "      <td>Narendra</td>\n",
       "    </tr>\n",
       "  </tbody>\n",
       "</table>\n",
       "</div>"
      ],
      "text/plain": [
       "         Date                                   Link to incident  \\\n",
       "45 2021-01-22  https://dashboard.jp.getnexar.com/reviewer/rev...   \n",
       "46 2021-01-24  https://dashboard.jp.getnexar.com/reviewer/rev...   \n",
       "47 2021-01-24                                                NaN   \n",
       "48 2021-01-24  https://dashboard.jp.getnexar.com/reviewer/rev...   \n",
       "49 2021-01-25  https://dashboard.jp.getnexar.com/reviewer/rev...   \n",
       "50 2021-01-25                                                NaN   \n",
       "51 2021-01-25                                                NaN   \n",
       "52 2021-01-27  https://dashboard.jp.getnexar.com/reviewer/rev...   \n",
       "53 2021-01-27  https://dashboard.jp.getnexar.com/reviewer/rev...   \n",
       "54 2021-01-27                                                NaN   \n",
       "55 2021-01-29  https://dashboard.jp.getnexar.com/reviewer/rev...   \n",
       "\n",
       "                                       link to slack   \\\n",
       "45  https://nexar.slack.com/archives/G01EY2XN6MC/p...   \n",
       "46  https://nexar.slack.com/archives/G01EY2XN6MC/p...   \n",
       "47  https://nexar.slack.com/archives/G01EY2XN6MC/p...   \n",
       "48  https://nexar.slack.com/archives/G01EY2XN6MC/p...   \n",
       "49  https://nexar.slack.com/archives/G01EY2XN6MC/p...   \n",
       "50  https://nexar.slack.com/archives/G01EY2XN6MC/p...   \n",
       "51  https://nexar.slack.com/archives/C01ESDUFXT4/p...   \n",
       "52  https://nexar.slack.com/archives/G01EY2XN6MC/p...   \n",
       "53  https://nexar.slack.com/archives/G01EY2XN6MC/p...   \n",
       "54  https://nexar.slack.com/archives/G01EY2XN6MC/p...   \n",
       "55  https://nexar.slack.com/archives/G01EY2XN6MC/p...   \n",
       "\n",
       "                          Rating      Remarks  \n",
       "45    Wrong rating - No accident  Mallikarjun  \n",
       "46              missed collision  Mallikarjun  \n",
       "47              missed collision     Narendra  \n",
       "48              missed collision     Yuvaraja  \n",
       "49              missed collision     Narendra  \n",
       "50              missed collision  Mallikarjun  \n",
       "51  1hr 04mins - 1 reviewer only          NaN  \n",
       "52              missed collision  Shiva Kumar  \n",
       "53              missed collision     Yuvaraja  \n",
       "54              missed collision     Yuvaraja  \n",
       "55    Wrong rating - No accident     Narendra  "
      ]
     },
     "execution_count": 8,
     "metadata": {},
     "output_type": "execute_result"
    }
   ],
   "source": [
    "data_reviewers_support_January=data_reviewers_support[(data_reviewers_support['Date'] >= '2021-01-22') & (data_reviewers_support['Date'] <= '2021-01-31')]\n",
    "data_reviewers_support_January"
   ]
  },
  {
   "cell_type": "code",
   "execution_count": 9,
   "metadata": {},
   "outputs": [
    {
     "data": {
      "text/plain": [
       "(11, 5)"
      ]
     },
     "execution_count": 9,
     "metadata": {},
     "output_type": "execute_result"
    }
   ],
   "source": [
    "data_reviewers_support_January.shape"
   ]
  },
  {
   "cell_type": "code",
   "execution_count": 10,
   "metadata": {},
   "outputs": [
    {
     "data": {
      "text/plain": [
       "55"
      ]
     },
     "execution_count": 10,
     "metadata": {},
     "output_type": "execute_result"
    }
   ],
   "source": [
    "data_reviewers_support_January.size"
   ]
  },
  {
   "cell_type": "code",
   "execution_count": 11,
   "metadata": {},
   "outputs": [
    {
     "data": {
      "text/html": [
       "<div>\n",
       "<style scoped>\n",
       "    .dataframe tbody tr th:only-of-type {\n",
       "        vertical-align: middle;\n",
       "    }\n",
       "\n",
       "    .dataframe tbody tr th {\n",
       "        vertical-align: top;\n",
       "    }\n",
       "\n",
       "    .dataframe thead th {\n",
       "        text-align: right;\n",
       "    }\n",
       "</style>\n",
       "<table border=\"1\" class=\"dataframe\">\n",
       "  <thead>\n",
       "    <tr style=\"text-align: right;\">\n",
       "      <th></th>\n",
       "      <th>Date</th>\n",
       "      <th>Link to incident</th>\n",
       "      <th>link to slack</th>\n",
       "      <th>Rating</th>\n",
       "      <th>Remarks</th>\n",
       "    </tr>\n",
       "  </thead>\n",
       "  <tbody>\n",
       "    <tr>\n",
       "      <th>0</th>\n",
       "      <td>0</td>\n",
       "      <td>4</td>\n",
       "      <td>0</td>\n",
       "      <td>0</td>\n",
       "      <td>1</td>\n",
       "    </tr>\n",
       "  </tbody>\n",
       "</table>\n",
       "</div>"
      ],
      "text/plain": [
       "   Date  Link to incident  link to slack   Rating  Remarks\n",
       "0     0                 4               0       0        1"
      ]
     },
     "execution_count": 11,
     "metadata": {},
     "output_type": "execute_result"
    }
   ],
   "source": [
    "data_reviewers_support_January.isna().sum().to_frame().T"
   ]
  },
  {
   "cell_type": "markdown",
   "metadata": {},
   "source": [
    "#### Checking total false alarms in the month of January 2021"
   ]
  },
  {
   "cell_type": "code",
   "execution_count": 12,
   "metadata": {},
   "outputs": [
    {
     "data": {
      "text/plain": [
       "array(['Wrong rating - No accident', 'missed collision',\n",
       "       '1hr 04mins - 1 reviewer only'], dtype=object)"
      ]
     },
     "execution_count": 12,
     "metadata": {},
     "output_type": "execute_result"
    }
   ],
   "source": [
    "data_reviewers_support_January['Rating'].unique()"
   ]
  },
  {
   "cell_type": "code",
   "execution_count": 13,
   "metadata": {},
   "outputs": [
    {
     "data": {
      "text/plain": [
       "missed collision                8\n",
       "Wrong rating - No accident      2\n",
       "1hr 04mins - 1 reviewer only    1\n",
       "Name: Rating, dtype: int64"
      ]
     },
     "execution_count": 13,
     "metadata": {},
     "output_type": "execute_result"
    }
   ],
   "source": [
    "data_reviewers_support_January['Rating'].value_counts()"
   ]
  },
  {
   "cell_type": "code",
   "execution_count": 14,
   "metadata": {},
   "outputs": [
    {
     "data": {
      "image/png": "[encoded data removed]",
      "text/plain": [
       "<Figure size 360x360 with 1 Axes>"
      ]
     },
     "metadata": {
      "needs_background": "light"
     },
     "output_type": "display_data"
    }
   ],
   "source": [
    "X=data_reviewers_support_January['Rating'].value_counts()\n",
    "plt.figure(figsize=(5,5))\n",
    "plt.plot(X,color='green', marker='o', linestyle='dashed',linewidth=2, markersize=5)\n",
    "plt.xticks(rotation=40)\n",
    "plt.title(\"Number of False alarms in January 2021\", color='black')\n",
    "for i, v in enumerate(X):\n",
    "    plt.text(i, v+0.09, \"%d\" %v, ha=\"center\")\n",
    "plt.show()"
   ]
  },
  {
   "cell_type": "code",
   "execution_count": 15,
   "metadata": {
    "scrolled": true
   },
   "outputs": [
    {
     "data": {
      "text/plain": [
       "11"
      ]
     },
     "execution_count": 15,
     "metadata": {},
     "output_type": "execute_result"
    }
   ],
   "source": [
    "data_reviewers_support_January['Rating'].count()"
   ]
  },
  {
   "cell_type": "markdown",
   "metadata": {},
   "source": [
    "#### Checking for the reviewers involved in the false alarms for the January 2021"
   ]
  },
  {
   "cell_type": "code",
   "execution_count": 16,
   "metadata": {},
   "outputs": [
    {
     "data": {
      "text/plain": [
       "array(['Mallikarjun', 'Narendra', 'Yuvaraja', nan, 'Shiva Kumar'],\n",
       "      dtype=object)"
      ]
     },
     "execution_count": 16,
     "metadata": {},
     "output_type": "execute_result"
    }
   ],
   "source": [
    "data_reviewers_support_January['Remarks'].unique()"
   ]
  },
  {
   "cell_type": "code",
   "execution_count": 17,
   "metadata": {},
   "outputs": [
    {
     "data": {
      "text/plain": [
       "Yuvaraja       3\n",
       "Narendra       3\n",
       "Mallikarjun    3\n",
       "Shiva Kumar    1\n",
       "Name: Remarks, dtype: int64"
      ]
     },
     "execution_count": 17,
     "metadata": {},
     "output_type": "execute_result"
    }
   ],
   "source": [
    "data_reviewers_support_January['Remarks'].value_counts()"
   ]
  },
  {
   "cell_type": "code",
   "execution_count": 18,
   "metadata": {},
   "outputs": [
    {
     "data": {
      "image/png": "[encoded data removed]",
      "text/plain": [
       "<Figure size 360x360 with 1 Axes>"
      ]
     },
     "metadata": {
      "needs_background": "light"
     },
     "output_type": "display_data"
    }
   ],
   "source": [
    "X=data_reviewers_support_January['Remarks'].value_counts()\n",
    "plt.figure(figsize=(5,5))\n",
    "plt.plot(X,color='magenta', marker='o', linestyle='dashed',linewidth=2, markersize=5)\n",
    "plt.xticks(rotation=40)\n",
    "plt.title(\"Number of reviewers involved in the False alarms in January 2021\", color='black')\n",
    "for i, v in enumerate(X):\n",
    "    plt.text(i, v+0.04, \"%d\" %v, ha=\"center\")\n",
    "plt.show()"
   ]
  },
  {
   "cell_type": "code",
   "execution_count": 19,
   "metadata": {},
   "outputs": [
    {
     "data": {
      "text/plain": [
       "10"
      ]
     },
     "execution_count": 19,
     "metadata": {},
     "output_type": "execute_result"
    }
   ],
   "source": [
    "data_reviewers_support_January['Remarks'].count()"
   ]
  },
  {
   "cell_type": "markdown",
   "metadata": {},
   "source": [
    "#### Counting the each reviewers false alarms for the January 2021\n",
    "#### 1) Wrong rating no accident"
   ]
  },
  {
   "cell_type": "code",
   "execution_count": 20,
   "metadata": {},
   "outputs": [
    {
     "data": {
      "text/html": [
       "<div>\n",
       "<style scoped>\n",
       "    .dataframe tbody tr th:only-of-type {\n",
       "        vertical-align: middle;\n",
       "    }\n",
       "\n",
       "    .dataframe tbody tr th {\n",
       "        vertical-align: top;\n",
       "    }\n",
       "\n",
       "    .dataframe thead th {\n",
       "        text-align: right;\n",
       "    }\n",
       "</style>\n",
       "<table border=\"1\" class=\"dataframe\">\n",
       "  <thead>\n",
       "    <tr style=\"text-align: right;\">\n",
       "      <th></th>\n",
       "      <th>Date</th>\n",
       "      <th>Link to incident</th>\n",
       "      <th>link to slack</th>\n",
       "      <th>Rating</th>\n",
       "      <th>Remarks</th>\n",
       "    </tr>\n",
       "  </thead>\n",
       "  <tbody>\n",
       "    <tr>\n",
       "      <th>45</th>\n",
       "      <td>2021-01-22</td>\n",
       "      <td>https://dashboard.jp.getnexar.com/reviewer/rev...</td>\n",
       "      <td>https://nexar.slack.com/archives/G01EY2XN6MC/p...</td>\n",
       "      <td>Wrong rating - No accident</td>\n",
       "      <td>Mallikarjun</td>\n",
       "    </tr>\n",
       "    <tr>\n",
       "      <th>55</th>\n",
       "      <td>2021-01-29</td>\n",
       "      <td>https://dashboard.jp.getnexar.com/reviewer/rev...</td>\n",
       "      <td>https://nexar.slack.com/archives/G01EY2XN6MC/p...</td>\n",
       "      <td>Wrong rating - No accident</td>\n",
       "      <td>Narendra</td>\n",
       "    </tr>\n",
       "  </tbody>\n",
       "</table>\n",
       "</div>"
      ],
      "text/plain": [
       "         Date                                   Link to incident  \\\n",
       "45 2021-01-22  https://dashboard.jp.getnexar.com/reviewer/rev...   \n",
       "55 2021-01-29  https://dashboard.jp.getnexar.com/reviewer/rev...   \n",
       "\n",
       "                                       link to slack   \\\n",
       "45  https://nexar.slack.com/archives/G01EY2XN6MC/p...   \n",
       "55  https://nexar.slack.com/archives/G01EY2XN6MC/p...   \n",
       "\n",
       "                        Rating      Remarks  \n",
       "45  Wrong rating - No accident  Mallikarjun  \n",
       "55  Wrong rating - No accident     Narendra  "
      ]
     },
     "execution_count": 20,
     "metadata": {},
     "output_type": "execute_result"
    }
   ],
   "source": [
    "wrong_rating_no_accident= data_reviewers_support_January[(data_reviewers_support_January['Rating']=='Wrong rating - No accident')]\n",
    "wrong_rating_no_accident"
   ]
  },
  {
   "cell_type": "code",
   "execution_count": 21,
   "metadata": {},
   "outputs": [
    {
     "data": {
      "text/plain": [
       "Narendra       1\n",
       "Mallikarjun    1\n",
       "Name: Remarks, dtype: int64"
      ]
     },
     "execution_count": 21,
     "metadata": {},
     "output_type": "execute_result"
    }
   ],
   "source": [
    "wrong_rating_no_accident['Remarks'].value_counts()"
   ]
  },
  {
   "cell_type": "code",
   "execution_count": 22,
   "metadata": {},
   "outputs": [
    {
     "data": {
      "image/png": "[encoded data removed]",
      "text/plain": [
       "<Figure size 360x360 with 1 Axes>"
      ]
     },
     "metadata": {
      "needs_background": "light"
     },
     "output_type": "display_data"
    }
   ],
   "source": [
    "x=wrong_rating_no_accident['Remarks'].value_counts()\n",
    "plt.figure(figsize=(5,5))\n",
    "plt.plot(x,color='gold', marker='o', linestyle='dashed',linewidth=2, markersize=5)\n",
    "plt.xticks(rotation=40)\n",
    "plt.title(\"Reviewers involved in Wrong rating no accident in January 2021\", color='black')\n",
    "for i, v in enumerate(x):\n",
    "    plt.text(i, v+0.01, \"%d\" %v, ha=\"center\")\n",
    "plt.show()"
   ]
  },
  {
   "cell_type": "code",
   "execution_count": 23,
   "metadata": {},
   "outputs": [
    {
     "data": {
      "text/plain": [
       "2"
      ]
     },
     "execution_count": 23,
     "metadata": {},
     "output_type": "execute_result"
    }
   ],
   "source": [
    "wrong_rating_no_accident['Remarks'].count()"
   ]
  },
  {
   "cell_type": "markdown",
   "metadata": {},
   "source": [
    "#### 2) Missed Collision"
   ]
  },
  {
   "cell_type": "code",
   "execution_count": 24,
   "metadata": {},
   "outputs": [
    {
     "data": {
      "text/html": [
       "<div>\n",
       "<style scoped>\n",
       "    .dataframe tbody tr th:only-of-type {\n",
       "        vertical-align: middle;\n",
       "    }\n",
       "\n",
       "    .dataframe tbody tr th {\n",
       "        vertical-align: top;\n",
       "    }\n",
       "\n",
       "    .dataframe thead th {\n",
       "        text-align: right;\n",
       "    }\n",
       "</style>\n",
       "<table border=\"1\" class=\"dataframe\">\n",
       "  <thead>\n",
       "    <tr style=\"text-align: right;\">\n",
       "      <th></th>\n",
       "      <th>Date</th>\n",
       "      <th>Link to incident</th>\n",
       "      <th>link to slack</th>\n",
       "      <th>Rating</th>\n",
       "      <th>Remarks</th>\n",
       "    </tr>\n",
       "  </thead>\n",
       "  <tbody>\n",
       "    <tr>\n",
       "      <th>46</th>\n",
       "      <td>2021-01-24</td>\n",
       "      <td>https://dashboard.jp.getnexar.com/reviewer/rev...</td>\n",
       "      <td>https://nexar.slack.com/archives/G01EY2XN6MC/p...</td>\n",
       "      <td>missed collision</td>\n",
       "      <td>Mallikarjun</td>\n",
       "    </tr>\n",
       "    <tr>\n",
       "      <th>47</th>\n",
       "      <td>2021-01-24</td>\n",
       "      <td>NaN</td>\n",
       "      <td>https://nexar.slack.com/archives/G01EY2XN6MC/p...</td>\n",
       "      <td>missed collision</td>\n",
       "      <td>Narendra</td>\n",
       "    </tr>\n",
       "    <tr>\n",
       "      <th>48</th>\n",
       "      <td>2021-01-24</td>\n",
       "      <td>https://dashboard.jp.getnexar.com/reviewer/rev...</td>\n",
       "      <td>https://nexar.slack.com/archives/G01EY2XN6MC/p...</td>\n",
       "      <td>missed collision</td>\n",
       "      <td>Yuvaraja</td>\n",
       "    </tr>\n",
       "    <tr>\n",
       "      <th>49</th>\n",
       "      <td>2021-01-25</td>\n",
       "      <td>https://dashboard.jp.getnexar.com/reviewer/rev...</td>\n",
       "      <td>https://nexar.slack.com/archives/G01EY2XN6MC/p...</td>\n",
       "      <td>missed collision</td>\n",
       "      <td>Narendra</td>\n",
       "    </tr>\n",
       "    <tr>\n",
       "      <th>50</th>\n",
       "      <td>2021-01-25</td>\n",
       "      <td>NaN</td>\n",
       "      <td>https://nexar.slack.com/archives/G01EY2XN6MC/p...</td>\n",
       "      <td>missed collision</td>\n",
       "      <td>Mallikarjun</td>\n",
       "    </tr>\n",
       "    <tr>\n",
       "      <th>52</th>\n",
       "      <td>2021-01-27</td>\n",
       "      <td>https://dashboard.jp.getnexar.com/reviewer/rev...</td>\n",
       "      <td>https://nexar.slack.com/archives/G01EY2XN6MC/p...</td>\n",
       "      <td>missed collision</td>\n",
       "      <td>Shiva Kumar</td>\n",
       "    </tr>\n",
       "    <tr>\n",
       "      <th>53</th>\n",
       "      <td>2021-01-27</td>\n",
       "      <td>https://dashboard.jp.getnexar.com/reviewer/rev...</td>\n",
       "      <td>https://nexar.slack.com/archives/G01EY2XN6MC/p...</td>\n",
       "      <td>missed collision</td>\n",
       "      <td>Yuvaraja</td>\n",
       "    </tr>\n",
       "    <tr>\n",
       "      <th>54</th>\n",
       "      <td>2021-01-27</td>\n",
       "      <td>NaN</td>\n",
       "      <td>https://nexar.slack.com/archives/G01EY2XN6MC/p...</td>\n",
       "      <td>missed collision</td>\n",
       "      <td>Yuvaraja</td>\n",
       "    </tr>\n",
       "  </tbody>\n",
       "</table>\n",
       "</div>"
      ],
      "text/plain": [
       "         Date                                   Link to incident  \\\n",
       "46 2021-01-24  https://dashboard.jp.getnexar.com/reviewer/rev...   \n",
       "47 2021-01-24                                                NaN   \n",
       "48 2021-01-24  https://dashboard.jp.getnexar.com/reviewer/rev...   \n",
       "49 2021-01-25  https://dashboard.jp.getnexar.com/reviewer/rev...   \n",
       "50 2021-01-25                                                NaN   \n",
       "52 2021-01-27  https://dashboard.jp.getnexar.com/reviewer/rev...   \n",
       "53 2021-01-27  https://dashboard.jp.getnexar.com/reviewer/rev...   \n",
       "54 2021-01-27                                                NaN   \n",
       "\n",
       "                                       link to slack             Rating  \\\n",
       "46  https://nexar.slack.com/archives/G01EY2XN6MC/p...  missed collision   \n",
       "47  https://nexar.slack.com/archives/G01EY2XN6MC/p...  missed collision   \n",
       "48  https://nexar.slack.com/archives/G01EY2XN6MC/p...  missed collision   \n",
       "49  https://nexar.slack.com/archives/G01EY2XN6MC/p...  missed collision   \n",
       "50  https://nexar.slack.com/archives/G01EY2XN6MC/p...  missed collision   \n",
       "52  https://nexar.slack.com/archives/G01EY2XN6MC/p...  missed collision   \n",
       "53  https://nexar.slack.com/archives/G01EY2XN6MC/p...  missed collision   \n",
       "54  https://nexar.slack.com/archives/G01EY2XN6MC/p...  missed collision   \n",
       "\n",
       "        Remarks  \n",
       "46  Mallikarjun  \n",
       "47     Narendra  \n",
       "48     Yuvaraja  \n",
       "49     Narendra  \n",
       "50  Mallikarjun  \n",
       "52  Shiva Kumar  \n",
       "53     Yuvaraja  \n",
       "54     Yuvaraja  "
      ]
     },
     "execution_count": 24,
     "metadata": {},
     "output_type": "execute_result"
    }
   ],
   "source": [
    "missed_collision= data_reviewers_support_January[(data_reviewers_support_January['Rating']=='missed collision')]\n",
    "missed_collision"
   ]
  },
  {
   "cell_type": "code",
   "execution_count": 25,
   "metadata": {},
   "outputs": [
    {
     "data": {
      "text/plain": [
       "Yuvaraja       3\n",
       "Narendra       2\n",
       "Mallikarjun    2\n",
       "Shiva Kumar    1\n",
       "Name: Remarks, dtype: int64"
      ]
     },
     "execution_count": 25,
     "metadata": {},
     "output_type": "execute_result"
    }
   ],
   "source": [
    "missed_collision['Remarks'].value_counts()"
   ]
  },
  {
   "cell_type": "code",
   "execution_count": 26,
   "metadata": {},
   "outputs": [
    {
     "data": {
      "image/png": "[encoded data removed]",
      "text/plain": [
       "<Figure size 360x360 with 1 Axes>"
      ]
     },
     "metadata": {
      "needs_background": "light"
     },
     "output_type": "display_data"
    }
   ],
   "source": [
    "x=missed_collision['Remarks'].value_counts()\n",
    "plt.figure(figsize=(5,5))\n",
    "plt.plot(x,color='cadetblue', marker='o', linestyle='dashed',linewidth=2, markersize=5)\n",
    "plt.xticks(rotation=40)\n",
    "plt.title(\"Reviewers involved in missed collision in January 2021\", color='black')\n",
    "for i, v in enumerate(x):\n",
    "    plt.text(i, v+0.03, \"%d\" %v, ha=\"center\")\n",
    "plt.show()"
   ]
  },
  {
   "cell_type": "code",
   "execution_count": 27,
   "metadata": {},
   "outputs": [
    {
     "data": {
      "text/plain": [
       "8"
      ]
     },
     "execution_count": 27,
     "metadata": {},
     "output_type": "execute_result"
    }
   ],
   "source": [
    "missed_collision['Remarks'].count()"
   ]
  },
  {
   "cell_type": "markdown",
   "metadata": {},
   "source": [
    "#### 3) 1hr 04mins - 1 reviewer only"
   ]
  },
  {
   "cell_type": "code",
   "execution_count": 28,
   "metadata": {},
   "outputs": [
    {
     "data": {
      "text/html": [
       "<div>\n",
       "<style scoped>\n",
       "    .dataframe tbody tr th:only-of-type {\n",
       "        vertical-align: middle;\n",
       "    }\n",
       "\n",
       "    .dataframe tbody tr th {\n",
       "        vertical-align: top;\n",
       "    }\n",
       "\n",
       "    .dataframe thead th {\n",
       "        text-align: right;\n",
       "    }\n",
       "</style>\n",
       "<table border=\"1\" class=\"dataframe\">\n",
       "  <thead>\n",
       "    <tr style=\"text-align: right;\">\n",
       "      <th></th>\n",
       "      <th>Date</th>\n",
       "      <th>Link to incident</th>\n",
       "      <th>link to slack</th>\n",
       "      <th>Rating</th>\n",
       "      <th>Remarks</th>\n",
       "    </tr>\n",
       "  </thead>\n",
       "  <tbody>\n",
       "    <tr>\n",
       "      <th>51</th>\n",
       "      <td>2021-01-25</td>\n",
       "      <td>NaN</td>\n",
       "      <td>https://nexar.slack.com/archives/C01ESDUFXT4/p...</td>\n",
       "      <td>1hr 04mins - 1 reviewer only</td>\n",
       "      <td>NaN</td>\n",
       "    </tr>\n",
       "  </tbody>\n",
       "</table>\n",
       "</div>"
      ],
      "text/plain": [
       "         Date Link to incident  \\\n",
       "51 2021-01-25              NaN   \n",
       "\n",
       "                                       link to slack   \\\n",
       "51  https://nexar.slack.com/archives/C01ESDUFXT4/p...   \n",
       "\n",
       "                          Rating Remarks  \n",
       "51  1hr 04mins - 1 reviewer only     NaN  "
      ]
     },
     "execution_count": 28,
     "metadata": {},
     "output_type": "execute_result"
    }
   ],
   "source": [
    "onehr_04mins_1_reviewer_only= data_reviewers_support_January[(data_reviewers_support_January['Rating']=='1hr 04mins - 1 reviewer only')]\n",
    "onehr_04mins_1_reviewer_only"
   ]
  },
  {
   "cell_type": "code",
   "execution_count": 29,
   "metadata": {},
   "outputs": [
    {
     "data": {
      "text/plain": [
       "Series([], Name: Remarks, dtype: int64)"
      ]
     },
     "execution_count": 29,
     "metadata": {},
     "output_type": "execute_result"
    }
   ],
   "source": [
    "onehr_04mins_1_reviewer_only['Remarks'].value_counts()"
   ]
  },
  {
   "cell_type": "markdown",
   "metadata": {},
   "source": [
    "## 4) Analysis of the ratings and remarks in the month of February 2021"
   ]
  },
  {
   "cell_type": "code",
   "execution_count": 30,
   "metadata": {},
   "outputs": [
    {
     "data": {
      "text/html": [
       "<div>\n",
       "<style scoped>\n",
       "    .dataframe tbody tr th:only-of-type {\n",
       "        vertical-align: middle;\n",
       "    }\n",
       "\n",
       "    .dataframe tbody tr th {\n",
       "        vertical-align: top;\n",
       "    }\n",
       "\n",
       "    .dataframe thead th {\n",
       "        text-align: right;\n",
       "    }\n",
       "</style>\n",
       "<table border=\"1\" class=\"dataframe\">\n",
       "  <thead>\n",
       "    <tr style=\"text-align: right;\">\n",
       "      <th></th>\n",
       "      <th>Date</th>\n",
       "      <th>Link to incident</th>\n",
       "      <th>link to slack</th>\n",
       "      <th>Rating</th>\n",
       "      <th>Remarks</th>\n",
       "    </tr>\n",
       "  </thead>\n",
       "  <tbody>\n",
       "    <tr>\n",
       "      <th>56</th>\n",
       "      <td>2021-02-01</td>\n",
       "      <td>https://dashboard.jp.getnexar.com/reviewer/rev...</td>\n",
       "      <td>https://nexar.slack.com/archives/G01EY2XN6MC/p...</td>\n",
       "      <td>missed collision</td>\n",
       "      <td>Shivam</td>\n",
       "    </tr>\n",
       "    <tr>\n",
       "      <th>57</th>\n",
       "      <td>2021-02-01</td>\n",
       "      <td>https://dashboard.jp.getnexar.com/reviewer/rev...</td>\n",
       "      <td>https://nexar.slack.com/archives/G01EY2XN6MC/p...</td>\n",
       "      <td>missed collision</td>\n",
       "      <td>Aparna</td>\n",
       "    </tr>\n",
       "    <tr>\n",
       "      <th>58</th>\n",
       "      <td>2021-02-02</td>\n",
       "      <td>NaN</td>\n",
       "      <td>https://nexar.slack.com/archives/G01EY2XN6MC/p...</td>\n",
       "      <td>missed collision</td>\n",
       "      <td>Aparna</td>\n",
       "    </tr>\n",
       "    <tr>\n",
       "      <th>59</th>\n",
       "      <td>2021-02-03</td>\n",
       "      <td>https://dashboard.jp.getnexar.com/reviewer/rev...</td>\n",
       "      <td>https://nexar.slack.com/archives/G01EY2XN6MC/p...</td>\n",
       "      <td>missed collision</td>\n",
       "      <td>Yuvaraja</td>\n",
       "    </tr>\n",
       "    <tr>\n",
       "      <th>60</th>\n",
       "      <td>2021-02-03</td>\n",
       "      <td>https://dashboard.jp.getnexar.com/reviewer/rev...</td>\n",
       "      <td>https://nexar.slack.com/archives/G01EY2XN6MC/p...</td>\n",
       "      <td>missed collision</td>\n",
       "      <td>Aparna</td>\n",
       "    </tr>\n",
       "  </tbody>\n",
       "</table>\n",
       "</div>"
      ],
      "text/plain": [
       "         Date                                   Link to incident  \\\n",
       "56 2021-02-01  https://dashboard.jp.getnexar.com/reviewer/rev...   \n",
       "57 2021-02-01  https://dashboard.jp.getnexar.com/reviewer/rev...   \n",
       "58 2021-02-02                                                NaN   \n",
       "59 2021-02-03  https://dashboard.jp.getnexar.com/reviewer/rev...   \n",
       "60 2021-02-03  https://dashboard.jp.getnexar.com/reviewer/rev...   \n",
       "\n",
       "                                       link to slack             Rating  \\\n",
       "56  https://nexar.slack.com/archives/G01EY2XN6MC/p...  missed collision   \n",
       "57  https://nexar.slack.com/archives/G01EY2XN6MC/p...  missed collision   \n",
       "58  https://nexar.slack.com/archives/G01EY2XN6MC/p...  missed collision   \n",
       "59  https://nexar.slack.com/archives/G01EY2XN6MC/p...  missed collision   \n",
       "60  https://nexar.slack.com/archives/G01EY2XN6MC/p...  missed collision   \n",
       "\n",
       "     Remarks  \n",
       "56    Shivam  \n",
       "57    Aparna  \n",
       "58    Aparna  \n",
       "59  Yuvaraja  \n",
       "60    Aparna  "
      ]
     },
     "execution_count": 30,
     "metadata": {},
     "output_type": "execute_result"
    }
   ],
   "source": [
    "data_reviewers_support_February=data_reviewers_support[(data_reviewers_support['Date'] >= '2021-02-01') & (data_reviewers_support['Date'] <= '2021-02-28')]\n",
    "data_reviewers_support_February.head()"
   ]
  },
  {
   "cell_type": "code",
   "execution_count": 31,
   "metadata": {},
   "outputs": [
    {
     "data": {
      "text/plain": [
       "(38, 5)"
      ]
     },
     "execution_count": 31,
     "metadata": {},
     "output_type": "execute_result"
    }
   ],
   "source": [
    "data_reviewers_support_February.shape"
   ]
  },
  {
   "cell_type": "code",
   "execution_count": 32,
   "metadata": {},
   "outputs": [
    {
     "data": {
      "text/plain": [
       "190"
      ]
     },
     "execution_count": 32,
     "metadata": {},
     "output_type": "execute_result"
    }
   ],
   "source": [
    "data_reviewers_support_February.size"
   ]
  },
  {
   "cell_type": "code",
   "execution_count": 33,
   "metadata": {},
   "outputs": [
    {
     "data": {
      "text/html": [
       "<div>\n",
       "<style scoped>\n",
       "    .dataframe tbody tr th:only-of-type {\n",
       "        vertical-align: middle;\n",
       "    }\n",
       "\n",
       "    .dataframe tbody tr th {\n",
       "        vertical-align: top;\n",
       "    }\n",
       "\n",
       "    .dataframe thead th {\n",
       "        text-align: right;\n",
       "    }\n",
       "</style>\n",
       "<table border=\"1\" class=\"dataframe\">\n",
       "  <thead>\n",
       "    <tr style=\"text-align: right;\">\n",
       "      <th></th>\n",
       "      <th>Date</th>\n",
       "      <th>Link to incident</th>\n",
       "      <th>link to slack</th>\n",
       "      <th>Rating</th>\n",
       "      <th>Remarks</th>\n",
       "    </tr>\n",
       "  </thead>\n",
       "  <tbody>\n",
       "    <tr>\n",
       "      <th>0</th>\n",
       "      <td>0</td>\n",
       "      <td>8</td>\n",
       "      <td>0</td>\n",
       "      <td>0</td>\n",
       "      <td>2</td>\n",
       "    </tr>\n",
       "  </tbody>\n",
       "</table>\n",
       "</div>"
      ],
      "text/plain": [
       "   Date  Link to incident  link to slack   Rating  Remarks\n",
       "0     0                 8               0       0        2"
      ]
     },
     "execution_count": 33,
     "metadata": {},
     "output_type": "execute_result"
    }
   ],
   "source": [
    "data_reviewers_support_February.isna().sum().to_frame().T"
   ]
  },
  {
   "cell_type": "markdown",
   "metadata": {},
   "source": [
    "#### Checking total false alarms in the month of February 2021"
   ]
  },
  {
   "cell_type": "code",
   "execution_count": 34,
   "metadata": {
    "scrolled": true
   },
   "outputs": [
    {
     "data": {
      "text/plain": [
       "array(['missed collision', 'Wrong rating - No accident',\n",
       "       'grabbed no submitted review', '1hour to submit review',\n",
       "       '4:04 last submitted- 6:37 grabbed= 2h 33m',\n",
       "       'Wrong rating - Accident',\n",
       "       'P1 missed accident - review resubmitted'], dtype=object)"
      ]
     },
     "execution_count": 34,
     "metadata": {},
     "output_type": "execute_result"
    }
   ],
   "source": [
    "data_reviewers_support_February['Rating'].unique()"
   ]
  },
  {
   "cell_type": "code",
   "execution_count": 35,
   "metadata": {},
   "outputs": [
    {
     "data": {
      "text/plain": [
       "missed collision                             24\n",
       "Wrong rating - No accident                    8\n",
       "Wrong rating - Accident                       2\n",
       "4:04 last submitted- 6:37 grabbed= 2h 33m     1\n",
       "grabbed no submitted review                   1\n",
       "1hour to submit review                        1\n",
       "P1 missed accident - review resubmitted       1\n",
       "Name: Rating, dtype: int64"
      ]
     },
     "execution_count": 35,
     "metadata": {},
     "output_type": "execute_result"
    }
   ],
   "source": [
    "data_reviewers_support_February['Rating'].value_counts()"
   ]
  },
  {
   "cell_type": "code",
   "execution_count": 36,
   "metadata": {},
   "outputs": [
    {
     "data": {
      "image/png": "[encoded data removed]",
      "text/plain": [
       "<Figure size 360x360 with 1 Axes>"
      ]
     },
     "metadata": {
      "needs_background": "light"
     },
     "output_type": "display_data"
    }
   ],
   "source": [
    "x=data_reviewers_support_February['Rating'].value_counts()\n",
    "plt.figure(figsize=(5,5))\n",
    "plt.plot(x,color='cyan', marker='o', linestyle='dashed',linewidth=2, markersize=5)\n",
    "plt.xticks(rotation=90)\n",
    "plt.title(\"Total number of False alarms in February 2021\", color='black')\n",
    "for i, v in enumerate(x):\n",
    "    plt.text(i, v+0.03, \"%d\" %v, ha=\"center\")\n",
    "plt.show()"
   ]
  },
  {
   "cell_type": "code",
   "execution_count": 37,
   "metadata": {
    "scrolled": true
   },
   "outputs": [
    {
     "data": {
      "text/plain": [
       "38"
      ]
     },
     "execution_count": 37,
     "metadata": {},
     "output_type": "execute_result"
    }
   ],
   "source": [
    "data_reviewers_support_February['Rating'].count()"
   ]
  },
  {
   "cell_type": "markdown",
   "metadata": {},
   "source": [
    "#### Checking for the reviewers involved in the false alarms for the February 2021"
   ]
  },
  {
   "cell_type": "code",
   "execution_count": 38,
   "metadata": {},
   "outputs": [
    {
     "data": {
      "text/plain": [
       "array(['Shivam', 'Aparna', 'Yuvaraja', 'Rajeshwari', 'Narendra',\n",
       "       'Shiva Kumar', 'Kiran', nan], dtype=object)"
      ]
     },
     "execution_count": 38,
     "metadata": {},
     "output_type": "execute_result"
    }
   ],
   "source": [
    "data_reviewers_support_February['Remarks'].unique()"
   ]
  },
  {
   "cell_type": "code",
   "execution_count": 39,
   "metadata": {},
   "outputs": [
    {
     "data": {
      "text/plain": [
       "Aparna         10\n",
       "Shivam          9\n",
       "Yuvaraja        5\n",
       "Kiran           3\n",
       "Rajeshwari      3\n",
       "Narendra        3\n",
       "Shiva Kumar     3\n",
       "Name: Remarks, dtype: int64"
      ]
     },
     "execution_count": 39,
     "metadata": {},
     "output_type": "execute_result"
    }
   ],
   "source": [
    "data_reviewers_support_February['Remarks'].value_counts()"
   ]
  },
  {
   "cell_type": "code",
   "execution_count": 40,
   "metadata": {},
   "outputs": [
    {
     "data": {
      "image/png": "[encoded data removed]",
      "text/plain": [
       "<Figure size 360x144 with 1 Axes>"
      ]
     },
     "metadata": {
      "needs_background": "light"
     },
     "output_type": "display_data"
    }
   ],
   "source": [
    "x=data_reviewers_support_February['Remarks'].value_counts()\n",
    "plt.figure(figsize=(5,2))\n",
    "plt.plot(x,color='darkorange', marker='o', linestyle='dashed',linewidth=2, markersize=5)\n",
    "plt.xticks(rotation=45)\n",
    "plt.title(\"Reviewers involved in False alarms in February 2021\", color='black')\n",
    "for i, v in enumerate(x):\n",
    "    plt.text(i, v+0.03, \"%d\" %v, ha=\"center\")\n",
    "plt.show()"
   ]
  },
  {
   "cell_type": "code",
   "execution_count": 41,
   "metadata": {},
   "outputs": [
    {
     "data": {
      "text/plain": [
       "36"
      ]
     },
     "execution_count": 41,
     "metadata": {},
     "output_type": "execute_result"
    }
   ],
   "source": [
    "data_reviewers_support_February['Remarks'].count()"
   ]
  },
  {
   "cell_type": "markdown",
   "metadata": {},
   "source": [
    "#### Counting the each reviewers false alarms for the February 2021\n",
    "#### 1) missed collision"
   ]
  },
  {
   "cell_type": "code",
   "execution_count": 42,
   "metadata": {},
   "outputs": [
    {
     "data": {
      "text/html": [
       "<div>\n",
       "<style scoped>\n",
       "    .dataframe tbody tr th:only-of-type {\n",
       "        vertical-align: middle;\n",
       "    }\n",
       "\n",
       "    .dataframe tbody tr th {\n",
       "        vertical-align: top;\n",
       "    }\n",
       "\n",
       "    .dataframe thead th {\n",
       "        text-align: right;\n",
       "    }\n",
       "</style>\n",
       "<table border=\"1\" class=\"dataframe\">\n",
       "  <thead>\n",
       "    <tr style=\"text-align: right;\">\n",
       "      <th></th>\n",
       "      <th>Date</th>\n",
       "      <th>Link to incident</th>\n",
       "      <th>link to slack</th>\n",
       "      <th>Rating</th>\n",
       "      <th>Remarks</th>\n",
       "    </tr>\n",
       "  </thead>\n",
       "  <tbody>\n",
       "    <tr>\n",
       "      <th>56</th>\n",
       "      <td>2021-02-01</td>\n",
       "      <td>https://dashboard.jp.getnexar.com/reviewer/rev...</td>\n",
       "      <td>https://nexar.slack.com/archives/G01EY2XN6MC/p...</td>\n",
       "      <td>missed collision</td>\n",
       "      <td>Shivam</td>\n",
       "    </tr>\n",
       "    <tr>\n",
       "      <th>57</th>\n",
       "      <td>2021-02-01</td>\n",
       "      <td>https://dashboard.jp.getnexar.com/reviewer/rev...</td>\n",
       "      <td>https://nexar.slack.com/archives/G01EY2XN6MC/p...</td>\n",
       "      <td>missed collision</td>\n",
       "      <td>Aparna</td>\n",
       "    </tr>\n",
       "    <tr>\n",
       "      <th>58</th>\n",
       "      <td>2021-02-02</td>\n",
       "      <td>NaN</td>\n",
       "      <td>https://nexar.slack.com/archives/G01EY2XN6MC/p...</td>\n",
       "      <td>missed collision</td>\n",
       "      <td>Aparna</td>\n",
       "    </tr>\n",
       "    <tr>\n",
       "      <th>59</th>\n",
       "      <td>2021-02-03</td>\n",
       "      <td>https://dashboard.jp.getnexar.com/reviewer/rev...</td>\n",
       "      <td>https://nexar.slack.com/archives/G01EY2XN6MC/p...</td>\n",
       "      <td>missed collision</td>\n",
       "      <td>Yuvaraja</td>\n",
       "    </tr>\n",
       "    <tr>\n",
       "      <th>60</th>\n",
       "      <td>2021-02-03</td>\n",
       "      <td>https://dashboard.jp.getnexar.com/reviewer/rev...</td>\n",
       "      <td>https://nexar.slack.com/archives/G01EY2XN6MC/p...</td>\n",
       "      <td>missed collision</td>\n",
       "      <td>Aparna</td>\n",
       "    </tr>\n",
       "    <tr>\n",
       "      <th>61</th>\n",
       "      <td>2021-02-03</td>\n",
       "      <td>NaN</td>\n",
       "      <td>https://nexar.slack.com/archives/G01EY2XN6MC/p...</td>\n",
       "      <td>missed collision</td>\n",
       "      <td>Aparna</td>\n",
       "    </tr>\n",
       "    <tr>\n",
       "      <th>62</th>\n",
       "      <td>2021-02-03</td>\n",
       "      <td>https://dashboard.jp.getnexar.com/reviewer/rev...</td>\n",
       "      <td>https://nexar.slack.com/archives/G01EY2XN6MC/p...</td>\n",
       "      <td>missed collision</td>\n",
       "      <td>Yuvaraja</td>\n",
       "    </tr>\n",
       "    <tr>\n",
       "      <th>63</th>\n",
       "      <td>2021-02-03</td>\n",
       "      <td>https://dashboard.jp.getnexar.com/reviewer/rev...</td>\n",
       "      <td>https://nexar.slack.com/archives/G01EY2XN6MC/p...</td>\n",
       "      <td>missed collision</td>\n",
       "      <td>Aparna</td>\n",
       "    </tr>\n",
       "    <tr>\n",
       "      <th>64</th>\n",
       "      <td>2021-02-04</td>\n",
       "      <td>NaN</td>\n",
       "      <td>https://nexar.slack.com/archives/G01EY2XN6MC/p...</td>\n",
       "      <td>missed collision</td>\n",
       "      <td>Yuvaraja</td>\n",
       "    </tr>\n",
       "    <tr>\n",
       "      <th>69</th>\n",
       "      <td>2021-02-05</td>\n",
       "      <td>https://dashboard.jp.getnexar.com/reviewer/rev...</td>\n",
       "      <td>https://nexar.slack.com/archives/G01EY2XN6MC/p...</td>\n",
       "      <td>missed collision</td>\n",
       "      <td>Aparna</td>\n",
       "    </tr>\n",
       "    <tr>\n",
       "      <th>70</th>\n",
       "      <td>2021-02-05</td>\n",
       "      <td>https://dashboard.jp.getnexar.com/reviewer/rev...</td>\n",
       "      <td>https://nexar.slack.com/archives/G01EY2XN6MC/p...</td>\n",
       "      <td>missed collision</td>\n",
       "      <td>Shivam</td>\n",
       "    </tr>\n",
       "    <tr>\n",
       "      <th>71</th>\n",
       "      <td>2021-02-06</td>\n",
       "      <td>https://dashboard.jp.getnexar.com/reviewer/inc...</td>\n",
       "      <td>https://nexar.slack.com/archives/G01EY2XN6MC/p...</td>\n",
       "      <td>missed collision</td>\n",
       "      <td>Rajeshwari</td>\n",
       "    </tr>\n",
       "    <tr>\n",
       "      <th>75</th>\n",
       "      <td>2021-02-12</td>\n",
       "      <td>https://dashboard.jp.getnexar.com/reviewer/rev...</td>\n",
       "      <td>https://nexar.slack.com/archives/G01EY2XN6MC/p...</td>\n",
       "      <td>missed collision</td>\n",
       "      <td>Shivam</td>\n",
       "    </tr>\n",
       "    <tr>\n",
       "      <th>76</th>\n",
       "      <td>2021-02-12</td>\n",
       "      <td>https://dashboard.jp.getnexar.com/reviewer/rev...</td>\n",
       "      <td>https://nexar.slack.com/archives/G01EY2XN6MC/p...</td>\n",
       "      <td>missed collision</td>\n",
       "      <td>Yuvaraja</td>\n",
       "    </tr>\n",
       "    <tr>\n",
       "      <th>77</th>\n",
       "      <td>2021-02-16</td>\n",
       "      <td>https://dashboard.jp.getnexar.com/reviewer/rev...</td>\n",
       "      <td>https://nexar.slack.com/archives/G01EY2XN6MC/p...</td>\n",
       "      <td>missed collision</td>\n",
       "      <td>Kiran</td>\n",
       "    </tr>\n",
       "    <tr>\n",
       "      <th>78</th>\n",
       "      <td>2021-02-16</td>\n",
       "      <td>https://dashboard.jp.getnexar.com/reviewer/rev...</td>\n",
       "      <td>https://nexar.slack.com/archives/G01EY2XN6MC/p...</td>\n",
       "      <td>missed collision</td>\n",
       "      <td>Narendra</td>\n",
       "    </tr>\n",
       "    <tr>\n",
       "      <th>79</th>\n",
       "      <td>2021-02-16</td>\n",
       "      <td>NaN</td>\n",
       "      <td>https://nexar.slack.com/archives/G01EY2XN6MC/p...</td>\n",
       "      <td>missed collision</td>\n",
       "      <td>Narendra</td>\n",
       "    </tr>\n",
       "    <tr>\n",
       "      <th>80</th>\n",
       "      <td>2021-02-22</td>\n",
       "      <td>https://dashboard.jp.getnexar.com/reviewer/rev...</td>\n",
       "      <td>https://nexar.slack.com/archives/G01EY2XN6MC/p...</td>\n",
       "      <td>missed collision</td>\n",
       "      <td>Shivam</td>\n",
       "    </tr>\n",
       "    <tr>\n",
       "      <th>81</th>\n",
       "      <td>2021-02-22</td>\n",
       "      <td>https://dashboard.jp.getnexar.com/reviewer/rev...</td>\n",
       "      <td>https://nexar.slack.com/archives/G01EY2XN6MC/p...</td>\n",
       "      <td>missed collision</td>\n",
       "      <td>Aparna</td>\n",
       "    </tr>\n",
       "    <tr>\n",
       "      <th>82</th>\n",
       "      <td>2021-02-22</td>\n",
       "      <td>NaN</td>\n",
       "      <td>https://nexar.slack.com/archives/G01EY2XN6MC/p...</td>\n",
       "      <td>missed collision</td>\n",
       "      <td>NaN</td>\n",
       "    </tr>\n",
       "    <tr>\n",
       "      <th>83</th>\n",
       "      <td>2021-02-23</td>\n",
       "      <td>https://dashboard.jp.getnexar.com/reviewer/rev...</td>\n",
       "      <td>https://nexar.slack.com/archives/G01EY2XN6MC/p...</td>\n",
       "      <td>missed collision</td>\n",
       "      <td>Shiva Kumar</td>\n",
       "    </tr>\n",
       "    <tr>\n",
       "      <th>84</th>\n",
       "      <td>2021-02-23</td>\n",
       "      <td>https://dashboard.jp.getnexar.com/reviewer/rev...</td>\n",
       "      <td>https://nexar.slack.com/archives/G01EY2XN6MC/p...</td>\n",
       "      <td>missed collision</td>\n",
       "      <td>Rajeshwari</td>\n",
       "    </tr>\n",
       "    <tr>\n",
       "      <th>85</th>\n",
       "      <td>2021-02-23</td>\n",
       "      <td>NaN</td>\n",
       "      <td>https://nexar.slack.com/archives/G01EY2XN6MC/p...</td>\n",
       "      <td>missed collision</td>\n",
       "      <td>NaN</td>\n",
       "    </tr>\n",
       "    <tr>\n",
       "      <th>90</th>\n",
       "      <td>2021-02-26</td>\n",
       "      <td>https://dashboard.jp.getnexar.com/reviewer/rev...</td>\n",
       "      <td>https://nexar.slack.com/archives/G01EY2XN6MC/p...</td>\n",
       "      <td>missed collision</td>\n",
       "      <td>Shivam</td>\n",
       "    </tr>\n",
       "  </tbody>\n",
       "</table>\n",
       "</div>"
      ],
      "text/plain": [
       "         Date                                   Link to incident  \\\n",
       "56 2021-02-01  https://dashboard.jp.getnexar.com/reviewer/rev...   \n",
       "57 2021-02-01  https://dashboard.jp.getnexar.com/reviewer/rev...   \n",
       "58 2021-02-02                                                NaN   \n",
       "59 2021-02-03  https://dashboard.jp.getnexar.com/reviewer/rev...   \n",
       "60 2021-02-03  https://dashboard.jp.getnexar.com/reviewer/rev...   \n",
       "61 2021-02-03                                                NaN   \n",
       "62 2021-02-03  https://dashboard.jp.getnexar.com/reviewer/rev...   \n",
       "63 2021-02-03  https://dashboard.jp.getnexar.com/reviewer/rev...   \n",
       "64 2021-02-04                                                NaN   \n",
       "69 2021-02-05  https://dashboard.jp.getnexar.com/reviewer/rev...   \n",
       "70 2021-02-05  https://dashboard.jp.getnexar.com/reviewer/rev...   \n",
       "71 2021-02-06  https://dashboard.jp.getnexar.com/reviewer/inc...   \n",
       "75 2021-02-12  https://dashboard.jp.getnexar.com/reviewer/rev...   \n",
       "76 2021-02-12  https://dashboard.jp.getnexar.com/reviewer/rev...   \n",
       "77 2021-02-16  https://dashboard.jp.getnexar.com/reviewer/rev...   \n",
       "78 2021-02-16  https://dashboard.jp.getnexar.com/reviewer/rev...   \n",
       "79 2021-02-16                                                NaN   \n",
       "80 2021-02-22  https://dashboard.jp.getnexar.com/reviewer/rev...   \n",
       "81 2021-02-22  https://dashboard.jp.getnexar.com/reviewer/rev...   \n",
       "82 2021-02-22                                                NaN   \n",
       "83 2021-02-23  https://dashboard.jp.getnexar.com/reviewer/rev...   \n",
       "84 2021-02-23  https://dashboard.jp.getnexar.com/reviewer/rev...   \n",
       "85 2021-02-23                                                NaN   \n",
       "90 2021-02-26  https://dashboard.jp.getnexar.com/reviewer/rev...   \n",
       "\n",
       "                                       link to slack             Rating  \\\n",
       "56  https://nexar.slack.com/archives/G01EY2XN6MC/p...  missed collision   \n",
       "57  https://nexar.slack.com/archives/G01EY2XN6MC/p...  missed collision   \n",
       "58  https://nexar.slack.com/archives/G01EY2XN6MC/p...  missed collision   \n",
       "59  https://nexar.slack.com/archives/G01EY2XN6MC/p...  missed collision   \n",
       "60  https://nexar.slack.com/archives/G01EY2XN6MC/p...  missed collision   \n",
       "61  https://nexar.slack.com/archives/G01EY2XN6MC/p...  missed collision   \n",
       "62  https://nexar.slack.com/archives/G01EY2XN6MC/p...  missed collision   \n",
       "63  https://nexar.slack.com/archives/G01EY2XN6MC/p...  missed collision   \n",
       "64  https://nexar.slack.com/archives/G01EY2XN6MC/p...  missed collision   \n",
       "69  https://nexar.slack.com/archives/G01EY2XN6MC/p...  missed collision   \n",
       "70  https://nexar.slack.com/archives/G01EY2XN6MC/p...  missed collision   \n",
       "71  https://nexar.slack.com/archives/G01EY2XN6MC/p...  missed collision   \n",
       "75  https://nexar.slack.com/archives/G01EY2XN6MC/p...  missed collision   \n",
       "76  https://nexar.slack.com/archives/G01EY2XN6MC/p...  missed collision   \n",
       "77  https://nexar.slack.com/archives/G01EY2XN6MC/p...  missed collision   \n",
       "78  https://nexar.slack.com/archives/G01EY2XN6MC/p...  missed collision   \n",
       "79  https://nexar.slack.com/archives/G01EY2XN6MC/p...  missed collision   \n",
       "80  https://nexar.slack.com/archives/G01EY2XN6MC/p...  missed collision   \n",
       "81  https://nexar.slack.com/archives/G01EY2XN6MC/p...  missed collision   \n",
       "82  https://nexar.slack.com/archives/G01EY2XN6MC/p...  missed collision   \n",
       "83  https://nexar.slack.com/archives/G01EY2XN6MC/p...  missed collision   \n",
       "84  https://nexar.slack.com/archives/G01EY2XN6MC/p...  missed collision   \n",
       "85  https://nexar.slack.com/archives/G01EY2XN6MC/p...  missed collision   \n",
       "90  https://nexar.slack.com/archives/G01EY2XN6MC/p...  missed collision   \n",
       "\n",
       "        Remarks  \n",
       "56       Shivam  \n",
       "57       Aparna  \n",
       "58       Aparna  \n",
       "59     Yuvaraja  \n",
       "60       Aparna  \n",
       "61       Aparna  \n",
       "62     Yuvaraja  \n",
       "63       Aparna  \n",
       "64     Yuvaraja  \n",
       "69       Aparna  \n",
       "70       Shivam  \n",
       "71   Rajeshwari  \n",
       "75       Shivam  \n",
       "76     Yuvaraja  \n",
       "77        Kiran  \n",
       "78     Narendra  \n",
       "79     Narendra  \n",
       "80       Shivam  \n",
       "81       Aparna  \n",
       "82          NaN  \n",
       "83  Shiva Kumar  \n",
       "84   Rajeshwari  \n",
       "85          NaN  \n",
       "90       Shivam  "
      ]
     },
     "execution_count": 42,
     "metadata": {},
     "output_type": "execute_result"
    }
   ],
   "source": [
    "missed_collision= data_reviewers_support_February[(data_reviewers_support_February['Rating']=='missed collision')]\n",
    "missed_collision"
   ]
  },
  {
   "cell_type": "code",
   "execution_count": 43,
   "metadata": {},
   "outputs": [
    {
     "data": {
      "text/plain": [
       "Aparna         7\n",
       "Shivam         5\n",
       "Yuvaraja       4\n",
       "Rajeshwari     2\n",
       "Narendra       2\n",
       "Kiran          1\n",
       "Shiva Kumar    1\n",
       "Name: Remarks, dtype: int64"
      ]
     },
     "execution_count": 43,
     "metadata": {},
     "output_type": "execute_result"
    }
   ],
   "source": [
    "missed_collision['Remarks'].value_counts()"
   ]
  },
  {
   "cell_type": "code",
   "execution_count": 44,
   "metadata": {},
   "outputs": [
    {
     "data": {
      "image/png": "[encoded data removed]",
      "text/plain": [
       "<Figure size 360x144 with 1 Axes>"
      ]
     },
     "metadata": {
      "needs_background": "light"
     },
     "output_type": "display_data"
    }
   ],
   "source": [
    "x=missed_collision['Remarks'].value_counts()\n",
    "plt.figure(figsize=(5,2))\n",
    "plt.plot(x,color='wheat', marker='o', linestyle='dashed',linewidth=2, markersize=5)\n",
    "plt.xticks(rotation=45)\n",
    "plt.title(\"Reviewers involved in missed collision in February 2021\", color='black')\n",
    "for i, v in enumerate(x):\n",
    "    plt.text(i, v+0.03, \"%d\" %v, ha=\"center\")\n",
    "plt.show()"
   ]
  },
  {
   "cell_type": "code",
   "execution_count": 45,
   "metadata": {},
   "outputs": [
    {
     "data": {
      "text/plain": [
       "22"
      ]
     },
     "execution_count": 45,
     "metadata": {},
     "output_type": "execute_result"
    }
   ],
   "source": [
    "missed_collision['Remarks'].count()"
   ]
  },
  {
   "cell_type": "markdown",
   "metadata": {},
   "source": [
    "#### 2) Wrong rating - No accident"
   ]
  },
  {
   "cell_type": "code",
   "execution_count": 46,
   "metadata": {},
   "outputs": [
    {
     "data": {
      "text/html": [
       "<div>\n",
       "<style scoped>\n",
       "    .dataframe tbody tr th:only-of-type {\n",
       "        vertical-align: middle;\n",
       "    }\n",
       "\n",
       "    .dataframe tbody tr th {\n",
       "        vertical-align: top;\n",
       "    }\n",
       "\n",
       "    .dataframe thead th {\n",
       "        text-align: right;\n",
       "    }\n",
       "</style>\n",
       "<table border=\"1\" class=\"dataframe\">\n",
       "  <thead>\n",
       "    <tr style=\"text-align: right;\">\n",
       "      <th></th>\n",
       "      <th>Date</th>\n",
       "      <th>Link to incident</th>\n",
       "      <th>link to slack</th>\n",
       "      <th>Rating</th>\n",
       "      <th>Remarks</th>\n",
       "    </tr>\n",
       "  </thead>\n",
       "  <tbody>\n",
       "    <tr>\n",
       "      <th>65</th>\n",
       "      <td>2021-02-04</td>\n",
       "      <td>https://dashboard.jp.getnexar.com/reviewer/rev...</td>\n",
       "      <td>https://nexar.slack.com/archives/G01EY2XN6MC/p...</td>\n",
       "      <td>Wrong rating - No accident</td>\n",
       "      <td>Shivam</td>\n",
       "    </tr>\n",
       "    <tr>\n",
       "      <th>66</th>\n",
       "      <td>2021-02-04</td>\n",
       "      <td>https://dashboard.jp.getnexar.com/reviewer/rev...</td>\n",
       "      <td>https://nexar.slack.com/archives/G01EY2XN6MC/p...</td>\n",
       "      <td>Wrong rating - No accident</td>\n",
       "      <td>Aparna</td>\n",
       "    </tr>\n",
       "    <tr>\n",
       "      <th>67</th>\n",
       "      <td>2021-02-04</td>\n",
       "      <td>NaN</td>\n",
       "      <td>https://nexar.slack.com/archives/G01EY2XN6MC/p...</td>\n",
       "      <td>Wrong rating - No accident</td>\n",
       "      <td>Shivam</td>\n",
       "    </tr>\n",
       "    <tr>\n",
       "      <th>68</th>\n",
       "      <td>2021-02-04</td>\n",
       "      <td>https://dashboard.jp.getnexar.com/reviewer/rev...</td>\n",
       "      <td>https://nexar.slack.com/archives/G01EY2XN6MC/p...</td>\n",
       "      <td>Wrong rating - No accident</td>\n",
       "      <td>Shivam</td>\n",
       "    </tr>\n",
       "    <tr>\n",
       "      <th>86</th>\n",
       "      <td>2021-02-24</td>\n",
       "      <td>https://dashboard.jp.getnexar.com/reviewer/rev...</td>\n",
       "      <td>https://nexar.slack.com/archives/C01DNQHQVK2/p...</td>\n",
       "      <td>Wrong rating - No accident</td>\n",
       "      <td>Aparna</td>\n",
       "    </tr>\n",
       "    <tr>\n",
       "      <th>87</th>\n",
       "      <td>2021-02-24</td>\n",
       "      <td>https://dashboard.jp.getnexar.com/reviewer/rev...</td>\n",
       "      <td>https://nexar.slack.com/archives/C01DNQHQVK2/p...</td>\n",
       "      <td>Wrong rating - No accident</td>\n",
       "      <td>Shivam</td>\n",
       "    </tr>\n",
       "    <tr>\n",
       "      <th>88</th>\n",
       "      <td>2021-02-25</td>\n",
       "      <td>https://dashboard.jp.getnexar.com/reviewer/inc...</td>\n",
       "      <td>https://nexar.slack.com/archives/C01DNQHQVK2/p...</td>\n",
       "      <td>Wrong rating - No accident</td>\n",
       "      <td>Kiran</td>\n",
       "    </tr>\n",
       "    <tr>\n",
       "      <th>89</th>\n",
       "      <td>2021-02-25</td>\n",
       "      <td>https://dashboard.jp.getnexar.com/reviewer/inc...</td>\n",
       "      <td>https://nexar.slack.com/archives/C01DNQHQVK2/p...</td>\n",
       "      <td>Wrong rating - No accident</td>\n",
       "      <td>Yuvaraja</td>\n",
       "    </tr>\n",
       "  </tbody>\n",
       "</table>\n",
       "</div>"
      ],
      "text/plain": [
       "         Date                                   Link to incident  \\\n",
       "65 2021-02-04  https://dashboard.jp.getnexar.com/reviewer/rev...   \n",
       "66 2021-02-04  https://dashboard.jp.getnexar.com/reviewer/rev...   \n",
       "67 2021-02-04                                                NaN   \n",
       "68 2021-02-04  https://dashboard.jp.getnexar.com/reviewer/rev...   \n",
       "86 2021-02-24  https://dashboard.jp.getnexar.com/reviewer/rev...   \n",
       "87 2021-02-24  https://dashboard.jp.getnexar.com/reviewer/rev...   \n",
       "88 2021-02-25  https://dashboard.jp.getnexar.com/reviewer/inc...   \n",
       "89 2021-02-25  https://dashboard.jp.getnexar.com/reviewer/inc...   \n",
       "\n",
       "                                       link to slack   \\\n",
       "65  https://nexar.slack.com/archives/G01EY2XN6MC/p...   \n",
       "66  https://nexar.slack.com/archives/G01EY2XN6MC/p...   \n",
       "67  https://nexar.slack.com/archives/G01EY2XN6MC/p...   \n",
       "68  https://nexar.slack.com/archives/G01EY2XN6MC/p...   \n",
       "86  https://nexar.slack.com/archives/C01DNQHQVK2/p...   \n",
       "87  https://nexar.slack.com/archives/C01DNQHQVK2/p...   \n",
       "88  https://nexar.slack.com/archives/C01DNQHQVK2/p...   \n",
       "89  https://nexar.slack.com/archives/C01DNQHQVK2/p...   \n",
       "\n",
       "                        Rating   Remarks  \n",
       "65  Wrong rating - No accident    Shivam  \n",
       "66  Wrong rating - No accident    Aparna  \n",
       "67  Wrong rating - No accident    Shivam  \n",
       "68  Wrong rating - No accident    Shivam  \n",
       "86  Wrong rating - No accident    Aparna  \n",
       "87  Wrong rating - No accident    Shivam  \n",
       "88  Wrong rating - No accident     Kiran  \n",
       "89  Wrong rating - No accident  Yuvaraja  "
      ]
     },
     "execution_count": 46,
     "metadata": {},
     "output_type": "execute_result"
    }
   ],
   "source": [
    "wrong_rating_no_accident= data_reviewers_support_February[(data_reviewers_support_February['Rating']=='Wrong rating - No accident')]\n",
    "wrong_rating_no_accident"
   ]
  },
  {
   "cell_type": "code",
   "execution_count": 47,
   "metadata": {},
   "outputs": [
    {
     "data": {
      "text/plain": [
       "Shivam      4\n",
       "Aparna      2\n",
       "Kiran       1\n",
       "Yuvaraja    1\n",
       "Name: Remarks, dtype: int64"
      ]
     },
     "execution_count": 47,
     "metadata": {},
     "output_type": "execute_result"
    }
   ],
   "source": [
    "wrong_rating_no_accident['Remarks'].value_counts()"
   ]
  },
  {
   "cell_type": "code",
   "execution_count": 48,
   "metadata": {},
   "outputs": [
    {
     "data": {
      "image/png": "[encoded data removed]",
      "text/plain": [
       "<Figure size 360x144 with 1 Axes>"
      ]
     },
     "metadata": {
      "needs_background": "light"
     },
     "output_type": "display_data"
    }
   ],
   "source": [
    "x=wrong_rating_no_accident['Remarks'].value_counts()\n",
    "plt.figure(figsize=(5,2))\n",
    "plt.plot(x,color='hotpink', marker='o', linestyle='dashed',linewidth=2, markersize=5)\n",
    "plt.xticks(rotation=45)\n",
    "plt.title(\"Reviewers involved in wrong rating no accident in February 2021\", color='black')\n",
    "for i, v in enumerate(x):\n",
    "    plt.text(i, v+0.03, \"%d\" %v, ha=\"center\")\n",
    "plt.show()"
   ]
  },
  {
   "cell_type": "code",
   "execution_count": 49,
   "metadata": {},
   "outputs": [
    {
     "data": {
      "text/plain": [
       "8"
      ]
     },
     "execution_count": 49,
     "metadata": {},
     "output_type": "execute_result"
    }
   ],
   "source": [
    "wrong_rating_no_accident['Remarks'].count()"
   ]
  },
  {
   "cell_type": "markdown",
   "metadata": {},
   "source": [
    "#### 3) Wrong rating - Accident"
   ]
  },
  {
   "cell_type": "code",
   "execution_count": 50,
   "metadata": {},
   "outputs": [
    {
     "data": {
      "text/html": [
       "<div>\n",
       "<style scoped>\n",
       "    .dataframe tbody tr th:only-of-type {\n",
       "        vertical-align: middle;\n",
       "    }\n",
       "\n",
       "    .dataframe tbody tr th {\n",
       "        vertical-align: top;\n",
       "    }\n",
       "\n",
       "    .dataframe thead th {\n",
       "        text-align: right;\n",
       "    }\n",
       "</style>\n",
       "<table border=\"1\" class=\"dataframe\">\n",
       "  <thead>\n",
       "    <tr style=\"text-align: right;\">\n",
       "      <th></th>\n",
       "      <th>Date</th>\n",
       "      <th>Link to incident</th>\n",
       "      <th>link to slack</th>\n",
       "      <th>Rating</th>\n",
       "      <th>Remarks</th>\n",
       "    </tr>\n",
       "  </thead>\n",
       "  <tbody>\n",
       "    <tr>\n",
       "      <th>91</th>\n",
       "      <td>2021-02-27</td>\n",
       "      <td>https://dashboard.jp.getnexar.com/reviewer/rev...</td>\n",
       "      <td>https://nexar.slack.com/archives/C01DNQHQVK2/p...</td>\n",
       "      <td>Wrong rating - Accident</td>\n",
       "      <td>Kiran</td>\n",
       "    </tr>\n",
       "    <tr>\n",
       "      <th>92</th>\n",
       "      <td>2021-02-27</td>\n",
       "      <td>https://dashboard.jp.getnexar.com/reviewer/rev...</td>\n",
       "      <td>https://nexar.slack.com/archives/C01DNQHQVK2/p...</td>\n",
       "      <td>Wrong rating - Accident</td>\n",
       "      <td>Aparna</td>\n",
       "    </tr>\n",
       "  </tbody>\n",
       "</table>\n",
       "</div>"
      ],
      "text/plain": [
       "         Date                                   Link to incident  \\\n",
       "91 2021-02-27  https://dashboard.jp.getnexar.com/reviewer/rev...   \n",
       "92 2021-02-27  https://dashboard.jp.getnexar.com/reviewer/rev...   \n",
       "\n",
       "                                       link to slack   \\\n",
       "91  https://nexar.slack.com/archives/C01DNQHQVK2/p...   \n",
       "92  https://nexar.slack.com/archives/C01DNQHQVK2/p...   \n",
       "\n",
       "                     Rating Remarks  \n",
       "91  Wrong rating - Accident   Kiran  \n",
       "92  Wrong rating - Accident  Aparna  "
      ]
     },
     "execution_count": 50,
     "metadata": {},
     "output_type": "execute_result"
    }
   ],
   "source": [
    "wrong_rating_accident= data_reviewers_support_February[(data_reviewers_support_February['Rating']=='Wrong rating - Accident')]\n",
    "wrong_rating_accident"
   ]
  },
  {
   "cell_type": "code",
   "execution_count": 51,
   "metadata": {},
   "outputs": [
    {
     "data": {
      "text/plain": [
       "Aparna    1\n",
       "Kiran     1\n",
       "Name: Remarks, dtype: int64"
      ]
     },
     "execution_count": 51,
     "metadata": {},
     "output_type": "execute_result"
    }
   ],
   "source": [
    "wrong_rating_accident['Remarks'].value_counts()"
   ]
  },
  {
   "cell_type": "code",
   "execution_count": 52,
   "metadata": {},
   "outputs": [
    {
     "data": {
      "image/png": "[encoded data removed]",
      "text/plain": [
       "<Figure size 360x144 with 1 Axes>"
      ]
     },
     "metadata": {
      "needs_background": "light"
     },
     "output_type": "display_data"
    }
   ],
   "source": [
    "x=wrong_rating_accident['Remarks'].value_counts()\n",
    "plt.figure(figsize=(5,2))\n",
    "plt.plot(x,color='steelblue', marker='o', linestyle='dashed',linewidth=2, markersize=5)\n",
    "plt.xticks(rotation=45)\n",
    "plt.title(\"Reviewers involved in wrong rating accident in February 2021\", color='black')\n",
    "for i, v in enumerate(x):\n",
    "    plt.text(i, v+0.03, \"%d\" %v, ha=\"center\")\n",
    "plt.show()"
   ]
  },
  {
   "cell_type": "code",
   "execution_count": 53,
   "metadata": {},
   "outputs": [
    {
     "data": {
      "text/plain": [
       "2"
      ]
     },
     "execution_count": 53,
     "metadata": {},
     "output_type": "execute_result"
    }
   ],
   "source": [
    "wrong_rating_accident['Remarks'].count()"
   ]
  },
  {
   "cell_type": "markdown",
   "metadata": {},
   "source": [
    "#### 4) P1 missed accident - review resubmitted"
   ]
  },
  {
   "cell_type": "code",
   "execution_count": 54,
   "metadata": {},
   "outputs": [
    {
     "data": {
      "text/html": [
       "<div>\n",
       "<style scoped>\n",
       "    .dataframe tbody tr th:only-of-type {\n",
       "        vertical-align: middle;\n",
       "    }\n",
       "\n",
       "    .dataframe tbody tr th {\n",
       "        vertical-align: top;\n",
       "    }\n",
       "\n",
       "    .dataframe thead th {\n",
       "        text-align: right;\n",
       "    }\n",
       "</style>\n",
       "<table border=\"1\" class=\"dataframe\">\n",
       "  <thead>\n",
       "    <tr style=\"text-align: right;\">\n",
       "      <th></th>\n",
       "      <th>Date</th>\n",
       "      <th>Link to incident</th>\n",
       "      <th>link to slack</th>\n",
       "      <th>Rating</th>\n",
       "      <th>Remarks</th>\n",
       "    </tr>\n",
       "  </thead>\n",
       "  <tbody>\n",
       "    <tr>\n",
       "      <th>93</th>\n",
       "      <td>2021-02-28</td>\n",
       "      <td>https://dashboard.jp.getnexar.com/reviewer/inc...</td>\n",
       "      <td>https://nexar.slack.com/archives/G01EY2XN6MC/p...</td>\n",
       "      <td>P1 missed accident - review resubmitted</td>\n",
       "      <td>Shiva Kumar</td>\n",
       "    </tr>\n",
       "  </tbody>\n",
       "</table>\n",
       "</div>"
      ],
      "text/plain": [
       "         Date                                   Link to incident  \\\n",
       "93 2021-02-28  https://dashboard.jp.getnexar.com/reviewer/inc...   \n",
       "\n",
       "                                       link to slack   \\\n",
       "93  https://nexar.slack.com/archives/G01EY2XN6MC/p...   \n",
       "\n",
       "                                     Rating      Remarks  \n",
       "93  P1 missed accident - review resubmitted  Shiva Kumar  "
      ]
     },
     "execution_count": 54,
     "metadata": {},
     "output_type": "execute_result"
    }
   ],
   "source": [
    "P1_missed_accident_review_resubmitted= data_reviewers_support_February[(data_reviewers_support_February['Rating']=='P1 missed accident - review resubmitted')]\n",
    "P1_missed_accident_review_resubmitted"
   ]
  },
  {
   "cell_type": "code",
   "execution_count": 55,
   "metadata": {},
   "outputs": [
    {
     "data": {
      "text/plain": [
       "Shiva Kumar    1\n",
       "Name: Remarks, dtype: int64"
      ]
     },
     "execution_count": 55,
     "metadata": {},
     "output_type": "execute_result"
    }
   ],
   "source": [
    "P1_missed_accident_review_resubmitted['Remarks'].value_counts()"
   ]
  },
  {
   "cell_type": "code",
   "execution_count": 56,
   "metadata": {},
   "outputs": [
    {
     "data": {
      "image/png": "[encoded data removed]",
      "text/plain": [
       "<Figure size 360x144 with 1 Axes>"
      ]
     },
     "metadata": {
      "needs_background": "light"
     },
     "output_type": "display_data"
    }
   ],
   "source": [
    "plt.figure(figsize=(5,2))\n",
    "splot=sns.countplot(P1_missed_accident_review_resubmitted['Remarks'],order=P1_missed_accident_review_resubmitted['Remarks'].value_counts().index,saturation=10,color='lightskyblue')\n",
    "plt.xticks(rotation=30)\n",
    "plt.title(\"Reviewers involved in P1 missed accident - review resubmitted in February 2021\", color='black')\n",
    "for p in splot.patches:\n",
    "    splot.annotate(format(p.get_height(), '.0f'), (p.get_x() + p.get_width() / 2., p.get_height()), ha = 'center', va = 'center', xytext = (0, 2),textcoords = 'offset points',rotation=20)\n",
    "plt.show()"
   ]
  },
  {
   "cell_type": "markdown",
   "metadata": {},
   "source": [
    "#### 5) grabbed no submitted review"
   ]
  },
  {
   "cell_type": "code",
   "execution_count": 57,
   "metadata": {},
   "outputs": [
    {
     "data": {
      "text/html": [
       "<div>\n",
       "<style scoped>\n",
       "    .dataframe tbody tr th:only-of-type {\n",
       "        vertical-align: middle;\n",
       "    }\n",
       "\n",
       "    .dataframe tbody tr th {\n",
       "        vertical-align: top;\n",
       "    }\n",
       "\n",
       "    .dataframe thead th {\n",
       "        text-align: right;\n",
       "    }\n",
       "</style>\n",
       "<table border=\"1\" class=\"dataframe\">\n",
       "  <thead>\n",
       "    <tr style=\"text-align: right;\">\n",
       "      <th></th>\n",
       "      <th>Date</th>\n",
       "      <th>Link to incident</th>\n",
       "      <th>link to slack</th>\n",
       "      <th>Rating</th>\n",
       "      <th>Remarks</th>\n",
       "    </tr>\n",
       "  </thead>\n",
       "  <tbody>\n",
       "    <tr>\n",
       "      <th>72</th>\n",
       "      <td>2021-02-06</td>\n",
       "      <td>https://dashboard.jp.getnexar.com/reviewer/rev...</td>\n",
       "      <td>https://nexar.slack.com/archives/C01ESDUFXT4/p...</td>\n",
       "      <td>grabbed no submitted review</td>\n",
       "      <td>Narendra</td>\n",
       "    </tr>\n",
       "  </tbody>\n",
       "</table>\n",
       "</div>"
      ],
      "text/plain": [
       "         Date                                   Link to incident  \\\n",
       "72 2021-02-06  https://dashboard.jp.getnexar.com/reviewer/rev...   \n",
       "\n",
       "                                       link to slack   \\\n",
       "72  https://nexar.slack.com/archives/C01ESDUFXT4/p...   \n",
       "\n",
       "                         Rating   Remarks  \n",
       "72  grabbed no submitted review  Narendra  "
      ]
     },
     "execution_count": 57,
     "metadata": {},
     "output_type": "execute_result"
    }
   ],
   "source": [
    "grabbed_no_submitted_review= data_reviewers_support_February[(data_reviewers_support_February['Rating']=='grabbed no submitted review')]\n",
    "grabbed_no_submitted_review"
   ]
  },
  {
   "cell_type": "code",
   "execution_count": 58,
   "metadata": {},
   "outputs": [
    {
     "data": {
      "text/plain": [
       "Narendra    1\n",
       "Name: Remarks, dtype: int64"
      ]
     },
     "execution_count": 58,
     "metadata": {},
     "output_type": "execute_result"
    }
   ],
   "source": [
    "grabbed_no_submitted_review['Remarks'].value_counts()"
   ]
  },
  {
   "cell_type": "code",
   "execution_count": 59,
   "metadata": {},
   "outputs": [
    {
     "data": {
      "image/png": "[encoded data removed]",
      "text/plain": [
       "<Figure size 360x144 with 1 Axes>"
      ]
     },
     "metadata": {
      "needs_background": "light"
     },
     "output_type": "display_data"
    }
   ],
   "source": [
    "plt.figure(figsize=(5,2))\n",
    "splot=sns.countplot(grabbed_no_submitted_review['Remarks'],order=grabbed_no_submitted_review['Remarks'].value_counts().index,saturation=10,color='red')\n",
    "plt.xticks(rotation=30)\n",
    "plt.title(\"Reviewers involved in grabbed no submitted review in February 2021\", color='black')\n",
    "for p in splot.patches:\n",
    "    splot.annotate(format(p.get_height(), '.0f'), (p.get_x() + p.get_width() / 2., p.get_height()), ha = 'center', va = 'center', xytext = (0, 2),textcoords = 'offset points',rotation=20)\n",
    "plt.show()"
   ]
  },
  {
   "cell_type": "markdown",
   "metadata": {},
   "source": [
    "#### 6) 4:04 last submitted- 6:37 grabbed= 2h 33m"
   ]
  },
  {
   "cell_type": "code",
   "execution_count": 60,
   "metadata": {},
   "outputs": [
    {
     "data": {
      "text/html": [
       "<div>\n",
       "<style scoped>\n",
       "    .dataframe tbody tr th:only-of-type {\n",
       "        vertical-align: middle;\n",
       "    }\n",
       "\n",
       "    .dataframe tbody tr th {\n",
       "        vertical-align: top;\n",
       "    }\n",
       "\n",
       "    .dataframe thead th {\n",
       "        text-align: right;\n",
       "    }\n",
       "</style>\n",
       "<table border=\"1\" class=\"dataframe\">\n",
       "  <thead>\n",
       "    <tr style=\"text-align: right;\">\n",
       "      <th></th>\n",
       "      <th>Date</th>\n",
       "      <th>Link to incident</th>\n",
       "      <th>link to slack</th>\n",
       "      <th>Rating</th>\n",
       "      <th>Remarks</th>\n",
       "    </tr>\n",
       "  </thead>\n",
       "  <tbody>\n",
       "    <tr>\n",
       "      <th>74</th>\n",
       "      <td>2021-02-08</td>\n",
       "      <td>NaN</td>\n",
       "      <td>https://nexar.slack.com/archives/C01ESDUFXT4/p...</td>\n",
       "      <td>4:04 last submitted- 6:37 grabbed= 2h 33m</td>\n",
       "      <td>Shiva Kumar</td>\n",
       "    </tr>\n",
       "  </tbody>\n",
       "</table>\n",
       "</div>"
      ],
      "text/plain": [
       "         Date Link to incident  \\\n",
       "74 2021-02-08              NaN   \n",
       "\n",
       "                                       link to slack   \\\n",
       "74  https://nexar.slack.com/archives/C01ESDUFXT4/p...   \n",
       "\n",
       "                                       Rating      Remarks  \n",
       "74  4:04 last submitted- 6:37 grabbed= 2h 33m  Shiva Kumar  "
      ]
     },
     "execution_count": 60,
     "metadata": {},
     "output_type": "execute_result"
    }
   ],
   "source": [
    "fourzerofour_last_submitted_6_37_grabbed_2h_33m=data_reviewers_support_February[(data_reviewers_support_February['Rating']=='4:04 last submitted- 6:37 grabbed= 2h 33m')]\n",
    "fourzerofour_last_submitted_6_37_grabbed_2h_33m"
   ]
  },
  {
   "cell_type": "code",
   "execution_count": 61,
   "metadata": {},
   "outputs": [
    {
     "data": {
      "text/plain": [
       "Shiva Kumar    1\n",
       "Name: Remarks, dtype: int64"
      ]
     },
     "execution_count": 61,
     "metadata": {},
     "output_type": "execute_result"
    }
   ],
   "source": [
    "fourzerofour_last_submitted_6_37_grabbed_2h_33m['Remarks'].value_counts()"
   ]
  },
  {
   "cell_type": "code",
   "execution_count": 62,
   "metadata": {},
   "outputs": [
    {
     "data": {
      "image/png": "[encoded data removed]",
      "text/plain": [
       "<Figure size 360x144 with 1 Axes>"
      ]
     },
     "metadata": {
      "needs_background": "light"
     },
     "output_type": "display_data"
    }
   ],
   "source": [
    "plt.figure(figsize=(5,2))\n",
    "splot=sns.countplot(fourzerofour_last_submitted_6_37_grabbed_2h_33m['Remarks'],order=fourzerofour_last_submitted_6_37_grabbed_2h_33m['Remarks'].value_counts().index,saturation=10,color='teal')\n",
    "plt.xticks(rotation=30)\n",
    "plt.title(\"Reviewers involved in 4:04 last submitted- 6:37 grabbed= 2h 33m in February 2021\", color='black')\n",
    "for p in splot.patches:\n",
    "    splot.annotate(format(p.get_height(), '.0f'), (p.get_x() + p.get_width() / 2., p.get_height()), ha = 'center', va = 'center', xytext = (0, 2),textcoords = 'offset points',rotation=20)\n",
    "plt.show()"
   ]
  },
  {
   "cell_type": "markdown",
   "metadata": {},
   "source": [
    "#### 7) 1hour to submit review"
   ]
  },
  {
   "cell_type": "code",
   "execution_count": 63,
   "metadata": {},
   "outputs": [
    {
     "data": {
      "text/html": [
       "<div>\n",
       "<style scoped>\n",
       "    .dataframe tbody tr th:only-of-type {\n",
       "        vertical-align: middle;\n",
       "    }\n",
       "\n",
       "    .dataframe tbody tr th {\n",
       "        vertical-align: top;\n",
       "    }\n",
       "\n",
       "    .dataframe thead th {\n",
       "        text-align: right;\n",
       "    }\n",
       "</style>\n",
       "<table border=\"1\" class=\"dataframe\">\n",
       "  <thead>\n",
       "    <tr style=\"text-align: right;\">\n",
       "      <th></th>\n",
       "      <th>Date</th>\n",
       "      <th>Link to incident</th>\n",
       "      <th>link to slack</th>\n",
       "      <th>Rating</th>\n",
       "      <th>Remarks</th>\n",
       "    </tr>\n",
       "  </thead>\n",
       "  <tbody>\n",
       "    <tr>\n",
       "      <th>73</th>\n",
       "      <td>2021-02-06</td>\n",
       "      <td>https://dashboard.jp.getnexar.com/reviewer/inc...</td>\n",
       "      <td>https://nexar.slack.com/archives/C01ESDUFXT4/p...</td>\n",
       "      <td>1hour to submit review</td>\n",
       "      <td>Rajeshwari</td>\n",
       "    </tr>\n",
       "  </tbody>\n",
       "</table>\n",
       "</div>"
      ],
      "text/plain": [
       "         Date                                   Link to incident  \\\n",
       "73 2021-02-06  https://dashboard.jp.getnexar.com/reviewer/inc...   \n",
       "\n",
       "                                       link to slack                   Rating  \\\n",
       "73  https://nexar.slack.com/archives/C01ESDUFXT4/p...  1hour to submit review   \n",
       "\n",
       "       Remarks  \n",
       "73  Rajeshwari  "
      ]
     },
     "execution_count": 63,
     "metadata": {},
     "output_type": "execute_result"
    }
   ],
   "source": [
    "onehour_to_submit_review=data_reviewers_support_February[(data_reviewers_support_February['Rating']=='1hour to submit review')]\n",
    "onehour_to_submit_review"
   ]
  },
  {
   "cell_type": "code",
   "execution_count": 64,
   "metadata": {},
   "outputs": [
    {
     "data": {
      "text/plain": [
       "Rajeshwari    1\n",
       "Name: Remarks, dtype: int64"
      ]
     },
     "execution_count": 64,
     "metadata": {},
     "output_type": "execute_result"
    }
   ],
   "source": [
    "onehour_to_submit_review['Remarks'].value_counts()"
   ]
  },
  {
   "cell_type": "code",
   "execution_count": 65,
   "metadata": {},
   "outputs": [
    {
     "data": {
      "image/png": "[encoded data removed]",
      "text/plain": [
       "<Figure size 360x144 with 1 Axes>"
      ]
     },
     "metadata": {
      "needs_background": "light"
     },
     "output_type": "display_data"
    }
   ],
   "source": [
    "plt.figure(figsize=(5,2))\n",
    "splot=sns.countplot(onehour_to_submit_review['Remarks'],order=onehour_to_submit_review['Remarks'].value_counts().index,saturation=10)\n",
    "plt.xticks(rotation=30)\n",
    "plt.title(\"Reviewers involved in 1 hour to submit review in February 2021\", color='black')\n",
    "for p in splot.patches:\n",
    "    splot.annotate(format(p.get_height(), '.0f'), (p.get_x() + p.get_width() / 2., p.get_height()), ha = 'center', va = 'center', xytext = (0, 2),textcoords = 'offset points',rotation=20)\n",
    "plt.show()"
   ]
  },
  {
   "cell_type": "markdown",
   "metadata": {},
   "source": [
    "## 5) Analysis of the ratings and remarks in the month of March 2021"
   ]
  },
  {
   "cell_type": "code",
   "execution_count": 66,
   "metadata": {
    "scrolled": true
   },
   "outputs": [
    {
     "data": {
      "text/html": [
       "<div>\n",
       "<style scoped>\n",
       "    .dataframe tbody tr th:only-of-type {\n",
       "        vertical-align: middle;\n",
       "    }\n",
       "\n",
       "    .dataframe tbody tr th {\n",
       "        vertical-align: top;\n",
       "    }\n",
       "\n",
       "    .dataframe thead th {\n",
       "        text-align: right;\n",
       "    }\n",
       "</style>\n",
       "<table border=\"1\" class=\"dataframe\">\n",
       "  <thead>\n",
       "    <tr style=\"text-align: right;\">\n",
       "      <th></th>\n",
       "      <th>Date</th>\n",
       "      <th>Link to incident</th>\n",
       "      <th>link to slack</th>\n",
       "      <th>Rating</th>\n",
       "      <th>Remarks</th>\n",
       "    </tr>\n",
       "  </thead>\n",
       "  <tbody>\n",
       "    <tr>\n",
       "      <th>94</th>\n",
       "      <td>2021-03-01</td>\n",
       "      <td>NaN</td>\n",
       "      <td>https://nexar.slack.com/archives/C01DNQHQVK2/p...</td>\n",
       "      <td>Wrong rating - No accident</td>\n",
       "      <td>Shiva Kumar</td>\n",
       "    </tr>\n",
       "    <tr>\n",
       "      <th>95</th>\n",
       "      <td>2021-03-02</td>\n",
       "      <td>https://dashboard.jp.getnexar.com/reviewer/rev...</td>\n",
       "      <td>https://nexar.slack.com/archives/G01EY2XN6MC/p...</td>\n",
       "      <td>Wrong rating - Accident</td>\n",
       "      <td>Aparna</td>\n",
       "    </tr>\n",
       "    <tr>\n",
       "      <th>96</th>\n",
       "      <td>2021-03-02</td>\n",
       "      <td>https://dashboard.jp.getnexar.com/reviewer/rev...</td>\n",
       "      <td>https://nexar.slack.com/archives/G01EY2XN6MC/p...</td>\n",
       "      <td>Wrong rating - Accident</td>\n",
       "      <td>Shivam</td>\n",
       "    </tr>\n",
       "    <tr>\n",
       "      <th>97</th>\n",
       "      <td>2021-03-03</td>\n",
       "      <td>https://dashboard.jp.getnexar.com/reviewer/rev...</td>\n",
       "      <td>https://nexar.slack.com/archives/C01DNQHQVK2/p...</td>\n",
       "      <td>Wrong rating - Accident</td>\n",
       "      <td>Narendra</td>\n",
       "    </tr>\n",
       "    <tr>\n",
       "      <th>98</th>\n",
       "      <td>2021-03-03</td>\n",
       "      <td>https://dashboard.jp.getnexar.com/reviewer/rev...</td>\n",
       "      <td>https://nexar.slack.com/archives/C01DNQHQVK2/p...</td>\n",
       "      <td>Wrong rating - Accident</td>\n",
       "      <td>Aparna</td>\n",
       "    </tr>\n",
       "  </tbody>\n",
       "</table>\n",
       "</div>"
      ],
      "text/plain": [
       "         Date                                   Link to incident  \\\n",
       "94 2021-03-01                                                NaN   \n",
       "95 2021-03-02  https://dashboard.jp.getnexar.com/reviewer/rev...   \n",
       "96 2021-03-02  https://dashboard.jp.getnexar.com/reviewer/rev...   \n",
       "97 2021-03-03  https://dashboard.jp.getnexar.com/reviewer/rev...   \n",
       "98 2021-03-03  https://dashboard.jp.getnexar.com/reviewer/rev...   \n",
       "\n",
       "                                       link to slack   \\\n",
       "94  https://nexar.slack.com/archives/C01DNQHQVK2/p...   \n",
       "95  https://nexar.slack.com/archives/G01EY2XN6MC/p...   \n",
       "96  https://nexar.slack.com/archives/G01EY2XN6MC/p...   \n",
       "97  https://nexar.slack.com/archives/C01DNQHQVK2/p...   \n",
       "98  https://nexar.slack.com/archives/C01DNQHQVK2/p...   \n",
       "\n",
       "                        Rating      Remarks  \n",
       "94  Wrong rating - No accident  Shiva Kumar  \n",
       "95     Wrong rating - Accident       Aparna  \n",
       "96     Wrong rating - Accident       Shivam  \n",
       "97     Wrong rating - Accident     Narendra  \n",
       "98     Wrong rating - Accident       Aparna  "
      ]
     },
     "execution_count": 66,
     "metadata": {},
     "output_type": "execute_result"
    }
   ],
   "source": [
    "data_reviewers_support_March=data_reviewers_support[(data_reviewers_support['Date'] >= '2021-03-01') & (data_reviewers_support['Date'] <= '2021-03-31')]\n",
    "data_reviewers_support_March.head()"
   ]
  },
  {
   "cell_type": "code",
   "execution_count": 67,
   "metadata": {},
   "outputs": [
    {
     "data": {
      "text/plain": [
       "(55, 5)"
      ]
     },
     "execution_count": 67,
     "metadata": {},
     "output_type": "execute_result"
    }
   ],
   "source": [
    "data_reviewers_support_March.shape"
   ]
  },
  {
   "cell_type": "code",
   "execution_count": 68,
   "metadata": {},
   "outputs": [
    {
     "data": {
      "text/plain": [
       "275"
      ]
     },
     "execution_count": 68,
     "metadata": {},
     "output_type": "execute_result"
    }
   ],
   "source": [
    "data_reviewers_support_March.size"
   ]
  },
  {
   "cell_type": "code",
   "execution_count": 69,
   "metadata": {},
   "outputs": [
    {
     "data": {
      "text/html": [
       "<div>\n",
       "<style scoped>\n",
       "    .dataframe tbody tr th:only-of-type {\n",
       "        vertical-align: middle;\n",
       "    }\n",
       "\n",
       "    .dataframe tbody tr th {\n",
       "        vertical-align: top;\n",
       "    }\n",
       "\n",
       "    .dataframe thead th {\n",
       "        text-align: right;\n",
       "    }\n",
       "</style>\n",
       "<table border=\"1\" class=\"dataframe\">\n",
       "  <thead>\n",
       "    <tr style=\"text-align: right;\">\n",
       "      <th></th>\n",
       "      <th>Date</th>\n",
       "      <th>Link to incident</th>\n",
       "      <th>link to slack</th>\n",
       "      <th>Rating</th>\n",
       "      <th>Remarks</th>\n",
       "    </tr>\n",
       "  </thead>\n",
       "  <tbody>\n",
       "    <tr>\n",
       "      <th>0</th>\n",
       "      <td>0</td>\n",
       "      <td>4</td>\n",
       "      <td>1</td>\n",
       "      <td>1</td>\n",
       "      <td>1</td>\n",
       "    </tr>\n",
       "  </tbody>\n",
       "</table>\n",
       "</div>"
      ],
      "text/plain": [
       "   Date  Link to incident  link to slack   Rating  Remarks\n",
       "0     0                 4               1       1        1"
      ]
     },
     "execution_count": 69,
     "metadata": {},
     "output_type": "execute_result"
    }
   ],
   "source": [
    "data_reviewers_support_March.isna().sum().to_frame().T"
   ]
  },
  {
   "cell_type": "markdown",
   "metadata": {},
   "source": [
    "#### Checking total false alarms in the month of March 2021"
   ]
  },
  {
   "cell_type": "code",
   "execution_count": 70,
   "metadata": {
    "scrolled": true
   },
   "outputs": [
    {
     "data": {
      "text/plain": [
       "array(['Wrong rating - No accident', 'Wrong rating - Accident',\n",
       "       'Hard to rate incidents', nan, 'last grabbed incident'],\n",
       "      dtype=object)"
      ]
     },
     "execution_count": 70,
     "metadata": {},
     "output_type": "execute_result"
    }
   ],
   "source": [
    "data_reviewers_support_March['Rating'].unique()"
   ]
  },
  {
   "cell_type": "code",
   "execution_count": 71,
   "metadata": {},
   "outputs": [
    {
     "data": {
      "text/plain": [
       "Wrong rating - Accident       35\n",
       "Wrong rating - No accident    15\n",
       "Hard to rate incidents         2\n",
       "last grabbed incident          2\n",
       "Name: Rating, dtype: int64"
      ]
     },
     "execution_count": 71,
     "metadata": {},
     "output_type": "execute_result"
    }
   ],
   "source": [
    "data_reviewers_support_March['Rating'].value_counts()"
   ]
  },
  {
   "cell_type": "code",
   "execution_count": 72,
   "metadata": {},
   "outputs": [
    {
     "data": {
      "image/png": "[encoded data removed]",
      "text/plain": [
       "<Figure size 360x144 with 1 Axes>"
      ]
     },
     "metadata": {
      "needs_background": "light"
     },
     "output_type": "display_data"
    }
   ],
   "source": [
    "x=data_reviewers_support_March['Rating'].value_counts()\n",
    "plt.figure(figsize=(5,2))\n",
    "plt.plot(x,color='maroon', marker='o', linestyle='dashed',linewidth=2, markersize=5)\n",
    "plt.xticks(rotation=80)\n",
    "plt.title(\"     Total number of False alarms in March 2021\",color='black')\n",
    "for i, v in enumerate(x):\n",
    "    plt.text(i, v+1.8, \"%d\" %v, ha=\"center\",fontdict={'fontsize':'13'})\n",
    "plt.show()"
   ]
  },
  {
   "cell_type": "code",
   "execution_count": 73,
   "metadata": {},
   "outputs": [
    {
     "data": {
      "text/plain": [
       "54"
      ]
     },
     "execution_count": 73,
     "metadata": {},
     "output_type": "execute_result"
    }
   ],
   "source": [
    "data_reviewers_support_March['Rating'].count()"
   ]
  },
  {
   "cell_type": "markdown",
   "metadata": {},
   "source": [
    "#### Checking for the reviewers involved in the false alarms for the March 2021"
   ]
  },
  {
   "cell_type": "code",
   "execution_count": 74,
   "metadata": {
    "scrolled": true
   },
   "outputs": [
    {
     "data": {
      "text/plain": [
       "array(['Shiva Kumar', 'Aparna', 'Shivam', 'Narendra', 'Kiran', 'Yuvaraja',\n",
       "       'Rajeshwari', nan, 'Mallikarjun'], dtype=object)"
      ]
     },
     "execution_count": 74,
     "metadata": {},
     "output_type": "execute_result"
    }
   ],
   "source": [
    "data_reviewers_support_March['Remarks'].unique()"
   ]
  },
  {
   "cell_type": "code",
   "execution_count": 75,
   "metadata": {},
   "outputs": [
    {
     "data": {
      "text/plain": [
       "Aparna         14\n",
       "Shivam         13\n",
       "Kiran           7\n",
       "Narendra        6\n",
       "Yuvaraja        5\n",
       "Shiva Kumar     4\n",
       "Mallikarjun     3\n",
       "Rajeshwari      2\n",
       "Name: Remarks, dtype: int64"
      ]
     },
     "execution_count": 75,
     "metadata": {},
     "output_type": "execute_result"
    }
   ],
   "source": [
    "data_reviewers_support_March['Remarks'].value_counts()"
   ]
  },
  {
   "cell_type": "code",
   "execution_count": 76,
   "metadata": {},
   "outputs": [
    {
     "data": {
      "image/png": "[encoded data removed]",
      "text/plain": [
       "<Figure size 360x144 with 1 Axes>"
      ]
     },
     "metadata": {
      "needs_background": "light"
     },
     "output_type": "display_data"
    }
   ],
   "source": [
    "x=data_reviewers_support_March['Remarks'].value_counts()\n",
    "plt.figure(figsize=(5,2))\n",
    "plt.plot(x,color='forestgreen', marker='o', linestyle='dashed',linewidth=2, markersize=5)\n",
    "plt.xticks(rotation=80)\n",
    "plt.title(\"Reviewers involved in False alarms in March 2021\",color='black')\n",
    "for i, v in enumerate(x):\n",
    "    plt.text(i, v+0.2, \"%d\" %v, ha=\"center\",fontdict={'fontsize':'13'})\n",
    "plt.show()"
   ]
  },
  {
   "cell_type": "code",
   "execution_count": 77,
   "metadata": {},
   "outputs": [
    {
     "data": {
      "text/plain": [
       "54"
      ]
     },
     "execution_count": 77,
     "metadata": {},
     "output_type": "execute_result"
    }
   ],
   "source": [
    "data_reviewers_support_March['Remarks'].count()"
   ]
  },
  {
   "cell_type": "markdown",
   "metadata": {},
   "source": [
    "#### Counting the each reviewers false alarms for the March 2021\n",
    "#### 1) Wrong rating - Accident "
   ]
  },
  {
   "cell_type": "code",
   "execution_count": 78,
   "metadata": {},
   "outputs": [
    {
     "data": {
      "text/html": [
       "<div>\n",
       "<style scoped>\n",
       "    .dataframe tbody tr th:only-of-type {\n",
       "        vertical-align: middle;\n",
       "    }\n",
       "\n",
       "    .dataframe tbody tr th {\n",
       "        vertical-align: top;\n",
       "    }\n",
       "\n",
       "    .dataframe thead th {\n",
       "        text-align: right;\n",
       "    }\n",
       "</style>\n",
       "<table border=\"1\" class=\"dataframe\">\n",
       "  <thead>\n",
       "    <tr style=\"text-align: right;\">\n",
       "      <th></th>\n",
       "      <th>Date</th>\n",
       "      <th>Link to incident</th>\n",
       "      <th>link to slack</th>\n",
       "      <th>Rating</th>\n",
       "      <th>Remarks</th>\n",
       "    </tr>\n",
       "  </thead>\n",
       "  <tbody>\n",
       "    <tr>\n",
       "      <th>95</th>\n",
       "      <td>2021-03-02</td>\n",
       "      <td>https://dashboard.jp.getnexar.com/reviewer/rev...</td>\n",
       "      <td>https://nexar.slack.com/archives/G01EY2XN6MC/p...</td>\n",
       "      <td>Wrong rating - Accident</td>\n",
       "      <td>Aparna</td>\n",
       "    </tr>\n",
       "    <tr>\n",
       "      <th>96</th>\n",
       "      <td>2021-03-02</td>\n",
       "      <td>https://dashboard.jp.getnexar.com/reviewer/rev...</td>\n",
       "      <td>https://nexar.slack.com/archives/G01EY2XN6MC/p...</td>\n",
       "      <td>Wrong rating - Accident</td>\n",
       "      <td>Shivam</td>\n",
       "    </tr>\n",
       "    <tr>\n",
       "      <th>97</th>\n",
       "      <td>2021-03-03</td>\n",
       "      <td>https://dashboard.jp.getnexar.com/reviewer/rev...</td>\n",
       "      <td>https://nexar.slack.com/archives/C01DNQHQVK2/p...</td>\n",
       "      <td>Wrong rating - Accident</td>\n",
       "      <td>Narendra</td>\n",
       "    </tr>\n",
       "    <tr>\n",
       "      <th>98</th>\n",
       "      <td>2021-03-03</td>\n",
       "      <td>https://dashboard.jp.getnexar.com/reviewer/rev...</td>\n",
       "      <td>https://nexar.slack.com/archives/C01DNQHQVK2/p...</td>\n",
       "      <td>Wrong rating - Accident</td>\n",
       "      <td>Aparna</td>\n",
       "    </tr>\n",
       "    <tr>\n",
       "      <th>99</th>\n",
       "      <td>2021-03-03</td>\n",
       "      <td>https://dashboard.jp.getnexar.com/reviewer/rev...</td>\n",
       "      <td>https://nexar.slack.com/archives/C01DNQHQVK2/p...</td>\n",
       "      <td>Wrong rating - Accident</td>\n",
       "      <td>Aparna</td>\n",
       "    </tr>\n",
       "    <tr>\n",
       "      <th>100</th>\n",
       "      <td>2021-03-03</td>\n",
       "      <td>https://dashboard.jp.getnexar.com/reviewer/rev...</td>\n",
       "      <td>https://nexar.slack.com/archives/C01DNQHQVK2/p...</td>\n",
       "      <td>Wrong rating - Accident</td>\n",
       "      <td>Narendra</td>\n",
       "    </tr>\n",
       "    <tr>\n",
       "      <th>104</th>\n",
       "      <td>2021-03-05</td>\n",
       "      <td>https://dashboard.jp.getnexar.com/reviewer/rev...</td>\n",
       "      <td>https://nexar.slack.com/archives/C01DNQHQVK2/p...</td>\n",
       "      <td>Wrong rating - Accident</td>\n",
       "      <td>Kiran</td>\n",
       "    </tr>\n",
       "    <tr>\n",
       "      <th>105</th>\n",
       "      <td>2021-03-05</td>\n",
       "      <td>https://dashboard.jp.getnexar.com/reviewer/rev...</td>\n",
       "      <td>https://nexar.slack.com/archives/C01DNQHQVK2/p...</td>\n",
       "      <td>Wrong rating - Accident</td>\n",
       "      <td>Yuvaraja</td>\n",
       "    </tr>\n",
       "    <tr>\n",
       "      <th>108</th>\n",
       "      <td>2021-03-05</td>\n",
       "      <td>https://dashboard.jp.getnexar.com/reviewer/rev...</td>\n",
       "      <td>https://nexar.slack.com/archives/C01DNQHQVK2/p...</td>\n",
       "      <td>Wrong rating - Accident</td>\n",
       "      <td>Narendra</td>\n",
       "    </tr>\n",
       "    <tr>\n",
       "      <th>109</th>\n",
       "      <td>2021-03-05</td>\n",
       "      <td>https://dashboard.jp.getnexar.com/reviewer/rev...</td>\n",
       "      <td>https://nexar.slack.com/archives/C01DNQHQVK2/p...</td>\n",
       "      <td>Wrong rating - Accident</td>\n",
       "      <td>Aparna</td>\n",
       "    </tr>\n",
       "    <tr>\n",
       "      <th>112</th>\n",
       "      <td>2021-03-09</td>\n",
       "      <td>https://dashboard.jp.getnexar.com/reviewer/rev...</td>\n",
       "      <td>https://nexar.slack.com/archives/G01EY2XN6MC/p...</td>\n",
       "      <td>Wrong rating - Accident</td>\n",
       "      <td>Aparna</td>\n",
       "    </tr>\n",
       "    <tr>\n",
       "      <th>113</th>\n",
       "      <td>2021-03-09</td>\n",
       "      <td>https://dashboard.jp.getnexar.com/reviewer/rev...</td>\n",
       "      <td>https://nexar.slack.com/archives/G01EY2XN6MC/p...</td>\n",
       "      <td>Wrong rating - Accident</td>\n",
       "      <td>Shivam</td>\n",
       "    </tr>\n",
       "    <tr>\n",
       "      <th>114</th>\n",
       "      <td>2021-03-11</td>\n",
       "      <td>https://dashboard.jp.getnexar.com/reviewer/rev...</td>\n",
       "      <td>https://nexar.slack.com/archives/G01EY2XN6MC/p...</td>\n",
       "      <td>Wrong rating - Accident</td>\n",
       "      <td>Aparna</td>\n",
       "    </tr>\n",
       "    <tr>\n",
       "      <th>115</th>\n",
       "      <td>2021-03-11</td>\n",
       "      <td>https://dashboard.jp.getnexar.com/reviewer/rev...</td>\n",
       "      <td>https://nexar.slack.com/archives/G01EY2XN6MC/p...</td>\n",
       "      <td>Wrong rating - Accident</td>\n",
       "      <td>Shivam</td>\n",
       "    </tr>\n",
       "    <tr>\n",
       "      <th>118</th>\n",
       "      <td>2021-03-14</td>\n",
       "      <td>https://dashboard.jp.getnexar.com/reviewer/rev...</td>\n",
       "      <td>https://nexar.slack.com/archives/G01EY2XN6MC/p...</td>\n",
       "      <td>Wrong rating - Accident</td>\n",
       "      <td>Shiva Kumar</td>\n",
       "    </tr>\n",
       "    <tr>\n",
       "      <th>119</th>\n",
       "      <td>2021-03-14</td>\n",
       "      <td>https://dashboard.jp.getnexar.com/reviewer/rev...</td>\n",
       "      <td>https://nexar.slack.com/archives/G01EY2XN6MC/p...</td>\n",
       "      <td>Wrong rating - Accident</td>\n",
       "      <td>Shivam</td>\n",
       "    </tr>\n",
       "    <tr>\n",
       "      <th>122</th>\n",
       "      <td>2021-03-14</td>\n",
       "      <td>https://dashboard.jp.getnexar.com/reviewer/inc...</td>\n",
       "      <td>https://nexar.slack.com/archives/C01DNQHQVK2/p...</td>\n",
       "      <td>Wrong rating - Accident</td>\n",
       "      <td>Aparna</td>\n",
       "    </tr>\n",
       "    <tr>\n",
       "      <th>123</th>\n",
       "      <td>2021-03-14</td>\n",
       "      <td>https://dashboard.jp.getnexar.com/reviewer/inc...</td>\n",
       "      <td>https://nexar.slack.com/archives/C01DNQHQVK2/p...</td>\n",
       "      <td>Wrong rating - Accident</td>\n",
       "      <td>Shivam</td>\n",
       "    </tr>\n",
       "    <tr>\n",
       "      <th>124</th>\n",
       "      <td>2021-03-15</td>\n",
       "      <td>https://dashboard.jp.getnexar.com/reviewer/rev...</td>\n",
       "      <td>https://nexar.slack.com/archives/G01EY2XN6MC/p...</td>\n",
       "      <td>Wrong rating - Accident</td>\n",
       "      <td>Shiva Kumar</td>\n",
       "    </tr>\n",
       "    <tr>\n",
       "      <th>125</th>\n",
       "      <td>2021-03-15</td>\n",
       "      <td>https://dashboard.jp.getnexar.com/reviewer/rev...</td>\n",
       "      <td>https://nexar.slack.com/archives/G01EY2XN6MC/p...</td>\n",
       "      <td>Wrong rating - Accident</td>\n",
       "      <td>Rajeshwari</td>\n",
       "    </tr>\n",
       "    <tr>\n",
       "      <th>127</th>\n",
       "      <td>2021-03-18</td>\n",
       "      <td>https://dashboard.jp.getnexar.com/reviewer/rev...</td>\n",
       "      <td>https://nexar.slack.com/archives/G01EY2XN6MC/p...</td>\n",
       "      <td>Wrong rating - Accident</td>\n",
       "      <td>Mallikarjun</td>\n",
       "    </tr>\n",
       "    <tr>\n",
       "      <th>128</th>\n",
       "      <td>2021-03-18</td>\n",
       "      <td>https://dashboard.jp.getnexar.com/reviewer/rev...</td>\n",
       "      <td>https://nexar.slack.com/archives/G01EY2XN6MC/p...</td>\n",
       "      <td>Wrong rating - Accident</td>\n",
       "      <td>Yuvaraja</td>\n",
       "    </tr>\n",
       "    <tr>\n",
       "      <th>129</th>\n",
       "      <td>2021-03-19</td>\n",
       "      <td>https://dashboard.jp.getnexar.com/reviewer/rev...</td>\n",
       "      <td>https://nexar.slack.com/archives/G01EY2XN6MC/p...</td>\n",
       "      <td>Wrong rating - Accident</td>\n",
       "      <td>Narendra</td>\n",
       "    </tr>\n",
       "    <tr>\n",
       "      <th>130</th>\n",
       "      <td>2021-03-19</td>\n",
       "      <td>https://dashboard.jp.getnexar.com/reviewer/rev...</td>\n",
       "      <td>https://nexar.slack.com/archives/G01EY2XN6MC/p...</td>\n",
       "      <td>Wrong rating - Accident</td>\n",
       "      <td>Kiran</td>\n",
       "    </tr>\n",
       "    <tr>\n",
       "      <th>131</th>\n",
       "      <td>2021-03-19</td>\n",
       "      <td>https://dashboard.jp.getnexar.com/reviewer/rev...</td>\n",
       "      <td>https://nexar.slack.com/archives/C01DNQHQVK2/p...</td>\n",
       "      <td>Wrong rating - Accident</td>\n",
       "      <td>Kiran</td>\n",
       "    </tr>\n",
       "    <tr>\n",
       "      <th>132</th>\n",
       "      <td>2021-03-20</td>\n",
       "      <td>https://dashboard.jp.getnexar.com/reviewer/rev...</td>\n",
       "      <td>https://nexar.slack.com/archives/C01DNQHQVK2/p...</td>\n",
       "      <td>Wrong rating - Accident</td>\n",
       "      <td>Shivam</td>\n",
       "    </tr>\n",
       "    <tr>\n",
       "      <th>138</th>\n",
       "      <td>2021-03-26</td>\n",
       "      <td>https://dashboard.jp.getnexar.com/reviewer/rev...</td>\n",
       "      <td>https://nexar.slack.com/archives/G01EY2XN6MC/p...</td>\n",
       "      <td>Wrong rating - Accident</td>\n",
       "      <td>Rajeshwari</td>\n",
       "    </tr>\n",
       "    <tr>\n",
       "      <th>139</th>\n",
       "      <td>2021-03-26</td>\n",
       "      <td>https://dashboard.jp.getnexar.com/reviewer/rev...</td>\n",
       "      <td>https://nexar.slack.com/archives/G01EY2XN6MC/p...</td>\n",
       "      <td>Wrong rating - Accident</td>\n",
       "      <td>Shiva Kumar</td>\n",
       "    </tr>\n",
       "    <tr>\n",
       "      <th>140</th>\n",
       "      <td>2021-03-29</td>\n",
       "      <td>https://dashboard.jp.getnexar.com/reviewer/inc...</td>\n",
       "      <td>https://nexar.slack.com/archives/G01EY2XN6MC/p...</td>\n",
       "      <td>Wrong rating - Accident</td>\n",
       "      <td>Kiran</td>\n",
       "    </tr>\n",
       "    <tr>\n",
       "      <th>141</th>\n",
       "      <td>2021-03-29</td>\n",
       "      <td>https://dashboard.jp.getnexar.com/reviewer/inc...</td>\n",
       "      <td>https://nexar.slack.com/archives/G01EY2XN6MC/p...</td>\n",
       "      <td>Wrong rating - Accident</td>\n",
       "      <td>Narendra</td>\n",
       "    </tr>\n",
       "    <tr>\n",
       "      <th>144</th>\n",
       "      <td>2021-03-30</td>\n",
       "      <td>https://dashboard.jp.getnexar.com/reviewer/inc...</td>\n",
       "      <td>https://nexar.slack.com/archives/G01EY2XN6MC/p...</td>\n",
       "      <td>Wrong rating - Accident</td>\n",
       "      <td>Kiran</td>\n",
       "    </tr>\n",
       "    <tr>\n",
       "      <th>145</th>\n",
       "      <td>2021-03-31</td>\n",
       "      <td>https://dashboard.jp.getnexar.com/reviewer/inc...</td>\n",
       "      <td>https://nexar.slack.com/archives/G01EY2XN6MC/p...</td>\n",
       "      <td>Wrong rating - Accident</td>\n",
       "      <td>Shivam</td>\n",
       "    </tr>\n",
       "    <tr>\n",
       "      <th>146</th>\n",
       "      <td>2021-03-31</td>\n",
       "      <td>https://dashboard.jp.getnexar.com/reviewer/inc...</td>\n",
       "      <td>https://nexar.slack.com/archives/G01EY2XN6MC/p...</td>\n",
       "      <td>Wrong rating - Accident</td>\n",
       "      <td>Aparna</td>\n",
       "    </tr>\n",
       "    <tr>\n",
       "      <th>147</th>\n",
       "      <td>2021-03-31</td>\n",
       "      <td>https://dashboard.jp.getnexar.com/reviewer/inc...</td>\n",
       "      <td>https://nexar.slack.com/archives/G01EY2XN6MC/p...</td>\n",
       "      <td>Wrong rating - Accident</td>\n",
       "      <td>Shivam</td>\n",
       "    </tr>\n",
       "    <tr>\n",
       "      <th>148</th>\n",
       "      <td>2021-03-31</td>\n",
       "      <td>https://dashboard.jp.getnexar.com/reviewer/inc...</td>\n",
       "      <td>https://nexar.slack.com/archives/G01EY2XN6MC/p...</td>\n",
       "      <td>Wrong rating - Accident</td>\n",
       "      <td>Aparna</td>\n",
       "    </tr>\n",
       "  </tbody>\n",
       "</table>\n",
       "</div>"
      ],
      "text/plain": [
       "          Date                                   Link to incident  \\\n",
       "95  2021-03-02  https://dashboard.jp.getnexar.com/reviewer/rev...   \n",
       "96  2021-03-02  https://dashboard.jp.getnexar.com/reviewer/rev...   \n",
       "97  2021-03-03  https://dashboard.jp.getnexar.com/reviewer/rev...   \n",
       "98  2021-03-03  https://dashboard.jp.getnexar.com/reviewer/rev...   \n",
       "99  2021-03-03  https://dashboard.jp.getnexar.com/reviewer/rev...   \n",
       "100 2021-03-03  https://dashboard.jp.getnexar.com/reviewer/rev...   \n",
       "104 2021-03-05  https://dashboard.jp.getnexar.com/reviewer/rev...   \n",
       "105 2021-03-05  https://dashboard.jp.getnexar.com/reviewer/rev...   \n",
       "108 2021-03-05  https://dashboard.jp.getnexar.com/reviewer/rev...   \n",
       "109 2021-03-05  https://dashboard.jp.getnexar.com/reviewer/rev...   \n",
       "112 2021-03-09  https://dashboard.jp.getnexar.com/reviewer/rev...   \n",
       "113 2021-03-09  https://dashboard.jp.getnexar.com/reviewer/rev...   \n",
       "114 2021-03-11  https://dashboard.jp.getnexar.com/reviewer/rev...   \n",
       "115 2021-03-11  https://dashboard.jp.getnexar.com/reviewer/rev...   \n",
       "118 2021-03-14  https://dashboard.jp.getnexar.com/reviewer/rev...   \n",
       "119 2021-03-14  https://dashboard.jp.getnexar.com/reviewer/rev...   \n",
       "122 2021-03-14  https://dashboard.jp.getnexar.com/reviewer/inc...   \n",
       "123 2021-03-14  https://dashboard.jp.getnexar.com/reviewer/inc...   \n",
       "124 2021-03-15  https://dashboard.jp.getnexar.com/reviewer/rev...   \n",
       "125 2021-03-15  https://dashboard.jp.getnexar.com/reviewer/rev...   \n",
       "127 2021-03-18  https://dashboard.jp.getnexar.com/reviewer/rev...   \n",
       "128 2021-03-18  https://dashboard.jp.getnexar.com/reviewer/rev...   \n",
       "129 2021-03-19  https://dashboard.jp.getnexar.com/reviewer/rev...   \n",
       "130 2021-03-19  https://dashboard.jp.getnexar.com/reviewer/rev...   \n",
       "131 2021-03-19  https://dashboard.jp.getnexar.com/reviewer/rev...   \n",
       "132 2021-03-20  https://dashboard.jp.getnexar.com/reviewer/rev...   \n",
       "138 2021-03-26  https://dashboard.jp.getnexar.com/reviewer/rev...   \n",
       "139 2021-03-26  https://dashboard.jp.getnexar.com/reviewer/rev...   \n",
       "140 2021-03-29  https://dashboard.jp.getnexar.com/reviewer/inc...   \n",
       "141 2021-03-29  https://dashboard.jp.getnexar.com/reviewer/inc...   \n",
       "144 2021-03-30  https://dashboard.jp.getnexar.com/reviewer/inc...   \n",
       "145 2021-03-31  https://dashboard.jp.getnexar.com/reviewer/inc...   \n",
       "146 2021-03-31  https://dashboard.jp.getnexar.com/reviewer/inc...   \n",
       "147 2021-03-31  https://dashboard.jp.getnexar.com/reviewer/inc...   \n",
       "148 2021-03-31  https://dashboard.jp.getnexar.com/reviewer/inc...   \n",
       "\n",
       "                                        link to slack   \\\n",
       "95   https://nexar.slack.com/archives/G01EY2XN6MC/p...   \n",
       "96   https://nexar.slack.com/archives/G01EY2XN6MC/p...   \n",
       "97   https://nexar.slack.com/archives/C01DNQHQVK2/p...   \n",
       "98   https://nexar.slack.com/archives/C01DNQHQVK2/p...   \n",
       "99   https://nexar.slack.com/archives/C01DNQHQVK2/p...   \n",
       "100  https://nexar.slack.com/archives/C01DNQHQVK2/p...   \n",
       "104  https://nexar.slack.com/archives/C01DNQHQVK2/p...   \n",
       "105  https://nexar.slack.com/archives/C01DNQHQVK2/p...   \n",
       "108  https://nexar.slack.com/archives/C01DNQHQVK2/p...   \n",
       "109  https://nexar.slack.com/archives/C01DNQHQVK2/p...   \n",
       "112  https://nexar.slack.com/archives/G01EY2XN6MC/p...   \n",
       "113  https://nexar.slack.com/archives/G01EY2XN6MC/p...   \n",
       "114  https://nexar.slack.com/archives/G01EY2XN6MC/p...   \n",
       "115  https://nexar.slack.com/archives/G01EY2XN6MC/p...   \n",
       "118  https://nexar.slack.com/archives/G01EY2XN6MC/p...   \n",
       "119  https://nexar.slack.com/archives/G01EY2XN6MC/p...   \n",
       "122  https://nexar.slack.com/archives/C01DNQHQVK2/p...   \n",
       "123  https://nexar.slack.com/archives/C01DNQHQVK2/p...   \n",
       "124  https://nexar.slack.com/archives/G01EY2XN6MC/p...   \n",
       "125  https://nexar.slack.com/archives/G01EY2XN6MC/p...   \n",
       "127  https://nexar.slack.com/archives/G01EY2XN6MC/p...   \n",
       "128  https://nexar.slack.com/archives/G01EY2XN6MC/p...   \n",
       "129  https://nexar.slack.com/archives/G01EY2XN6MC/p...   \n",
       "130  https://nexar.slack.com/archives/G01EY2XN6MC/p...   \n",
       "131  https://nexar.slack.com/archives/C01DNQHQVK2/p...   \n",
       "132  https://nexar.slack.com/archives/C01DNQHQVK2/p...   \n",
       "138  https://nexar.slack.com/archives/G01EY2XN6MC/p...   \n",
       "139  https://nexar.slack.com/archives/G01EY2XN6MC/p...   \n",
       "140  https://nexar.slack.com/archives/G01EY2XN6MC/p...   \n",
       "141  https://nexar.slack.com/archives/G01EY2XN6MC/p...   \n",
       "144  https://nexar.slack.com/archives/G01EY2XN6MC/p...   \n",
       "145  https://nexar.slack.com/archives/G01EY2XN6MC/p...   \n",
       "146  https://nexar.slack.com/archives/G01EY2XN6MC/p...   \n",
       "147  https://nexar.slack.com/archives/G01EY2XN6MC/p...   \n",
       "148  https://nexar.slack.com/archives/G01EY2XN6MC/p...   \n",
       "\n",
       "                      Rating      Remarks  \n",
       "95   Wrong rating - Accident       Aparna  \n",
       "96   Wrong rating - Accident       Shivam  \n",
       "97   Wrong rating - Accident     Narendra  \n",
       "98   Wrong rating - Accident       Aparna  \n",
       "99   Wrong rating - Accident       Aparna  \n",
       "100  Wrong rating - Accident     Narendra  \n",
       "104  Wrong rating - Accident        Kiran  \n",
       "105  Wrong rating - Accident     Yuvaraja  \n",
       "108  Wrong rating - Accident     Narendra  \n",
       "109  Wrong rating - Accident       Aparna  \n",
       "112  Wrong rating - Accident       Aparna  \n",
       "113  Wrong rating - Accident       Shivam  \n",
       "114  Wrong rating - Accident       Aparna  \n",
       "115  Wrong rating - Accident       Shivam  \n",
       "118  Wrong rating - Accident  Shiva Kumar  \n",
       "119  Wrong rating - Accident       Shivam  \n",
       "122  Wrong rating - Accident       Aparna  \n",
       "123  Wrong rating - Accident       Shivam  \n",
       "124  Wrong rating - Accident  Shiva Kumar  \n",
       "125  Wrong rating - Accident   Rajeshwari  \n",
       "127  Wrong rating - Accident  Mallikarjun  \n",
       "128  Wrong rating - Accident     Yuvaraja  \n",
       "129  Wrong rating - Accident     Narendra  \n",
       "130  Wrong rating - Accident        Kiran  \n",
       "131  Wrong rating - Accident        Kiran  \n",
       "132  Wrong rating - Accident       Shivam  \n",
       "138  Wrong rating - Accident   Rajeshwari  \n",
       "139  Wrong rating - Accident  Shiva Kumar  \n",
       "140  Wrong rating - Accident        Kiran  \n",
       "141  Wrong rating - Accident     Narendra  \n",
       "144  Wrong rating - Accident        Kiran  \n",
       "145  Wrong rating - Accident       Shivam  \n",
       "146  Wrong rating - Accident       Aparna  \n",
       "147  Wrong rating - Accident       Shivam  \n",
       "148  Wrong rating - Accident       Aparna  "
      ]
     },
     "execution_count": 78,
     "metadata": {},
     "output_type": "execute_result"
    }
   ],
   "source": [
    "wrong_rating_accident= data_reviewers_support_March[(data_reviewers_support_March['Rating']=='Wrong rating - Accident')]\n",
    "wrong_rating_accident"
   ]
  },
  {
   "cell_type": "code",
   "execution_count": 79,
   "metadata": {},
   "outputs": [
    {
     "data": {
      "text/plain": [
       "Aparna         9\n",
       "Shivam         8\n",
       "Kiran          5\n",
       "Narendra       5\n",
       "Shiva Kumar    3\n",
       "Rajeshwari     2\n",
       "Yuvaraja       2\n",
       "Mallikarjun    1\n",
       "Name: Remarks, dtype: int64"
      ]
     },
     "execution_count": 79,
     "metadata": {},
     "output_type": "execute_result"
    }
   ],
   "source": [
    "wrong_rating_accident['Remarks'].value_counts()"
   ]
  },
  {
   "cell_type": "code",
   "execution_count": 80,
   "metadata": {},
   "outputs": [
    {
     "data": {
      "image/png": "[encoded data removed]",
      "text/plain": [
       "<Figure size 360x144 with 1 Axes>"
      ]
     },
     "metadata": {
      "needs_background": "light"
     },
     "output_type": "display_data"
    }
   ],
   "source": [
    "x=wrong_rating_accident['Remarks'].value_counts()\n",
    "plt.figure(figsize=(5,2))\n",
    "plt.plot(x,color='orange', marker='o', linestyle='dashed',linewidth=2, markersize=5)\n",
    "plt.xticks(rotation=80)\n",
    "plt.title(\"Reviewers involved in wrong rating accident in March 2021\",color='black')\n",
    "for i, v in enumerate(x):\n",
    "    plt.text(i, v+0.2, \"%d\" %v, ha=\"center\",fontdict={'fontsize':'13'})\n",
    "plt.show()"
   ]
  },
  {
   "cell_type": "code",
   "execution_count": 81,
   "metadata": {},
   "outputs": [
    {
     "data": {
      "text/plain": [
       "35"
      ]
     },
     "execution_count": 81,
     "metadata": {},
     "output_type": "execute_result"
    }
   ],
   "source": [
    "wrong_rating_accident['Remarks'].count()"
   ]
  },
  {
   "cell_type": "markdown",
   "metadata": {},
   "source": [
    "#### 2) Wrong rating - No accident"
   ]
  },
  {
   "cell_type": "code",
   "execution_count": 82,
   "metadata": {},
   "outputs": [
    {
     "data": {
      "text/html": [
       "<div>\n",
       "<style scoped>\n",
       "    .dataframe tbody tr th:only-of-type {\n",
       "        vertical-align: middle;\n",
       "    }\n",
       "\n",
       "    .dataframe tbody tr th {\n",
       "        vertical-align: top;\n",
       "    }\n",
       "\n",
       "    .dataframe thead th {\n",
       "        text-align: right;\n",
       "    }\n",
       "</style>\n",
       "<table border=\"1\" class=\"dataframe\">\n",
       "  <thead>\n",
       "    <tr style=\"text-align: right;\">\n",
       "      <th></th>\n",
       "      <th>Date</th>\n",
       "      <th>Link to incident</th>\n",
       "      <th>link to slack</th>\n",
       "      <th>Rating</th>\n",
       "      <th>Remarks</th>\n",
       "    </tr>\n",
       "  </thead>\n",
       "  <tbody>\n",
       "    <tr>\n",
       "      <th>94</th>\n",
       "      <td>2021-03-01</td>\n",
       "      <td>NaN</td>\n",
       "      <td>https://nexar.slack.com/archives/C01DNQHQVK2/p...</td>\n",
       "      <td>Wrong rating - No accident</td>\n",
       "      <td>Shiva Kumar</td>\n",
       "    </tr>\n",
       "    <tr>\n",
       "      <th>101</th>\n",
       "      <td>2021-03-03</td>\n",
       "      <td>https://dashboard.jp.getnexar.com/reviewer/rev...</td>\n",
       "      <td>https://nexar.slack.com/archives/G01EY2XN6MC/p...</td>\n",
       "      <td>Wrong rating - No accident</td>\n",
       "      <td>Narendra</td>\n",
       "    </tr>\n",
       "    <tr>\n",
       "      <th>102</th>\n",
       "      <td>2021-03-04</td>\n",
       "      <td>https://dashboard.jp.getnexar.com/reviewer/rev...</td>\n",
       "      <td>https://nexar.slack.com/archives/C01DNQHQVK2/p...</td>\n",
       "      <td>Wrong rating - No accident</td>\n",
       "      <td>Kiran</td>\n",
       "    </tr>\n",
       "    <tr>\n",
       "      <th>103</th>\n",
       "      <td>2021-03-04</td>\n",
       "      <td>https://dashboard.jp.getnexar.com/reviewer/rev...</td>\n",
       "      <td>https://nexar.slack.com/archives/C01DNQHQVK2/p...</td>\n",
       "      <td>Wrong rating - No accident</td>\n",
       "      <td>Yuvaraja</td>\n",
       "    </tr>\n",
       "    <tr>\n",
       "      <th>106</th>\n",
       "      <td>2021-03-05</td>\n",
       "      <td>https://dashboard.jp.getnexar.com/reviewer/rev...</td>\n",
       "      <td>https://nexar.slack.com/archives/C01DNQHQVK2/p...</td>\n",
       "      <td>Wrong rating - No accident</td>\n",
       "      <td>Kiran</td>\n",
       "    </tr>\n",
       "    <tr>\n",
       "      <th>107</th>\n",
       "      <td>2021-03-05</td>\n",
       "      <td>https://dashboard.jp.getnexar.com/reviewer/rev...</td>\n",
       "      <td>https://nexar.slack.com/archives/C01DNQHQVK2/p...</td>\n",
       "      <td>Wrong rating - No accident</td>\n",
       "      <td>Yuvaraja</td>\n",
       "    </tr>\n",
       "    <tr>\n",
       "      <th>110</th>\n",
       "      <td>2021-03-06</td>\n",
       "      <td>https://dashboard.jp.getnexar.com/reviewer/rev...</td>\n",
       "      <td>https://nexar.slack.com/archives/G01EY2XN6MC/p...</td>\n",
       "      <td>Wrong rating - No accident</td>\n",
       "      <td>Aparna</td>\n",
       "    </tr>\n",
       "    <tr>\n",
       "      <th>111</th>\n",
       "      <td>2021-03-06</td>\n",
       "      <td>https://dashboard.jp.getnexar.com/reviewer/rev...</td>\n",
       "      <td>https://nexar.slack.com/archives/G01EY2XN6MC/p...</td>\n",
       "      <td>Wrong rating - No accident</td>\n",
       "      <td>Shivam</td>\n",
       "    </tr>\n",
       "    <tr>\n",
       "      <th>116</th>\n",
       "      <td>2021-03-13</td>\n",
       "      <td>https://dashboard.jp.getnexar.com/reviewer/rev...</td>\n",
       "      <td>https://nexar.slack.com/archives/G01EY2XN6MC/p...</td>\n",
       "      <td>Wrong rating - No accident</td>\n",
       "      <td>Aparna</td>\n",
       "    </tr>\n",
       "    <tr>\n",
       "      <th>117</th>\n",
       "      <td>2021-03-13</td>\n",
       "      <td>https://dashboard.jp.getnexar.com/reviewer/rev...</td>\n",
       "      <td>https://nexar.slack.com/archives/G01EY2XN6MC/p...</td>\n",
       "      <td>Wrong rating - No accident</td>\n",
       "      <td>Shivam</td>\n",
       "    </tr>\n",
       "    <tr>\n",
       "      <th>133</th>\n",
       "      <td>2021-03-20</td>\n",
       "      <td>https://dashboard.jp.getnexar.com/reviewer/rev...</td>\n",
       "      <td>https://nexar.slack.com/archives/C01DNQHQVK2/p...</td>\n",
       "      <td>Wrong rating - No accident</td>\n",
       "      <td>Shivam</td>\n",
       "    </tr>\n",
       "    <tr>\n",
       "      <th>134</th>\n",
       "      <td>2021-03-20</td>\n",
       "      <td>https://dashboard.jp.getnexar.com/reviewer/rev...</td>\n",
       "      <td>https://nexar.slack.com/archives/C01DNQHQVK2/p...</td>\n",
       "      <td>Wrong rating - No accident</td>\n",
       "      <td>Aparna</td>\n",
       "    </tr>\n",
       "    <tr>\n",
       "      <th>135</th>\n",
       "      <td>2021-03-21</td>\n",
       "      <td>https://dashboard.jp.getnexar.com/reviewer/inc...</td>\n",
       "      <td>https://nexar.slack.com/archives/G01EY2XN6MC/p...</td>\n",
       "      <td>Wrong rating - No accident</td>\n",
       "      <td>Mallikarjun</td>\n",
       "    </tr>\n",
       "    <tr>\n",
       "      <th>136</th>\n",
       "      <td>2021-03-21</td>\n",
       "      <td>https://dashboard.jp.getnexar.com/reviewer/inc...</td>\n",
       "      <td>https://nexar.slack.com/archives/G01EY2XN6MC/p...</td>\n",
       "      <td>Wrong rating - No accident</td>\n",
       "      <td>Aparna</td>\n",
       "    </tr>\n",
       "    <tr>\n",
       "      <th>137</th>\n",
       "      <td>2021-03-23</td>\n",
       "      <td>https://dashboard.jp.getnexar.com/reviewer/rev...</td>\n",
       "      <td>https://nexar.slack.com/archives/G01EY2XN6MC/p...</td>\n",
       "      <td>Wrong rating - No accident</td>\n",
       "      <td>Yuvaraja</td>\n",
       "    </tr>\n",
       "  </tbody>\n",
       "</table>\n",
       "</div>"
      ],
      "text/plain": [
       "          Date                                   Link to incident  \\\n",
       "94  2021-03-01                                                NaN   \n",
       "101 2021-03-03  https://dashboard.jp.getnexar.com/reviewer/rev...   \n",
       "102 2021-03-04  https://dashboard.jp.getnexar.com/reviewer/rev...   \n",
       "103 2021-03-04  https://dashboard.jp.getnexar.com/reviewer/rev...   \n",
       "106 2021-03-05  https://dashboard.jp.getnexar.com/reviewer/rev...   \n",
       "107 2021-03-05  https://dashboard.jp.getnexar.com/reviewer/rev...   \n",
       "110 2021-03-06  https://dashboard.jp.getnexar.com/reviewer/rev...   \n",
       "111 2021-03-06  https://dashboard.jp.getnexar.com/reviewer/rev...   \n",
       "116 2021-03-13  https://dashboard.jp.getnexar.com/reviewer/rev...   \n",
       "117 2021-03-13  https://dashboard.jp.getnexar.com/reviewer/rev...   \n",
       "133 2021-03-20  https://dashboard.jp.getnexar.com/reviewer/rev...   \n",
       "134 2021-03-20  https://dashboard.jp.getnexar.com/reviewer/rev...   \n",
       "135 2021-03-21  https://dashboard.jp.getnexar.com/reviewer/inc...   \n",
       "136 2021-03-21  https://dashboard.jp.getnexar.com/reviewer/inc...   \n",
       "137 2021-03-23  https://dashboard.jp.getnexar.com/reviewer/rev...   \n",
       "\n",
       "                                        link to slack   \\\n",
       "94   https://nexar.slack.com/archives/C01DNQHQVK2/p...   \n",
       "101  https://nexar.slack.com/archives/G01EY2XN6MC/p...   \n",
       "102  https://nexar.slack.com/archives/C01DNQHQVK2/p...   \n",
       "103  https://nexar.slack.com/archives/C01DNQHQVK2/p...   \n",
       "106  https://nexar.slack.com/archives/C01DNQHQVK2/p...   \n",
       "107  https://nexar.slack.com/archives/C01DNQHQVK2/p...   \n",
       "110  https://nexar.slack.com/archives/G01EY2XN6MC/p...   \n",
       "111  https://nexar.slack.com/archives/G01EY2XN6MC/p...   \n",
       "116  https://nexar.slack.com/archives/G01EY2XN6MC/p...   \n",
       "117  https://nexar.slack.com/archives/G01EY2XN6MC/p...   \n",
       "133  https://nexar.slack.com/archives/C01DNQHQVK2/p...   \n",
       "134  https://nexar.slack.com/archives/C01DNQHQVK2/p...   \n",
       "135  https://nexar.slack.com/archives/G01EY2XN6MC/p...   \n",
       "136  https://nexar.slack.com/archives/G01EY2XN6MC/p...   \n",
       "137  https://nexar.slack.com/archives/G01EY2XN6MC/p...   \n",
       "\n",
       "                         Rating      Remarks  \n",
       "94   Wrong rating - No accident  Shiva Kumar  \n",
       "101  Wrong rating - No accident     Narendra  \n",
       "102  Wrong rating - No accident        Kiran  \n",
       "103  Wrong rating - No accident     Yuvaraja  \n",
       "106  Wrong rating - No accident        Kiran  \n",
       "107  Wrong rating - No accident     Yuvaraja  \n",
       "110  Wrong rating - No accident       Aparna  \n",
       "111  Wrong rating - No accident       Shivam  \n",
       "116  Wrong rating - No accident       Aparna  \n",
       "117  Wrong rating - No accident       Shivam  \n",
       "133  Wrong rating - No accident       Shivam  \n",
       "134  Wrong rating - No accident       Aparna  \n",
       "135  Wrong rating - No accident  Mallikarjun  \n",
       "136  Wrong rating - No accident       Aparna  \n",
       "137  Wrong rating - No accident     Yuvaraja  "
      ]
     },
     "execution_count": 82,
     "metadata": {},
     "output_type": "execute_result"
    }
   ],
   "source": [
    "wrong_rating_no_accident= data_reviewers_support_March[(data_reviewers_support_March['Rating']=='Wrong rating - No accident')]\n",
    "wrong_rating_no_accident"
   ]
  },
  {
   "cell_type": "code",
   "execution_count": 83,
   "metadata": {},
   "outputs": [
    {
     "data": {
      "text/plain": [
       "Aparna         4\n",
       "Shivam         3\n",
       "Yuvaraja       3\n",
       "Kiran          2\n",
       "Mallikarjun    1\n",
       "Narendra       1\n",
       "Shiva Kumar    1\n",
       "Name: Remarks, dtype: int64"
      ]
     },
     "execution_count": 83,
     "metadata": {},
     "output_type": "execute_result"
    }
   ],
   "source": [
    "wrong_rating_no_accident['Remarks'].value_counts()"
   ]
  },
  {
   "cell_type": "code",
   "execution_count": 84,
   "metadata": {},
   "outputs": [
    {
     "data": {
      "image/png": "[encoded data removed]",
      "text/plain": [
       "<Figure size 360x144 with 1 Axes>"
      ]
     },
     "metadata": {
      "needs_background": "light"
     },
     "output_type": "display_data"
    }
   ],
   "source": [
    "x=wrong_rating_no_accident['Remarks'].value_counts()\n",
    "plt.figure(figsize=(5,2))\n",
    "plt.plot(x,color='salmon', marker='o', linestyle='dashed',linewidth=2, markersize=5)\n",
    "plt.xticks(rotation=80)\n",
    "plt.title(\"Reviewers involved in wrong rating no accident in March 2021\",color='black')\n",
    "for i, v in enumerate(x):\n",
    "    plt.text(i, v+0.2, \"%d\" %v, ha=\"center\",fontdict={'fontsize':'13'})\n",
    "plt.show()"
   ]
  },
  {
   "cell_type": "code",
   "execution_count": 85,
   "metadata": {},
   "outputs": [
    {
     "data": {
      "text/plain": [
       "15"
      ]
     },
     "execution_count": 85,
     "metadata": {},
     "output_type": "execute_result"
    }
   ],
   "source": [
    "wrong_rating_no_accident['Remarks'].count()"
   ]
  },
  {
   "cell_type": "markdown",
   "metadata": {},
   "source": [
    "#### 3) last grabbed incident"
   ]
  },
  {
   "cell_type": "code",
   "execution_count": 86,
   "metadata": {},
   "outputs": [
    {
     "data": {
      "text/html": [
       "<div>\n",
       "<style scoped>\n",
       "    .dataframe tbody tr th:only-of-type {\n",
       "        vertical-align: middle;\n",
       "    }\n",
       "\n",
       "    .dataframe tbody tr th {\n",
       "        vertical-align: top;\n",
       "    }\n",
       "\n",
       "    .dataframe thead th {\n",
       "        text-align: right;\n",
       "    }\n",
       "</style>\n",
       "<table border=\"1\" class=\"dataframe\">\n",
       "  <thead>\n",
       "    <tr style=\"text-align: right;\">\n",
       "      <th></th>\n",
       "      <th>Date</th>\n",
       "      <th>Link to incident</th>\n",
       "      <th>link to slack</th>\n",
       "      <th>Rating</th>\n",
       "      <th>Remarks</th>\n",
       "    </tr>\n",
       "  </thead>\n",
       "  <tbody>\n",
       "    <tr>\n",
       "      <th>142</th>\n",
       "      <td>2021-03-29</td>\n",
       "      <td>NaN</td>\n",
       "      <td>https://nexar.slack.com/archives/C01ESDUFXT4/p...</td>\n",
       "      <td>last grabbed incident</td>\n",
       "      <td>Shivam</td>\n",
       "    </tr>\n",
       "    <tr>\n",
       "      <th>143</th>\n",
       "      <td>2021-03-29</td>\n",
       "      <td>NaN</td>\n",
       "      <td>https://nexar.slack.com/archives/C01ESDUFXT4/p...</td>\n",
       "      <td>last grabbed incident</td>\n",
       "      <td>Mallikarjun</td>\n",
       "    </tr>\n",
       "  </tbody>\n",
       "</table>\n",
       "</div>"
      ],
      "text/plain": [
       "          Date Link to incident  \\\n",
       "142 2021-03-29              NaN   \n",
       "143 2021-03-29              NaN   \n",
       "\n",
       "                                        link to slack                  Rating  \\\n",
       "142  https://nexar.slack.com/archives/C01ESDUFXT4/p...  last grabbed incident   \n",
       "143  https://nexar.slack.com/archives/C01ESDUFXT4/p...  last grabbed incident   \n",
       "\n",
       "         Remarks  \n",
       "142       Shivam  \n",
       "143  Mallikarjun  "
      ]
     },
     "execution_count": 86,
     "metadata": {},
     "output_type": "execute_result"
    }
   ],
   "source": [
    "last_grabbed_incident= data_reviewers_support_March[(data_reviewers_support_March['Rating']=='last grabbed incident')]\n",
    "last_grabbed_incident"
   ]
  },
  {
   "cell_type": "code",
   "execution_count": 87,
   "metadata": {},
   "outputs": [
    {
     "data": {
      "text/plain": [
       "Shivam         1\n",
       "Mallikarjun    1\n",
       "Name: Remarks, dtype: int64"
      ]
     },
     "execution_count": 87,
     "metadata": {},
     "output_type": "execute_result"
    }
   ],
   "source": [
    "last_grabbed_incident['Remarks'].value_counts()"
   ]
  },
  {
   "cell_type": "code",
   "execution_count": 88,
   "metadata": {},
   "outputs": [
    {
     "data": {
      "image/png": "[encoded data removed]",
      "text/plain": [
       "<Figure size 360x144 with 1 Axes>"
      ]
     },
     "metadata": {
      "needs_background": "light"
     },
     "output_type": "display_data"
    }
   ],
   "source": [
    "plt.figure(figsize=(5,2))\n",
    "splot=sns.countplot(last_grabbed_incident['Remarks'],order=last_grabbed_incident['Remarks'].value_counts().index,saturation=10)\n",
    "plt.xticks(rotation=30)\n",
    "plt.title(\"Reviewers involved in last grabbed incident in March 2021\",color='black')\n",
    "for p in splot.patches:\n",
    "    splot.annotate(format(p.get_height(), '.0f'), (p.get_x() + p.get_width() / 2., p.get_height()), ha = 'center', va = 'center', xytext = (0, 2),textcoords = 'offset points',rotation=20)\n",
    "plt.show()"
   ]
  },
  {
   "cell_type": "code",
   "execution_count": 89,
   "metadata": {},
   "outputs": [
    {
     "data": {
      "text/plain": [
       "2"
      ]
     },
     "execution_count": 89,
     "metadata": {},
     "output_type": "execute_result"
    }
   ],
   "source": [
    "last_grabbed_incident['Remarks'].count()"
   ]
  },
  {
   "cell_type": "markdown",
   "metadata": {},
   "source": [
    "#### 4) Hard to rate incidents"
   ]
  },
  {
   "cell_type": "code",
   "execution_count": 90,
   "metadata": {},
   "outputs": [
    {
     "data": {
      "text/html": [
       "<div>\n",
       "<style scoped>\n",
       "    .dataframe tbody tr th:only-of-type {\n",
       "        vertical-align: middle;\n",
       "    }\n",
       "\n",
       "    .dataframe tbody tr th {\n",
       "        vertical-align: top;\n",
       "    }\n",
       "\n",
       "    .dataframe thead th {\n",
       "        text-align: right;\n",
       "    }\n",
       "</style>\n",
       "<table border=\"1\" class=\"dataframe\">\n",
       "  <thead>\n",
       "    <tr style=\"text-align: right;\">\n",
       "      <th></th>\n",
       "      <th>Date</th>\n",
       "      <th>Link to incident</th>\n",
       "      <th>link to slack</th>\n",
       "      <th>Rating</th>\n",
       "      <th>Remarks</th>\n",
       "    </tr>\n",
       "  </thead>\n",
       "  <tbody>\n",
       "    <tr>\n",
       "      <th>120</th>\n",
       "      <td>2021-03-14</td>\n",
       "      <td>https://dashboard.jp.getnexar.com/reviewer/inc...</td>\n",
       "      <td>https://nexar.slack.com/archives/C01DNQHQVK2/p...</td>\n",
       "      <td>Hard to rate incidents</td>\n",
       "      <td>Aparna</td>\n",
       "    </tr>\n",
       "    <tr>\n",
       "      <th>121</th>\n",
       "      <td>2021-03-14</td>\n",
       "      <td>https://dashboard.jp.getnexar.com/reviewer/inc...</td>\n",
       "      <td>https://nexar.slack.com/archives/C01DNQHQVK2/p...</td>\n",
       "      <td>Hard to rate incidents</td>\n",
       "      <td>Shivam</td>\n",
       "    </tr>\n",
       "  </tbody>\n",
       "</table>\n",
       "</div>"
      ],
      "text/plain": [
       "          Date                                   Link to incident  \\\n",
       "120 2021-03-14  https://dashboard.jp.getnexar.com/reviewer/inc...   \n",
       "121 2021-03-14  https://dashboard.jp.getnexar.com/reviewer/inc...   \n",
       "\n",
       "                                        link to slack   \\\n",
       "120  https://nexar.slack.com/archives/C01DNQHQVK2/p...   \n",
       "121  https://nexar.slack.com/archives/C01DNQHQVK2/p...   \n",
       "\n",
       "                     Rating Remarks  \n",
       "120  Hard to rate incidents  Aparna  \n",
       "121  Hard to rate incidents  Shivam  "
      ]
     },
     "execution_count": 90,
     "metadata": {},
     "output_type": "execute_result"
    }
   ],
   "source": [
    "Hard_to_rate_incidents= data_reviewers_support_March[(data_reviewers_support_March['Rating']=='Hard to rate incidents')]\n",
    "Hard_to_rate_incidents"
   ]
  },
  {
   "cell_type": "code",
   "execution_count": 91,
   "metadata": {},
   "outputs": [
    {
     "data": {
      "text/plain": [
       "Aparna    1\n",
       "Shivam    1\n",
       "Name: Remarks, dtype: int64"
      ]
     },
     "execution_count": 91,
     "metadata": {},
     "output_type": "execute_result"
    }
   ],
   "source": [
    "Hard_to_rate_incidents['Remarks'].value_counts()"
   ]
  },
  {
   "cell_type": "code",
   "execution_count": 92,
   "metadata": {},
   "outputs": [
    {
     "data": {
      "image/png": "[encoded data removed]",
      "text/plain": [
       "<Figure size 360x144 with 1 Axes>"
      ]
     },
     "metadata": {
      "needs_background": "light"
     },
     "output_type": "display_data"
    }
   ],
   "source": [
    "plt.figure(figsize=(5,2))\n",
    "splot=sns.countplot(Hard_to_rate_incidents['Remarks'],order=Hard_to_rate_incidents['Remarks'].value_counts().index,saturation=10)\n",
    "plt.xticks(rotation=30)\n",
    "plt.title(\"Reviewers involved in hard to rate incidents in March 2021\",color='black')\n",
    "for p in splot.patches:\n",
    "    splot.annotate(format(p.get_height(), '.0f'), (p.get_x() + p.get_width() / 2., p.get_height()), ha = 'center', va = 'center', xytext = (0, 2),textcoords = 'offset points',rotation=20)\n",
    "plt.show()"
   ]
  },
  {
   "cell_type": "code",
   "execution_count": 93,
   "metadata": {},
   "outputs": [
    {
     "data": {
      "text/plain": [
       "2"
      ]
     },
     "execution_count": 93,
     "metadata": {},
     "output_type": "execute_result"
    }
   ],
   "source": [
    "Hard_to_rate_incidents['Remarks'].count()"
   ]
  },
  {
   "cell_type": "markdown",
   "metadata": {},
   "source": [
    "## 6) Analysis of the ratings and remarks in the month of April 2021"
   ]
  },
  {
   "cell_type": "code",
   "execution_count": 94,
   "metadata": {},
   "outputs": [
    {
     "data": {
      "text/html": [
       "<div>\n",
       "<style scoped>\n",
       "    .dataframe tbody tr th:only-of-type {\n",
       "        vertical-align: middle;\n",
       "    }\n",
       "\n",
       "    .dataframe tbody tr th {\n",
       "        vertical-align: top;\n",
       "    }\n",
       "\n",
       "    .dataframe thead th {\n",
       "        text-align: right;\n",
       "    }\n",
       "</style>\n",
       "<table border=\"1\" class=\"dataframe\">\n",
       "  <thead>\n",
       "    <tr style=\"text-align: right;\">\n",
       "      <th></th>\n",
       "      <th>Date</th>\n",
       "      <th>Link to incident</th>\n",
       "      <th>link to slack</th>\n",
       "      <th>Rating</th>\n",
       "      <th>Remarks</th>\n",
       "    </tr>\n",
       "  </thead>\n",
       "  <tbody>\n",
       "    <tr>\n",
       "      <th>149</th>\n",
       "      <td>2021-04-04</td>\n",
       "      <td>https://dashboard.jp.getnexar.com/reviewer/inc...</td>\n",
       "      <td>https://nexar.slack.com/archives/G01EY2XN6MC/p...</td>\n",
       "      <td>Wrong rating - Accident</td>\n",
       "      <td>Shivam</td>\n",
       "    </tr>\n",
       "    <tr>\n",
       "      <th>150</th>\n",
       "      <td>2021-04-04</td>\n",
       "      <td>https://dashboard.jp.getnexar.com/reviewer/inc...</td>\n",
       "      <td>https://nexar.slack.com/archives/G01EY2XN6MC/p...</td>\n",
       "      <td>Wrong rating - Accident</td>\n",
       "      <td>Aparna</td>\n",
       "    </tr>\n",
       "    <tr>\n",
       "      <th>151</th>\n",
       "      <td>2021-04-04</td>\n",
       "      <td>https://dashboard.jp.getnexar.com/reviewer/inc...</td>\n",
       "      <td>https://nexar.slack.com/archives/G01EY2XN6MC/p...</td>\n",
       "      <td>Wrong rating - No accident</td>\n",
       "      <td>NaN</td>\n",
       "    </tr>\n",
       "    <tr>\n",
       "      <th>152</th>\n",
       "      <td>2021-04-05</td>\n",
       "      <td>https://dashboard.jp.getnexar.com/reviewer/inc...</td>\n",
       "      <td>https://nexar.slack.com/archives/G01EY2XN6MC/p...</td>\n",
       "      <td>Wrong rating - No accident</td>\n",
       "      <td>Leenu</td>\n",
       "    </tr>\n",
       "    <tr>\n",
       "      <th>153</th>\n",
       "      <td>2021-04-05</td>\n",
       "      <td>https://dashboard.jp.getnexar.com/reviewer/inc...</td>\n",
       "      <td>https://nexar.slack.com/archives/G01EY2XN6MC/p...</td>\n",
       "      <td>Wrong rating - No accident</td>\n",
       "      <td>Shiva Kumar</td>\n",
       "    </tr>\n",
       "  </tbody>\n",
       "</table>\n",
       "</div>"
      ],
      "text/plain": [
       "          Date                                   Link to incident  \\\n",
       "149 2021-04-04  https://dashboard.jp.getnexar.com/reviewer/inc...   \n",
       "150 2021-04-04  https://dashboard.jp.getnexar.com/reviewer/inc...   \n",
       "151 2021-04-04  https://dashboard.jp.getnexar.com/reviewer/inc...   \n",
       "152 2021-04-05  https://dashboard.jp.getnexar.com/reviewer/inc...   \n",
       "153 2021-04-05  https://dashboard.jp.getnexar.com/reviewer/inc...   \n",
       "\n",
       "                                        link to slack   \\\n",
       "149  https://nexar.slack.com/archives/G01EY2XN6MC/p...   \n",
       "150  https://nexar.slack.com/archives/G01EY2XN6MC/p...   \n",
       "151  https://nexar.slack.com/archives/G01EY2XN6MC/p...   \n",
       "152  https://nexar.slack.com/archives/G01EY2XN6MC/p...   \n",
       "153  https://nexar.slack.com/archives/G01EY2XN6MC/p...   \n",
       "\n",
       "                         Rating      Remarks  \n",
       "149     Wrong rating - Accident       Shivam  \n",
       "150     Wrong rating - Accident       Aparna  \n",
       "151  Wrong rating - No accident          NaN  \n",
       "152  Wrong rating - No accident        Leenu  \n",
       "153  Wrong rating - No accident  Shiva Kumar  "
      ]
     },
     "execution_count": 94,
     "metadata": {},
     "output_type": "execute_result"
    }
   ],
   "source": [
    "data_reviewers_support_April=data_reviewers_support[(data_reviewers_support['Date'] >= '2021-04-01') & (data_reviewers_support['Date'] <= '2021-04-30')]\n",
    "data_reviewers_support_April.head()"
   ]
  },
  {
   "cell_type": "code",
   "execution_count": 95,
   "metadata": {},
   "outputs": [
    {
     "data": {
      "text/plain": [
       "(24, 5)"
      ]
     },
     "execution_count": 95,
     "metadata": {},
     "output_type": "execute_result"
    }
   ],
   "source": [
    "data_reviewers_support_April.shape"
   ]
  },
  {
   "cell_type": "code",
   "execution_count": 96,
   "metadata": {},
   "outputs": [
    {
     "data": {
      "text/plain": [
       "120"
      ]
     },
     "execution_count": 96,
     "metadata": {},
     "output_type": "execute_result"
    }
   ],
   "source": [
    "data_reviewers_support_April.size"
   ]
  },
  {
   "cell_type": "code",
   "execution_count": 97,
   "metadata": {},
   "outputs": [
    {
     "data": {
      "text/html": [
       "<div>\n",
       "<style scoped>\n",
       "    .dataframe tbody tr th:only-of-type {\n",
       "        vertical-align: middle;\n",
       "    }\n",
       "\n",
       "    .dataframe tbody tr th {\n",
       "        vertical-align: top;\n",
       "    }\n",
       "\n",
       "    .dataframe thead th {\n",
       "        text-align: right;\n",
       "    }\n",
       "</style>\n",
       "<table border=\"1\" class=\"dataframe\">\n",
       "  <thead>\n",
       "    <tr style=\"text-align: right;\">\n",
       "      <th></th>\n",
       "      <th>Date</th>\n",
       "      <th>Link to incident</th>\n",
       "      <th>link to slack</th>\n",
       "      <th>Rating</th>\n",
       "      <th>Remarks</th>\n",
       "    </tr>\n",
       "  </thead>\n",
       "  <tbody>\n",
       "    <tr>\n",
       "      <th>0</th>\n",
       "      <td>0</td>\n",
       "      <td>3</td>\n",
       "      <td>0</td>\n",
       "      <td>0</td>\n",
       "      <td>2</td>\n",
       "    </tr>\n",
       "  </tbody>\n",
       "</table>\n",
       "</div>"
      ],
      "text/plain": [
       "   Date  Link to incident  link to slack   Rating  Remarks\n",
       "0     0                 3               0       0        2"
      ]
     },
     "execution_count": 97,
     "metadata": {},
     "output_type": "execute_result"
    }
   ],
   "source": [
    "data_reviewers_support_April.isna().sum().to_frame().T"
   ]
  },
  {
   "cell_type": "markdown",
   "metadata": {},
   "source": [
    "#### Checking total false alarms in the month of April 2021"
   ]
  },
  {
   "cell_type": "code",
   "execution_count": 98,
   "metadata": {},
   "outputs": [
    {
     "data": {
      "text/plain": [
       "array(['Wrong rating - Accident', 'Wrong rating - No accident',\n",
       "       'https://nexar.slack.com/archives/C01ESDUFXT4/p1618183873342900',\n",
       "       'https://nexar.slack.com/archives/C01ESDUFXT4/p1618180258339300',\n",
       "       'https://nexar.slack.com/archives/C01ESDUFXT4/p1618250542409700'],\n",
       "      dtype=object)"
      ]
     },
     "execution_count": 98,
     "metadata": {},
     "output_type": "execute_result"
    }
   ],
   "source": [
    "data_reviewers_support_April['Rating'].unique()"
   ]
  },
  {
   "cell_type": "code",
   "execution_count": 99,
   "metadata": {},
   "outputs": [
    {
     "data": {
      "text/plain": [
       "Wrong rating - Accident                                           13\n",
       "Wrong rating - No accident                                         8\n",
       "https://nexar.slack.com/archives/C01ESDUFXT4/p1618180258339300     1\n",
       "https://nexar.slack.com/archives/C01ESDUFXT4/p1618250542409700     1\n",
       "https://nexar.slack.com/archives/C01ESDUFXT4/p1618183873342900     1\n",
       "Name: Rating, dtype: int64"
      ]
     },
     "execution_count": 99,
     "metadata": {},
     "output_type": "execute_result"
    }
   ],
   "source": [
    "data_reviewers_support_April['Rating'].value_counts()"
   ]
  },
  {
   "cell_type": "code",
   "execution_count": 100,
   "metadata": {},
   "outputs": [
    {
     "data": {
      "image/png": "[encoded data removed]",
      "text/plain": [
       "<Figure size 360x144 with 1 Axes>"
      ]
     },
     "metadata": {
      "needs_background": "light"
     },
     "output_type": "display_data"
    }
   ],
   "source": [
    "x=data_reviewers_support_April['Rating'].value_counts()\n",
    "plt.figure(figsize=(5,2))\n",
    "plt.plot(x,color='aqua', marker='o', linestyle='dashed',linewidth=2, markersize=5)\n",
    "plt.xticks(rotation=90)\n",
    "plt.title(\"Total number of False alarms in April 2021\",color='black')\n",
    "for i, v in enumerate(x):\n",
    "    plt.text(i, v+0.2, \"%d\" %v, ha=\"center\",fontdict={'fontsize':'13'})\n",
    "plt.show()"
   ]
  },
  {
   "cell_type": "code",
   "execution_count": 101,
   "metadata": {},
   "outputs": [
    {
     "data": {
      "text/plain": [
       "24"
      ]
     },
     "execution_count": 101,
     "metadata": {},
     "output_type": "execute_result"
    }
   ],
   "source": [
    "data_reviewers_support_April['Rating'].count()"
   ]
  },
  {
   "cell_type": "markdown",
   "metadata": {},
   "source": [
    "#### Checking for the reviewers involved in the false alarms for the April 2021"
   ]
  },
  {
   "cell_type": "code",
   "execution_count": 102,
   "metadata": {},
   "outputs": [
    {
     "data": {
      "text/plain": [
       "array(['Shivam', 'Aparna', nan, 'Leenu', 'Shiva Kumar', 'Raushan',\n",
       "       'Shivam out for 1 hour', 'Shivam out for 25 mins',\n",
       "       'Shiva Kumar out for 36 mins', 'Yuvaraja', 'Rajeshwari',\n",
       "       'Mallikarjun'], dtype=object)"
      ]
     },
     "execution_count": 102,
     "metadata": {},
     "output_type": "execute_result"
    }
   ],
   "source": [
    "data_reviewers_support_April['Remarks'].unique()"
   ]
  },
  {
   "cell_type": "code",
   "execution_count": 103,
   "metadata": {},
   "outputs": [
    {
     "data": {
      "text/plain": [
       "Aparna                         6\n",
       "Raushan                        4\n",
       "Shiva Kumar                    2\n",
       "Shivam                         2\n",
       "Leenu                          2\n",
       "Mallikarjun                    1\n",
       "Shivam out for 1 hour          1\n",
       "Shiva Kumar out for 36 mins    1\n",
       "Rajeshwari                     1\n",
       "Yuvaraja                       1\n",
       "Shivam out for 25 mins         1\n",
       "Name: Remarks, dtype: int64"
      ]
     },
     "execution_count": 103,
     "metadata": {},
     "output_type": "execute_result"
    }
   ],
   "source": [
    "data_reviewers_support_April['Remarks'].value_counts()"
   ]
  },
  {
   "cell_type": "code",
   "execution_count": 104,
   "metadata": {},
   "outputs": [
    {
     "data": {
      "image/png": "[encoded data removed]",
      "text/plain": [
       "<Figure size 360x144 with 1 Axes>"
      ]
     },
     "metadata": {
      "needs_background": "light"
     },
     "output_type": "display_data"
    }
   ],
   "source": [
    "x=data_reviewers_support_April['Remarks'].value_counts()\n",
    "plt.figure(figsize=(5,2))\n",
    "plt.plot(x,color='navy', marker='o', linestyle='dashed',linewidth=2, markersize=5)\n",
    "plt.xticks(rotation=80)\n",
    "plt.title(\"Reviewers involved in False alarms in April 2021\",color='black')\n",
    "for i, v in enumerate(x):\n",
    "    plt.text(i, v+0.01, \"\\n%d\" %v, ha=\"center\",fontdict={'fontsize':'17'})\n",
    "plt.show()"
   ]
  },
  {
   "cell_type": "code",
   "execution_count": 105,
   "metadata": {},
   "outputs": [
    {
     "data": {
      "text/plain": [
       "22"
      ]
     },
     "execution_count": 105,
     "metadata": {},
     "output_type": "execute_result"
    }
   ],
   "source": [
    "data_reviewers_support_April['Remarks'].count()"
   ]
  },
  {
   "cell_type": "markdown",
   "metadata": {},
   "source": [
    "#### Counting the each reviewers false alarms for the April 2021\n",
    "#### 1) Wrong rating - Accident"
   ]
  },
  {
   "cell_type": "code",
   "execution_count": 106,
   "metadata": {},
   "outputs": [
    {
     "data": {
      "text/html": [
       "<div>\n",
       "<style scoped>\n",
       "    .dataframe tbody tr th:only-of-type {\n",
       "        vertical-align: middle;\n",
       "    }\n",
       "\n",
       "    .dataframe tbody tr th {\n",
       "        vertical-align: top;\n",
       "    }\n",
       "\n",
       "    .dataframe thead th {\n",
       "        text-align: right;\n",
       "    }\n",
       "</style>\n",
       "<table border=\"1\" class=\"dataframe\">\n",
       "  <thead>\n",
       "    <tr style=\"text-align: right;\">\n",
       "      <th></th>\n",
       "      <th>Date</th>\n",
       "      <th>Link to incident</th>\n",
       "      <th>link to slack</th>\n",
       "      <th>Rating</th>\n",
       "      <th>Remarks</th>\n",
       "    </tr>\n",
       "  </thead>\n",
       "  <tbody>\n",
       "    <tr>\n",
       "      <th>149</th>\n",
       "      <td>2021-04-04</td>\n",
       "      <td>https://dashboard.jp.getnexar.com/reviewer/inc...</td>\n",
       "      <td>https://nexar.slack.com/archives/G01EY2XN6MC/p...</td>\n",
       "      <td>Wrong rating - Accident</td>\n",
       "      <td>Shivam</td>\n",
       "    </tr>\n",
       "    <tr>\n",
       "      <th>150</th>\n",
       "      <td>2021-04-04</td>\n",
       "      <td>https://dashboard.jp.getnexar.com/reviewer/inc...</td>\n",
       "      <td>https://nexar.slack.com/archives/G01EY2XN6MC/p...</td>\n",
       "      <td>Wrong rating - Accident</td>\n",
       "      <td>Aparna</td>\n",
       "    </tr>\n",
       "    <tr>\n",
       "      <th>156</th>\n",
       "      <td>2021-04-07</td>\n",
       "      <td>https://dashboard.jp.getnexar.com/reviewer/inc...</td>\n",
       "      <td>https://nexar.slack.com/archives/G01EY2XN6MC/p...</td>\n",
       "      <td>Wrong rating - Accident</td>\n",
       "      <td>Raushan</td>\n",
       "    </tr>\n",
       "    <tr>\n",
       "      <th>157</th>\n",
       "      <td>2021-04-07</td>\n",
       "      <td>https://dashboard.jp.getnexar.com/reviewer/inc...</td>\n",
       "      <td>https://nexar.slack.com/archives/G01EY2XN6MC/p...</td>\n",
       "      <td>Wrong rating - Accident</td>\n",
       "      <td>Aparna</td>\n",
       "    </tr>\n",
       "    <tr>\n",
       "      <th>160</th>\n",
       "      <td>2021-04-10</td>\n",
       "      <td>https://dashboard.jp.getnexar.com/reviewer/rev...</td>\n",
       "      <td>https://nexar.slack.com/archives/C01DNQHQVK2/p...</td>\n",
       "      <td>Wrong rating - Accident</td>\n",
       "      <td>Raushan</td>\n",
       "    </tr>\n",
       "    <tr>\n",
       "      <th>161</th>\n",
       "      <td>2021-04-10</td>\n",
       "      <td>https://dashboard.jp.getnexar.com/reviewer/rev...</td>\n",
       "      <td>https://nexar.slack.com/archives/C01DNQHQVK2/p...</td>\n",
       "      <td>Wrong rating - Accident</td>\n",
       "      <td>Aparna</td>\n",
       "    </tr>\n",
       "    <tr>\n",
       "      <th>162</th>\n",
       "      <td>2021-04-11</td>\n",
       "      <td>https://dashboard.jp.getnexar.com/reviewer/rev...</td>\n",
       "      <td>https://nexar.slack.com/archives/C01DNQHQVK2/p...</td>\n",
       "      <td>Wrong rating - Accident</td>\n",
       "      <td>NaN</td>\n",
       "    </tr>\n",
       "    <tr>\n",
       "      <th>166</th>\n",
       "      <td>2021-04-14</td>\n",
       "      <td>https://dashboard.jp.getnexar.com/reviewer/inc...</td>\n",
       "      <td>https://nexar.slack.com/archives/G01EY2XN6MC/p...</td>\n",
       "      <td>Wrong rating - Accident</td>\n",
       "      <td>Raushan</td>\n",
       "    </tr>\n",
       "    <tr>\n",
       "      <th>167</th>\n",
       "      <td>2021-04-14</td>\n",
       "      <td>https://dashboard.jp.getnexar.com/reviewer/inc...</td>\n",
       "      <td>https://nexar.slack.com/archives/G01EY2XN6MC/p...</td>\n",
       "      <td>Wrong rating - Accident</td>\n",
       "      <td>Aparna</td>\n",
       "    </tr>\n",
       "    <tr>\n",
       "      <th>168</th>\n",
       "      <td>2021-04-15</td>\n",
       "      <td>https://dashboard.jp.getnexar.com/reviewer/inc...</td>\n",
       "      <td>https://nexar.slack.com/archives/C01DNQHQVK2/p...</td>\n",
       "      <td>Wrong rating - Accident</td>\n",
       "      <td>Shivam</td>\n",
       "    </tr>\n",
       "    <tr>\n",
       "      <th>169</th>\n",
       "      <td>2021-04-15</td>\n",
       "      <td>https://dashboard.jp.getnexar.com/reviewer/inc...</td>\n",
       "      <td>https://nexar.slack.com/archives/C01DNQHQVK2/p...</td>\n",
       "      <td>Wrong rating - Accident</td>\n",
       "      <td>Aparna</td>\n",
       "    </tr>\n",
       "    <tr>\n",
       "      <th>171</th>\n",
       "      <td>2021-04-16</td>\n",
       "      <td>https://dashboard.jp.getnexar.com/reviewer/rev...</td>\n",
       "      <td>https://nexar.slack.com/archives/G01EY2XN6MC/p...</td>\n",
       "      <td>Wrong rating - Accident</td>\n",
       "      <td>Rajeshwari</td>\n",
       "    </tr>\n",
       "    <tr>\n",
       "      <th>172</th>\n",
       "      <td>2021-04-17</td>\n",
       "      <td>https://dashboard.jp.getnexar.com/reviewer/rev...</td>\n",
       "      <td>https://nexar.slack.com/archives/G01EY2XN6MC/p...</td>\n",
       "      <td>Wrong rating - Accident</td>\n",
       "      <td>Mallikarjun</td>\n",
       "    </tr>\n",
       "  </tbody>\n",
       "</table>\n",
       "</div>"
      ],
      "text/plain": [
       "          Date                                   Link to incident  \\\n",
       "149 2021-04-04  https://dashboard.jp.getnexar.com/reviewer/inc...   \n",
       "150 2021-04-04  https://dashboard.jp.getnexar.com/reviewer/inc...   \n",
       "156 2021-04-07  https://dashboard.jp.getnexar.com/reviewer/inc...   \n",
       "157 2021-04-07  https://dashboard.jp.getnexar.com/reviewer/inc...   \n",
       "160 2021-04-10  https://dashboard.jp.getnexar.com/reviewer/rev...   \n",
       "161 2021-04-10  https://dashboard.jp.getnexar.com/reviewer/rev...   \n",
       "162 2021-04-11  https://dashboard.jp.getnexar.com/reviewer/rev...   \n",
       "166 2021-04-14  https://dashboard.jp.getnexar.com/reviewer/inc...   \n",
       "167 2021-04-14  https://dashboard.jp.getnexar.com/reviewer/inc...   \n",
       "168 2021-04-15  https://dashboard.jp.getnexar.com/reviewer/inc...   \n",
       "169 2021-04-15  https://dashboard.jp.getnexar.com/reviewer/inc...   \n",
       "171 2021-04-16  https://dashboard.jp.getnexar.com/reviewer/rev...   \n",
       "172 2021-04-17  https://dashboard.jp.getnexar.com/reviewer/rev...   \n",
       "\n",
       "                                        link to slack   \\\n",
       "149  https://nexar.slack.com/archives/G01EY2XN6MC/p...   \n",
       "150  https://nexar.slack.com/archives/G01EY2XN6MC/p...   \n",
       "156  https://nexar.slack.com/archives/G01EY2XN6MC/p...   \n",
       "157  https://nexar.slack.com/archives/G01EY2XN6MC/p...   \n",
       "160  https://nexar.slack.com/archives/C01DNQHQVK2/p...   \n",
       "161  https://nexar.slack.com/archives/C01DNQHQVK2/p...   \n",
       "162  https://nexar.slack.com/archives/C01DNQHQVK2/p...   \n",
       "166  https://nexar.slack.com/archives/G01EY2XN6MC/p...   \n",
       "167  https://nexar.slack.com/archives/G01EY2XN6MC/p...   \n",
       "168  https://nexar.slack.com/archives/C01DNQHQVK2/p...   \n",
       "169  https://nexar.slack.com/archives/C01DNQHQVK2/p...   \n",
       "171  https://nexar.slack.com/archives/G01EY2XN6MC/p...   \n",
       "172  https://nexar.slack.com/archives/G01EY2XN6MC/p...   \n",
       "\n",
       "                      Rating      Remarks  \n",
       "149  Wrong rating - Accident       Shivam  \n",
       "150  Wrong rating - Accident       Aparna  \n",
       "156  Wrong rating - Accident      Raushan  \n",
       "157  Wrong rating - Accident       Aparna  \n",
       "160  Wrong rating - Accident      Raushan  \n",
       "161  Wrong rating - Accident       Aparna  \n",
       "162  Wrong rating - Accident          NaN  \n",
       "166  Wrong rating - Accident      Raushan  \n",
       "167  Wrong rating - Accident       Aparna  \n",
       "168  Wrong rating - Accident       Shivam  \n",
       "169  Wrong rating - Accident       Aparna  \n",
       "171  Wrong rating - Accident   Rajeshwari  \n",
       "172  Wrong rating - Accident  Mallikarjun  "
      ]
     },
     "execution_count": 106,
     "metadata": {},
     "output_type": "execute_result"
    }
   ],
   "source": [
    "wrong_rating_accident= data_reviewers_support_April[(data_reviewers_support_April['Rating']=='Wrong rating - Accident')]\n",
    "wrong_rating_accident"
   ]
  },
  {
   "cell_type": "code",
   "execution_count": 107,
   "metadata": {},
   "outputs": [
    {
     "data": {
      "text/plain": [
       "Aparna         5\n",
       "Raushan        3\n",
       "Shivam         2\n",
       "Rajeshwari     1\n",
       "Mallikarjun    1\n",
       "Name: Remarks, dtype: int64"
      ]
     },
     "execution_count": 107,
     "metadata": {},
     "output_type": "execute_result"
    }
   ],
   "source": [
    "wrong_rating_accident['Remarks'].value_counts()"
   ]
  },
  {
   "cell_type": "code",
   "execution_count": 108,
   "metadata": {},
   "outputs": [
    {
     "data": {
      "image/png": "[encoded data removed]",
      "text/plain": [
       "<Figure size 360x144 with 1 Axes>"
      ]
     },
     "metadata": {
      "needs_background": "light"
     },
     "output_type": "display_data"
    }
   ],
   "source": [
    "x=wrong_rating_accident['Remarks'].value_counts()\n",
    "plt.figure(figsize=(5,2))\n",
    "plt.plot(x,color='lime', marker='o', linestyle='dashed',linewidth=2, markersize=5)\n",
    "plt.xticks(rotation=80)\n",
    "plt.title(\"Reviewers involved in wrong rating accident in April 2021\",color='black')\n",
    "for i, v in enumerate(x):\n",
    "    plt.text(i, v+0.02, \"\\n%d\" %v, ha=\"center\",fontdict={'fontsize':'13'})\n",
    "plt.show()"
   ]
  },
  {
   "cell_type": "code",
   "execution_count": 109,
   "metadata": {},
   "outputs": [
    {
     "data": {
      "text/plain": [
       "12"
      ]
     },
     "execution_count": 109,
     "metadata": {},
     "output_type": "execute_result"
    }
   ],
   "source": [
    "wrong_rating_accident['Remarks'].count()"
   ]
  },
  {
   "cell_type": "markdown",
   "metadata": {},
   "source": [
    "#### 2) Wrong rating - No accident"
   ]
  },
  {
   "cell_type": "code",
   "execution_count": 110,
   "metadata": {},
   "outputs": [
    {
     "data": {
      "text/html": [
       "<div>\n",
       "<style scoped>\n",
       "    .dataframe tbody tr th:only-of-type {\n",
       "        vertical-align: middle;\n",
       "    }\n",
       "\n",
       "    .dataframe tbody tr th {\n",
       "        vertical-align: top;\n",
       "    }\n",
       "\n",
       "    .dataframe thead th {\n",
       "        text-align: right;\n",
       "    }\n",
       "</style>\n",
       "<table border=\"1\" class=\"dataframe\">\n",
       "  <thead>\n",
       "    <tr style=\"text-align: right;\">\n",
       "      <th></th>\n",
       "      <th>Date</th>\n",
       "      <th>Link to incident</th>\n",
       "      <th>link to slack</th>\n",
       "      <th>Rating</th>\n",
       "      <th>Remarks</th>\n",
       "    </tr>\n",
       "  </thead>\n",
       "  <tbody>\n",
       "    <tr>\n",
       "      <th>151</th>\n",
       "      <td>2021-04-04</td>\n",
       "      <td>https://dashboard.jp.getnexar.com/reviewer/inc...</td>\n",
       "      <td>https://nexar.slack.com/archives/G01EY2XN6MC/p...</td>\n",
       "      <td>Wrong rating - No accident</td>\n",
       "      <td>NaN</td>\n",
       "    </tr>\n",
       "    <tr>\n",
       "      <th>152</th>\n",
       "      <td>2021-04-05</td>\n",
       "      <td>https://dashboard.jp.getnexar.com/reviewer/inc...</td>\n",
       "      <td>https://nexar.slack.com/archives/G01EY2XN6MC/p...</td>\n",
       "      <td>Wrong rating - No accident</td>\n",
       "      <td>Leenu</td>\n",
       "    </tr>\n",
       "    <tr>\n",
       "      <th>153</th>\n",
       "      <td>2021-04-05</td>\n",
       "      <td>https://dashboard.jp.getnexar.com/reviewer/inc...</td>\n",
       "      <td>https://nexar.slack.com/archives/G01EY2XN6MC/p...</td>\n",
       "      <td>Wrong rating - No accident</td>\n",
       "      <td>Shiva Kumar</td>\n",
       "    </tr>\n",
       "    <tr>\n",
       "      <th>154</th>\n",
       "      <td>2021-04-06</td>\n",
       "      <td>https://dashboard.jp.getnexar.com/reviewer/inc...</td>\n",
       "      <td>https://nexar.slack.com/archives/G01EY2XN6MC/p...</td>\n",
       "      <td>Wrong rating - No accident</td>\n",
       "      <td>Leenu</td>\n",
       "    </tr>\n",
       "    <tr>\n",
       "      <th>155</th>\n",
       "      <td>2021-04-06</td>\n",
       "      <td>https://dashboard.jp.getnexar.com/reviewer/inc...</td>\n",
       "      <td>https://nexar.slack.com/archives/G01EY2XN6MC/p...</td>\n",
       "      <td>Wrong rating - No accident</td>\n",
       "      <td>Shiva Kumar</td>\n",
       "    </tr>\n",
       "    <tr>\n",
       "      <th>158</th>\n",
       "      <td>2021-04-08</td>\n",
       "      <td>https://dashboard.jp.getnexar.com/reviewer/inc...</td>\n",
       "      <td>https://nexar.slack.com/archives/G01EY2XN6MC/p...</td>\n",
       "      <td>Wrong rating - No accident</td>\n",
       "      <td>Raushan</td>\n",
       "    </tr>\n",
       "    <tr>\n",
       "      <th>159</th>\n",
       "      <td>2021-04-08</td>\n",
       "      <td>https://dashboard.jp.getnexar.com/reviewer/inc...</td>\n",
       "      <td>https://nexar.slack.com/archives/G01EY2XN6MC/p...</td>\n",
       "      <td>Wrong rating - No accident</td>\n",
       "      <td>Aparna</td>\n",
       "    </tr>\n",
       "    <tr>\n",
       "      <th>170</th>\n",
       "      <td>2021-04-15</td>\n",
       "      <td>https://dashboard.jp.getnexar.com/reviewer/inc...</td>\n",
       "      <td>https://nexar.slack.com/archives/G01EY2XN6MC/p...</td>\n",
       "      <td>Wrong rating - No accident</td>\n",
       "      <td>Yuvaraja</td>\n",
       "    </tr>\n",
       "  </tbody>\n",
       "</table>\n",
       "</div>"
      ],
      "text/plain": [
       "          Date                                   Link to incident  \\\n",
       "151 2021-04-04  https://dashboard.jp.getnexar.com/reviewer/inc...   \n",
       "152 2021-04-05  https://dashboard.jp.getnexar.com/reviewer/inc...   \n",
       "153 2021-04-05  https://dashboard.jp.getnexar.com/reviewer/inc...   \n",
       "154 2021-04-06  https://dashboard.jp.getnexar.com/reviewer/inc...   \n",
       "155 2021-04-06  https://dashboard.jp.getnexar.com/reviewer/inc...   \n",
       "158 2021-04-08  https://dashboard.jp.getnexar.com/reviewer/inc...   \n",
       "159 2021-04-08  https://dashboard.jp.getnexar.com/reviewer/inc...   \n",
       "170 2021-04-15  https://dashboard.jp.getnexar.com/reviewer/inc...   \n",
       "\n",
       "                                        link to slack   \\\n",
       "151  https://nexar.slack.com/archives/G01EY2XN6MC/p...   \n",
       "152  https://nexar.slack.com/archives/G01EY2XN6MC/p...   \n",
       "153  https://nexar.slack.com/archives/G01EY2XN6MC/p...   \n",
       "154  https://nexar.slack.com/archives/G01EY2XN6MC/p...   \n",
       "155  https://nexar.slack.com/archives/G01EY2XN6MC/p...   \n",
       "158  https://nexar.slack.com/archives/G01EY2XN6MC/p...   \n",
       "159  https://nexar.slack.com/archives/G01EY2XN6MC/p...   \n",
       "170  https://nexar.slack.com/archives/G01EY2XN6MC/p...   \n",
       "\n",
       "                         Rating      Remarks  \n",
       "151  Wrong rating - No accident          NaN  \n",
       "152  Wrong rating - No accident        Leenu  \n",
       "153  Wrong rating - No accident  Shiva Kumar  \n",
       "154  Wrong rating - No accident        Leenu  \n",
       "155  Wrong rating - No accident  Shiva Kumar  \n",
       "158  Wrong rating - No accident      Raushan  \n",
       "159  Wrong rating - No accident       Aparna  \n",
       "170  Wrong rating - No accident     Yuvaraja  "
      ]
     },
     "execution_count": 110,
     "metadata": {},
     "output_type": "execute_result"
    }
   ],
   "source": [
    "wrong_rating_no_accident= data_reviewers_support_April[(data_reviewers_support_April['Rating']=='Wrong rating - No accident')]\n",
    "wrong_rating_no_accident"
   ]
  },
  {
   "cell_type": "code",
   "execution_count": 111,
   "metadata": {},
   "outputs": [
    {
     "data": {
      "text/plain": [
       "Leenu          2\n",
       "Shiva Kumar    2\n",
       "Yuvaraja       1\n",
       "Raushan        1\n",
       "Aparna         1\n",
       "Name: Remarks, dtype: int64"
      ]
     },
     "execution_count": 111,
     "metadata": {},
     "output_type": "execute_result"
    }
   ],
   "source": [
    "wrong_rating_no_accident['Remarks'].value_counts()"
   ]
  },
  {
   "cell_type": "code",
   "execution_count": 112,
   "metadata": {},
   "outputs": [
    {
     "data": {
      "image/png": "[encoded data removed]",
      "text/plain": [
       "<Figure size 360x144 with 1 Axes>"
      ]
     },
     "metadata": {
      "needs_background": "light"
     },
     "output_type": "display_data"
    }
   ],
   "source": [
    "x=wrong_rating_no_accident['Remarks'].value_counts()\n",
    "plt.figure(figsize=(5,2))\n",
    "plt.plot(x,color='peru', marker='o', linestyle='dashed',linewidth=2, markersize=5)\n",
    "plt.xticks(rotation=80)\n",
    "plt.title(\"Reviewers involved in wrong rating no accident in April 2021\",color='black')\n",
    "for i, v in enumerate(x):\n",
    "    plt.text(i, v+0.2, \"\\n%d\" %v, ha=\"center\",fontdict={'fontsize':'16'})\n",
    "plt.show()"
   ]
  },
  {
   "cell_type": "code",
   "execution_count": 113,
   "metadata": {},
   "outputs": [
    {
     "data": {
      "text/plain": [
       "7"
      ]
     },
     "execution_count": 113,
     "metadata": {},
     "output_type": "execute_result"
    }
   ],
   "source": [
    "wrong_rating_no_accident['Remarks'].count()"
   ]
  },
  {
   "cell_type": "markdown",
   "metadata": {},
   "source": [
    "## 7) Total analysis of the ratings and remarks\n",
    "####  Checking total false alarms from January 2021 to April 2021"
   ]
  },
  {
   "cell_type": "code",
   "execution_count": 114,
   "metadata": {},
   "outputs": [
    {
     "data": {
      "text/plain": [
       "array(['Wrong rating - No accident', 'missed collision',\n",
       "       '1hr 04mins - 1 reviewer only', 'grabbed no submitted review',\n",
       "       '1hour to submit review',\n",
       "       '4:04 last submitted- 6:37 grabbed= 2h 33m',\n",
       "       'Wrong rating - Accident',\n",
       "       'P1 missed accident - review resubmitted',\n",
       "       'Hard to rate incidents', nan, 'last grabbed incident',\n",
       "       'https://nexar.slack.com/archives/C01ESDUFXT4/p1618183873342900',\n",
       "       'https://nexar.slack.com/archives/C01ESDUFXT4/p1618180258339300',\n",
       "       'https://nexar.slack.com/archives/C01ESDUFXT4/p1618250542409700'],\n",
       "      dtype=object)"
      ]
     },
     "execution_count": 114,
     "metadata": {},
     "output_type": "execute_result"
    }
   ],
   "source": [
    "data_reviewers_support['Rating'].unique()"
   ]
  },
  {
   "cell_type": "code",
   "execution_count": 115,
   "metadata": {},
   "outputs": [
    {
     "data": {
      "text/plain": [
       "Wrong rating - Accident                                           50\n",
       "Wrong rating - No accident                                        33\n",
       "missed collision                                                  32\n",
       "Hard to rate incidents                                             2\n",
       "last grabbed incident                                              2\n",
       "https://nexar.slack.com/archives/C01ESDUFXT4/p1618180258339300     1\n",
       "1hr 04mins - 1 reviewer only                                       1\n",
       "https://nexar.slack.com/archives/C01ESDUFXT4/p1618183873342900     1\n",
       "4:04 last submitted- 6:37 grabbed= 2h 33m                          1\n",
       "grabbed no submitted review                                        1\n",
       "https://nexar.slack.com/archives/C01ESDUFXT4/p1618250542409700     1\n",
       "1hour to submit review                                             1\n",
       "P1 missed accident - review resubmitted                            1\n",
       "Name: Rating, dtype: int64"
      ]
     },
     "execution_count": 115,
     "metadata": {},
     "output_type": "execute_result"
    }
   ],
   "source": [
    "data_reviewers_support['Rating'].value_counts()"
   ]
  },
  {
   "cell_type": "code",
   "execution_count": 116,
   "metadata": {},
   "outputs": [
    {
     "data": {
      "image/png": "[encoded data removed]",
      "text/plain": [
       "<Figure size 720x360 with 1 Axes>"
      ]
     },
     "metadata": {
      "needs_background": "light"
     },
     "output_type": "display_data"
    }
   ],
   "source": [
    "X=data_reviewers_support['Rating'].value_counts()\n",
    "plt.figure(figsize=(10,5))\n",
    "plt.plot(X,color='indigo', marker='o', linestyle='dashed',linewidth=3, markersize=7)\n",
    "plt.xticks(rotation=90)\n",
    "plt.title(\"Total number of False Alarms generated from January 2021 to April 2021\",color='black')\n",
    "plt.arrow(0, 43.1, 0, 5, head_width = 0.2,width = 0.05,ec ='red',fc='red')\n",
    "for i, v in enumerate(X):\n",
    "    plt.text(i, v+2.4, \"\\n%d\" %v, ha=\"center\",fontdict={'fontsize':'14'})\n",
    "plt.show()"
   ]
  },
  {
   "cell_type": "markdown",
   "metadata": {},
   "source": [
    "#### Checking for the reviewers involved in the false alarms from January 2021 to April 2021"
   ]
  },
  {
   "cell_type": "code",
   "execution_count": 117,
   "metadata": {
    "scrolled": true
   },
   "outputs": [
    {
     "data": {
      "text/plain": [
       "array(['Mallikarjun', 'Narendra', 'Yuvaraja', nan, 'Shiva Kumar',\n",
       "       'Shivam', 'Aparna', 'Rajeshwari', 'Kiran', 'Leenu', 'Raushan',\n",
       "       'Shivam out for 1 hour', 'Shivam out for 25 mins',\n",
       "       'Shiva Kumar out for 36 mins'], dtype=object)"
      ]
     },
     "execution_count": 117,
     "metadata": {},
     "output_type": "execute_result"
    }
   ],
   "source": [
    "data_reviewers_support['Remarks'].unique()"
   ]
  },
  {
   "cell_type": "code",
   "execution_count": 118,
   "metadata": {},
   "outputs": [
    {
     "data": {
      "text/plain": [
       "Aparna                         30\n",
       "Shivam                         24\n",
       "Yuvaraja                       14\n",
       "Narendra                       12\n",
       "Shiva Kumar                    10\n",
       "Kiran                          10\n",
       "Mallikarjun                     7\n",
       "Rajeshwari                      6\n",
       "Raushan                         4\n",
       "Leenu                           2\n",
       "Shivam out for 1 hour           1\n",
       "Shivam out for 25 mins          1\n",
       "Shiva Kumar out for 36 mins     1\n",
       "Name: Remarks, dtype: int64"
      ]
     },
     "execution_count": 118,
     "metadata": {},
     "output_type": "execute_result"
    }
   ],
   "source": [
    "data_reviewers_support['Remarks'].value_counts()"
   ]
  },
  {
   "cell_type": "code",
   "execution_count": 119,
   "metadata": {},
   "outputs": [
    {
     "data": {
      "image/png": "[encoded data removed]",
      "text/plain": [
       "<Figure size 720x720 with 1 Axes>"
      ]
     },
     "metadata": {
      "needs_background": "light"
     },
     "output_type": "display_data"
    }
   ],
   "source": [
    "X=data_reviewers_support['Remarks'].value_counts()\n",
    "plt.figure(figsize=(10,10))\n",
    "plt.plot(X,color='green', marker='o', linestyle='dashed',linewidth=2, markersize=5)\n",
    "plt.xticks(rotation=90)\n",
    "plt.arrow(0, 27.7, 0, 1.1, head_width = 0.15,width = 0.14,ec ='red',fc='red')\n",
    "plt.title(\"Reviewers involved in False Alarms generated from January 2021 to April 2021\",color='black')\n",
    "for i, v in enumerate(X):\n",
    "    plt.text(i, v+.4, \"\\n%d\" %v, ha=\"center\",fontdict={'fontsize':'14'})\n",
    "plt.show()"
   ]
  },
  {
   "cell_type": "markdown",
   "metadata": {},
   "source": [
    "#### Counting the each reviewers false alarms from January 2021 to April 2021\n",
    "#### 1) Wrong rating - Accident"
   ]
  },
  {
   "cell_type": "code",
   "execution_count": 120,
   "metadata": {},
   "outputs": [
    {
     "data": {
      "text/html": [
       "<div>\n",
       "<style scoped>\n",
       "    .dataframe tbody tr th:only-of-type {\n",
       "        vertical-align: middle;\n",
       "    }\n",
       "\n",
       "    .dataframe tbody tr th {\n",
       "        vertical-align: top;\n",
       "    }\n",
       "\n",
       "    .dataframe thead th {\n",
       "        text-align: right;\n",
       "    }\n",
       "</style>\n",
       "<table border=\"1\" class=\"dataframe\">\n",
       "  <thead>\n",
       "    <tr style=\"text-align: right;\">\n",
       "      <th></th>\n",
       "      <th>Date</th>\n",
       "      <th>Link to incident</th>\n",
       "      <th>link to slack</th>\n",
       "      <th>Rating</th>\n",
       "      <th>Remarks</th>\n",
       "    </tr>\n",
       "  </thead>\n",
       "  <tbody>\n",
       "    <tr>\n",
       "      <th>91</th>\n",
       "      <td>2021-02-27</td>\n",
       "      <td>https://dashboard.jp.getnexar.com/reviewer/rev...</td>\n",
       "      <td>https://nexar.slack.com/archives/C01DNQHQVK2/p...</td>\n",
       "      <td>Wrong rating - Accident</td>\n",
       "      <td>Kiran</td>\n",
       "    </tr>\n",
       "    <tr>\n",
       "      <th>92</th>\n",
       "      <td>2021-02-27</td>\n",
       "      <td>https://dashboard.jp.getnexar.com/reviewer/rev...</td>\n",
       "      <td>https://nexar.slack.com/archives/C01DNQHQVK2/p...</td>\n",
       "      <td>Wrong rating - Accident</td>\n",
       "      <td>Aparna</td>\n",
       "    </tr>\n",
       "    <tr>\n",
       "      <th>95</th>\n",
       "      <td>2021-03-02</td>\n",
       "      <td>https://dashboard.jp.getnexar.com/reviewer/rev...</td>\n",
       "      <td>https://nexar.slack.com/archives/G01EY2XN6MC/p...</td>\n",
       "      <td>Wrong rating - Accident</td>\n",
       "      <td>Aparna</td>\n",
       "    </tr>\n",
       "    <tr>\n",
       "      <th>96</th>\n",
       "      <td>2021-03-02</td>\n",
       "      <td>https://dashboard.jp.getnexar.com/reviewer/rev...</td>\n",
       "      <td>https://nexar.slack.com/archives/G01EY2XN6MC/p...</td>\n",
       "      <td>Wrong rating - Accident</td>\n",
       "      <td>Shivam</td>\n",
       "    </tr>\n",
       "    <tr>\n",
       "      <th>97</th>\n",
       "      <td>2021-03-03</td>\n",
       "      <td>https://dashboard.jp.getnexar.com/reviewer/rev...</td>\n",
       "      <td>https://nexar.slack.com/archives/C01DNQHQVK2/p...</td>\n",
       "      <td>Wrong rating - Accident</td>\n",
       "      <td>Narendra</td>\n",
       "    </tr>\n",
       "  </tbody>\n",
       "</table>\n",
       "</div>"
      ],
      "text/plain": [
       "         Date                                   Link to incident  \\\n",
       "91 2021-02-27  https://dashboard.jp.getnexar.com/reviewer/rev...   \n",
       "92 2021-02-27  https://dashboard.jp.getnexar.com/reviewer/rev...   \n",
       "95 2021-03-02  https://dashboard.jp.getnexar.com/reviewer/rev...   \n",
       "96 2021-03-02  https://dashboard.jp.getnexar.com/reviewer/rev...   \n",
       "97 2021-03-03  https://dashboard.jp.getnexar.com/reviewer/rev...   \n",
       "\n",
       "                                       link to slack   \\\n",
       "91  https://nexar.slack.com/archives/C01DNQHQVK2/p...   \n",
       "92  https://nexar.slack.com/archives/C01DNQHQVK2/p...   \n",
       "95  https://nexar.slack.com/archives/G01EY2XN6MC/p...   \n",
       "96  https://nexar.slack.com/archives/G01EY2XN6MC/p...   \n",
       "97  https://nexar.slack.com/archives/C01DNQHQVK2/p...   \n",
       "\n",
       "                     Rating   Remarks  \n",
       "91  Wrong rating - Accident     Kiran  \n",
       "92  Wrong rating - Accident    Aparna  \n",
       "95  Wrong rating - Accident    Aparna  \n",
       "96  Wrong rating - Accident    Shivam  \n",
       "97  Wrong rating - Accident  Narendra  "
      ]
     },
     "execution_count": 120,
     "metadata": {},
     "output_type": "execute_result"
    }
   ],
   "source": [
    "wrong_rating_accident= data_reviewers_support[(data_reviewers_support['Rating']=='Wrong rating - Accident')]\n",
    "wrong_rating_accident.head()"
   ]
  },
  {
   "cell_type": "code",
   "execution_count": 121,
   "metadata": {},
   "outputs": [
    {
     "data": {
      "text/plain": [
       "Aparna         15\n",
       "Shivam         10\n",
       "Kiran           6\n",
       "Narendra        5\n",
       "Shiva Kumar     3\n",
       "Raushan         3\n",
       "Rajeshwari      3\n",
       "Mallikarjun     2\n",
       "Yuvaraja        2\n",
       "Name: Remarks, dtype: int64"
      ]
     },
     "execution_count": 121,
     "metadata": {},
     "output_type": "execute_result"
    }
   ],
   "source": [
    "wrong_rating_accident['Remarks'].value_counts()"
   ]
  },
  {
   "cell_type": "code",
   "execution_count": 122,
   "metadata": {},
   "outputs": [
    {
     "data": {
      "image/png": "[encoded data removed]",
      "text/plain": [
       "<Figure size 360x144 with 1 Axes>"
      ]
     },
     "metadata": {
      "needs_background": "light"
     },
     "output_type": "display_data"
    }
   ],
   "source": [
    "X=wrong_rating_accident['Remarks'].value_counts()\n",
    "plt.figure(figsize=(5,2))\n",
    "plt.plot(X,color='coral', marker='o', linestyle='dashed',linewidth=2, markersize=5)\n",
    "plt.xticks(rotation=90)\n",
    "plt.title(\"Reviewers involved in wrong rating accident from January 2021 to April 2021\",color='black')\n",
    "plt.arrow(0, 1.7, 0, 1.9, head_width = 0.15,width = 0.04,ec ='red',fc='red')\n",
    "for i, v in enumerate(X):\n",
    "    plt.text(i, v+0.04, \"\\n%d\" %v, ha=\"center\",fontdict={'fontsize':'14'})\n",
    "plt.show()"
   ]
  },
  {
   "cell_type": "code",
   "execution_count": 123,
   "metadata": {},
   "outputs": [
    {
     "data": {
      "text/plain": [
       "49"
      ]
     },
     "execution_count": 123,
     "metadata": {},
     "output_type": "execute_result"
    }
   ],
   "source": [
    "wrong_rating_accident['Remarks'].count()"
   ]
  },
  {
   "cell_type": "markdown",
   "metadata": {},
   "source": [
    "#### 2) Wrong rating - No accident"
   ]
  },
  {
   "cell_type": "code",
   "execution_count": 124,
   "metadata": {},
   "outputs": [
    {
     "data": {
      "text/html": [
       "<div>\n",
       "<style scoped>\n",
       "    .dataframe tbody tr th:only-of-type {\n",
       "        vertical-align: middle;\n",
       "    }\n",
       "\n",
       "    .dataframe tbody tr th {\n",
       "        vertical-align: top;\n",
       "    }\n",
       "\n",
       "    .dataframe thead th {\n",
       "        text-align: right;\n",
       "    }\n",
       "</style>\n",
       "<table border=\"1\" class=\"dataframe\">\n",
       "  <thead>\n",
       "    <tr style=\"text-align: right;\">\n",
       "      <th></th>\n",
       "      <th>Date</th>\n",
       "      <th>Link to incident</th>\n",
       "      <th>link to slack</th>\n",
       "      <th>Rating</th>\n",
       "      <th>Remarks</th>\n",
       "    </tr>\n",
       "  </thead>\n",
       "  <tbody>\n",
       "    <tr>\n",
       "      <th>45</th>\n",
       "      <td>2021-01-22</td>\n",
       "      <td>https://dashboard.jp.getnexar.com/reviewer/rev...</td>\n",
       "      <td>https://nexar.slack.com/archives/G01EY2XN6MC/p...</td>\n",
       "      <td>Wrong rating - No accident</td>\n",
       "      <td>Mallikarjun</td>\n",
       "    </tr>\n",
       "    <tr>\n",
       "      <th>55</th>\n",
       "      <td>2021-01-29</td>\n",
       "      <td>https://dashboard.jp.getnexar.com/reviewer/rev...</td>\n",
       "      <td>https://nexar.slack.com/archives/G01EY2XN6MC/p...</td>\n",
       "      <td>Wrong rating - No accident</td>\n",
       "      <td>Narendra</td>\n",
       "    </tr>\n",
       "    <tr>\n",
       "      <th>65</th>\n",
       "      <td>2021-02-04</td>\n",
       "      <td>https://dashboard.jp.getnexar.com/reviewer/rev...</td>\n",
       "      <td>https://nexar.slack.com/archives/G01EY2XN6MC/p...</td>\n",
       "      <td>Wrong rating - No accident</td>\n",
       "      <td>Shivam</td>\n",
       "    </tr>\n",
       "    <tr>\n",
       "      <th>66</th>\n",
       "      <td>2021-02-04</td>\n",
       "      <td>https://dashboard.jp.getnexar.com/reviewer/rev...</td>\n",
       "      <td>https://nexar.slack.com/archives/G01EY2XN6MC/p...</td>\n",
       "      <td>Wrong rating - No accident</td>\n",
       "      <td>Aparna</td>\n",
       "    </tr>\n",
       "    <tr>\n",
       "      <th>67</th>\n",
       "      <td>2021-02-04</td>\n",
       "      <td>NaN</td>\n",
       "      <td>https://nexar.slack.com/archives/G01EY2XN6MC/p...</td>\n",
       "      <td>Wrong rating - No accident</td>\n",
       "      <td>Shivam</td>\n",
       "    </tr>\n",
       "  </tbody>\n",
       "</table>\n",
       "</div>"
      ],
      "text/plain": [
       "         Date                                   Link to incident  \\\n",
       "45 2021-01-22  https://dashboard.jp.getnexar.com/reviewer/rev...   \n",
       "55 2021-01-29  https://dashboard.jp.getnexar.com/reviewer/rev...   \n",
       "65 2021-02-04  https://dashboard.jp.getnexar.com/reviewer/rev...   \n",
       "66 2021-02-04  https://dashboard.jp.getnexar.com/reviewer/rev...   \n",
       "67 2021-02-04                                                NaN   \n",
       "\n",
       "                                       link to slack   \\\n",
       "45  https://nexar.slack.com/archives/G01EY2XN6MC/p...   \n",
       "55  https://nexar.slack.com/archives/G01EY2XN6MC/p...   \n",
       "65  https://nexar.slack.com/archives/G01EY2XN6MC/p...   \n",
       "66  https://nexar.slack.com/archives/G01EY2XN6MC/p...   \n",
       "67  https://nexar.slack.com/archives/G01EY2XN6MC/p...   \n",
       "\n",
       "                        Rating      Remarks  \n",
       "45  Wrong rating - No accident  Mallikarjun  \n",
       "55  Wrong rating - No accident     Narendra  \n",
       "65  Wrong rating - No accident       Shivam  \n",
       "66  Wrong rating - No accident       Aparna  \n",
       "67  Wrong rating - No accident       Shivam  "
      ]
     },
     "execution_count": 124,
     "metadata": {},
     "output_type": "execute_result"
    }
   ],
   "source": [
    "wrong_rating_no_accident= data_reviewers_support[(data_reviewers_support['Rating']=='Wrong rating - No accident')]\n",
    "wrong_rating_no_accident.head()"
   ]
  },
  {
   "cell_type": "code",
   "execution_count": 125,
   "metadata": {},
   "outputs": [
    {
     "data": {
      "text/plain": [
       "Aparna         7\n",
       "Shivam         7\n",
       "Yuvaraja       5\n",
       "Kiran          3\n",
       "Shiva Kumar    3\n",
       "Leenu          2\n",
       "Narendra       2\n",
       "Mallikarjun    2\n",
       "Raushan        1\n",
       "Name: Remarks, dtype: int64"
      ]
     },
     "execution_count": 125,
     "metadata": {},
     "output_type": "execute_result"
    }
   ],
   "source": [
    "wrong_rating_no_accident['Remarks'].value_counts()"
   ]
  },
  {
   "cell_type": "code",
   "execution_count": 126,
   "metadata": {},
   "outputs": [
    {
     "data": {
      "image/png": "[encoded data removed]",
      "text/plain": [
       "<Figure size 360x144 with 1 Axes>"
      ]
     },
     "metadata": {
      "needs_background": "light"
     },
     "output_type": "display_data"
    }
   ],
   "source": [
    "X=wrong_rating_no_accident['Remarks'].value_counts()\n",
    "plt.figure(figsize=(5,2))\n",
    "plt.plot(X,color='plum', marker='o', linestyle='dashed',linewidth=2, markersize=5)\n",
    "plt.xticks(rotation=90)\n",
    "plt.arrow(0, 2.7, 0, 3.0, head_width = 0.15,width = 0.04,ec ='red',fc='red')\n",
    "plt.arrow(1, 2.7, 0, 3.0, head_width = 0.15,width = 0.04,ec ='red',fc='red')\n",
    "plt.title(\"Reviewers involved in wrong rating accident from January 2021 to April 2021\",color='black')\n",
    "for i, v in enumerate(X):\n",
    "    plt.text(i, v+0.04, \"\\n%d\" %v, ha=\"center\",fontdict={'fontsize':'11'})\n",
    "plt.show()"
   ]
  },
  {
   "cell_type": "code",
   "execution_count": 127,
   "metadata": {},
   "outputs": [
    {
     "data": {
      "text/plain": [
       "32"
      ]
     },
     "execution_count": 127,
     "metadata": {},
     "output_type": "execute_result"
    }
   ],
   "source": [
    "wrong_rating_no_accident['Remarks'].count()"
   ]
  },
  {
   "cell_type": "markdown",
   "metadata": {},
   "source": [
    "#### 3) missed collision"
   ]
  },
  {
   "cell_type": "code",
   "execution_count": 128,
   "metadata": {},
   "outputs": [
    {
     "data": {
      "text/html": [
       "<div>\n",
       "<style scoped>\n",
       "    .dataframe tbody tr th:only-of-type {\n",
       "        vertical-align: middle;\n",
       "    }\n",
       "\n",
       "    .dataframe tbody tr th {\n",
       "        vertical-align: top;\n",
       "    }\n",
       "\n",
       "    .dataframe thead th {\n",
       "        text-align: right;\n",
       "    }\n",
       "</style>\n",
       "<table border=\"1\" class=\"dataframe\">\n",
       "  <thead>\n",
       "    <tr style=\"text-align: right;\">\n",
       "      <th></th>\n",
       "      <th>Date</th>\n",
       "      <th>Link to incident</th>\n",
       "      <th>link to slack</th>\n",
       "      <th>Rating</th>\n",
       "      <th>Remarks</th>\n",
       "    </tr>\n",
       "  </thead>\n",
       "  <tbody>\n",
       "    <tr>\n",
       "      <th>46</th>\n",
       "      <td>2021-01-24</td>\n",
       "      <td>https://dashboard.jp.getnexar.com/reviewer/rev...</td>\n",
       "      <td>https://nexar.slack.com/archives/G01EY2XN6MC/p...</td>\n",
       "      <td>missed collision</td>\n",
       "      <td>Mallikarjun</td>\n",
       "    </tr>\n",
       "    <tr>\n",
       "      <th>47</th>\n",
       "      <td>2021-01-24</td>\n",
       "      <td>NaN</td>\n",
       "      <td>https://nexar.slack.com/archives/G01EY2XN6MC/p...</td>\n",
       "      <td>missed collision</td>\n",
       "      <td>Narendra</td>\n",
       "    </tr>\n",
       "    <tr>\n",
       "      <th>48</th>\n",
       "      <td>2021-01-24</td>\n",
       "      <td>https://dashboard.jp.getnexar.com/reviewer/rev...</td>\n",
       "      <td>https://nexar.slack.com/archives/G01EY2XN6MC/p...</td>\n",
       "      <td>missed collision</td>\n",
       "      <td>Yuvaraja</td>\n",
       "    </tr>\n",
       "    <tr>\n",
       "      <th>49</th>\n",
       "      <td>2021-01-25</td>\n",
       "      <td>https://dashboard.jp.getnexar.com/reviewer/rev...</td>\n",
       "      <td>https://nexar.slack.com/archives/G01EY2XN6MC/p...</td>\n",
       "      <td>missed collision</td>\n",
       "      <td>Narendra</td>\n",
       "    </tr>\n",
       "    <tr>\n",
       "      <th>50</th>\n",
       "      <td>2021-01-25</td>\n",
       "      <td>NaN</td>\n",
       "      <td>https://nexar.slack.com/archives/G01EY2XN6MC/p...</td>\n",
       "      <td>missed collision</td>\n",
       "      <td>Mallikarjun</td>\n",
       "    </tr>\n",
       "  </tbody>\n",
       "</table>\n",
       "</div>"
      ],
      "text/plain": [
       "         Date                                   Link to incident  \\\n",
       "46 2021-01-24  https://dashboard.jp.getnexar.com/reviewer/rev...   \n",
       "47 2021-01-24                                                NaN   \n",
       "48 2021-01-24  https://dashboard.jp.getnexar.com/reviewer/rev...   \n",
       "49 2021-01-25  https://dashboard.jp.getnexar.com/reviewer/rev...   \n",
       "50 2021-01-25                                                NaN   \n",
       "\n",
       "                                       link to slack             Rating  \\\n",
       "46  https://nexar.slack.com/archives/G01EY2XN6MC/p...  missed collision   \n",
       "47  https://nexar.slack.com/archives/G01EY2XN6MC/p...  missed collision   \n",
       "48  https://nexar.slack.com/archives/G01EY2XN6MC/p...  missed collision   \n",
       "49  https://nexar.slack.com/archives/G01EY2XN6MC/p...  missed collision   \n",
       "50  https://nexar.slack.com/archives/G01EY2XN6MC/p...  missed collision   \n",
       "\n",
       "        Remarks  \n",
       "46  Mallikarjun  \n",
       "47     Narendra  \n",
       "48     Yuvaraja  \n",
       "49     Narendra  \n",
       "50  Mallikarjun  "
      ]
     },
     "execution_count": 128,
     "metadata": {},
     "output_type": "execute_result"
    }
   ],
   "source": [
    "missed_collision= data_reviewers_support[(data_reviewers_support['Rating']=='missed collision')]\n",
    "missed_collision.head()"
   ]
  },
  {
   "cell_type": "code",
   "execution_count": 129,
   "metadata": {},
   "outputs": [
    {
     "data": {
      "text/plain": [
       "Aparna         7\n",
       "Yuvaraja       7\n",
       "Shivam         5\n",
       "Narendra       4\n",
       "Shiva Kumar    2\n",
       "Rajeshwari     2\n",
       "Mallikarjun    2\n",
       "Kiran          1\n",
       "Name: Remarks, dtype: int64"
      ]
     },
     "execution_count": 129,
     "metadata": {},
     "output_type": "execute_result"
    }
   ],
   "source": [
    "missed_collision['Remarks'].value_counts()"
   ]
  },
  {
   "cell_type": "code",
   "execution_count": 130,
   "metadata": {},
   "outputs": [
    {
     "data": {
      "image/png": "[encoded data removed]",
      "text/plain": [
       "<Figure size 360x144 with 1 Axes>"
      ]
     },
     "metadata": {
      "needs_background": "light"
     },
     "output_type": "display_data"
    }
   ],
   "source": [
    "X=missed_collision['Remarks'].value_counts()\n",
    "plt.figure(figsize=(5,2))\n",
    "plt.plot(X,color='springgreen', marker='o', linestyle='dashed',linewidth=2, markersize=5)\n",
    "plt.xticks(rotation=90)\n",
    "plt.arrow(0, 2.7, 0, 3.0, head_width = 0.15,width = 0.04,ec ='red',fc='red')\n",
    "plt.arrow(1, 2.7, 0, 3.0, head_width = 0.15,width = 0.04,ec ='red',fc='red')\n",
    "plt.title(\"Reviewers involved in missed collision from January 2021 to April 2021\",color='black')\n",
    "for i, v in enumerate(X):\n",
    "    plt.text(i, v+0.04, \"\\n%d\" %v, ha=\"center\",fontdict={'fontsize':'11'})\n",
    "plt.show()"
   ]
  },
  {
   "cell_type": "code",
   "execution_count": 131,
   "metadata": {},
   "outputs": [
    {
     "data": {
      "text/plain": [
       "30"
      ]
     },
     "execution_count": 131,
     "metadata": {},
     "output_type": "execute_result"
    }
   ],
   "source": [
    "missed_collision['Remarks'].count()"
   ]
  },
  {
   "cell_type": "markdown",
   "metadata": {},
   "source": [
    "#### 4) last grabbed incident"
   ]
  },
  {
   "cell_type": "code",
   "execution_count": 132,
   "metadata": {},
   "outputs": [
    {
     "data": {
      "text/html": [
       "<div>\n",
       "<style scoped>\n",
       "    .dataframe tbody tr th:only-of-type {\n",
       "        vertical-align: middle;\n",
       "    }\n",
       "\n",
       "    .dataframe tbody tr th {\n",
       "        vertical-align: top;\n",
       "    }\n",
       "\n",
       "    .dataframe thead th {\n",
       "        text-align: right;\n",
       "    }\n",
       "</style>\n",
       "<table border=\"1\" class=\"dataframe\">\n",
       "  <thead>\n",
       "    <tr style=\"text-align: right;\">\n",
       "      <th></th>\n",
       "      <th>Date</th>\n",
       "      <th>Link to incident</th>\n",
       "      <th>link to slack</th>\n",
       "      <th>Rating</th>\n",
       "      <th>Remarks</th>\n",
       "    </tr>\n",
       "  </thead>\n",
       "  <tbody>\n",
       "    <tr>\n",
       "      <th>142</th>\n",
       "      <td>2021-03-29</td>\n",
       "      <td>NaN</td>\n",
       "      <td>https://nexar.slack.com/archives/C01ESDUFXT4/p...</td>\n",
       "      <td>last grabbed incident</td>\n",
       "      <td>Shivam</td>\n",
       "    </tr>\n",
       "    <tr>\n",
       "      <th>143</th>\n",
       "      <td>2021-03-29</td>\n",
       "      <td>NaN</td>\n",
       "      <td>https://nexar.slack.com/archives/C01ESDUFXT4/p...</td>\n",
       "      <td>last grabbed incident</td>\n",
       "      <td>Mallikarjun</td>\n",
       "    </tr>\n",
       "  </tbody>\n",
       "</table>\n",
       "</div>"
      ],
      "text/plain": [
       "          Date Link to incident  \\\n",
       "142 2021-03-29              NaN   \n",
       "143 2021-03-29              NaN   \n",
       "\n",
       "                                        link to slack                  Rating  \\\n",
       "142  https://nexar.slack.com/archives/C01ESDUFXT4/p...  last grabbed incident   \n",
       "143  https://nexar.slack.com/archives/C01ESDUFXT4/p...  last grabbed incident   \n",
       "\n",
       "         Remarks  \n",
       "142       Shivam  \n",
       "143  Mallikarjun  "
      ]
     },
     "execution_count": 132,
     "metadata": {},
     "output_type": "execute_result"
    }
   ],
   "source": [
    "last_grabbed_incident=data_reviewers_support[(data_reviewers_support['Rating']=='last grabbed incident')]\n",
    "last_grabbed_incident.head()"
   ]
  },
  {
   "cell_type": "code",
   "execution_count": 133,
   "metadata": {},
   "outputs": [
    {
     "data": {
      "text/plain": [
       "Shivam         1\n",
       "Mallikarjun    1\n",
       "Name: Remarks, dtype: int64"
      ]
     },
     "execution_count": 133,
     "metadata": {},
     "output_type": "execute_result"
    }
   ],
   "source": [
    "last_grabbed_incident['Remarks'].value_counts()"
   ]
  },
  {
   "cell_type": "code",
   "execution_count": 134,
   "metadata": {},
   "outputs": [
    {
     "data": {
      "image/png": "[encoded data removed]",
      "text/plain": [
       "<Figure size 360x144 with 1 Axes>"
      ]
     },
     "metadata": {
      "needs_background": "light"
     },
     "output_type": "display_data"
    }
   ],
   "source": [
    "plt.figure(figsize=(5,2))\n",
    "splot=sns.countplot(last_grabbed_incident['Remarks'],order=last_grabbed_incident['Remarks'].value_counts().index,saturation=10)\n",
    "plt.xticks(rotation=30)\n",
    "plt.title(\"Reviewers involved in last grabbed incident from January 2021 to April 2021\",color='black')\n",
    "for p in splot.patches:\n",
    "    splot.annotate(format(p.get_height(), '.0f'), (p.get_x() + p.get_width() / 2., p.get_height()), ha = 'center', va = 'center', xytext = (0, 2),textcoords = 'offset points',rotation=20)\n",
    "plt.show()"
   ]
  },
  {
   "cell_type": "code",
   "execution_count": 135,
   "metadata": {},
   "outputs": [
    {
     "data": {
      "text/plain": [
       "2"
      ]
     },
     "execution_count": 135,
     "metadata": {},
     "output_type": "execute_result"
    }
   ],
   "source": [
    "last_grabbed_incident['Remarks'].count()"
   ]
  },
  {
   "cell_type": "markdown",
   "metadata": {},
   "source": [
    "#### 5) Hard to rate incidents"
   ]
  },
  {
   "cell_type": "code",
   "execution_count": 136,
   "metadata": {},
   "outputs": [
    {
     "data": {
      "text/html": [
       "<div>\n",
       "<style scoped>\n",
       "    .dataframe tbody tr th:only-of-type {\n",
       "        vertical-align: middle;\n",
       "    }\n",
       "\n",
       "    .dataframe tbody tr th {\n",
       "        vertical-align: top;\n",
       "    }\n",
       "\n",
       "    .dataframe thead th {\n",
       "        text-align: right;\n",
       "    }\n",
       "</style>\n",
       "<table border=\"1\" class=\"dataframe\">\n",
       "  <thead>\n",
       "    <tr style=\"text-align: right;\">\n",
       "      <th></th>\n",
       "      <th>Date</th>\n",
       "      <th>Link to incident</th>\n",
       "      <th>link to slack</th>\n",
       "      <th>Rating</th>\n",
       "      <th>Remarks</th>\n",
       "    </tr>\n",
       "  </thead>\n",
       "  <tbody>\n",
       "    <tr>\n",
       "      <th>120</th>\n",
       "      <td>2021-03-14</td>\n",
       "      <td>https://dashboard.jp.getnexar.com/reviewer/inc...</td>\n",
       "      <td>https://nexar.slack.com/archives/C01DNQHQVK2/p...</td>\n",
       "      <td>Hard to rate incidents</td>\n",
       "      <td>Aparna</td>\n",
       "    </tr>\n",
       "    <tr>\n",
       "      <th>121</th>\n",
       "      <td>2021-03-14</td>\n",
       "      <td>https://dashboard.jp.getnexar.com/reviewer/inc...</td>\n",
       "      <td>https://nexar.slack.com/archives/C01DNQHQVK2/p...</td>\n",
       "      <td>Hard to rate incidents</td>\n",
       "      <td>Shivam</td>\n",
       "    </tr>\n",
       "  </tbody>\n",
       "</table>\n",
       "</div>"
      ],
      "text/plain": [
       "          Date                                   Link to incident  \\\n",
       "120 2021-03-14  https://dashboard.jp.getnexar.com/reviewer/inc...   \n",
       "121 2021-03-14  https://dashboard.jp.getnexar.com/reviewer/inc...   \n",
       "\n",
       "                                        link to slack   \\\n",
       "120  https://nexar.slack.com/archives/C01DNQHQVK2/p...   \n",
       "121  https://nexar.slack.com/archives/C01DNQHQVK2/p...   \n",
       "\n",
       "                     Rating Remarks  \n",
       "120  Hard to rate incidents  Aparna  \n",
       "121  Hard to rate incidents  Shivam  "
      ]
     },
     "execution_count": 136,
     "metadata": {},
     "output_type": "execute_result"
    }
   ],
   "source": [
    "Hard_to_rate_incidents=data_reviewers_support[(data_reviewers_support['Rating']=='Hard to rate incidents')]\n",
    "Hard_to_rate_incidents.head()"
   ]
  },
  {
   "cell_type": "code",
   "execution_count": 137,
   "metadata": {},
   "outputs": [
    {
     "data": {
      "text/plain": [
       "Aparna    1\n",
       "Shivam    1\n",
       "Name: Remarks, dtype: int64"
      ]
     },
     "execution_count": 137,
     "metadata": {},
     "output_type": "execute_result"
    }
   ],
   "source": [
    "Hard_to_rate_incidents['Remarks'].value_counts()"
   ]
  },
  {
   "cell_type": "code",
   "execution_count": 138,
   "metadata": {},
   "outputs": [
    {
     "data": {
      "image/png": "[encoded data removed]",
      "text/plain": [
       "<Figure size 360x144 with 1 Axes>"
      ]
     },
     "metadata": {
      "needs_background": "light"
     },
     "output_type": "display_data"
    }
   ],
   "source": [
    "plt.figure(figsize=(5,2))\n",
    "splot=sns.countplot(Hard_to_rate_incidents['Remarks'],order=Hard_to_rate_incidents['Remarks'].value_counts().index,saturation=10)\n",
    "plt.xticks(rotation=30)\n",
    "plt.title(\"Reviewers involved in hard to rate incidents from January 2021 to April 2021\",color='black')\n",
    "for p in splot.patches:\n",
    "    splot.annotate(format(p.get_height(), '.0f'), (p.get_x() + p.get_width() / 2., p.get_height()), ha = 'center', va = 'center', xytext = (0, 2),textcoords = 'offset points',rotation=20)\n",
    "plt.show()"
   ]
  },
  {
   "cell_type": "code",
   "execution_count": 139,
   "metadata": {},
   "outputs": [
    {
     "data": {
      "text/plain": [
       "2"
      ]
     },
     "execution_count": 139,
     "metadata": {},
     "output_type": "execute_result"
    }
   ],
   "source": [
    "Hard_to_rate_incidents['Remarks'].count()"
   ]
  },
  {
   "cell_type": "markdown",
   "metadata": {},
   "source": [
    "#### 6) P1 missed accident - review resubmitted"
   ]
  },
  {
   "cell_type": "code",
   "execution_count": 140,
   "metadata": {},
   "outputs": [
    {
     "data": {
      "text/html": [
       "<div>\n",
       "<style scoped>\n",
       "    .dataframe tbody tr th:only-of-type {\n",
       "        vertical-align: middle;\n",
       "    }\n",
       "\n",
       "    .dataframe tbody tr th {\n",
       "        vertical-align: top;\n",
       "    }\n",
       "\n",
       "    .dataframe thead th {\n",
       "        text-align: right;\n",
       "    }\n",
       "</style>\n",
       "<table border=\"1\" class=\"dataframe\">\n",
       "  <thead>\n",
       "    <tr style=\"text-align: right;\">\n",
       "      <th></th>\n",
       "      <th>Date</th>\n",
       "      <th>Link to incident</th>\n",
       "      <th>link to slack</th>\n",
       "      <th>Rating</th>\n",
       "      <th>Remarks</th>\n",
       "    </tr>\n",
       "  </thead>\n",
       "  <tbody>\n",
       "    <tr>\n",
       "      <th>93</th>\n",
       "      <td>2021-02-28</td>\n",
       "      <td>https://dashboard.jp.getnexar.com/reviewer/inc...</td>\n",
       "      <td>https://nexar.slack.com/archives/G01EY2XN6MC/p...</td>\n",
       "      <td>P1 missed accident - review resubmitted</td>\n",
       "      <td>Shiva Kumar</td>\n",
       "    </tr>\n",
       "  </tbody>\n",
       "</table>\n",
       "</div>"
      ],
      "text/plain": [
       "         Date                                   Link to incident  \\\n",
       "93 2021-02-28  https://dashboard.jp.getnexar.com/reviewer/inc...   \n",
       "\n",
       "                                       link to slack   \\\n",
       "93  https://nexar.slack.com/archives/G01EY2XN6MC/p...   \n",
       "\n",
       "                                     Rating      Remarks  \n",
       "93  P1 missed accident - review resubmitted  Shiva Kumar  "
      ]
     },
     "execution_count": 140,
     "metadata": {},
     "output_type": "execute_result"
    }
   ],
   "source": [
    "P1_missed_accident_review_resubmitted=data_reviewers_support[(data_reviewers_support['Rating']=='P1 missed accident - review resubmitted')]\n",
    "P1_missed_accident_review_resubmitted.head()"
   ]
  },
  {
   "cell_type": "code",
   "execution_count": 141,
   "metadata": {},
   "outputs": [
    {
     "data": {
      "text/plain": [
       "Shiva Kumar    1\n",
       "Name: Remarks, dtype: int64"
      ]
     },
     "execution_count": 141,
     "metadata": {},
     "output_type": "execute_result"
    }
   ],
   "source": [
    "P1_missed_accident_review_resubmitted['Remarks'].value_counts()"
   ]
  },
  {
   "cell_type": "code",
   "execution_count": 142,
   "metadata": {},
   "outputs": [
    {
     "data": {
      "image/png": "[encoded data removed]",
      "text/plain": [
       "<Figure size 360x144 with 1 Axes>"
      ]
     },
     "metadata": {
      "needs_background": "light"
     },
     "output_type": "display_data"
    }
   ],
   "source": [
    "plt.figure(figsize=(5,2))\n",
    "splot=sns.countplot(P1_missed_accident_review_resubmitted['Remarks'],order=P1_missed_accident_review_resubmitted['Remarks'].value_counts().index,saturation=10,color='lime')\n",
    "plt.xticks(rotation=30)\n",
    "plt.title(\"Reviewers involved in P1 missed accident review submitted from January 2021 to April 2021\",color='black')\n",
    "for p in splot.patches:\n",
    "    splot.annotate(format(p.get_height(), '.0f'), (p.get_x() + p.get_width() / 2., p.get_height()), ha = 'center', va = 'center', xytext = (0, 2),textcoords = 'offset points',rotation=20)\n",
    "plt.show()"
   ]
  },
  {
   "cell_type": "code",
   "execution_count": 143,
   "metadata": {},
   "outputs": [
    {
     "data": {
      "text/plain": [
       "1"
      ]
     },
     "execution_count": 143,
     "metadata": {},
     "output_type": "execute_result"
    }
   ],
   "source": [
    "P1_missed_accident_review_resubmitted['Remarks'].count()"
   ]
  },
  {
   "cell_type": "markdown",
   "metadata": {},
   "source": [
    "#### 7) 1hour to submit review "
   ]
  },
  {
   "cell_type": "code",
   "execution_count": 144,
   "metadata": {},
   "outputs": [
    {
     "data": {
      "text/html": [
       "<div>\n",
       "<style scoped>\n",
       "    .dataframe tbody tr th:only-of-type {\n",
       "        vertical-align: middle;\n",
       "    }\n",
       "\n",
       "    .dataframe tbody tr th {\n",
       "        vertical-align: top;\n",
       "    }\n",
       "\n",
       "    .dataframe thead th {\n",
       "        text-align: right;\n",
       "    }\n",
       "</style>\n",
       "<table border=\"1\" class=\"dataframe\">\n",
       "  <thead>\n",
       "    <tr style=\"text-align: right;\">\n",
       "      <th></th>\n",
       "      <th>Date</th>\n",
       "      <th>Link to incident</th>\n",
       "      <th>link to slack</th>\n",
       "      <th>Rating</th>\n",
       "      <th>Remarks</th>\n",
       "    </tr>\n",
       "  </thead>\n",
       "  <tbody>\n",
       "    <tr>\n",
       "      <th>73</th>\n",
       "      <td>2021-02-06</td>\n",
       "      <td>https://dashboard.jp.getnexar.com/reviewer/inc...</td>\n",
       "      <td>https://nexar.slack.com/archives/C01ESDUFXT4/p...</td>\n",
       "      <td>1hour to submit review</td>\n",
       "      <td>Rajeshwari</td>\n",
       "    </tr>\n",
       "  </tbody>\n",
       "</table>\n",
       "</div>"
      ],
      "text/plain": [
       "         Date                                   Link to incident  \\\n",
       "73 2021-02-06  https://dashboard.jp.getnexar.com/reviewer/inc...   \n",
       "\n",
       "                                       link to slack                   Rating  \\\n",
       "73  https://nexar.slack.com/archives/C01ESDUFXT4/p...  1hour to submit review   \n",
       "\n",
       "       Remarks  \n",
       "73  Rajeshwari  "
      ]
     },
     "execution_count": 144,
     "metadata": {},
     "output_type": "execute_result"
    }
   ],
   "source": [
    "onehour_to_submit_review=data_reviewers_support[(data_reviewers_support['Rating']=='1hour to submit review')]\n",
    "onehour_to_submit_review.head()"
   ]
  },
  {
   "cell_type": "code",
   "execution_count": 145,
   "metadata": {},
   "outputs": [
    {
     "data": {
      "text/plain": [
       "Rajeshwari    1\n",
       "Name: Remarks, dtype: int64"
      ]
     },
     "execution_count": 145,
     "metadata": {},
     "output_type": "execute_result"
    }
   ],
   "source": [
    "onehour_to_submit_review['Remarks'].value_counts()"
   ]
  },
  {
   "cell_type": "code",
   "execution_count": 146,
   "metadata": {},
   "outputs": [
    {
     "data": {
      "image/png": "[encoded data removed]",
      "text/plain": [
       "<Figure size 360x144 with 1 Axes>"
      ]
     },
     "metadata": {
      "needs_background": "light"
     },
     "output_type": "display_data"
    }
   ],
   "source": [
    "plt.figure(figsize=(5,2))\n",
    "splot=sns.countplot(onehour_to_submit_review['Remarks'],order=onehour_to_submit_review['Remarks'].value_counts().index,saturation=10)\n",
    "plt.xticks(rotation=30)\n",
    "plt.title(\"Reviewers involved in 1 hour to submit review from January 2021 to April 2021\",color='black')\n",
    "for p in splot.patches:\n",
    "    splot.annotate(format(p.get_height(), '.0f'), (p.get_x() + p.get_width() / 2., p.get_height()), ha = 'center', va = 'center', xytext = (0, 2),textcoords = 'offset points',rotation=20)\n",
    "plt.show()"
   ]
  },
  {
   "cell_type": "markdown",
   "metadata": {},
   "source": [
    "#### 8) 4:04 last submitted- 6:37 grabbed= 2h 33m"
   ]
  },
  {
   "cell_type": "code",
   "execution_count": 147,
   "metadata": {},
   "outputs": [
    {
     "data": {
      "text/html": [
       "<div>\n",
       "<style scoped>\n",
       "    .dataframe tbody tr th:only-of-type {\n",
       "        vertical-align: middle;\n",
       "    }\n",
       "\n",
       "    .dataframe tbody tr th {\n",
       "        vertical-align: top;\n",
       "    }\n",
       "\n",
       "    .dataframe thead th {\n",
       "        text-align: right;\n",
       "    }\n",
       "</style>\n",
       "<table border=\"1\" class=\"dataframe\">\n",
       "  <thead>\n",
       "    <tr style=\"text-align: right;\">\n",
       "      <th></th>\n",
       "      <th>Date</th>\n",
       "      <th>Link to incident</th>\n",
       "      <th>link to slack</th>\n",
       "      <th>Rating</th>\n",
       "      <th>Remarks</th>\n",
       "    </tr>\n",
       "  </thead>\n",
       "  <tbody>\n",
       "    <tr>\n",
       "      <th>74</th>\n",
       "      <td>2021-02-08</td>\n",
       "      <td>NaN</td>\n",
       "      <td>https://nexar.slack.com/archives/C01ESDUFXT4/p...</td>\n",
       "      <td>4:04 last submitted- 6:37 grabbed= 2h 33m</td>\n",
       "      <td>Shiva Kumar</td>\n",
       "    </tr>\n",
       "  </tbody>\n",
       "</table>\n",
       "</div>"
      ],
      "text/plain": [
       "         Date Link to incident  \\\n",
       "74 2021-02-08              NaN   \n",
       "\n",
       "                                       link to slack   \\\n",
       "74  https://nexar.slack.com/archives/C01ESDUFXT4/p...   \n",
       "\n",
       "                                       Rating      Remarks  \n",
       "74  4:04 last submitted- 6:37 grabbed= 2h 33m  Shiva Kumar  "
      ]
     },
     "execution_count": 147,
     "metadata": {},
     "output_type": "execute_result"
    }
   ],
   "source": [
    "fourzerofour_last_submitted_6_37_grabbed_2h_33m=data_reviewers_support[(data_reviewers_support['Rating']=='4:04 last submitted- 6:37 grabbed= 2h 33m')]\n",
    "fourzerofour_last_submitted_6_37_grabbed_2h_33m.head()"
   ]
  },
  {
   "cell_type": "code",
   "execution_count": 148,
   "metadata": {},
   "outputs": [
    {
     "data": {
      "text/plain": [
       "Shiva Kumar    1\n",
       "Name: Remarks, dtype: int64"
      ]
     },
     "execution_count": 148,
     "metadata": {},
     "output_type": "execute_result"
    }
   ],
   "source": [
    "fourzerofour_last_submitted_6_37_grabbed_2h_33m['Remarks'].value_counts()"
   ]
  },
  {
   "cell_type": "code",
   "execution_count": 149,
   "metadata": {},
   "outputs": [
    {
     "data": {
      "image/png": "[encoded data removed]",
      "text/plain": [
       "<Figure size 360x144 with 1 Axes>"
      ]
     },
     "metadata": {
      "needs_background": "light"
     },
     "output_type": "display_data"
    }
   ],
   "source": [
    "plt.figure(figsize=(5,2))\n",
    "splot=sns.countplot(fourzerofour_last_submitted_6_37_grabbed_2h_33m['Remarks'],order=fourzerofour_last_submitted_6_37_grabbed_2h_33m['Remarks'].value_counts().index,saturation=10,color='pink')\n",
    "plt.xticks(rotation=30)\n",
    "plt.title(\"Reviewers involved in 4:04 last submitted - 6:37 grabbed = 2h 33m from January 2021 to April 2021\",color='black')\n",
    "for p in splot.patches:\n",
    "    splot.annotate(format(p.get_height(), '.0f'), (p.get_x() + p.get_width() / 2., p.get_height()), ha = 'center', va = 'center', xytext = (0, 2),textcoords = 'offset points',rotation=20)\n",
    "plt.show()"
   ]
  },
  {
   "cell_type": "markdown",
   "metadata": {},
   "source": [
    "#### 9) grabbed no submitted review"
   ]
  },
  {
   "cell_type": "code",
   "execution_count": 150,
   "metadata": {},
   "outputs": [
    {
     "data": {
      "text/html": [
       "<div>\n",
       "<style scoped>\n",
       "    .dataframe tbody tr th:only-of-type {\n",
       "        vertical-align: middle;\n",
       "    }\n",
       "\n",
       "    .dataframe tbody tr th {\n",
       "        vertical-align: top;\n",
       "    }\n",
       "\n",
       "    .dataframe thead th {\n",
       "        text-align: right;\n",
       "    }\n",
       "</style>\n",
       "<table border=\"1\" class=\"dataframe\">\n",
       "  <thead>\n",
       "    <tr style=\"text-align: right;\">\n",
       "      <th></th>\n",
       "      <th>Date</th>\n",
       "      <th>Link to incident</th>\n",
       "      <th>link to slack</th>\n",
       "      <th>Rating</th>\n",
       "      <th>Remarks</th>\n",
       "    </tr>\n",
       "  </thead>\n",
       "  <tbody>\n",
       "    <tr>\n",
       "      <th>72</th>\n",
       "      <td>2021-02-06</td>\n",
       "      <td>https://dashboard.jp.getnexar.com/reviewer/rev...</td>\n",
       "      <td>https://nexar.slack.com/archives/C01ESDUFXT4/p...</td>\n",
       "      <td>grabbed no submitted review</td>\n",
       "      <td>Narendra</td>\n",
       "    </tr>\n",
       "  </tbody>\n",
       "</table>\n",
       "</div>"
      ],
      "text/plain": [
       "         Date                                   Link to incident  \\\n",
       "72 2021-02-06  https://dashboard.jp.getnexar.com/reviewer/rev...   \n",
       "\n",
       "                                       link to slack   \\\n",
       "72  https://nexar.slack.com/archives/C01ESDUFXT4/p...   \n",
       "\n",
       "                         Rating   Remarks  \n",
       "72  grabbed no submitted review  Narendra  "
      ]
     },
     "execution_count": 150,
     "metadata": {},
     "output_type": "execute_result"
    }
   ],
   "source": [
    "grabbed_no_submitted_review=data_reviewers_support[(data_reviewers_support['Rating']=='grabbed no submitted review')]\n",
    "grabbed_no_submitted_review.head()"
   ]
  },
  {
   "cell_type": "code",
   "execution_count": 151,
   "metadata": {},
   "outputs": [
    {
     "data": {
      "text/plain": [
       "Narendra    1\n",
       "Name: Remarks, dtype: int64"
      ]
     },
     "execution_count": 151,
     "metadata": {},
     "output_type": "execute_result"
    }
   ],
   "source": [
    "grabbed_no_submitted_review['Remarks'].value_counts()"
   ]
  },
  {
   "cell_type": "code",
   "execution_count": 152,
   "metadata": {},
   "outputs": [
    {
     "data": {
      "image/png": "[encoded data removed]",
      "text/plain": [
       "<Figure size 360x144 with 1 Axes>"
      ]
     },
     "metadata": {
      "needs_background": "light"
     },
     "output_type": "display_data"
    }
   ],
   "source": [
    "plt.figure(figsize=(5,2))\n",
    "splot=sns.countplot(grabbed_no_submitted_review['Remarks'],order=grabbed_no_submitted_review['Remarks'].value_counts().index,saturation=10,color='gold')\n",
    "plt.xticks(rotation=30)\n",
    "plt.title(\"Reviewers involved in grabbed no submitted review from January 2021 to April 2021\",color='black')\n",
    "for p in splot.patches:\n",
    "    splot.annotate(format(p.get_height(), '.0f'), (p.get_x() + p.get_width() / 2., p.get_height()), ha = 'center', va = 'center', xytext = (0, 2),textcoords = 'offset points',rotation=20)\n",
    "plt.show()"
   ]
  },
  {
   "cell_type": "markdown",
   "metadata": {},
   "source": [
    "#### 10) 1hr 04mins - 1 reviewer only"
   ]
  },
  {
   "cell_type": "code",
   "execution_count": 153,
   "metadata": {},
   "outputs": [
    {
     "data": {
      "text/html": [
       "<div>\n",
       "<style scoped>\n",
       "    .dataframe tbody tr th:only-of-type {\n",
       "        vertical-align: middle;\n",
       "    }\n",
       "\n",
       "    .dataframe tbody tr th {\n",
       "        vertical-align: top;\n",
       "    }\n",
       "\n",
       "    .dataframe thead th {\n",
       "        text-align: right;\n",
       "    }\n",
       "</style>\n",
       "<table border=\"1\" class=\"dataframe\">\n",
       "  <thead>\n",
       "    <tr style=\"text-align: right;\">\n",
       "      <th></th>\n",
       "      <th>Date</th>\n",
       "      <th>Link to incident</th>\n",
       "      <th>link to slack</th>\n",
       "      <th>Rating</th>\n",
       "      <th>Remarks</th>\n",
       "    </tr>\n",
       "  </thead>\n",
       "  <tbody>\n",
       "    <tr>\n",
       "      <th>51</th>\n",
       "      <td>2021-01-25</td>\n",
       "      <td>NaN</td>\n",
       "      <td>https://nexar.slack.com/archives/C01ESDUFXT4/p...</td>\n",
       "      <td>1hr 04mins - 1 reviewer only</td>\n",
       "      <td>NaN</td>\n",
       "    </tr>\n",
       "  </tbody>\n",
       "</table>\n",
       "</div>"
      ],
      "text/plain": [
       "         Date Link to incident  \\\n",
       "51 2021-01-25              NaN   \n",
       "\n",
       "                                       link to slack   \\\n",
       "51  https://nexar.slack.com/archives/C01ESDUFXT4/p...   \n",
       "\n",
       "                          Rating Remarks  \n",
       "51  1hr 04mins - 1 reviewer only     NaN  "
      ]
     },
     "execution_count": 153,
     "metadata": {},
     "output_type": "execute_result"
    }
   ],
   "source": [
    "onehr_04mins_1_reviewer_only=data_reviewers_support[(data_reviewers_support['Rating']=='1hr 04mins - 1 reviewer only')]\n",
    "onehr_04mins_1_reviewer_only"
   ]
  },
  {
   "cell_type": "code",
   "execution_count": null,
   "metadata": {},
   "outputs": [],
   "source": []
  }
 ],
 "metadata": {
  "kernelspec": {
   "display_name": "Python 3",
   "language": "python",
   "name": "python3"
  },
  "language_info": {
   "codemirror_mode": {
    "name": "ipython",
    "version": 3
   },
   "file_extension": ".py",
   "mimetype": "text/x-python",
   "name": "python",
   "nbconvert_exporter": "python",
   "pygments_lexer": "ipython3",
   "version": "3.8.5"
  }
 },
 "nbformat": 4,
 "nbformat_minor": 4
}
